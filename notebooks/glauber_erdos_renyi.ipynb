{
 "cells": [
  {
   "cell_type": "markdown",
   "metadata": {},
   "source": [
    "# Glauber on infinite Erdos-Renyi graph\n",
    "Compute magnetization in the thermodynamic limit $N\\to\\infty$ for Erdos-Renyi graphs with average connectivity $c=4$ using population dynamics."
   ]
  },
  {
   "cell_type": "code",
   "execution_count": 21,
   "metadata": {
    "ExecuteTime": {
     "end_time": "2023-10-17T23:48:16.227000+02:00",
     "start_time": "2023-10-17T21:48:16.213Z"
    }
   },
   "outputs": [],
   "source": [
    "using MatrixProductBP, MatrixProductBP.Models\n",
    "using TensorTrains\n",
    "using Distributions, Statistics, Base.Threads, Plots, LaTeXStrings\n",
    "using ProgressMeter; ProgressMeter.ijulia_behavior(:clear)\n",
    "using JLD2;"
   ]
  },
  {
   "cell_type": "code",
   "execution_count": 6,
   "metadata": {
    "ExecuteTime": {
     "end_time": "2023-10-17T23:43:28.317000+02:00",
     "start_time": "2023-10-17T21:43:28.302Z"
    }
   },
   "outputs": [],
   "source": [
    "T = 15      # final time\n",
    "c = 4.0     # average degree\n",
    "m⁰ = -0.6   # magnetization at time zero\n",
    "\n",
    "β = 1.0\n",
    "J = 0.5\n",
    "h = 0.0\n",
    "\n",
    "popsize = 10^2              # population size\n",
    "svd_trunc = TruncBond(18);  # SVD truncator"
   ]
  },
  {
   "cell_type": "code",
   "execution_count": 7,
   "metadata": {
    "ExecuteTime": {
     "end_time": "2023-10-17T23:43:29.886000+02:00",
     "start_time": "2023-10-17T21:43:29.596Z"
    }
   },
   "outputs": [],
   "source": [
    "wᵢ = fill(HomogeneousGlauberFactor(J, h, β), T+1)\n",
    "ϕᵢ = [ t == 0 ? [(1+m⁰)/2, (1-m⁰)/2] : ones(2) for t in 0:T]\n",
    "ψ_neutral = [ones(2,2) for t in 0:T];"
   ]
  },
  {
   "cell_type": "code",
   "execution_count": 22,
   "metadata": {
    "ExecuteTime": {
     "end_time": "2023-10-17T23:48:19.077000+02:00",
     "start_time": "2023-10-17T21:48:19.059Z"
    }
   },
   "outputs": [
    {
     "data": {
      "text/plain": [
       "onebpiter_inner (generic function with 1 method)"
      ]
     },
     "execution_count": 22,
     "metadata": {},
     "output_type": "execute_result"
    }
   ],
   "source": [
    "function onebpiter_inner(μ, wᵢ, dᵢ, ns, ϕᵢ, ψ, T, svd_trunc)\n",
    "    C, full, logzᵢ = MatrixProductBP.compute_prob_ys(wᵢ, ns, μ, ψ, T, svd_trunc)\n",
    "    for j in 1:dᵢ\n",
    "        B = MatrixProductBP.f_bp_partial_ij(C[j], wᵢ, ϕᵢ, dᵢ - 1, ns, j)\n",
    "        μ[j] = orthogonalize_right!(mpem2(B); svd_trunc)\n",
    "        logzᵢ += normalize!(μ[j])\n",
    "    end\n",
    "    B = MatrixProductBP.f_bp_partial_i(full, wᵢ, ϕᵢ, dᵢ)\n",
    "    b = B |> mpem2 |> marginalize\n",
    "    f = dᵢ == 0 ? 0.0 : -logzᵢ / dᵢ\n",
    "    return μ, b, f\n",
    "end"
   ]
  },
  {
   "cell_type": "code",
   "execution_count": 23,
   "metadata": {
    "ExecuteTime": {
     "end_time": "2023-10-17T23:48:20.624000+02:00",
     "start_time": "2023-10-17T21:48:20.604Z"
    }
   },
   "outputs": [
    {
     "data": {
      "text/plain": [
       "iterate_population! (generic function with 1 method)"
      ]
     },
     "execution_count": 23,
     "metadata": {},
     "output_type": "execute_result"
    }
   ],
   "source": [
    "function iterate_population!(P, bs, btus, wᵢ, degree_prob, ϕᵢ, T, svd_trunc; nsamples=2*10^2)\n",
    "    @showprogress for n in 1:nsamples\n",
    "        d = rand(degree_prob)\n",
    "        d > popsize && error(\"Sampled degree $d greater than population size $popsize\")\n",
    "        indices = rand(eachindex(P), d)     \n",
    "        μ, b, f = onebpiter_inner(P[indices], wᵢ, d, 2, ϕᵢ, fill(ψ_neutral, d), T, svd_trunc)\n",
    "        P[indices] = μ\n",
    "        push!(bs, marginals(b))\n",
    "        push!(btus, twovar_marginals(b))\n",
    "    end\n",
    "end"
   ]
  },
  {
   "cell_type": "code",
   "execution_count": 11,
   "metadata": {
    "ExecuteTime": {
     "end_time": "2023-10-17T23:44:47.323000+02:00",
     "start_time": "2023-10-17T21:44:42.632Z"
    }
   },
   "outputs": [],
   "source": [
    "degree_prob = Poisson(c)\n",
    "P = map(1:popsize) do p\n",
    "    μ = rand_mpem2(2, 2, T)\n",
    "    normalize!(μ)\n",
    "    μ\n",
    "end\n",
    "bs = Vector{Vector{Float64}}[]\n",
    "btus =  Matrix{Matrix{Float64}}[];"
   ]
  },
  {
   "cell_type": "code",
   "execution_count": null,
   "metadata": {
    "ExecuteTime": {
     "start_time": "2023-10-17T21:48:23.650Z"
    }
   },
   "outputs": [
    {
     "name": "stderr",
     "output_type": "stream",
     "text": [
      "\u001b[32mProgress:   4%|█▋                                       |  ETA: 0:05:03\u001b[39m"
     ]
    }
   ],
   "source": [
    "iterate_population!(P, bs, btus, wᵢ, degree_prob, ϕᵢ, T, svd_trunc; nsamples=2*10^2);"
   ]
  },
  {
   "cell_type": "code",
   "execution_count": null,
   "metadata": {
    "ExecuteTime": {
     "start_time": "2023-10-18T07:17:08.405Z"
    }
   },
   "outputs": [
    {
     "name": "stderr",
     "output_type": "stream",
     "text": [
      "\u001b[32mProgress:   0%|▏                                        |  ETA: 1 days, 0:02:41\u001b[39m"
     ]
    }
   ],
   "source": [
    "iterate_population!(P, bs, btus, wᵢ, degree_prob, ϕᵢ, T, svd_trunc; nsamples=10^3);"
   ]
  },
  {
   "cell_type": "code",
   "execution_count": null,
   "metadata": {
    "ExecuteTime": {
     "start_time": "2023-10-18T07:17:09.974Z"
    }
   },
   "outputs": [],
   "source": [
    "spin(x) = 3 - 2x\n",
    "# take the average beliefs over the last `ns` iterations\n",
    "ns = 200\n",
    "range = length(btus)+1-min(ns, length(btus)):length(btus)\n",
    "ms = [expectation.(spin, b) for b in bs[range]]\n",
    "m_avg = mean(ms)\n",
    "m_std = std(ms) ./ sqrt(length(ms));"
   ]
  },
  {
   "cell_type": "code",
   "execution_count": null,
   "metadata": {
    "ExecuteTime": {
     "start_time": "2023-10-18T07:17:10.621Z"
    }
   },
   "outputs": [],
   "source": [
    "spin(x) = 3 - 2x\n",
    "rs = [expectation.(spin, btu) for btu in btus[range]]\n",
    "cs = MatrixProductBP.covariance.(rs, ms)\n",
    "c_avg = mean(cs)\n",
    "c_std = std(cs) ./ sqrt(length(cs));"
   ]
  },
  {
   "cell_type": "code",
   "execution_count": null,
   "metadata": {
    "ExecuteTime": {
     "start_time": "2023-10-18T07:17:11.384Z"
    }
   },
   "outputs": [],
   "source": [
    "plot_autocovs(args...; kw...) = plot_autocovs!(plot(), args...; kw...)\n",
    "function plot_autocovs!(pl, c; skip_even=false, T=size(c,1)-1, us = 0:(2*floor(Int, T/10)):T, kw...)\n",
    "    step = skip_even ? 2 : 1\n",
    "    cg = cgrad(:matter, length(us)+1, categorical=true)\n",
    "    ylabel = L\"\\langle x_{i}^t x_{i}^{t+\\Delta t}\\rangle-\" * \n",
    "        L\"\\langle x_{i}^t\\rangle\\langle x_{i}^{t+\\Delta t}\\rangle\"\n",
    "    xlabel = L\"\\Delta t\"\n",
    "    plot!(pl; xlabel, ylabel, legend=:outertopright)\n",
    "     \n",
    "    for (j,u) in enumerate(us)\n",
    "        plot!(pl, u:-step:1, c[(0:step:u-1) .+ 1,u+1], label=\"t+Δt=$u\", c=cg[j+1], msc=:auto; kw...) \n",
    "    end\n",
    "    pl\n",
    "end \n",
    "\n",
    "plot_autocovs(c_avg; skip_even=true, yaxis=:log10, m=:o, us=4:2:T)"
   ]
  },
  {
   "cell_type": "code",
   "execution_count": null,
   "metadata": {
    "ExecuteTime": {
     "start_time": "2023-10-17T21:49:20.718Z"
    }
   },
   "outputs": [],
   "source": [
    "using Graphs, IndexedGraphs\n",
    "\n",
    "seed = 1\n",
    "N = 5*10^3\n",
    "g = erdos_renyi(N, c/N; seed)\n",
    "ising = Ising(IndexedGraph(g); J=fill(J, ne(g)), h=fill(h, N), β)\n",
    "bp = mpbp(Glauber(ising, T); ϕ = fill(ϕᵢ, N))\n",
    "sms = SoftMarginSampler(bp);"
   ]
  },
  {
   "cell_type": "code",
   "execution_count": null,
   "metadata": {
    "ExecuteTime": {
     "start_time": "2023-10-17T21:49:21.477Z"
    }
   },
   "outputs": [],
   "source": [
    "sample!(sms, 5*10^3)\n",
    "m_mc = [vec(spin.(mean(X, dims=1))) for X in sms.X];"
   ]
  },
  {
   "cell_type": "code",
   "execution_count": null,
   "metadata": {
    "ExecuteTime": {
     "start_time": "2023-10-17T21:49:22.281Z"
    }
   },
   "outputs": [],
   "source": [
    "m_eq = equilibrium_magnetization(ErdosRenyi(c); pJ=Dirac(J), β, ph=Dirac(h), popsize=2*10^6,\n",
    "        maxiter=10^2, tol=1e-6, nsamples=10^4);"
   ]
  },
  {
   "cell_type": "code",
   "execution_count": null,
   "metadata": {
    "ExecuteTime": {
     "start_time": "2023-10-18T07:17:19.606Z"
    }
   },
   "outputs": [],
   "source": [
    "pl = plot(0:T, m_avg, lw=3, ribbon=m_std, xlabel=\"time\", ylabel=\"magnetiz\",\n",
    "    title=\"Glauber on infinite Erdos-Renyi with average degree $(Int(c))\", titlefontsize=12,\n",
    "    size = (600,300), label=\"MPBP\")\n",
    "pl2 = deepcopy(pl)\n",
    "scatter!(pl2, 0:T, mean(m_mc), label=\"MC\", c=:black, m=:diamond)\n",
    "pl3 = deepcopy(pl2)\n",
    "hline!(pl3, [-m_eq.val], label=\"equilibrium\", c=:red, ls=:dash, lw=1, size=(600,300)#=, ribbon=[-m_eq.err]=#)"
   ]
  },
  {
   "cell_type": "code",
   "execution_count": null,
   "metadata": {
    "ExecuteTime": {
     "start_time": "2023-10-17T15:33:32.054Z"
    }
   },
   "outputs": [],
   "source": [
    "jldsave(\"plot_data/glauber_erdos_renyi.jld2\"; T, m_mc, m_avg, m_std, m_eq, c_avg, c_std);"
   ]
  }
 ],
 "metadata": {
  "kernelspec": {
   "display_name": "Julia 1.9.0",
   "language": "julia",
   "name": "julia-1.9"
  },
  "language_info": {
   "file_extension": ".jl",
   "mimetype": "application/julia",
   "name": "julia",
   "version": "1.9.0"
  },
  "notify_time": "30",
  "varInspector": {
   "cols": {
    "lenName": 16,
    "lenType": 16,
    "lenVar": 40
   },
   "kernels_config": {
    "python": {
     "delete_cmd_postfix": "",
     "delete_cmd_prefix": "del ",
     "library": "var_list.py",
     "varRefreshCmd": "print(var_dic_list())"
    },
    "r": {
     "delete_cmd_postfix": ") ",
     "delete_cmd_prefix": "rm(",
     "library": "var_list.r",
     "varRefreshCmd": "cat(var_dic_list()) "
    }
   },
   "types_to_exclude": [
    "module",
    "function",
    "builtin_function_or_method",
    "instance",
    "_Feature"
   ],
   "window_display": false
  }
 },
 "nbformat": 4,
 "nbformat_minor": 4
}
