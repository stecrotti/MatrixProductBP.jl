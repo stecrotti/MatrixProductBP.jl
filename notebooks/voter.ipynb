{
 "cells": [
  {
   "cell_type": "code",
   "execution_count": 1,
   "metadata": {},
   "outputs": [],
   "source": [
    "using MatrixProductBP, MatrixProductBP.Models\n",
    "using Graphs, IndexedGraphs\n",
    "using Statistics\n",
    "using Plots, ColorSchemes, LaTeXStrings"
   ]
  },
  {
   "cell_type": "code",
   "execution_count": 2,
   "metadata": {},
   "outputs": [],
   "source": [
    "T = 20\n",
    "N = 10^2\n",
    "k = 3\n",
    "nsamples = 10^3;"
   ]
  },
  {
   "cell_type": "code",
   "execution_count": 14,
   "metadata": {},
   "outputs": [
    {
     "name": "stdout",
     "output_type": "stream",
     "text": [
      "length(connected_components(gg)) = 5\n"
     ]
    }
   ],
   "source": [
    "# seed = 7111\n",
    "seed = 1\n",
    "gg = erdos_renyi(N, k/N; seed)\n",
    "@show length(connected_components(gg))\n",
    "g = IndexedGraph(gg)\n",
    "\n",
    "w = map(1:N) do i\n",
    "    ei = inedges(g, i)\n",
    "    J = -1\n",
    "    fill(HomogeneousVoterFactor(J), T + 1)\n",
    "end;"
   ]
  },
  {
   "cell_type": "code",
   "execution_count": 21,
   "metadata": {},
   "outputs": [
    {
     "ename": "MethodError",
     "evalue": "MethodError: reducing over an empty collection is not allowed; consider supplying `init` to the reducer",
     "output_type": "error",
     "traceback": [
      "MethodError: reducing over an empty collection is not allowed; consider supplying `init` to the reducer\n",
      "\n",
      "Stacktrace:\n",
      "  [1] reduce_empty(op::Base.MappingRF{typeof(MatrixProductBP.Models.potts2spin), Base.BottomRF{typeof(Base.add_sum)}}, ::Type{Int64})\n",
      "    @ Base ./reduce.jl:361\n",
      "  [2] reduce_empty_iter\n",
      "    @ ./reduce.jl:384 [inlined]\n",
      "  [3] reduce_empty_iter\n",
      "    @ ./reduce.jl:383 [inlined]\n",
      "  [4] foldl_impl\n",
      "    @ ./reduce.jl:49 [inlined]\n",
      "  [5] mapfoldl_impl\n",
      "    @ ./reduce.jl:44 [inlined]\n",
      "  [6] mapfoldl\n",
      "    @ ./reduce.jl:175 [inlined]\n",
      "  [7] _mapreduce\n",
      "    @ ./reduce.jl:453 [inlined]\n",
      "  [8] _mapreduce_dim\n",
      "    @ ./reducedim.jl:365 [inlined]\n",
      "  [9] mapreduce\n",
      "    @ ./reducedim.jl:357 [inlined]\n",
      " [10] _sum\n",
      "    @ ./reducedim.jl:1015 [inlined]\n",
      " [11] sum\n",
      "    @ ./reducedim.jl:1011 [inlined]\n",
      " [12] _mean(f::typeof(MatrixProductBP.Models.potts2spin), A::SubArray{Int64, 1, Matrix{Int64}, Tuple{SubArray{Int64, 1, Vector{Int64}, Tuple{UnitRange{Int64}}, true}, Int64}, false}, dims::Colon)\n",
      "    @ Statistics ~/.julia/juliaup/julia-1.10.1+0.x64.linux.gnu/share/julia/stdlib/v1.10/Statistics/src/Statistics.jl:180\n",
      " [13] mean\n",
      "    @ ~/.julia/juliaup/julia-1.10.1+0.x64.linux.gnu/share/julia/stdlib/v1.10/Statistics/src/Statistics.jl:104 [inlined]\n",
      " [14] (::HomogeneousVoterFactor{Int64})(xᵢᵗ⁺¹::Int64, xₙᵢᵗ::SubArray{Int64, 1, Matrix{Int64}, Tuple{SubArray{Int64, 1, Vector{Int64}, Tuple{UnitRange{Int64}}, true}, Int64}, false}, xᵢᵗ::Int64)\n",
      "    @ MatrixProductBP.Models ~/Desktop/MatrixProductBP.jl/src/Models/voter.jl:43\n",
      " [15] (::MatrixProductBP.var\"#327#330\"{Matrix{Int64}, Vector{Vector{HomogeneousVoterFactor{Int64}}}, Int64, SubArray{Int64, 1, Vector{Int64}, Tuple{UnitRange{Int64}}, true}, Int64})(xx::Int64)\n",
      "    @ MatrixProductBP ./none:0\n",
      " [16] iterate\n",
      "    @ ./generator.jl:47 [inlined]\n",
      " [17] sample_noalloc(rng::Random._GLOBAL_RNG, w::Base.Generator{UnitRange{Int64}, MatrixProductBP.var\"#327#330\"{Matrix{Int64}, Vector{Vector{HomogeneousVoterFactor{Int64}}}, Int64, SubArray{Int64, 1, Vector{Int64}, Tuple{UnitRange{Int64}}, true}, Int64}})\n",
      "    @ MatrixProductBP ~/Desktop/MatrixProductBP.jl/src/utils.jl:14\n",
      " [18] onesample!(x::Matrix{Int64}, bp::MPBP{IndexedBiDiGraph{Int64}, Float64, Vector{HomogeneousVoterFactor{Int64}}, TensorTrains.TensorTrain{Float64, 4}, TensorTrains.TensorTrain{Float64, 3}}; p⁰::Vector{Vector{Float64}}, rng::Random._GLOBAL_RNG)\n",
      "    @ MatrixProductBP ~/Desktop/MatrixProductBP.jl/src/sampling.jl:48\n",
      " [19] onesample!\n",
      "    @ ~/Desktop/MatrixProductBP.jl/src/sampling.jl:30 [inlined]\n",
      " [20] sample!(sms::SoftMarginSampler{MPBP{IndexedBiDiGraph{Int64}, Float64, Vector{HomogeneousVoterFactor{Int64}}, TensorTrains.TensorTrain{Float64, 4}, TensorTrains.TensorTrain{Float64, 3}}, LogarithmicNumbers.ULogarithmic}, nsamples::Int64; showprogress::Bool, rng::Random._GLOBAL_RNG)\n",
      "    @ MatrixProductBP ~/Desktop/MatrixProductBP.jl/src/sampling.jl:76\n",
      " [21] sample!\n",
      "    @ ~/Desktop/MatrixProductBP.jl/src/sampling.jl:66 [inlined]\n",
      " [22] #sample#339\n",
      "    @ ~/Desktop/MatrixProductBP.jl/src/sampling.jl:87 [inlined]\n",
      " [23] (::var\"#35#36\")(a::Int64)\n",
      "    @ Main ~/Desktop/MatrixProductBP.jl/notebooks/voter.ipynb:9\n",
      " [24] iterate\n",
      "    @ ./generator.jl:47 [inlined]\n",
      " [25] _collect(c::Base.OneTo{Int64}, itr::Base.Generator{Base.OneTo{Int64}, var\"#35#36\"}, ::Base.EltypeUnknown, isz::Base.HasShape{1})\n",
      "    @ Base ./array.jl:854\n",
      " [26] collect_similar(cont::Base.OneTo{Int64}, itr::Base.Generator{Base.OneTo{Int64}, var\"#35#36\"})\n",
      "    @ Base ./array.jl:763\n",
      " [27] map(f::Function, A::Base.OneTo{Int64})\n",
      "    @ Base ./abstractarray.jl:3285\n",
      " [28] top-level scope\n",
      "    @ ~/Desktop/MatrixProductBP.jl/notebooks/voter.ipynb:1"
     ]
    }
   ],
   "source": [
    "m0 = [0.7, 0.8, 0.9] |> reverse\n",
    "\n",
    "samplers = map(eachindex(m0)) do a\n",
    "    m = m0[a]\n",
    "    bp = mpbp(IndexedBiDiGraph(gg), w, fill(2,N), T)\n",
    "    for i in eachindex(bp.ϕ)\n",
    "        bp.ϕ[i][1] .= [(1+m)/2,(1-m)/2]\n",
    "    end\n",
    "    sms = sample(bp, nsamples; showprogress=false)\n",
    "    println(\"Finished magnetiz $m ($a/$(length(m0)))\")\n",
    "    sms\n",
    "end;"
   ]
  },
  {
   "cell_type": "code",
   "execution_count": 16,
   "metadata": {},
   "outputs": [
    {
     "ename": "UndefVarError",
     "evalue": "UndefVarError: `samplers` not defined",
     "output_type": "error",
     "traceback": [
      "UndefVarError: `samplers` not defined\n",
      "\n",
      "Stacktrace:\n",
      " [1] top-level scope\n",
      "   @ ~/Desktop/MatrixProductBP.jl/notebooks/voter.ipynb:2"
     ]
    }
   ],
   "source": [
    "spin(x, i) = 3 - 2x\n",
    "magnetiz(sms) = mean(getproperty.(mm, :val) for mm in means(spin, sms))\n",
    "m = [magnetiz(sms) for sms in samplers];"
   ]
  },
  {
   "cell_type": "code",
   "execution_count": 17,
   "metadata": {},
   "outputs": [
    {
     "ename": "UndefVarError",
     "evalue": "UndefVarError: `samplers` not defined",
     "output_type": "error",
     "traceback": [
      "UndefVarError: `samplers` not defined\n",
      "\n",
      "Stacktrace:\n",
      " [1] top-level scope\n",
      "   @ ~/Desktop/MatrixProductBP.jl/notebooks/voter.ipynb:3"
     ]
    }
   ],
   "source": [
    "cg = cgrad(:matter, length(m0)+1, categorical=true)\n",
    "pl = plot(xlabel=L\"t\", ylabel=L\"m\", legend=:outertopright)\n",
    "for a in eachindex(samplers)\n",
    "    plot!(pl, 0:T, m[a], label=\"m⁰=$(m0[a])\", c=cg[a+1])\n",
    "end\n",
    "pl"
   ]
  },
  {
   "cell_type": "code",
   "execution_count": 18,
   "metadata": {},
   "outputs": [
    {
     "ename": "UndefVarError",
     "evalue": "UndefVarError: `samplers` not defined",
     "output_type": "error",
     "traceback": [
      "UndefVarError: `samplers` not defined\n",
      "\n",
      "Stacktrace:\n",
      " [1] top-level scope\n",
      "   @ ~/Desktop/MatrixProductBP.jl/notebooks/voter.ipynb:1"
     ]
    }
   ],
   "source": [
    "spin(x) = spin(x, 0)\n",
    "\n",
    "e = map(samplers) do sms\n",
    "    pm = pair_marginals_alternate(sms; showprogress=false)\n",
    "    ee = map(pm) do bij\n",
    "        expectation.(spin, bij)\n",
    "    end\n",
    "    mean(ee)\n",
    "end;"
   ]
  },
  {
   "cell_type": "code",
   "execution_count": 19,
   "metadata": {},
   "outputs": [
    {
     "ename": "UndefVarError",
     "evalue": "UndefVarError: `samplers` not defined",
     "output_type": "error",
     "traceback": [
      "UndefVarError: `samplers` not defined\n",
      "\n",
      "Stacktrace:\n",
      " [1] top-level scope\n",
      "   @ ~/Desktop/MatrixProductBP.jl/notebooks/voter.ipynb:3"
     ]
    }
   ],
   "source": [
    "cg = cgrad(:matter, length(m0)+1, categorical=true)\n",
    "ple = plot(xlabel=L\"t\", ylabel=L\"c\", legend=:outertopright)\n",
    "for a in eachindex(samplers)\n",
    "    plot!(ple, 1:T, -ne(gg)/N*e[a], label=\"m⁰=$(m0[a])\", c=cg[a+1])\n",
    "end\n",
    "ple"
   ]
  },
  {
   "cell_type": "code",
   "execution_count": 20,
   "metadata": {},
   "outputs": [],
   "source": [
    "# using DelimitedFiles\n",
    "# open(\"energy.txt\", \"w\") do io\n",
    "#     writedlm(io, reduce(hcat, e))\n",
    "# end\n",
    "# open(\"magnetiz.txt\", \"w\") do io\n",
    "#     writedlm(io, reduce(hcat, m))\n",
    "# end"
   ]
  },
  {
   "cell_type": "markdown",
   "metadata": {},
   "source": [
    "## MPBP"
   ]
  },
  {
   "cell_type": "code",
   "execution_count": 10,
   "metadata": {},
   "outputs": [
    {
     "ename": "UndefVarError",
     "evalue": "UndefVarError: `samplers` not defined",
     "output_type": "error",
     "traceback": [
      "UndefVarError: `samplers` not defined\n",
      "\n",
      "Stacktrace:\n",
      " [1] top-level scope\n",
      "   @ ~/Desktop/MatrixProductBP.jl/notebooks/voter.ipynb:1"
     ]
    }
   ],
   "source": [
    "sms = samplers[1]\n",
    "bp = sms.bp;"
   ]
  },
  {
   "cell_type": "code",
   "execution_count": 11,
   "metadata": {},
   "outputs": [
    {
     "ename": "UndefVarError",
     "evalue": "UndefVarError: `bp` not defined",
     "output_type": "error",
     "traceback": [
      "UndefVarError: `bp` not defined\n",
      "\n",
      "Stacktrace:\n",
      " [1] top-level scope\n",
      "   @ ~/Desktop/MatrixProductBP.jl/notebooks/voter.ipynb:1"
     ]
    }
   ],
   "source": [
    "cb = CB_BP(bp; showprogress=false)\n",
    "maxiter = 10\n",
    "svd_trunc = TruncBond(5)\n",
    "tol = 1e-5\n",
    "iterate!(bp; maxiter, svd_trunc, cb, tol);"
   ]
  },
  {
   "cell_type": "code",
   "execution_count": 12,
   "metadata": {},
   "outputs": [],
   "source": []
  }
 ],
 "metadata": {
  "kernelspec": {
   "display_name": "Julia 1.10.1",
   "language": "julia",
   "name": "julia-1.10"
  },
  "language_info": {
   "file_extension": ".jl",
   "mimetype": "application/julia",
   "name": "julia",
   "version": "1.10.1"
  }
 },
 "nbformat": 4,
 "nbformat_minor": 2
}
