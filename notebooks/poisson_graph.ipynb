{
 "cells": [
  {
   "cell_type": "code",
   "execution_count": 187,
   "metadata": {},
   "outputs": [],
   "source": [
    "using MatrixProductBP, MatrixProductBP.Models\n",
    "using Distributions, Statistics, Base.Threads, Plots\n",
    "using ProgressMeter; ProgressMeter.ijulia_behavior(:clear);"
   ]
  },
  {
   "cell_type": "code",
   "execution_count": 192,
   "metadata": {},
   "outputs": [],
   "source": [
    "T = 20\n",
    "c = 3\n",
    "m⁰ = -0.4\n",
    "\n",
    "β = 1.0\n",
    "J = 2.0\n",
    "h = 0.0;"
   ]
  },
  {
   "cell_type": "code",
   "execution_count": 193,
   "metadata": {},
   "outputs": [],
   "source": [
    "wᵢ = fill(HomogeneousGlauberFactor(J, h, β), T+1)\n",
    "ϕᵢ = [ t == 0 ? [(1+m⁰)/2, (1-m⁰)/2] : ones(2) for t in 0:T]\n",
    "ψ_neutral = [ones(2,2) for t in 0:T];"
   ]
  },
  {
   "cell_type": "code",
   "execution_count": 194,
   "metadata": {},
   "outputs": [],
   "source": [
    "popsize = 10^2\n",
    "P = map(1:popsize) do _\n",
    "    μ = rand_mpem2(2, 2, T)\n",
    "    normalize!(μ)\n",
    "    μ\n",
    "end\n",
    "nsamples = 10^2\n",
    "degree_prob = truncated(Poisson(c), 0, popsize)\n",
    "maxiter = 5*10^1\n",
    "svd_trunc = TruncBond(6);"
   ]
  },
  {
   "cell_type": "code",
   "execution_count": 195,
   "metadata": {},
   "outputs": [
    {
     "data": {
      "text/plain": [
       "onebpiter_inner (generic function with 1 method)"
      ]
     },
     "execution_count": 195,
     "metadata": {},
     "output_type": "execute_result"
    }
   ],
   "source": [
    "function onebpiter_inner(μ, wᵢ, dᵢ, ns, ϕ, ψ, T, svd_trunc)\n",
    "    C, full, logzᵢ = MatrixProductBP.Models.compute_prob_ys(wᵢ, ns, μ, ψ, T, svd_trunc)\n",
    "    for j in 1:dᵢ\n",
    "        B = MatrixProductBP.Models.f_bp_partial_ij(C[j], wᵢ, ϕᵢ, dᵢ - 1, ns)\n",
    "        μ[j] = sweep_RtoL!(mpem2(B); svd_trunc)\n",
    "        logzᵢ += normalize!(μ[j])\n",
    "    end\n",
    "    B = MatrixProductBP.Models.f_bp_partial_i(full, wᵢ, ϕᵢ, dᵢ)\n",
    "    b = B |> mpem2 |> marginalize\n",
    "    f = dᵢ == 0 ? 0.0 : -logzᵢ / dᵢ\n",
    "    return μ, b, f\n",
    "end"
   ]
  },
  {
   "cell_type": "code",
   "execution_count": null,
   "metadata": {},
   "outputs": [],
   "source": [
    "bs = [[[zeros(2) for _ in 0:T] for _ in 1:nsamples] for _ in 1:maxiter]\n",
    "@showprogress for it in 1:maxiter\n",
    "    for n in 1:nsamples\n",
    "        d = rand(degree_prob)\n",
    "        indices = rand(1:popsize, d)     \n",
    "        μ, b, f = onebpiter_inner(P[indices], wᵢ, d, 2, ϕᵢ, fill(ψ_neutral, d), T, svd_trunc)\n",
    "        P[indices] = μ\n",
    "        bs[it][n] .= marginals(b)\n",
    "    end\n",
    "end"
   ]
  },
  {
   "cell_type": "code",
   "execution_count": null,
   "metadata": {},
   "outputs": [],
   "source": [
    "m_avg = mean([[bb[1]-bb[2] for bb in b] for b in bs[end]])\n",
    "m_std = std([[bb[1]-bb[2] for bb in b] for b in bs[end]]) ./ sqrt(nsamples);"
   ]
  },
  {
   "cell_type": "code",
   "execution_count": null,
   "metadata": {},
   "outputs": [],
   "source": [
    "plot(0:T, m_avg, m=:o, ribbon=m_std, label=\"\", xlabel=\"time\", ylabel=\"magnetiz\")"
   ]
  },
  {
   "cell_type": "code",
   "execution_count": null,
   "metadata": {},
   "outputs": [],
   "source": []
  }
 ],
 "metadata": {
  "kernelspec": {
   "display_name": "Julia 1.8.0 (10 threads) 1.8.0",
   "language": "julia",
   "name": "julia-1.8.0-(10-threads)-1.8"
  },
  "language_info": {
   "file_extension": ".jl",
   "mimetype": "application/julia",
   "name": "julia",
   "version": "1.8.0"
  }
 },
 "nbformat": 4,
 "nbformat_minor": 4
}
