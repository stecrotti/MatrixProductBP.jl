{
 "cells": [
  {
   "cell_type": "code",
   "execution_count": 10,
   "metadata": {
    "ExecuteTime": {
     "end_time": "2023-03-17T09:56:34.680000+01:00",
     "start_time": "2023-03-17T08:56:34.647Z"
    }
   },
   "outputs": [],
   "source": [
    "using MatrixProductBP, MatrixProductBP.Models\n",
    "using IndexedGraphs, DelimitedFiles, Plots, Statistics, LaTeXStrings, Random\n",
    "import ProgressMeter; ProgressMeter.ijulia_behavior(:clear)\n",
    "import Measurements: value, ±\n",
    "using Graphs\n",
    "using JLD2;"
   ]
  },
  {
   "cell_type": "code",
   "execution_count": 11,
   "metadata": {
    "ExecuteTime": {
     "end_time": "2023-03-17T09:56:34.963000+01:00",
     "start_time": "2023-03-17T08:56:34.920Z"
    }
   },
   "outputs": [],
   "source": [
    "include(\"../../telegram/notifications.jl\");"
   ]
  },
  {
   "cell_type": "code",
   "execution_count": 33,
   "metadata": {
    "ExecuteTime": {
     "end_time": "2023-03-17T11:35:38.409000+01:00",
     "start_time": "2023-03-17T10:35:37.675Z"
    }
   },
   "outputs": [],
   "source": [
    "N = 10^3\n",
    "seed = 1\n",
    "rng = MersenneTwister(seed)\n",
    "gg = prufer_decode(rand(rng, 1:N, N-2))\n",
    "g = IndexedGraph(gg)\n",
    "T = 50     # final time\n",
    "Δt = 1.0   # discretization\n",
    "λ = 0.3    # prob. of transmission\n",
    "ρ = 0.2   # prob. of recovery\n",
    "\n",
    "j = argmax(degree(g,j) for j in vertices(g))\n",
    "γ = [i==j ? 1.0 : 0.0 for i in 1:N]\n",
    "# γ = fill(3/N, N)\n",
    "\n",
    "# adjust probabilities and number of discrete time steps to simulate continuous-time behavior\n",
    "sis = SIS(g, λ*Δt, ρ*Δt, floor(Int, T/Δt); γ)\n",
    "\n",
    "# set up MPBP computation\n",
    "bp = mpbp(sis)\n",
    "cb = CB_BP(bp);"
   ]
  },
  {
   "cell_type": "code",
   "execution_count": 34,
   "metadata": {
    "ExecuteTime": {
     "end_time": "2023-03-17T11:35:38.421000+01:00",
     "start_time": "2023-03-17T10:35:38.062Z"
    }
   },
   "outputs": [
    {
     "data": {
      "text/plain": [
       "395"
      ]
     },
     "execution_count": 34,
     "metadata": {},
     "output_type": "execute_result"
    }
   ],
   "source": [
    "j"
   ]
  },
  {
   "cell_type": "code",
   "execution_count": 35,
   "metadata": {
    "ExecuteTime": {
     "end_time": "2023-03-17T11:35:38.574000+01:00",
     "start_time": "2023-03-17T10:35:38.485Z"
    }
   },
   "outputs": [],
   "source": [
    "# using GraphRecipes, ColorSchemes\n",
    "# cg = cgrad(:matter)\n",
    "# graphplot(gg, nodeshape=:circle, curves=false, nodecolor=[cg[1-j] for j in γ])"
   ]
  },
  {
   "cell_type": "code",
   "execution_count": null,
   "metadata": {
    "ExecuteTime": {
     "start_time": "2023-03-17T10:35:39.558Z"
    }
   },
   "outputs": [],
   "source": [
    "k = 12\n",
    "svd_trunc = TruncBond(k)   # maximum matrix size for SVD-based truncation\n",
    "maxiter = 100\n",
    "tol = 1e-6\n",
    "\n",
    "# run MPBP\n",
    "reset!(bp)\n",
    "cb = CB_BP(bp)\n",
    "iters, cb = iterate!(bp; cb, svd_trunc, maxiter, tol);"
   ]
  },
  {
   "cell_type": "code",
   "execution_count": null,
   "metadata": {
    "ExecuteTime": {
     "start_time": "2023-03-17T10:35:39.790Z"
    }
   },
   "outputs": [],
   "source": [
    "plot(cb.Δs, ylabel=\"convergence error\", xlabel=\"iter\", yaxis=:log10, \n",
    "    size=(300,200), label=\"\")"
   ]
  },
  {
   "cell_type": "code",
   "execution_count": null,
   "metadata": {
    "ExecuteTime": {
     "start_time": "2023-03-17T10:35:39.982Z"
    }
   },
   "outputs": [],
   "source": [
    "# compute marginals\n",
    "p_bp = means((x,i)->x-1, bp);"
   ]
  },
  {
   "cell_type": "markdown",
   "metadata": {},
   "source": [
    "## Monte Carlo"
   ]
  },
  {
   "cell_type": "code",
   "execution_count": null,
   "metadata": {
    "ExecuteTime": {
     "start_time": "2023-03-17T10:35:40.262Z"
    }
   },
   "outputs": [],
   "source": [
    "# instantiate Soft Margin sampler\n",
    "sms = SoftMarginSampler(bp);"
   ]
  },
  {
   "cell_type": "code",
   "execution_count": null,
   "metadata": {
    "ExecuteTime": {
     "start_time": "2023-03-17T10:35:40.374Z"
    }
   },
   "outputs": [],
   "source": [
    "# draw samples\n",
    "# re-run this cell (but not the one above!) to draw more samples and refine the estimate\n",
    "rng = MersenneTwister(1)\n",
    "nsamples_mc = 10^4\n",
    "sample!(sms, nsamples_mc; rng);"
   ]
  },
  {
   "cell_type": "code",
   "execution_count": null,
   "metadata": {
    "ExecuteTime": {
     "start_time": "2023-03-17T10:35:40.517Z"
    }
   },
   "outputs": [],
   "source": [
    "b_mc = marginals(sms)\n",
    "p_mc = [[value(bb[INFECTED]/sum(bb)) for bb in b] for b in b_mc];"
   ]
  },
  {
   "cell_type": "markdown",
   "metadata": {},
   "source": [
    "### Discretized mean field methods"
   ]
  },
  {
   "cell_type": "code",
   "execution_count": null,
   "metadata": {
    "ExecuteTime": {
     "start_time": "2023-03-17T10:35:40.797Z"
    }
   },
   "outputs": [],
   "source": [
    "p_dmp_disc, = dmp_disc(T, Δt, bp.g, λ, ρ, γ)     \n",
    "p_ibmf_disc = ibmf_disc(T, Δt, bp.g, λ, ρ, γ);"
   ]
  },
  {
   "cell_type": "code",
   "execution_count": null,
   "metadata": {
    "ExecuteTime": {
     "start_time": "2023-03-17T10:35:40.925Z"
    }
   },
   "outputs": [],
   "source": [
    "r_bp = cor(reduce(vcat, p_bp), value.(reduce(vcat, p_mc)))\n",
    "r_dmp_disc = cor(reduce(vcat, p_dmp_disc), value.(reduce(vcat, p_mc)))\n",
    "r_ibmf_disc = cor(reduce(vcat, p_ibmf_disc), value.(reduce(vcat, p_mc)))\n",
    "r_bp, r_dmp_disc, r_ibmf_disc"
   ]
  },
  {
   "cell_type": "code",
   "execution_count": null,
   "metadata": {
    "ExecuteTime": {
     "start_time": "2023-03-17T10:35:41.044Z"
    },
    "scrolled": true
   },
   "outputs": [],
   "source": [
    "pl_sc = [(scatter(reduce(vcat, p_mc), reduce(vcat, p), ylabel=xlab, xlabel=\"MonteCarlo\", \n",
    "    label=\"\\$P(x_i=I)\\$\", ms=3, c=:black, legend=:bottomright, titlefontsize=10,\n",
    "            title=\"Pearson=$(round(cor(reduce(vcat, p), value.(reduce(vcat, p_mc))), digits=5))\");\n",
    "        plot!(identity, c=:red, ls=:dash, lw=1)) for (p, xlab) in \n",
    "        zip([p_bp, p_dmp_disc, p_ibmf_disc], [\"MPBP\", \"DMP\", \"IBMF\"])]\n",
    "plot(pl_sc..., size=(900,300), margin=5Plots.mm, layout=(1,3));"
   ]
  },
  {
   "cell_type": "code",
   "execution_count": null,
   "metadata": {
    "ExecuteTime": {
     "start_time": "2023-03-17T10:35:41.199Z"
    }
   },
   "outputs": [],
   "source": [
    "Plots.default(lw=2)\n",
    "i = j\n",
    "pl = plot(xlabel=\"time\", ylabel=L\"P(x_{%$i}^t=I)\", legend=:bottomright)\n",
    "plot!(pl, 0:Δt:T, p_bp[i], label=\"MPBP\")\n",
    "plot!(pl, 0:Δt:T, p_dmp_disc[i], label=\"DMP\")\n",
    "plot!(pl, 0:Δt:T, p_ibmf_disc[i], label=\"IBMF\")\n",
    "scatter!(pl, 0:Δt:T, value.(p_mc[i]), c=:black, m=:diamond, ms=1.5, label=\"MC\")\n",
    "\n",
    "err_bp = [mean(abs(p_bp[i][t]-p_mc[i][t]) for i in 1:N) for t in 1:T+1]\n",
    "err_dmp_disc = [mean(abs(p_dmp_disc[i][t]-p_mc[i][t]) for i in 1:N) for t in 1:T+1]\n",
    "err_ibmf_disc = [mean(abs(p_ibmf_disc[i][t]-p_mc[i][t]) for i in 1:N) for t in 1:T+1]\n",
    "\n",
    "plot!(pl, inset=(1, bbox(0.3, 0.25, 0.5, 0.6)), subplot=2)\n",
    "plot!(pl[2], xlabel=\"time\", ylabel=\"error\", xticks=0:10:T)\n",
    "plot!(pl[2], 0:Δt:T, err_bp, label=\"MPBP\")\n",
    "plot!(pl[2], 0:Δt:T, err_dmp_disc, label=\"DMP\")\n",
    "plot!(pl[2], 0:Δt:T, err_ibmf_disc, label=\"IBMF\")\n",
    "plot(plot(pl[1]), plot(pl[2]))"
   ]
  },
  {
   "cell_type": "code",
   "execution_count": null,
   "metadata": {
    "ExecuteTime": {
     "start_time": "2023-03-17T10:35:42.157Z"
    }
   },
   "outputs": [],
   "source": [
    "@telegram \"SIS compare meanfield tree\""
   ]
  },
  {
   "cell_type": "code",
   "execution_count": 7,
   "metadata": {
    "ExecuteTime": {
     "end_time": "2023-03-17T09:42:13.877000+01:00",
     "start_time": "2023-03-17T08:42:12.367Z"
    }
   },
   "outputs": [],
   "source": [
    "jldsave(\"plot_data/sis_compare_meanfield_tree.jld2\"; T, N, j, λ, ρ, γ, p_bp, p_mc, p_ibmf_disc, p_dmp_disc);"
   ]
  },
  {
   "cell_type": "code",
   "execution_count": null,
   "metadata": {},
   "outputs": [],
   "source": []
  }
 ],
 "metadata": {
  "kernelspec": {
   "display_name": "Julia 1.8.0 (10 threads) 1.8.0",
   "language": "julia",
   "name": "julia-1.8.0-(10-threads)-1.8"
  },
  "language_info": {
   "file_extension": ".jl",
   "mimetype": "application/julia",
   "name": "julia",
   "version": "1.8.0"
  },
  "notify_time": "30",
  "varInspector": {
   "cols": {
    "lenName": 16,
    "lenType": 16,
    "lenVar": 40
   },
   "kernels_config": {
    "python": {
     "delete_cmd_postfix": "",
     "delete_cmd_prefix": "del ",
     "library": "var_list.py",
     "varRefreshCmd": "print(var_dic_list())"
    },
    "r": {
     "delete_cmd_postfix": ") ",
     "delete_cmd_prefix": "rm(",
     "library": "var_list.r",
     "varRefreshCmd": "cat(var_dic_list()) "
    }
   },
   "types_to_exclude": [
    "module",
    "function",
    "builtin_function_or_method",
    "instance",
    "_Feature"
   ],
   "window_display": false
  }
 },
 "nbformat": 4,
 "nbformat_minor": 5
}
