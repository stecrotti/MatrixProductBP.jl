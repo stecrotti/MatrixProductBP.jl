{
 "cells": [
  {
   "cell_type": "code",
   "execution_count": 1,
   "metadata": {},
   "outputs": [
    {
     "name": "stderr",
     "output_type": "stream",
     "text": [
      "\u001b[36m\u001b[1m[ \u001b[22m\u001b[39m\u001b[36m\u001b[1mInfo: \u001b[22m\u001b[39mPrecompiling MatrixProductBP [3d39929c-b583-45fa-b331-3f50b693a38a]\n"
     ]
    }
   ],
   "source": [
    "using MatrixProductBP, MatrixProductBP.Models\n",
    "using Graphs, Plots, Printf, IndexedGraphs, Statistics\n",
    "import ProgressMeter; ProgressMeter.ijulia_behavior(:clear);"
   ]
  },
  {
   "cell_type": "code",
   "execution_count": null,
   "metadata": {},
   "outputs": [],
   "source": [
    "struct AndFactor <: BPFactor end\n",
    "struct OrFactor <: BPFactor end\n",
    "struct ShiftFactor <: BPFactor end\n",
    "struct TrivialFactor <: BPFactor end\n",
    "\n",
    "(w::TrivialFactor)(x...) = 1.0\n",
    "function (w::AndFactor)(xᵢᵗ⁺¹::Int, xₙᵢᵗ::Vector{Int}, xᵢᵗ::Int)\n",
    "     (xᵢᵗ == 2) == (xₙᵢᵗ[1] == 2 && xₙᵢᵗ[2] == 2)\n",
    "end\n",
    "function (w::OrFactor)(xᵢᵗ⁺¹::Int, xₙᵢᵗ::Vector{Int}, xᵢᵗ::Int)\n",
    "    (xᵢᵗ == 2) == (xₙᵢᵗ[1] == 2 || xₙᵢᵗ[2] == 2)\n",
    "end\n",
    "function (w::ShiftFactor)(xᵢᵗ⁺¹::Int, xₙᵢᵗ::Vector{Int}, xᵢᵗ::Int)\n",
    "    (xᵢᵗ⁺¹ == 2) == (xₙᵢᵗ[1] == 2)\n",
    "end\n",
    "\n",
    "i,j = unzip([1=>4, 2=>4, 4=>5, 3=>6, 5=>6])\n",
    "\n",
    "\n",
    "\n",
    "\n",
    "\n",
    "g = IndexedBidiGraph(A)\n",
    "T = 10\n",
    "w = fill(BPEqual(), T+1)\n",
    "mpbp(g,w,q,T;d)\n",
    "\n",
    "\n",
    "\n",
    "\n"
   ]
  }
 ],
 "metadata": {
  "kernelspec": {
   "display_name": "Julia 1.8 (4 threads) 1.8.3-pre",
   "language": "julia",
   "name": "julia-1.8-_4-threads_-1.8"
  },
  "language_info": {
   "file_extension": ".jl",
   "mimetype": "application/julia",
   "name": "julia",
   "version": "1.8.3"
  },
  "orig_nbformat": 4
 },
 "nbformat": 4,
 "nbformat_minor": 2
}
