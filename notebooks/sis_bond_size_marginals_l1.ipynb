{
 "cells": [
  {
   "cell_type": "markdown",
   "metadata": {},
   "source": [
    "Compare BP marginals with montecarlo on a tree"
   ]
  },
  {
   "cell_type": "code",
   "execution_count": 44,
   "metadata": {},
   "outputs": [],
   "source": [
    "using MatrixProductBP, MatrixProductBP.Models\n",
    "using Graphs, Plots, Printf, IndexedGraphs, Statistics\n",
    "import Measurements: value\n",
    "import ProgressMeter; ProgressMeter.ijulia_behavior(:clear);"
   ]
  },
  {
   "cell_type": "code",
   "execution_count": 75,
   "metadata": {},
   "outputs": [],
   "source": [
    "T = 10\n",
    "N = 50\n",
    "k = 5\n",
    "λ = 0.1\n",
    "ρ = 0.15\n",
    "γ = 0.2\n",
    "nobs = N÷4;"
   ]
  },
  {
   "cell_type": "code",
   "execution_count": 76,
   "metadata": {},
   "outputs": [
    {
     "data": {
      "text/plain": [
       "l1_marginals_bp_bondsize (generic function with 1 method)"
      ]
     },
     "metadata": {},
     "output_type": "display_data"
    }
   ],
   "source": [
    "function l1_marginals_bp_bondsize(T::Integer, N::Integer, k::Integer, λ::Real, ρ::Real, γ::Real, \n",
    "        nobs::Integer, bonddims::AbstractVector{Int}; \n",
    "        ns_mc = 5*10^6, require_convergence=true, maxiter=100, tol=1e-3, \n",
    "        showprogress::Bool=false)\n",
    "    \n",
    "    b_bp = [Vector{Vector{Float64}}[] for _ in bonddims]\n",
    "    \n",
    "    gg = random_regular_graph(N, k)\n",
    "    t = SimpleGraph(prim_mst(gg))\n",
    "    g = IndexedGraph(t)\n",
    "    @assert !is_cyclic(g)\n",
    "    \n",
    "    sis = SIS(g, λ, ρ, T; γ)\n",
    "    bp = mpbp(deepcopy(sis))\n",
    "    cb = CB_BP(bp)\n",
    "    x = draw_node_observations!(bp, nobs; last_time=false, softinf=1e2)\n",
    "    sms = sample(bp, ns_mc; showprogress)\n",
    "    b_mc_ = marginals(sms)\n",
    "    b_mc = [[value.(p) for p in bi] for bi in b_mc_]\n",
    "    \n",
    "    for j in eachindex(bonddims)\n",
    "        svd_trunc = TruncBond(bonddims[j])\n",
    "        reset_messages!(bp); reset_beliefs!(bp)\n",
    "        cb = CB_BP(bp; showprogress=false)\n",
    "        iters, ε = iterate!(bp; maxiter, svd_trunc, cb, tol)\n",
    "        if require_convergence\n",
    "            iters == maxiter && error(\"BP did not converge\")\n",
    "        end\n",
    "        b_bp[j] = beliefs(bp)\n",
    "    end\n",
    "    l1s = [l1_marginals(b, b_mc) for b in b_bp]\n",
    "end"
   ]
  },
  {
   "cell_type": "code",
   "execution_count": 77,
   "metadata": {},
   "outputs": [],
   "source": [
    "bonddims = [1, 2, 4];"
   ]
  },
  {
   "cell_type": "code",
   "execution_count": 78,
   "metadata": {},
   "outputs": [],
   "source": [
    "l1s_bp = Vector{Vector{Float64}}[];"
   ]
  },
  {
   "cell_type": "code",
   "execution_count": 79,
   "metadata": {
    "scrolled": true
   },
   "outputs": [],
   "source": [
    "ninstances = 5\n",
    "l1s_bp_ = [[zeros(T+1) for _ in bonddims] for _ in 1:ninstances]\n",
    "\n",
    "for n in 1:ninstances\n",
    "    println(\"### instance $n of $ninstances\")\n",
    "    l1s_bp_[n] = l1_marginals_bp_bondsize(T, N, k, λ, ρ, γ, nobs, bonddims, ns_mc=10^6, \n",
    "        tol=1e-4)\n",
    "    flush(stdout)\n",
    "end\n",
    "\n",
    "append!(l1s_bp, l1s_bp_);"
   ]
  },
  {
   "cell_type": "code",
   "execution_count": null,
   "metadata": {},
   "outputs": [],
   "source": [
    "l1s_bp_avg = map(eachindex(bonddims)) do i\n",
    "    mean([a[i] for a in l1s_bp])\n",
    "end\n",
    "l1s_bp_std = map(eachindex(bonddims)) do i\n",
    "    std([a[i] for a in l1s_bp]) ./ sqrt(length(l1s_bp))\n",
    "end; "
   ]
  },
  {
   "cell_type": "code",
   "execution_count": null,
   "metadata": {},
   "outputs": [],
   "source": [
    "println(\"SIS with: P(S→I)=λ=$λ, P(I→S)=ρ=$ρ. P(zero patient)=γ=$γ\")\n",
    "println(\"Random regular N=$N, k=$k. T=$T, $nobs random observations from the prior at final time\")\n",
    "println(\"Average over \", length(l1s_bp), \" random instances.\")\n",
    "using ColorSchemes\n",
    "cg = cgrad(:matter, length(bonddims), categorical=true) |> reverse\n",
    "pl = plot(xlabel=\"time\", ylabel=\"L₁ error\", xticks=0:T, legend=:bottomright)\n",
    "for i in eachindex(bonddims)\n",
    "    plot!(pl, 0:T, l1s_bp_avg[i], ribbon=l1s_bp_std[i], c=cg[i],\n",
    "        label=\"matrix size = $(bonddims[i])\", m=:o)\n",
    "end\n",
    "plot(pl, title=\"Lᵢ error between BP and true (montecarlo) marginals\", titlefontsize=10, \n",
    "    legend=:outertopright, size=(800,400), margin=5Plots.mm)"
   ]
  },
  {
   "cell_type": "code",
   "execution_count": null,
   "metadata": {},
   "outputs": [],
   "source": []
  }
 ],
 "metadata": {
  "kernelspec": {
   "display_name": "Julia 1.8.3",
   "language": "julia",
   "name": "julia-1.8"
  },
  "language_info": {
   "file_extension": ".jl",
   "mimetype": "application/julia",
   "name": "julia",
   "version": "1.8.3"
  }
 },
 "nbformat": 4,
 "nbformat_minor": 4
}
