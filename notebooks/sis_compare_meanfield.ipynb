{
 "cells": [
  {
   "cell_type": "code",
   "execution_count": 32,
   "metadata": {
    "ExecuteTime": {
     "end_time": "2023-04-27T17:23:03.491000+02:00",
     "start_time": "2023-04-27T15:23:03.337Z"
    }
   },
   "outputs": [],
   "source": [
    "using MatrixProductBP, MatrixProductBP.Models\n",
    "using IndexedGraphs, DelimitedFiles, Plots, Statistics, LaTeXStrings, Random\n",
    "import ProgressMeter; ProgressMeter.ijulia_behavior(:clear)\n",
    "import Measurements: value, ±\n",
    "using Graphs\n",
    "using JLD2\n",
    "include(\"meanfield.jl\");"
   ]
  },
  {
   "cell_type": "code",
   "execution_count": 7,
   "metadata": {
    "ExecuteTime": {
     "end_time": "2023-04-27T16:10:30.831000+02:00",
     "start_time": "2023-04-27T14:10:29.478Z"
    }
   },
   "outputs": [],
   "source": [
    "N = 10^3\n",
    "c = 5\n",
    "seed = 1\n",
    "gg = erdos_renyi(N, c/N; seed)\n",
    "N = nv(gg)\n",
    "g = IndexedGraph(gg)\n",
    "T = 50     # final time\n",
    "Δt = 1.0   # discretization\n",
    "λ = 0.1    # prob. of transmission\n",
    "ρ = 0.05   # prob. of recovery\n",
    "\n",
    "# j = argmax(degree(g,j) for j in vertices(g))\n",
    "# γ = [i==j ? 1.0 : 0.0 for i in 1:N]\n",
    "γ = fill(0.08, N)\n",
    "\n",
    "# adjust probabilities and number of discrete time steps to simulate continuous-time behavior\n",
    "sis = SIS(g, λ*Δt, ρ*Δt, floor(Int, T/Δt); γ)\n",
    "\n",
    "# set up MPBP computation\n",
    "bp = mpbp(sis)\n",
    "cb = CB_BP(bp);"
   ]
  },
  {
   "cell_type": "code",
   "execution_count": 8,
   "metadata": {
    "ExecuteTime": {
     "end_time": "2023-04-27T16:10:30.843000+02:00",
     "start_time": "2023-04-27T14:10:29.480Z"
    }
   },
   "outputs": [],
   "source": [
    "# using GraphRecipes, ColorSchemes\n",
    "# cg = cgrad(:matter)\n",
    "# graphplot(gg, nodeshape=:circle, curves=false, nodecolor=[cg[1-j] for j in γ])"
   ]
  },
  {
   "cell_type": "code",
   "execution_count": 9,
   "metadata": {
    "ExecuteTime": {
     "end_time": "2023-04-27T16:59:12.069000+02:00",
     "start_time": "2023-04-27T14:10:29.482Z"
    }
   },
   "outputs": [
    {
     "name": "stderr",
     "output_type": "stream",
     "text": [
      "┌ Warning: #= /home/crotti/.julia/packages/Tullio/NGyNM/src/macro.jl:1093 =#:\n",
      "│ `LoopVectorization.check_args` on your inputs failed; running fallback `@inbounds @fastmath` loop instead.\n",
      "│ Use `warn_check_args=false`, e.g. `@turbo warn_check_args=false ...`, to disable this warning.\n",
      "└ @ MatrixProductBP.Models /home/crotti/.julia/packages/LoopVectorization/QZZfk/src/condense_loopset.jl:1148\n",
      "┌ Warning: #= /home/crotti/.julia/packages/Tullio/NGyNM/src/macro.jl:1093 =#:\n",
      "│ `LoopVectorization.check_args` on your inputs failed; running fallback `@inbounds @fastmath` loop instead.\n",
      "│ Use `warn_check_args=false`, e.g. `@turbo warn_check_args=false ...`, to disable this warning.\n",
      "└ @ MatrixProductBP.Models /home/crotti/.julia/packages/LoopVectorization/QZZfk/src/condense_loopset.jl:1148\n"
     ]
    },
    {
     "ename": "LoadError",
     "evalue": "TaskFailedException\n\n\u001b[91m    nested task error: \u001b[39mInterruptException:\n    Stacktrace:\n      [1] \u001b[0m\u001b[1mArray\u001b[22m\n    \u001b[90m    @ \u001b[39m\u001b[90m./\u001b[39m\u001b[90m\u001b[4mboot.jl:459\u001b[24m\u001b[39m\u001b[90m [inlined]\u001b[39m\n      [2] \u001b[0m\u001b[1mArray\u001b[22m\n    \u001b[90m    @ \u001b[39m\u001b[90m./\u001b[39m\u001b[90m\u001b[4mboot.jl:468\u001b[24m\u001b[39m\u001b[90m [inlined]\u001b[39m\n      [3] \u001b[0m\u001b[1msimilar\u001b[22m\n    \u001b[90m    @ \u001b[39m\u001b[90m./\u001b[39m\u001b[90m\u001b[4marray.jl:378\u001b[24m\u001b[39m\u001b[90m [inlined]\u001b[39m\n      [4] \u001b[0m\u001b[1msimilar\u001b[22m\n    \u001b[90m    @ \u001b[39m\u001b[90m./\u001b[39m\u001b[90m\u001b[4mabstractarray.jl:795\u001b[24m\u001b[39m\u001b[90m [inlined]\u001b[39m\n      [5] \u001b[0m\u001b[1mgetindex\u001b[22m\n    \u001b[90m    @ \u001b[39m\u001b[90m./\u001b[39m\u001b[90m\u001b[4marray.jl:932\u001b[24m\u001b[39m\u001b[90m [inlined]\u001b[39m\n      [6] \u001b[0m\u001b[1m_debug_svd\u001b[22m\u001b[0m\u001b[1m(\u001b[22m\u001b[90mM\u001b[39m::\u001b[0mMatrix\u001b[90m{Float64}\u001b[39m, \u001b[90mU\u001b[39m::\u001b[0mMatrix\u001b[90m{Float64}\u001b[39m, \u001b[90mλ\u001b[39m::\u001b[0mVector\u001b[90m{Float64}\u001b[39m, \u001b[90mV\u001b[39m::\u001b[0mLinearAlgebra.Adjoint\u001b[90m{Float64, Matrix{Float64}}\u001b[39m, \u001b[90mmprime\u001b[39m::\u001b[0mInt64\u001b[0m\u001b[1m)\u001b[22m\n    \u001b[90m    @ \u001b[39m\u001b[35mMatrixProductBP.MPEMs\u001b[39m \u001b[90m~/MatrixProductBP/src/MPEMs/\u001b[39m\u001b[90m\u001b[4msvd_trunc.jl:9\u001b[24m\u001b[39m\n      [7] \u001b[0m\u001b[1m(::TruncThresh{Float64})\u001b[22m\u001b[0m\u001b[1m(\u001b[22m\u001b[90mM\u001b[39m::\u001b[0mMatrix\u001b[90m{Float64}\u001b[39m\u001b[0m\u001b[1m)\u001b[22m\n    \u001b[90m    @ \u001b[39m\u001b[35mMatrixProductBP.MPEMs\u001b[39m \u001b[90m~/MatrixProductBP/src/MPEMs/\u001b[39m\u001b[90m\u001b[4msvd_trunc.jl:25\u001b[24m\u001b[39m\n      [8] \u001b[0m\u001b[1msweep_LtoR!\u001b[22m\u001b[0m\u001b[1m(\u001b[22m\u001b[90mC\u001b[39m::\u001b[0mMPEM2\u001b[90m{Float64}\u001b[39m; \u001b[90msvd_trunc\u001b[39m::\u001b[0mTruncThresh\u001b[90m{Float64}\u001b[39m\u001b[0m\u001b[1m)\u001b[22m\n    \u001b[90m    @ \u001b[39m\u001b[35mMatrixProductBP.MPEMs\u001b[39m \u001b[90m~/MatrixProductBP/src/MPEMs/\u001b[39m\u001b[90m\u001b[4mmptrain.jl:97\u001b[24m\u001b[39m\n      [9] \u001b[0m\u001b[1m#compress!#34\u001b[22m\n    \u001b[90m    @ \u001b[39m\u001b[90m~/MatrixProductBP/src/MPEMs/\u001b[39m\u001b[90m\u001b[4mmptrain.jl:109\u001b[24m\u001b[39m\u001b[90m [inlined]\u001b[39m\n     [10] \u001b[0m\u001b[1m(::MatrixProductBP.Models.var\"#op#29\"{SISFactor{Float64}, Vector{SISFactor{Float64}}, TruncBond})\u001b[22m\u001b[0m\u001b[1m(\u001b[22m::\u001b[0mTuple\u001b[90m{MPEM2{Float64}, Float64, Int64}\u001b[39m, ::\u001b[0mTuple\u001b[90m{MPEM2{Float64}, Float64, Int64}\u001b[39m\u001b[0m\u001b[1m)\u001b[22m\n    \u001b[90m    @ \u001b[39m\u001b[35mMatrixProductBP.Models\u001b[39m \u001b[90m~/MatrixProductBP/src/Models/\u001b[39m\u001b[90m\u001b[4mrecursive_bp_factor.jl:100\u001b[24m\u001b[39m\n     [11] \u001b[0m\u001b[1mcavity!\u001b[22m\u001b[0m\u001b[1m(\u001b[22m\u001b[90mdest\u001b[39m::\u001b[0mVector\u001b[90m{Tuple{MPEM2{Float64}, Float64, Int64}}\u001b[39m, \u001b[90msource\u001b[39m::\u001b[0mVector\u001b[90m{Tuple{MPEM2{Float64}, Float64, Int64}}\u001b[39m, \u001b[90mop\u001b[39m::\u001b[0mMatrixProductBP.Models.var\"#op#29\"\u001b[90m{SISFactor{Float64}, Vector{SISFactor{Float64}}, TruncBond}\u001b[39m, \u001b[90minit\u001b[39m::\u001b[0mTuple\u001b[90m{MPEM2{Float64}, Float64, Int64}\u001b[39m\u001b[0m\u001b[1m)\u001b[22m\n    \u001b[90m    @ \u001b[39m\u001b[36mCavityTools\u001b[39m \u001b[90m~/.julia/packages/CavityTools/WjGpE/src/\u001b[39m\u001b[90m\u001b[4mcavity.jl:13\u001b[24m\u001b[39m\n     [12] \u001b[0m\u001b[1mcavity\u001b[22m\u001b[0m\u001b[1m(\u001b[22m\u001b[90msource\u001b[39m::\u001b[0mVector\u001b[90m{Tuple{MPEM2{Float64}, Float64, Int64}}\u001b[39m, \u001b[90mop\u001b[39m::\u001b[0mFunction, \u001b[90minit\u001b[39m::\u001b[0mTuple\u001b[90m{MPEM2{Float64}, Float64, Int64}\u001b[39m\u001b[0m\u001b[1m)\u001b[22m\n    \u001b[90m    @ \u001b[39m\u001b[36mCavityTools\u001b[39m \u001b[90m~/.julia/packages/CavityTools/WjGpE/src/\u001b[39m\u001b[90m\u001b[4mcavity.jl:21\u001b[24m\u001b[39m\n     [13] \u001b[0m\u001b[1mcompute_prob_ys\u001b[22m\u001b[0m\u001b[1m(\u001b[22m\u001b[90mwᵢ\u001b[39m::\u001b[0mVector\u001b[90m{SISFactor{Float64}}\u001b[39m, \u001b[90mqi\u001b[39m::\u001b[0mInt64, \u001b[90mμin\u001b[39m::\u001b[0mVector\u001b[90m{MPEM2{Float64}}\u001b[39m, \u001b[90mψout\u001b[39m::\u001b[0mVector\u001b[90m{Vector{Matrix{Float64}}}\u001b[39m, \u001b[90mT\u001b[39m::\u001b[0mInt64, \u001b[90msvd_trunc\u001b[39m::\u001b[0mTruncBond\u001b[0m\u001b[1m)\u001b[22m\n    \u001b[90m    @ \u001b[39m\u001b[35mMatrixProductBP.Models\u001b[39m \u001b[90m~/MatrixProductBP/src/Models/\u001b[39m\u001b[90m\u001b[4mrecursive_bp_factor.jl:106\u001b[24m\u001b[39m\n     [14] \u001b[0m\u001b[1monebpiter!\u001b[22m\u001b[0m\u001b[1m(\u001b[22m\u001b[90mbp\u001b[39m::\u001b[0mMPBP\u001b[90m{IndexedBiDiGraph{Int64}, Float64, Vector{SISFactor{Float64}}}\u001b[39m, \u001b[90mi\u001b[39m::\u001b[0mInt64, ::\u001b[0mType\u001b[90m{SISFactor{Float64}}\u001b[39m; \u001b[90msvd_trunc\u001b[39m::\u001b[0mTruncBond, \u001b[90mdamp\u001b[39m::\u001b[0mFloat64\u001b[0m\u001b[1m)\u001b[22m\n    \u001b[90m    @ \u001b[39m\u001b[35mMatrixProductBP.Models\u001b[39m \u001b[90m~/MatrixProductBP/src/Models/\u001b[39m\u001b[90m\u001b[4mrecursive_bp_factor.jl:119\u001b[24m\u001b[39m\n     [15] \u001b[0m\u001b[1mmacro expansion\u001b[22m\n    \u001b[90m    @ \u001b[39m\u001b[90m~/MatrixProductBP/src/\u001b[39m\u001b[90m\u001b[4mmpbp.jl:178\u001b[24m\u001b[39m\u001b[90m [inlined]\u001b[39m\n     [16] \u001b[0m\u001b[1m(::MatrixProductBP.var\"#582#threadsfor_fun#113\"{MatrixProductBP.var\"#582#threadsfor_fun#112#114\"{TruncBond, Float64, MPBP{IndexedBiDiGraph{Int64}, Float64, Vector{SISFactor{Float64}}}, Vector{Int64}}})\u001b[22m\u001b[0m\u001b[1m(\u001b[22m\u001b[90mtid\u001b[39m::\u001b[0mInt64; \u001b[90monethread\u001b[39m::\u001b[0mBool\u001b[0m\u001b[1m)\u001b[22m\n    \u001b[90m    @ \u001b[39m\u001b[35mMatrixProductBP\u001b[39m \u001b[90m./\u001b[39m\u001b[90m\u001b[4mthreadingconstructs.jl:84\u001b[24m\u001b[39m\n     [17] \u001b[0m\u001b[1m#582#threadsfor_fun\u001b[22m\n    \u001b[90m    @ \u001b[39m\u001b[90m./\u001b[39m\u001b[90m\u001b[4mthreadingconstructs.jl:51\u001b[24m\u001b[39m\u001b[90m [inlined]\u001b[39m\n     [18] \u001b[0m\u001b[1m(::Base.Threads.var\"#1#2\"{MatrixProductBP.var\"#582#threadsfor_fun#113\"{MatrixProductBP.var\"#582#threadsfor_fun#112#114\"{TruncBond, Float64, MPBP{IndexedBiDiGraph{Int64}, Float64, Vector{SISFactor{Float64}}}, Vector{Int64}}}, Int64})\u001b[22m\u001b[0m\u001b[1m(\u001b[22m\u001b[0m\u001b[1m)\u001b[22m\n    \u001b[90m    @ \u001b[39m\u001b[90mBase.Threads\u001b[39m \u001b[90m./\u001b[39m\u001b[90m\u001b[4mthreadingconstructs.jl:30\u001b[24m\u001b[39m",
     "output_type": "error",
     "traceback": [
      "TaskFailedException\n\n\u001b[91m    nested task error: \u001b[39mInterruptException:\n    Stacktrace:\n      [1] \u001b[0m\u001b[1mArray\u001b[22m\n    \u001b[90m    @ \u001b[39m\u001b[90m./\u001b[39m\u001b[90m\u001b[4mboot.jl:459\u001b[24m\u001b[39m\u001b[90m [inlined]\u001b[39m\n      [2] \u001b[0m\u001b[1mArray\u001b[22m\n    \u001b[90m    @ \u001b[39m\u001b[90m./\u001b[39m\u001b[90m\u001b[4mboot.jl:468\u001b[24m\u001b[39m\u001b[90m [inlined]\u001b[39m\n      [3] \u001b[0m\u001b[1msimilar\u001b[22m\n    \u001b[90m    @ \u001b[39m\u001b[90m./\u001b[39m\u001b[90m\u001b[4marray.jl:378\u001b[24m\u001b[39m\u001b[90m [inlined]\u001b[39m\n      [4] \u001b[0m\u001b[1msimilar\u001b[22m\n    \u001b[90m    @ \u001b[39m\u001b[90m./\u001b[39m\u001b[90m\u001b[4mabstractarray.jl:795\u001b[24m\u001b[39m\u001b[90m [inlined]\u001b[39m\n      [5] \u001b[0m\u001b[1mgetindex\u001b[22m\n    \u001b[90m    @ \u001b[39m\u001b[90m./\u001b[39m\u001b[90m\u001b[4marray.jl:932\u001b[24m\u001b[39m\u001b[90m [inlined]\u001b[39m\n      [6] \u001b[0m\u001b[1m_debug_svd\u001b[22m\u001b[0m\u001b[1m(\u001b[22m\u001b[90mM\u001b[39m::\u001b[0mMatrix\u001b[90m{Float64}\u001b[39m, \u001b[90mU\u001b[39m::\u001b[0mMatrix\u001b[90m{Float64}\u001b[39m, \u001b[90mλ\u001b[39m::\u001b[0mVector\u001b[90m{Float64}\u001b[39m, \u001b[90mV\u001b[39m::\u001b[0mLinearAlgebra.Adjoint\u001b[90m{Float64, Matrix{Float64}}\u001b[39m, \u001b[90mmprime\u001b[39m::\u001b[0mInt64\u001b[0m\u001b[1m)\u001b[22m\n    \u001b[90m    @ \u001b[39m\u001b[35mMatrixProductBP.MPEMs\u001b[39m \u001b[90m~/MatrixProductBP/src/MPEMs/\u001b[39m\u001b[90m\u001b[4msvd_trunc.jl:9\u001b[24m\u001b[39m\n      [7] \u001b[0m\u001b[1m(::TruncThresh{Float64})\u001b[22m\u001b[0m\u001b[1m(\u001b[22m\u001b[90mM\u001b[39m::\u001b[0mMatrix\u001b[90m{Float64}\u001b[39m\u001b[0m\u001b[1m)\u001b[22m\n    \u001b[90m    @ \u001b[39m\u001b[35mMatrixProductBP.MPEMs\u001b[39m \u001b[90m~/MatrixProductBP/src/MPEMs/\u001b[39m\u001b[90m\u001b[4msvd_trunc.jl:25\u001b[24m\u001b[39m\n      [8] \u001b[0m\u001b[1msweep_LtoR!\u001b[22m\u001b[0m\u001b[1m(\u001b[22m\u001b[90mC\u001b[39m::\u001b[0mMPEM2\u001b[90m{Float64}\u001b[39m; \u001b[90msvd_trunc\u001b[39m::\u001b[0mTruncThresh\u001b[90m{Float64}\u001b[39m\u001b[0m\u001b[1m)\u001b[22m\n    \u001b[90m    @ \u001b[39m\u001b[35mMatrixProductBP.MPEMs\u001b[39m \u001b[90m~/MatrixProductBP/src/MPEMs/\u001b[39m\u001b[90m\u001b[4mmptrain.jl:97\u001b[24m\u001b[39m\n      [9] \u001b[0m\u001b[1m#compress!#34\u001b[22m\n    \u001b[90m    @ \u001b[39m\u001b[90m~/MatrixProductBP/src/MPEMs/\u001b[39m\u001b[90m\u001b[4mmptrain.jl:109\u001b[24m\u001b[39m\u001b[90m [inlined]\u001b[39m\n     [10] \u001b[0m\u001b[1m(::MatrixProductBP.Models.var\"#op#29\"{SISFactor{Float64}, Vector{SISFactor{Float64}}, TruncBond})\u001b[22m\u001b[0m\u001b[1m(\u001b[22m::\u001b[0mTuple\u001b[90m{MPEM2{Float64}, Float64, Int64}\u001b[39m, ::\u001b[0mTuple\u001b[90m{MPEM2{Float64}, Float64, Int64}\u001b[39m\u001b[0m\u001b[1m)\u001b[22m\n    \u001b[90m    @ \u001b[39m\u001b[35mMatrixProductBP.Models\u001b[39m \u001b[90m~/MatrixProductBP/src/Models/\u001b[39m\u001b[90m\u001b[4mrecursive_bp_factor.jl:100\u001b[24m\u001b[39m\n     [11] \u001b[0m\u001b[1mcavity!\u001b[22m\u001b[0m\u001b[1m(\u001b[22m\u001b[90mdest\u001b[39m::\u001b[0mVector\u001b[90m{Tuple{MPEM2{Float64}, Float64, Int64}}\u001b[39m, \u001b[90msource\u001b[39m::\u001b[0mVector\u001b[90m{Tuple{MPEM2{Float64}, Float64, Int64}}\u001b[39m, \u001b[90mop\u001b[39m::\u001b[0mMatrixProductBP.Models.var\"#op#29\"\u001b[90m{SISFactor{Float64}, Vector{SISFactor{Float64}}, TruncBond}\u001b[39m, \u001b[90minit\u001b[39m::\u001b[0mTuple\u001b[90m{MPEM2{Float64}, Float64, Int64}\u001b[39m\u001b[0m\u001b[1m)\u001b[22m\n    \u001b[90m    @ \u001b[39m\u001b[36mCavityTools\u001b[39m \u001b[90m~/.julia/packages/CavityTools/WjGpE/src/\u001b[39m\u001b[90m\u001b[4mcavity.jl:13\u001b[24m\u001b[39m\n     [12] \u001b[0m\u001b[1mcavity\u001b[22m\u001b[0m\u001b[1m(\u001b[22m\u001b[90msource\u001b[39m::\u001b[0mVector\u001b[90m{Tuple{MPEM2{Float64}, Float64, Int64}}\u001b[39m, \u001b[90mop\u001b[39m::\u001b[0mFunction, \u001b[90minit\u001b[39m::\u001b[0mTuple\u001b[90m{MPEM2{Float64}, Float64, Int64}\u001b[39m\u001b[0m\u001b[1m)\u001b[22m\n    \u001b[90m    @ \u001b[39m\u001b[36mCavityTools\u001b[39m \u001b[90m~/.julia/packages/CavityTools/WjGpE/src/\u001b[39m\u001b[90m\u001b[4mcavity.jl:21\u001b[24m\u001b[39m\n     [13] \u001b[0m\u001b[1mcompute_prob_ys\u001b[22m\u001b[0m\u001b[1m(\u001b[22m\u001b[90mwᵢ\u001b[39m::\u001b[0mVector\u001b[90m{SISFactor{Float64}}\u001b[39m, \u001b[90mqi\u001b[39m::\u001b[0mInt64, \u001b[90mμin\u001b[39m::\u001b[0mVector\u001b[90m{MPEM2{Float64}}\u001b[39m, \u001b[90mψout\u001b[39m::\u001b[0mVector\u001b[90m{Vector{Matrix{Float64}}}\u001b[39m, \u001b[90mT\u001b[39m::\u001b[0mInt64, \u001b[90msvd_trunc\u001b[39m::\u001b[0mTruncBond\u001b[0m\u001b[1m)\u001b[22m\n    \u001b[90m    @ \u001b[39m\u001b[35mMatrixProductBP.Models\u001b[39m \u001b[90m~/MatrixProductBP/src/Models/\u001b[39m\u001b[90m\u001b[4mrecursive_bp_factor.jl:106\u001b[24m\u001b[39m\n     [14] \u001b[0m\u001b[1monebpiter!\u001b[22m\u001b[0m\u001b[1m(\u001b[22m\u001b[90mbp\u001b[39m::\u001b[0mMPBP\u001b[90m{IndexedBiDiGraph{Int64}, Float64, Vector{SISFactor{Float64}}}\u001b[39m, \u001b[90mi\u001b[39m::\u001b[0mInt64, ::\u001b[0mType\u001b[90m{SISFactor{Float64}}\u001b[39m; \u001b[90msvd_trunc\u001b[39m::\u001b[0mTruncBond, \u001b[90mdamp\u001b[39m::\u001b[0mFloat64\u001b[0m\u001b[1m)\u001b[22m\n    \u001b[90m    @ \u001b[39m\u001b[35mMatrixProductBP.Models\u001b[39m \u001b[90m~/MatrixProductBP/src/Models/\u001b[39m\u001b[90m\u001b[4mrecursive_bp_factor.jl:119\u001b[24m\u001b[39m\n     [15] \u001b[0m\u001b[1mmacro expansion\u001b[22m\n    \u001b[90m    @ \u001b[39m\u001b[90m~/MatrixProductBP/src/\u001b[39m\u001b[90m\u001b[4mmpbp.jl:178\u001b[24m\u001b[39m\u001b[90m [inlined]\u001b[39m\n     [16] \u001b[0m\u001b[1m(::MatrixProductBP.var\"#582#threadsfor_fun#113\"{MatrixProductBP.var\"#582#threadsfor_fun#112#114\"{TruncBond, Float64, MPBP{IndexedBiDiGraph{Int64}, Float64, Vector{SISFactor{Float64}}}, Vector{Int64}}})\u001b[22m\u001b[0m\u001b[1m(\u001b[22m\u001b[90mtid\u001b[39m::\u001b[0mInt64; \u001b[90monethread\u001b[39m::\u001b[0mBool\u001b[0m\u001b[1m)\u001b[22m\n    \u001b[90m    @ \u001b[39m\u001b[35mMatrixProductBP\u001b[39m \u001b[90m./\u001b[39m\u001b[90m\u001b[4mthreadingconstructs.jl:84\u001b[24m\u001b[39m\n     [17] \u001b[0m\u001b[1m#582#threadsfor_fun\u001b[22m\n    \u001b[90m    @ \u001b[39m\u001b[90m./\u001b[39m\u001b[90m\u001b[4mthreadingconstructs.jl:51\u001b[24m\u001b[39m\u001b[90m [inlined]\u001b[39m\n     [18] \u001b[0m\u001b[1m(::Base.Threads.var\"#1#2\"{MatrixProductBP.var\"#582#threadsfor_fun#113\"{MatrixProductBP.var\"#582#threadsfor_fun#112#114\"{TruncBond, Float64, MPBP{IndexedBiDiGraph{Int64}, Float64, Vector{SISFactor{Float64}}}, Vector{Int64}}}, Int64})\u001b[22m\u001b[0m\u001b[1m(\u001b[22m\u001b[0m\u001b[1m)\u001b[22m\n    \u001b[90m    @ \u001b[39m\u001b[90mBase.Threads\u001b[39m \u001b[90m./\u001b[39m\u001b[90m\u001b[4mthreadingconstructs.jl:30\u001b[24m\u001b[39m",
      "",
      "Stacktrace:",
      " [1] wait",
      "   @ ./task.jl:345 [inlined]",
      " [2] threading_run(fun::MatrixProductBP.var\"#582#threadsfor_fun#113\"{MatrixProductBP.var\"#582#threadsfor_fun#112#114\"{TruncBond, Float64, MPBP{IndexedBiDiGraph{Int64}, Float64, Vector{SISFactor{Float64}}}, Vector{Int64}}}, static::Bool)",
      "   @ Base.Threads ./threadingconstructs.jl:38",
      " [3] macro expansion",
      "   @ ./threadingconstructs.jl:89 [inlined]",
      " [4] iterate!(bp::MPBP{IndexedBiDiGraph{Int64}, Float64, Vector{SISFactor{Float64}}}; maxiter::Int64, svd_trunc::TruncBond, showprogress::Bool, cb::CB_BP{ProgressUnknown, MatrixProductBP.var\"#104#107\"}, tol::Float64, nodes::Vector{Int64}, shuffle_nodes::Bool, damp::Float64)",
      "   @ MatrixProductBP ~/MatrixProductBP/src/mpbp.jl:177",
      " [5] top-level scope",
      "   @ In[9]:9",
      " [6] eval",
      "   @ ./boot.jl:368 [inlined]",
      " [7] include_string(mapexpr::typeof(REPL.softscope), mod::Module, code::String, filename::String)",
      "   @ Base ./loading.jl:1428"
     ]
    }
   ],
   "source": [
    "k = 10\n",
    "svd_trunc = TruncBond(k)   # maximum matrix size for SVD-based truncation\n",
    "maxiter = 100\n",
    "tol = 1e-6\n",
    "\n",
    "# run MPBP\n",
    "reset!(bp)\n",
    "cb = CB_BP(bp)\n",
    "iters, cb = iterate!(bp; cb, svd_trunc, maxiter, tol);"
   ]
  },
  {
   "cell_type": "code",
   "execution_count": 10,
   "metadata": {
    "ExecuteTime": {
     "end_time": "2023-04-27T16:59:16.876000+02:00",
     "start_time": "2023-04-27T14:10:29.483Z"
    }
   },
   "outputs": [
    {
     "ename": "LoadError",
     "evalue": "InterruptException:",
     "output_type": "error",
     "traceback": [
      "InterruptException:",
      "",
      "Stacktrace:",
      " [1] recipe_pipeline!(plt::Any, plotattributes::Any, args::Any)",
      "   @ RecipesPipeline ~/.julia/packages/RecipesPipeline/XxUHt/src/RecipesPipeline.jl:89",
      " [2] _plot!(plt::Plots.Plot, plotattributes::Any, args::Any)",
      "   @ Plots ~/.julia/packages/Plots/jqILG/src/plot.jl:225",
      " [3] #plot#182",
      "   @ ~/.julia/packages/Plots/jqILG/src/plot.jl:102 [inlined]",
      " [4] top-level scope",
      "   @ In[10]:1",
      " [5] eval",
      "   @ ./boot.jl:368 [inlined]",
      " [6] include_string(mapexpr::typeof(REPL.softscope), mod::Module, code::String, filename::String)",
      "   @ Base ./loading.jl:1428"
     ]
    }
   ],
   "source": [
    "plot(cb.Δs, ylabel=\"convergence error\", xlabel=\"iter\", yaxis=:log10, \n",
    "    size=(300,200), label=\"\")"
   ]
  },
  {
   "cell_type": "code",
   "execution_count": 11,
   "metadata": {
    "ExecuteTime": {
     "end_time": "2023-04-27T16:59:17.693000+02:00",
     "start_time": "2023-04-27T14:10:29.485Z"
    }
   },
   "outputs": [
    {
     "ename": "LoadError",
     "evalue": "InterruptException:",
     "output_type": "error",
     "traceback": [
      "InterruptException:",
      "",
      "Stacktrace:",
      " [1] top-level scope",
      "   @ In[11]:2",
      " [2] eval",
      "   @ ./boot.jl:368 [inlined]",
      " [3] include_string(mapexpr::typeof(REPL.softscope), mod::Module, code::String, filename::String)",
      "   @ Base ./loading.jl:1428"
     ]
    }
   ],
   "source": [
    "# compute marginals\n",
    "p_bp = means((x,i)->x-1, bp);"
   ]
  },
  {
   "cell_type": "markdown",
   "metadata": {},
   "source": [
    "## Monte Carlo"
   ]
  },
  {
   "cell_type": "code",
   "execution_count": 12,
   "metadata": {
    "ExecuteTime": {
     "end_time": "2023-04-27T16:59:18.429000+02:00",
     "start_time": "2023-04-27T14:10:29.487Z"
    }
   },
   "outputs": [
    {
     "ename": "LoadError",
     "evalue": "InterruptException:",
     "output_type": "error",
     "traceback": [
      "InterruptException:",
      "",
      "Stacktrace:",
      " [1] top-level scope",
      "   @ In[12]:2",
      " [2] eval",
      "   @ ./boot.jl:368 [inlined]",
      " [3] include_string(mapexpr::typeof(REPL.softscope), mod::Module, code::String, filename::String)",
      "   @ Base ./loading.jl:1428"
     ]
    }
   ],
   "source": [
    "# instantiate Soft Margin sampler\n",
    "sms = SoftMarginSampler(bp);"
   ]
  },
  {
   "cell_type": "code",
   "execution_count": null,
   "metadata": {
    "ExecuteTime": {
     "start_time": "2023-04-27T14:10:29.490Z"
    }
   },
   "outputs": [],
   "source": [
    "# draw samples\n",
    "# re-run this cell (but not the one above!) to draw more samples and refine the estimate\n",
    "rng = MersenneTwister(1)\n",
    "nsamples_mc = 5*10^4\n",
    "sample!(sms, nsamples_mc; rng);"
   ]
  },
  {
   "cell_type": "code",
   "execution_count": 14,
   "metadata": {
    "ExecuteTime": {
     "end_time": "2023-04-27T16:59:18.658000+02:00",
     "start_time": "2023-04-27T14:10:29.492Z"
    }
   },
   "outputs": [
    {
     "ename": "LoadError",
     "evalue": "UndefVarError: sms not defined",
     "output_type": "error",
     "traceback": [
      "UndefVarError: sms not defined",
      "",
      "Stacktrace:",
      " [1] top-level scope",
      "   @ In[14]:1",
      " [2] eval",
      "   @ ./boot.jl:368 [inlined]",
      " [3] include_string(mapexpr::typeof(REPL.softscope), mod::Module, code::String, filename::String)",
      "   @ Base ./loading.jl:1428"
     ]
    }
   ],
   "source": [
    "b_mc = marginals(sms)\n",
    "p_mc = [[value(bb[INFECTED]/sum(bb)) for bb in b] for b in b_mc];"
   ]
  },
  {
   "cell_type": "markdown",
   "metadata": {},
   "source": [
    "### Discretized mean field methods"
   ]
  },
  {
   "cell_type": "code",
   "execution_count": 46,
   "metadata": {
    "ExecuteTime": {
     "end_time": "2023-04-27T17:31:35.725000+02:00",
     "start_time": "2023-04-27T15:31:35.599Z"
    }
   },
   "outputs": [],
   "source": [
    "include(\"meanfield.jl\");\n",
    "fn = \"sis_compare_meanfield\"\n",
    "data = load(\"plot_data/\"*fn*\".jld2\")\n",
    "@unpack T, N, c, λ, ρ, γ, p_bp, p_mc, p_ibmf_disc, p_dmp_disc = data;"
   ]
  },
  {
   "cell_type": "code",
   "execution_count": 47,
   "metadata": {
    "ExecuteTime": {
     "end_time": "2023-04-27T17:31:36.888000+02:00",
     "start_time": "2023-04-27T15:31:35.831Z"
    }
   },
   "outputs": [],
   "source": [
    "p_dmp_disc, = dmp_disc(T, Δt, bp.g, λ, ρ, γ)     \n",
    "p_ibmf_disc = ibmf_disc(T, Δt, bp.g, λ, ρ, γ)\n",
    "p_cme_disc, = cme_disc(T, Δt, bp.g, λ, ρ, γ);"
   ]
  },
  {
   "cell_type": "code",
   "execution_count": 48,
   "metadata": {
    "ExecuteTime": {
     "end_time": "2023-04-27T17:31:36.905000+02:00",
     "start_time": "2023-04-27T15:31:36.039Z"
    }
   },
   "outputs": [
    {
     "data": {
      "text/plain": [
       "(0.9999736025375348, 0.9989129743751288, 0.9911462863410151, 0.9986849512943913)"
      ]
     },
     "execution_count": 48,
     "metadata": {},
     "output_type": "execute_result"
    }
   ],
   "source": [
    "r_bp = cor(reduce(vcat, p_bp), value.(reduce(vcat, p_mc)))\n",
    "r_dmp_disc = cor(reduce(vcat, p_dmp_disc), value.(reduce(vcat, p_mc)))\n",
    "r_ibmf_disc = cor(reduce(vcat, p_ibmf_disc), value.(reduce(vcat, p_mc)))\n",
    "r_cme_disc = cor(reduce(vcat, p_cme_disc), value.(reduce(vcat, p_mc)))\n",
    "r_bp, r_dmp_disc, r_ibmf_disc, r_cme_disc"
   ]
  },
  {
   "cell_type": "code",
   "execution_count": 49,
   "metadata": {
    "ExecuteTime": {
     "end_time": "2023-04-27T17:31:37.011000+02:00",
     "start_time": "2023-04-27T15:31:36.358Z"
    }
   },
   "outputs": [],
   "source": [
    "pl_sc = [(scatter(reduce(vcat, p_mc), reduce(vcat, p), ylabel=xlab, xlabel=\"MonteCarlo\", \n",
    "    label=\"\\$P(x_i=I)\\$\", ms=3, c=:black, legend=:bottomright, titlefontsize=10,\n",
    "            title=\"Pearson=$(round(cor(reduce(vcat, p), value.(reduce(vcat, p_mc))), digits=5))\");\n",
    "        plot!(identity, c=:red, ls=:dash, lw=1)) for (p, xlab) in \n",
    "        zip([p_bp, p_dmp_disc, p_ibmf_disc, p_cme_disc], [\"MPBP\", \"DMP\", \"IBMF\", \"CME\"])]\n",
    "plot(pl_sc..., size=(800,200), margin=5Plots.mm, layout=(1,4));"
   ]
  },
  {
   "cell_type": "code",
   "execution_count": 50,
   "metadata": {
    "ExecuteTime": {
     "end_time": "2023-04-27T17:31:37.617000+02:00",
     "start_time": "2023-04-27T15:31:36.892Z"
    }
   },
   "outputs": [
    {
     "data": {
      "image/svg+xml": [
       "<?xml version=\"1.0\" encoding=\"utf-8\"?>\n",
       "<svg xmlns=\"http://www.w3.org/2000/svg\" xmlns:xlink=\"http://www.w3.org/1999/xlink\" width=\"600\" height=\"400\" viewBox=\"0 0 2400 1600\">\n",
       "<defs>\n",
       "  <clipPath id=\"clip130\">\n",
       "    <rect x=\"0\" y=\"0\" width=\"2400\" height=\"1600\"/>\n",
       "  </clipPath>\n",
       "</defs>\n",
       "<path clip-path=\"url(#clip130)\" d=\"\n",
       "M0 1600 L2400 1600 L2400 0 L0 0  Z\n",
       "  \" fill=\"#ffffff\" fill-rule=\"evenodd\" fill-opacity=\"1\"/>\n",
       "<defs>\n",
       "  <clipPath id=\"clip131\">\n",
       "    <rect x=\"480\" y=\"0\" width=\"1681\" height=\"1600\"/>\n",
       "  </clipPath>\n",
       "</defs>\n",
       "<defs>\n",
       "  <clipPath id=\"clip132\">\n",
       "    <rect x=\"1449\" y=\"47\" width=\"904\" height=\"1377\"/>\n",
       "  </clipPath>\n",
       "</defs>\n",
       "<path clip-path=\"url(#clip130)\" d=\"\n",
       "M219.866 1423.18 L1122.84 1423.18 L1122.84 47.2441 L219.866 47.2441  Z\n",
       "  \" fill=\"#ffffff\" fill-rule=\"evenodd\" fill-opacity=\"1\"/>\n",
       "<defs>\n",
       "  <clipPath id=\"clip133\">\n",
       "    <rect x=\"219\" y=\"47\" width=\"904\" height=\"1377\"/>\n",
       "  </clipPath>\n",
       "</defs>\n",
       "<polyline clip-path=\"url(#clip133)\" style=\"stroke:#000000; stroke-linecap:round; stroke-linejoin:round; stroke-width:2; stroke-opacity:0.1; fill:none\" points=\"\n",
       "  245.422,1423.18 245.422,47.2441 \n",
       "  \"/>\n",
       "<polyline clip-path=\"url(#clip133)\" style=\"stroke:#000000; stroke-linecap:round; stroke-linejoin:round; stroke-width:2; stroke-opacity:0.1; fill:none\" points=\"\n",
       "  415.794,1423.18 415.794,47.2441 \n",
       "  \"/>\n",
       "<polyline clip-path=\"url(#clip133)\" style=\"stroke:#000000; stroke-linecap:round; stroke-linejoin:round; stroke-width:2; stroke-opacity:0.1; fill:none\" points=\"\n",
       "  586.166,1423.18 586.166,47.2441 \n",
       "  \"/>\n",
       "<polyline clip-path=\"url(#clip133)\" style=\"stroke:#000000; stroke-linecap:round; stroke-linejoin:round; stroke-width:2; stroke-opacity:0.1; fill:none\" points=\"\n",
       "  756.538,1423.18 756.538,47.2441 \n",
       "  \"/>\n",
       "<polyline clip-path=\"url(#clip133)\" style=\"stroke:#000000; stroke-linecap:round; stroke-linejoin:round; stroke-width:2; stroke-opacity:0.1; fill:none\" points=\"\n",
       "  926.909,1423.18 926.909,47.2441 \n",
       "  \"/>\n",
       "<polyline clip-path=\"url(#clip133)\" style=\"stroke:#000000; stroke-linecap:round; stroke-linejoin:round; stroke-width:2; stroke-opacity:0.1; fill:none\" points=\"\n",
       "  1097.28,1423.18 1097.28,47.2441 \n",
       "  \"/>\n",
       "<polyline clip-path=\"url(#clip130)\" style=\"stroke:#000000; stroke-linecap:round; stroke-linejoin:round; stroke-width:4; stroke-opacity:1; fill:none\" points=\"\n",
       "  219.866,1423.18 1122.84,1423.18 \n",
       "  \"/>\n",
       "<polyline clip-path=\"url(#clip130)\" style=\"stroke:#000000; stroke-linecap:round; stroke-linejoin:round; stroke-width:4; stroke-opacity:1; fill:none\" points=\"\n",
       "  245.422,1423.18 245.422,1404.28 \n",
       "  \"/>\n",
       "<polyline clip-path=\"url(#clip130)\" style=\"stroke:#000000; stroke-linecap:round; stroke-linejoin:round; stroke-width:4; stroke-opacity:1; fill:none\" points=\"\n",
       "  415.794,1423.18 415.794,1404.28 \n",
       "  \"/>\n",
       "<polyline clip-path=\"url(#clip130)\" style=\"stroke:#000000; stroke-linecap:round; stroke-linejoin:round; stroke-width:4; stroke-opacity:1; fill:none\" points=\"\n",
       "  586.166,1423.18 586.166,1404.28 \n",
       "  \"/>\n",
       "<polyline clip-path=\"url(#clip130)\" style=\"stroke:#000000; stroke-linecap:round; stroke-linejoin:round; stroke-width:4; stroke-opacity:1; fill:none\" points=\"\n",
       "  756.538,1423.18 756.538,1404.28 \n",
       "  \"/>\n",
       "<polyline clip-path=\"url(#clip130)\" style=\"stroke:#000000; stroke-linecap:round; stroke-linejoin:round; stroke-width:4; stroke-opacity:1; fill:none\" points=\"\n",
       "  926.909,1423.18 926.909,1404.28 \n",
       "  \"/>\n",
       "<polyline clip-path=\"url(#clip130)\" style=\"stroke:#000000; stroke-linecap:round; stroke-linejoin:round; stroke-width:4; stroke-opacity:1; fill:none\" points=\"\n",
       "  1097.28,1423.18 1097.28,1404.28 \n",
       "  \"/>\n",
       "<path clip-path=\"url(#clip130)\" d=\"M245.422 1454.1 Q241.811 1454.1 239.982 1457.66 Q238.177 1461.2 238.177 1468.33 Q238.177 1475.44 239.982 1479.01 Q241.811 1482.55 245.422 1482.55 Q249.056 1482.55 250.862 1479.01 Q252.691 1475.44 252.691 1468.33 Q252.691 1461.2 250.862 1457.66 Q249.056 1454.1 245.422 1454.1 M245.422 1450.39 Q251.232 1450.39 254.288 1455 Q257.366 1459.58 257.366 1468.33 Q257.366 1477.06 254.288 1481.67 Q251.232 1486.25 245.422 1486.25 Q239.612 1486.25 236.533 1481.67 Q233.478 1477.06 233.478 1468.33 Q233.478 1459.58 236.533 1455 Q239.612 1450.39 245.422 1450.39 Z\" fill=\"#000000\" fill-rule=\"evenodd\" fill-opacity=\"1\" /><path clip-path=\"url(#clip130)\" d=\"M390.482 1481.64 L398.12 1481.64 L398.12 1455.28 L389.81 1456.95 L389.81 1452.69 L398.074 1451.02 L402.75 1451.02 L402.75 1481.64 L410.389 1481.64 L410.389 1485.58 L390.482 1485.58 L390.482 1481.64 Z\" fill=\"#000000\" fill-rule=\"evenodd\" fill-opacity=\"1\" /><path clip-path=\"url(#clip130)\" d=\"M429.833 1454.1 Q426.222 1454.1 424.393 1457.66 Q422.588 1461.2 422.588 1468.33 Q422.588 1475.44 424.393 1479.01 Q426.222 1482.55 429.833 1482.55 Q433.467 1482.55 435.273 1479.01 Q437.102 1475.44 437.102 1468.33 Q437.102 1461.2 435.273 1457.66 Q433.467 1454.1 429.833 1454.1 M429.833 1450.39 Q435.643 1450.39 438.699 1455 Q441.778 1459.58 441.778 1468.33 Q441.778 1477.06 438.699 1481.67 Q435.643 1486.25 429.833 1486.25 Q424.023 1486.25 420.944 1481.67 Q417.889 1477.06 417.889 1468.33 Q417.889 1459.58 420.944 1455 Q424.023 1450.39 429.833 1450.39 Z\" fill=\"#000000\" fill-rule=\"evenodd\" fill-opacity=\"1\" /><path clip-path=\"url(#clip130)\" d=\"M564.939 1481.64 L581.258 1481.64 L581.258 1485.58 L559.314 1485.58 L559.314 1481.64 Q561.976 1478.89 566.559 1474.26 Q571.166 1469.61 572.346 1468.27 Q574.592 1465.74 575.471 1464.01 Q576.374 1462.25 576.374 1460.56 Q576.374 1457.8 574.43 1456.07 Q572.508 1454.33 569.407 1454.33 Q567.208 1454.33 564.754 1455.09 Q562.323 1455.86 559.546 1457.41 L559.546 1452.69 Q562.37 1451.55 564.823 1450.97 Q567.277 1450.39 569.314 1450.39 Q574.684 1450.39 577.879 1453.08 Q581.073 1455.77 581.073 1460.26 Q581.073 1462.39 580.263 1464.31 Q579.476 1466.2 577.369 1468.8 Q576.791 1469.47 573.689 1472.69 Q570.587 1475.88 564.939 1481.64 Z\" fill=\"#000000\" fill-rule=\"evenodd\" fill-opacity=\"1\" /><path clip-path=\"url(#clip130)\" d=\"M601.073 1454.1 Q597.462 1454.1 595.633 1457.66 Q593.828 1461.2 593.828 1468.33 Q593.828 1475.44 595.633 1479.01 Q597.462 1482.55 601.073 1482.55 Q604.707 1482.55 606.513 1479.01 Q608.342 1475.44 608.342 1468.33 Q608.342 1461.2 606.513 1457.66 Q604.707 1454.1 601.073 1454.1 M601.073 1450.39 Q606.883 1450.39 609.939 1455 Q613.017 1459.58 613.017 1468.33 Q613.017 1477.06 609.939 1481.67 Q606.883 1486.25 601.073 1486.25 Q595.263 1486.25 592.184 1481.67 Q589.129 1477.06 589.129 1468.33 Q589.129 1459.58 592.184 1455 Q595.263 1450.39 601.073 1450.39 Z\" fill=\"#000000\" fill-rule=\"evenodd\" fill-opacity=\"1\" /><path clip-path=\"url(#clip130)\" d=\"M745.38 1466.95 Q748.737 1467.66 750.612 1469.93 Q752.51 1472.2 752.51 1475.53 Q752.51 1480.65 748.991 1483.45 Q745.473 1486.25 738.991 1486.25 Q736.815 1486.25 734.501 1485.81 Q732.209 1485.39 729.755 1484.54 L729.755 1480.02 Q731.7 1481.16 734.015 1481.74 Q736.329 1482.32 738.853 1482.32 Q743.251 1482.32 745.542 1480.58 Q747.857 1478.84 747.857 1475.53 Q747.857 1472.48 745.704 1470.77 Q743.575 1469.03 739.755 1469.03 L735.728 1469.03 L735.728 1465.19 L739.94 1465.19 Q743.39 1465.19 745.218 1463.82 Q747.047 1462.43 747.047 1459.84 Q747.047 1457.18 745.149 1455.77 Q743.274 1454.33 739.755 1454.33 Q737.834 1454.33 735.635 1454.75 Q733.436 1455.16 730.797 1456.04 L730.797 1451.88 Q733.459 1451.14 735.774 1450.77 Q738.112 1450.39 740.172 1450.39 Q745.496 1450.39 748.598 1452.83 Q751.7 1455.23 751.7 1459.35 Q751.7 1462.22 750.056 1464.21 Q748.413 1466.18 745.38 1466.95 Z\" fill=\"#000000\" fill-rule=\"evenodd\" fill-opacity=\"1\" /><path clip-path=\"url(#clip130)\" d=\"M771.375 1454.1 Q767.764 1454.1 765.936 1457.66 Q764.13 1461.2 764.13 1468.33 Q764.13 1475.44 765.936 1479.01 Q767.764 1482.55 771.375 1482.55 Q775.01 1482.55 776.815 1479.01 Q778.644 1475.44 778.644 1468.33 Q778.644 1461.2 776.815 1457.66 Q775.01 1454.1 771.375 1454.1 M771.375 1450.39 Q777.186 1450.39 780.241 1455 Q783.32 1459.58 783.32 1468.33 Q783.32 1477.06 780.241 1481.67 Q777.186 1486.25 771.375 1486.25 Q765.565 1486.25 762.487 1481.67 Q759.431 1477.06 759.431 1468.33 Q759.431 1459.58 762.487 1455 Q765.565 1450.39 771.375 1450.39 Z\" fill=\"#000000\" fill-rule=\"evenodd\" fill-opacity=\"1\" /><path clip-path=\"url(#clip130)\" d=\"M915.081 1455.09 L903.275 1473.54 L915.081 1473.54 L915.081 1455.09 M913.854 1451.02 L919.734 1451.02 L919.734 1473.54 L924.664 1473.54 L924.664 1477.43 L919.734 1477.43 L919.734 1485.58 L915.081 1485.58 L915.081 1477.43 L899.479 1477.43 L899.479 1472.92 L913.854 1451.02 Z\" fill=\"#000000\" fill-rule=\"evenodd\" fill-opacity=\"1\" /><path clip-path=\"url(#clip130)\" d=\"M942.395 1454.1 Q938.784 1454.1 936.956 1457.66 Q935.15 1461.2 935.15 1468.33 Q935.15 1475.44 936.956 1479.01 Q938.784 1482.55 942.395 1482.55 Q946.03 1482.55 947.835 1479.01 Q949.664 1475.44 949.664 1468.33 Q949.664 1461.2 947.835 1457.66 Q946.03 1454.1 942.395 1454.1 M942.395 1450.39 Q948.206 1450.39 951.261 1455 Q954.34 1459.58 954.34 1468.33 Q954.34 1477.06 951.261 1481.67 Q948.206 1486.25 942.395 1486.25 Q936.585 1486.25 933.507 1481.67 Q930.451 1477.06 930.451 1468.33 Q930.451 1459.58 933.507 1455 Q936.585 1450.39 942.395 1450.39 Z\" fill=\"#000000\" fill-rule=\"evenodd\" fill-opacity=\"1\" /><path clip-path=\"url(#clip130)\" d=\"M1071.98 1451.02 L1090.34 1451.02 L1090.34 1454.96 L1076.26 1454.96 L1076.26 1463.43 Q1077.28 1463.08 1078.3 1462.92 Q1079.32 1462.73 1080.34 1462.73 Q1086.12 1462.73 1089.5 1465.9 Q1092.88 1469.08 1092.88 1474.49 Q1092.88 1480.07 1089.41 1483.17 Q1085.94 1486.25 1079.62 1486.25 Q1077.44 1486.25 1075.17 1485.88 Q1072.93 1485.51 1070.52 1484.77 L1070.52 1480.07 Q1072.61 1481.2 1074.83 1481.76 Q1077.05 1482.32 1079.53 1482.32 Q1083.53 1482.32 1085.87 1480.21 Q1088.21 1478.1 1088.21 1474.49 Q1088.21 1470.88 1085.87 1468.77 Q1083.53 1466.67 1079.53 1466.67 Q1077.65 1466.67 1075.78 1467.08 Q1073.92 1467.5 1071.98 1468.38 L1071.98 1451.02 Z\" fill=\"#000000\" fill-rule=\"evenodd\" fill-opacity=\"1\" /><path clip-path=\"url(#clip130)\" d=\"M1112.1 1454.1 Q1108.48 1454.1 1106.66 1457.66 Q1104.85 1461.2 1104.85 1468.33 Q1104.85 1475.44 1106.66 1479.01 Q1108.48 1482.55 1112.1 1482.55 Q1115.73 1482.55 1117.54 1479.01 Q1119.36 1475.44 1119.36 1468.33 Q1119.36 1461.2 1117.54 1457.66 Q1115.73 1454.1 1112.1 1454.1 M1112.1 1450.39 Q1117.91 1450.39 1120.96 1455 Q1124.04 1459.58 1124.04 1468.33 Q1124.04 1477.06 1120.96 1481.67 Q1117.91 1486.25 1112.1 1486.25 Q1106.29 1486.25 1103.21 1481.67 Q1100.15 1477.06 1100.15 1468.33 Q1100.15 1459.58 1103.21 1455 Q1106.29 1450.39 1112.1 1450.39 Z\" fill=\"#000000\" fill-rule=\"evenodd\" fill-opacity=\"1\" /><path clip-path=\"url(#clip130)\" d=\"M610.511 1522.27 L610.511 1532.4 L622.574 1532.4 L622.574 1536.95 L610.511 1536.95 L610.511 1556.3 Q610.511 1560.66 611.689 1561.9 Q612.899 1563.14 616.559 1563.14 L622.574 1563.14 L622.574 1568.04 L616.559 1568.04 Q609.779 1568.04 607.201 1565.53 Q604.623 1562.98 604.623 1556.3 L604.623 1536.95 L600.326 1536.95 L600.326 1532.4 L604.623 1532.4 L604.623 1522.27 L610.511 1522.27 Z\" fill=\"#000000\" fill-rule=\"evenodd\" fill-opacity=\"1\" /><path clip-path=\"url(#clip130)\" d=\"M630.277 1532.4 L636.133 1532.4 L636.133 1568.04 L630.277 1568.04 L630.277 1532.4 M630.277 1518.52 L636.133 1518.52 L636.133 1525.93 L630.277 1525.93 L630.277 1518.52 Z\" fill=\"#000000\" fill-rule=\"evenodd\" fill-opacity=\"1\" /><path clip-path=\"url(#clip130)\" d=\"M676.142 1539.24 Q678.338 1535.29 681.394 1533.41 Q684.449 1531.54 688.587 1531.54 Q694.157 1531.54 697.181 1535.45 Q700.204 1539.33 700.204 1546.53 L700.204 1568.04 L694.316 1568.04 L694.316 1546.72 Q694.316 1541.59 692.502 1539.11 Q690.688 1536.63 686.964 1536.63 Q682.412 1536.63 679.77 1539.65 Q677.129 1542.68 677.129 1547.9 L677.129 1568.04 L671.24 1568.04 L671.24 1546.72 Q671.24 1541.56 669.426 1539.11 Q667.612 1536.63 663.824 1536.63 Q659.336 1536.63 656.695 1539.68 Q654.053 1542.71 654.053 1547.9 L654.053 1568.04 L648.165 1568.04 L648.165 1532.4 L654.053 1532.4 L654.053 1537.93 Q656.058 1534.66 658.859 1533.1 Q661.66 1531.54 665.511 1531.54 Q669.394 1531.54 672.1 1533.51 Q674.837 1535.48 676.142 1539.24 Z\" fill=\"#000000\" fill-rule=\"evenodd\" fill-opacity=\"1\" /><path clip-path=\"url(#clip130)\" d=\"M742.377 1548.76 L742.377 1551.62 L715.45 1551.62 Q715.832 1557.67 719.079 1560.85 Q722.357 1564 728.182 1564 Q731.555 1564 734.706 1563.17 Q737.889 1562.35 741.008 1560.69 L741.008 1566.23 Q737.857 1567.57 734.547 1568.27 Q731.237 1568.97 727.831 1568.97 Q719.301 1568.97 714.304 1564 Q709.339 1559.04 709.339 1550.57 Q709.339 1541.82 714.05 1536.69 Q718.792 1531.54 726.813 1531.54 Q734.006 1531.54 738.176 1536.18 Q742.377 1540.8 742.377 1548.76 M736.521 1547.04 Q736.457 1542.23 733.815 1539.37 Q731.205 1536.5 726.877 1536.5 Q721.975 1536.5 719.015 1539.27 Q716.087 1542.04 715.641 1547.07 L736.521 1547.04 Z\" fill=\"#000000\" fill-rule=\"evenodd\" fill-opacity=\"1\" /><polyline clip-path=\"url(#clip133)\" style=\"stroke:#000000; stroke-linecap:round; stroke-linejoin:round; stroke-width:2; stroke-opacity:0.1; fill:none\" points=\"\n",
       "  219.866,1173.44 1122.84,1173.44 \n",
       "  \"/>\n",
       "<polyline clip-path=\"url(#clip133)\" style=\"stroke:#000000; stroke-linecap:round; stroke-linejoin:round; stroke-width:2; stroke-opacity:0.1; fill:none\" points=\"\n",
       "  219.866,826.041 1122.84,826.041 \n",
       "  \"/>\n",
       "<polyline clip-path=\"url(#clip133)\" style=\"stroke:#000000; stroke-linecap:round; stroke-linejoin:round; stroke-width:2; stroke-opacity:0.1; fill:none\" points=\"\n",
       "  219.866,478.644 1122.84,478.644 \n",
       "  \"/>\n",
       "<polyline clip-path=\"url(#clip133)\" style=\"stroke:#000000; stroke-linecap:round; stroke-linejoin:round; stroke-width:2; stroke-opacity:0.1; fill:none\" points=\"\n",
       "  219.866,131.247 1122.84,131.247 \n",
       "  \"/>\n",
       "<polyline clip-path=\"url(#clip130)\" style=\"stroke:#000000; stroke-linecap:round; stroke-linejoin:round; stroke-width:4; stroke-opacity:1; fill:none\" points=\"\n",
       "  219.866,1423.18 219.866,47.2441 \n",
       "  \"/>\n",
       "<polyline clip-path=\"url(#clip130)\" style=\"stroke:#000000; stroke-linecap:round; stroke-linejoin:round; stroke-width:4; stroke-opacity:1; fill:none\" points=\"\n",
       "  219.866,1173.44 238.764,1173.44 \n",
       "  \"/>\n",
       "<polyline clip-path=\"url(#clip130)\" style=\"stroke:#000000; stroke-linecap:round; stroke-linejoin:round; stroke-width:4; stroke-opacity:1; fill:none\" points=\"\n",
       "  219.866,826.041 238.764,826.041 \n",
       "  \"/>\n",
       "<polyline clip-path=\"url(#clip130)\" style=\"stroke:#000000; stroke-linecap:round; stroke-linejoin:round; stroke-width:4; stroke-opacity:1; fill:none\" points=\"\n",
       "  219.866,478.644 238.764,478.644 \n",
       "  \"/>\n",
       "<polyline clip-path=\"url(#clip130)\" style=\"stroke:#000000; stroke-linecap:round; stroke-linejoin:round; stroke-width:4; stroke-opacity:1; fill:none\" points=\"\n",
       "  219.866,131.247 238.764,131.247 \n",
       "  \"/>\n",
       "<path clip-path=\"url(#clip130)\" d=\"M128.288 1159.24 Q124.677 1159.24 122.848 1162.8 Q121.043 1166.34 121.043 1173.47 Q121.043 1180.58 122.848 1184.14 Q124.677 1187.69 128.288 1187.69 Q131.922 1187.69 133.728 1184.14 Q135.556 1180.58 135.556 1173.47 Q135.556 1166.34 133.728 1162.8 Q131.922 1159.24 128.288 1159.24 M128.288 1155.53 Q134.098 1155.53 137.154 1160.14 Q140.232 1164.72 140.232 1173.47 Q140.232 1182.2 137.154 1186.81 Q134.098 1191.39 128.288 1191.39 Q122.478 1191.39 119.399 1186.81 Q116.343 1182.2 116.343 1173.47 Q116.343 1164.72 119.399 1160.14 Q122.478 1155.53 128.288 1155.53 Z\" fill=\"#000000\" fill-rule=\"evenodd\" fill-opacity=\"1\" /><path clip-path=\"url(#clip130)\" d=\"M148.45 1184.84 L153.334 1184.84 L153.334 1190.72 L148.45 1190.72 L148.45 1184.84 Z\" fill=\"#000000\" fill-rule=\"evenodd\" fill-opacity=\"1\" /><path clip-path=\"url(#clip130)\" d=\"M167.547 1186.78 L183.866 1186.78 L183.866 1190.72 L161.922 1190.72 L161.922 1186.78 Q164.584 1184.03 169.167 1179.4 Q173.774 1174.75 174.954 1173.4 Q177.2 1170.88 178.079 1169.14 Q178.982 1167.38 178.982 1165.69 Q178.982 1162.94 177.038 1161.2 Q175.116 1159.47 172.014 1159.47 Q169.815 1159.47 167.362 1160.23 Q164.931 1161 162.153 1162.55 L162.153 1157.82 Q164.977 1156.69 167.431 1156.11 Q169.885 1155.53 171.922 1155.53 Q177.292 1155.53 180.487 1158.22 Q183.681 1160.9 183.681 1165.39 Q183.681 1167.52 182.871 1169.44 Q182.084 1171.34 179.977 1173.94 Q179.399 1174.61 176.297 1177.82 Q173.195 1181.02 167.547 1186.78 Z\" fill=\"#000000\" fill-rule=\"evenodd\" fill-opacity=\"1\" /><path clip-path=\"url(#clip130)\" d=\"M126.205 811.84 Q122.593 811.84 120.765 815.405 Q118.959 818.946 118.959 826.076 Q118.959 833.182 120.765 836.747 Q122.593 840.289 126.205 840.289 Q129.839 840.289 131.644 836.747 Q133.473 833.182 133.473 826.076 Q133.473 818.946 131.644 815.405 Q129.839 811.84 126.205 811.84 M126.205 808.136 Q132.015 808.136 135.07 812.743 Q138.149 817.326 138.149 826.076 Q138.149 834.803 135.07 839.409 Q132.015 843.992 126.205 843.992 Q120.394 843.992 117.316 839.409 Q114.26 834.803 114.26 826.076 Q114.26 817.326 117.316 812.743 Q120.394 808.136 126.205 808.136 Z\" fill=\"#000000\" fill-rule=\"evenodd\" fill-opacity=\"1\" /><path clip-path=\"url(#clip130)\" d=\"M146.366 837.441 L151.251 837.441 L151.251 843.321 L146.366 843.321 L146.366 837.441 Z\" fill=\"#000000\" fill-rule=\"evenodd\" fill-opacity=\"1\" /><path clip-path=\"url(#clip130)\" d=\"M174.283 812.835 L162.477 831.284 L174.283 831.284 L174.283 812.835 M173.056 808.761 L178.936 808.761 L178.936 831.284 L183.866 831.284 L183.866 835.173 L178.936 835.173 L178.936 843.321 L174.283 843.321 L174.283 835.173 L158.681 835.173 L158.681 830.659 L173.056 808.761 Z\" fill=\"#000000\" fill-rule=\"evenodd\" fill-opacity=\"1\" /><path clip-path=\"url(#clip130)\" d=\"M126.529 464.443 Q122.918 464.443 121.089 468.008 Q119.283 471.549 119.283 478.679 Q119.283 485.785 121.089 489.35 Q122.918 492.892 126.529 492.892 Q130.163 492.892 131.968 489.35 Q133.797 485.785 133.797 478.679 Q133.797 471.549 131.968 468.008 Q130.163 464.443 126.529 464.443 M126.529 460.739 Q132.339 460.739 135.394 465.346 Q138.473 469.929 138.473 478.679 Q138.473 487.406 135.394 492.012 Q132.339 496.596 126.529 496.596 Q120.718 496.596 117.64 492.012 Q114.584 487.406 114.584 478.679 Q114.584 469.929 117.64 465.346 Q120.718 460.739 126.529 460.739 Z\" fill=\"#000000\" fill-rule=\"evenodd\" fill-opacity=\"1\" /><path clip-path=\"url(#clip130)\" d=\"M146.691 490.045 L151.575 490.045 L151.575 495.924 L146.691 495.924 L146.691 490.045 Z\" fill=\"#000000\" fill-rule=\"evenodd\" fill-opacity=\"1\" /><path clip-path=\"url(#clip130)\" d=\"M172.339 476.781 Q169.19 476.781 167.339 478.934 Q165.51 481.086 165.51 484.836 Q165.51 488.563 167.339 490.739 Q169.19 492.892 172.339 492.892 Q175.487 492.892 177.315 490.739 Q179.167 488.563 179.167 484.836 Q179.167 481.086 177.315 478.934 Q175.487 476.781 172.339 476.781 M181.621 462.128 L181.621 466.387 Q179.862 465.554 178.056 465.114 Q176.274 464.674 174.514 464.674 Q169.885 464.674 167.431 467.799 Q165.001 470.924 164.653 477.244 Q166.019 475.23 168.079 474.165 Q170.139 473.077 172.616 473.077 Q177.825 473.077 180.834 476.248 Q183.866 479.397 183.866 484.836 Q183.866 490.16 180.718 493.378 Q177.57 496.596 172.339 496.596 Q166.343 496.596 163.172 492.012 Q160.001 487.406 160.001 478.679 Q160.001 470.485 163.89 465.623 Q167.778 460.739 174.329 460.739 Q176.089 460.739 177.871 461.086 Q179.676 461.434 181.621 462.128 Z\" fill=\"#000000\" fill-rule=\"evenodd\" fill-opacity=\"1\" /><path clip-path=\"url(#clip130)\" d=\"M126.783 117.046 Q123.172 117.046 121.343 120.611 Q119.538 124.153 119.538 131.282 Q119.538 138.389 121.343 141.953 Q123.172 145.495 126.783 145.495 Q130.417 145.495 132.223 141.953 Q134.052 138.389 134.052 131.282 Q134.052 124.153 132.223 120.611 Q130.417 117.046 126.783 117.046 M126.783 113.342 Q132.593 113.342 135.649 117.949 Q138.728 122.532 138.728 131.282 Q138.728 140.009 135.649 144.615 Q132.593 149.199 126.783 149.199 Q120.973 149.199 117.894 144.615 Q114.839 140.009 114.839 131.282 Q114.839 122.532 117.894 117.949 Q120.973 113.342 126.783 113.342 Z\" fill=\"#000000\" fill-rule=\"evenodd\" fill-opacity=\"1\" /><path clip-path=\"url(#clip130)\" d=\"M146.945 142.648 L151.829 142.648 L151.829 148.527 L146.945 148.527 L146.945 142.648 Z\" fill=\"#000000\" fill-rule=\"evenodd\" fill-opacity=\"1\" /><path clip-path=\"url(#clip130)\" d=\"M172.014 132.115 Q168.681 132.115 166.76 133.898 Q164.862 135.68 164.862 138.805 Q164.862 141.93 166.76 143.713 Q168.681 145.495 172.014 145.495 Q175.348 145.495 177.269 143.713 Q179.19 141.907 179.19 138.805 Q179.19 135.68 177.269 133.898 Q175.371 132.115 172.014 132.115 M167.339 130.125 Q164.329 129.384 162.64 127.324 Q160.973 125.264 160.973 122.301 Q160.973 118.157 163.913 115.75 Q166.876 113.342 172.014 113.342 Q177.176 113.342 180.116 115.75 Q183.056 118.157 183.056 122.301 Q183.056 125.264 181.366 127.324 Q179.7 129.384 176.714 130.125 Q180.093 130.912 181.968 133.203 Q183.866 135.495 183.866 138.805 Q183.866 143.828 180.788 146.514 Q177.732 149.199 172.014 149.199 Q166.297 149.199 163.218 146.514 Q160.163 143.828 160.163 138.805 Q160.163 135.495 162.061 133.203 Q163.959 130.912 167.339 130.125 M165.626 122.741 Q165.626 125.426 167.292 126.93 Q168.982 128.435 172.014 128.435 Q175.024 128.435 176.714 126.93 Q178.426 125.426 178.426 122.741 Q178.426 120.055 176.714 118.551 Q175.024 117.046 172.014 117.046 Q168.982 117.046 167.292 118.551 Q165.626 120.055 165.626 122.741 Z\" fill=\"#000000\" fill-rule=\"evenodd\" fill-opacity=\"1\" /><path clip-path=\"url(#clip130)\" d=\"M29.851 840.254 Q33.4581 840.254 36.7753 842.927 Q40.0925 845.568 42.1215 849.883 Q44.1182 854.167 44.1182 858.772 L44.1182 869.98 L60.6076 874.07 Q60.7042 874.102 61.1229 874.199 Q61.5094 874.295 61.7348 874.295 Q62.54 874.295 62.7332 873.297 Q62.9265 872.266 62.9265 869.98 Q62.9265 868.498 63.1841 868.273 Q63.3451 868.144 63.635 868.144 Q64.0859 868.144 64.4079 868.273 Q64.6978 868.402 64.7944 868.659 Q64.891 868.885 64.9232 869.046 Q64.9554 869.207 64.9554 869.465 Q64.9554 870.141 64.891 871.59 Q64.8266 873.007 64.8266 873.748 L64.7622 877.967 L64.9554 886.34 Q64.9554 887.339 64.1503 887.339 Q63.5384 887.339 63.2807 887.081 Q62.9909 886.823 62.9587 886.534 Q62.9265 886.244 62.9265 885.503 Q62.9265 883.893 62.8298 882.927 Q62.7332 881.96 62.6044 881.348 Q62.4434 880.704 61.9925 880.382 Q61.5416 880.028 61.1551 879.867 Q60.7365 879.706 59.8025 879.481 L24.376 870.656 Q23.3132 870.398 23.1522 870.398 Q22.6047 870.398 22.4115 870.721 Q22.186 871.01 22.0894 871.848 Q21.9606 873.458 21.9606 874.682 Q21.9606 875.487 21.9284 875.809 Q21.8962 876.099 21.7352 876.357 Q21.5419 876.582 21.1555 876.582 Q20.5435 876.582 20.2859 876.324 Q19.996 876.035 19.9638 875.712 Q19.8994 875.39 19.8994 874.617 L19.8994 853.233 Q19.8994 847.081 22.8302 843.668 Q25.7609 840.254 29.851 840.254 M28.2729 846.373 Q21.9606 846.373 21.9606 855.358 L21.9606 861.671 Q21.9606 863.764 22.3471 864.279 Q22.7013 864.795 24.4727 865.246 L42.4113 869.722 L42.4113 860.415 Q42.4113 854.167 38.9009 850.27 Q37.2906 848.499 33.9412 847.436 Q30.5918 846.373 28.2729 846.373 Z\" fill=\"#000000\" fill-rule=\"evenodd\" fill-opacity=\"1\" /><path clip-path=\"url(#clip130)\" d=\"M48.466 833.016 Q37.3228 833.016 28.3374 828.862 Q24.5693 827.09 21.4131 824.61 Q18.2569 822.131 16.8721 820.488 Q15.4872 818.846 15.4872 818.395 Q15.4872 817.751 16.1313 817.718 Q16.4534 817.718 17.2585 818.588 Q28.0797 829.216 48.466 829.184 Q68.9167 829.184 79.3192 818.846 Q80.4464 817.718 80.8007 817.718 Q81.4448 817.718 81.4448 818.395 Q81.4448 818.846 80.1244 820.424 Q78.8039 822.002 75.7766 824.449 Q72.7492 826.897 69.0456 828.668 Q60.0601 833.016 48.466 833.016 Z\" fill=\"#000000\" fill-rule=\"evenodd\" fill-opacity=\"1\" /><path clip-path=\"url(#clip130)\" d=\"M40.1569 774.839 Q41.9604 774.839 42.991 775.966 Q43.9894 777.093 43.9894 778.381 Q43.9894 779.605 43.2809 780.249 Q42.5723 780.893 41.6706 780.893 Q40.4468 780.893 39.384 779.992 Q38.3212 779.09 38.0957 777.737 Q37.2584 779.058 37.2584 781.022 Q37.2584 782.311 37.9347 783.438 Q38.611 784.533 39.4806 785.209 Q40.3501 785.853 41.6062 786.433 Q42.83 786.98 43.5707 787.206 Q44.2793 787.399 45.0522 787.56 L54.0698 789.814 Q58.3532 790.909 59.8669 790.909 Q61.7348 790.909 62.9909 790.008 Q64.2147 789.106 64.2147 787.302 Q64.2147 786.594 64.0215 785.789 Q63.796 784.984 63.2163 783.953 Q62.6044 782.89 61.7026 781.956 Q60.7687 780.99 59.1906 780.056 Q57.6125 779.122 55.5835 778.51 Q54.875 778.317 54.875 777.673 Q54.875 776.868 55.5191 776.868 Q56.0666 776.868 57.226 777.319 Q58.3532 777.737 59.8347 778.671 Q61.284 779.573 62.6044 780.765 Q63.8926 781.956 64.7944 783.728 Q65.6962 785.499 65.6962 787.431 Q65.6962 790.201 64.2147 792.037 Q62.7332 793.872 60.672 794.549 Q60.9619 794.71 61.3484 794.935 Q61.7348 795.161 62.6044 795.837 Q63.4417 796.481 64.0859 797.222 Q64.6978 797.963 65.1809 799.122 Q65.6962 800.249 65.6962 801.473 Q65.6962 803.019 65.2453 804.404 Q64.7944 805.756 63.7638 806.723 Q62.7332 807.689 61.3162 807.689 Q59.7381 807.689 58.6431 806.626 Q57.5159 805.531 57.5159 804.049 Q57.5159 803.116 58.0634 802.375 Q58.6109 801.602 59.8025 801.602 Q61.1229 801.602 62.1213 802.504 Q63.1197 803.405 63.3773 804.694 Q64.2147 803.373 64.2147 801.409 Q64.2147 799.283 62.3467 797.608 Q60.4788 795.934 57.3548 795.128 Q49.8509 793.132 46.5015 792.359 Q43.1198 791.586 41.6706 791.586 Q40.3179 791.586 39.384 791.94 Q38.45 792.294 38.0313 792.906 Q37.5804 793.486 37.4194 794.033 Q37.2584 794.549 37.2584 795.128 Q37.2584 796.095 37.6449 797.19 Q38.0313 798.252 38.9331 799.541 Q39.8026 800.797 41.6062 801.988 Q43.4097 803.18 45.8896 803.985 Q46.6303 804.146 46.6303 804.855 Q46.5981 805.628 45.954 805.628 Q45.4065 805.628 44.2793 805.209 Q43.1198 804.758 41.6706 803.856 Q40.2213 802.922 38.9331 801.731 Q37.6126 800.507 36.7109 798.736 Q35.8091 796.932 35.8091 795 Q35.8091 794.13 36.0024 793.293 Q36.1634 792.423 36.6465 791.393 Q37.1296 790.33 38.1924 789.396 Q39.2551 788.462 40.801 787.882 Q40.0603 787.496 39.3518 786.98 Q38.6432 786.433 37.7737 785.596 Q36.8719 784.726 36.3566 783.534 Q35.8091 782.311 35.8091 780.958 Q35.8091 779.637 36.1634 778.349 Q36.4854 777.061 37.5482 775.966 Q38.5788 774.839 40.1569 774.839 Z\" fill=\"#000000\" fill-rule=\"evenodd\" fill-opacity=\"1\" /><path clip-path=\"url(#clip130)\" d=\"M57.6123 768.117 L56.1695 768.117 Q56.1695 762.572 53.2162 759.709 Q53.2162 758.919 53.3966 758.784 Q53.5769 758.649 54.411 758.649 L80.3142 758.649 Q81.6894 758.649 82.1177 757.973 Q82.5461 757.296 82.5461 754.343 L82.5461 752.878 L83.9664 752.878 Q83.8311 754.501 83.8311 760.362 Q83.8311 766.224 83.9664 767.824 L82.5461 767.824 L82.5461 766.359 Q82.5461 763.451 82.1403 762.752 Q81.712 762.053 80.3142 762.053 L56.3949 762.053 Q57.6123 764.465 57.6123 768.117 Z\" fill=\"#000000\" fill-rule=\"evenodd\" fill-opacity=\"1\" /><path clip-path=\"url(#clip130)\" d=\"M24.7655 753.937 Q25.3967 753.937 25.5545 754.23 Q25.6898 754.523 25.6898 755.335 L25.6898 759.663 L39.3064 763.09 Q40.5012 763.361 41.5157 763.361 Q42.6429 763.361 43.1389 763.023 Q43.6349 762.662 43.6349 761.918 Q43.6349 760.452 42.3048 758.874 Q40.9747 757.274 37.7283 755.921 Q37.3 755.741 37.2098 755.651 Q37.0971 755.538 37.0971 755.245 Q37.0971 754.681 37.548 754.681 Q37.7058 754.681 38.4272 754.997 Q39.1486 755.29 40.2082 755.944 Q41.2677 756.575 42.2597 757.409 Q43.2516 758.221 43.973 759.461 Q44.6719 760.7 44.6719 762.031 Q44.6719 763.902 43.4771 765.097 Q42.2822 766.269 40.4111 766.269 Q39.8024 766.269 37.8636 765.795 Q35.9023 765.322 25.6898 762.752 L25.6898 766.832 Q25.6898 767.396 25.6672 767.622 Q25.6447 767.824 25.532 767.982 Q25.3967 768.117 25.1262 768.117 Q24.6978 768.117 24.5175 767.937 Q24.3146 767.757 24.292 767.531 Q24.2469 767.283 24.2469 766.72 L24.2469 762.391 L16.9201 760.588 Q16.1987 760.407 15.7929 759.957 Q15.3646 759.483 15.3195 759.213 Q15.2519 758.942 15.2519 758.739 Q15.2519 758.13 15.59 757.77 Q15.9056 757.409 16.4918 757.409 Q16.8074 757.409 24.2469 759.303 L24.2469 755.245 Q24.2469 754.726 24.2695 754.523 Q24.292 754.298 24.4048 754.118 Q24.5175 753.937 24.7655 753.937 Z\" fill=\"#000000\" fill-rule=\"evenodd\" fill-opacity=\"1\" /><path clip-path=\"url(#clip130)\" d=\"M54.9394 712.87 Q54.1343 712.806 54.1343 711.55 L54.1343 671.131 Q54.1343 669.231 54.875 669.199 Q55.6801 669.199 55.6479 671.002 L55.6479 711.099 Q55.6801 712.87 54.9394 712.87 M42.0571 712.87 Q41.2519 712.87 41.2841 711.485 L41.2841 671.196 Q41.2841 669.231 42.0571 669.199 Q42.7978 669.199 42.7978 670.874 L42.7978 711.55 Q42.7978 712.87 42.0571 712.87 Z\" fill=\"#000000\" fill-rule=\"evenodd\" fill-opacity=\"1\" /><path clip-path=\"url(#clip130)\" d=\"M20.7046 613.222 Q21.3165 613.222 21.6063 613.48 Q21.864 613.705 21.9284 614.059 Q21.9606 614.414 21.9606 615.348 Q21.9606 616.926 22.0894 617.924 Q22.186 618.922 22.3471 619.534 Q22.4759 620.146 22.9268 620.5 Q23.3455 620.823 23.7319 620.984 Q24.1184 621.112 24.9879 621.338 L60.1245 630.162 Q61.1551 630.452 61.6704 630.452 Q62.2179 630.452 62.4434 630.13 Q62.6688 629.808 62.7654 628.777 Q62.9265 627.135 62.9265 625.943 Q62.9265 624.365 63.1519 624.14 Q63.3773 623.979 63.6994 623.979 Q64.2791 623.979 64.6012 624.236 Q64.891 624.494 64.9232 624.719 Q64.9554 624.913 64.9554 625.299 L64.7622 634.124 L64.9554 642.787 Q64.9554 643.753 64.2147 643.753 Q63.7316 643.753 63.474 643.689 Q63.1841 643.592 63.0875 643.27 Q62.9587 642.916 62.9587 642.658 Q62.9265 642.4 62.9265 641.66 Q62.9265 640.339 62.8942 639.47 Q62.8298 638.568 62.6688 637.924 Q62.4756 637.248 62.3145 636.925 Q62.1213 636.571 61.7026 636.314 Q61.2517 636.024 60.8975 635.927 Q60.5432 635.798 59.8025 635.637 L24.2472 626.748 Q23.6675 626.62 23.2166 626.62 Q22.3471 626.62 22.1538 627.65 Q21.9606 628.649 21.9606 631.161 Q21.9606 631.934 21.9284 632.256 Q21.8962 632.545 21.7352 632.803 Q21.5741 633.029 21.2199 633.029 Q20.769 633.029 20.4791 632.9 Q20.1571 632.771 20.0605 632.545 Q19.9638 632.288 19.9316 632.127 Q19.8994 631.966 19.8994 631.708 L20.0927 622.916 L19.8994 614.22 Q19.8994 613.222 20.7046 613.222 Z\" fill=\"#000000\" fill-rule=\"evenodd\" fill-opacity=\"1\" /><path clip-path=\"url(#clip130)\" d=\"M80.8007 608.413 Q80.4786 608.413 79.6735 607.575 Q68.8523 596.947 48.466 596.947 Q28.0153 596.947 17.6772 607.157 Q16.4856 608.413 16.1313 608.413 Q15.4872 608.413 15.4872 607.768 Q15.4872 607.318 16.8077 605.739 Q18.1281 604.129 21.1555 601.714 Q24.1828 599.266 27.8865 597.463 Q36.8719 593.115 48.466 593.115 Q59.6093 593.115 68.5947 597.269 Q72.3628 599.041 75.5189 601.521 Q78.6751 604 80.06 605.643 Q81.4448 607.285 81.4448 607.768 Q81.4448 608.413 80.8007 608.413 Z\" fill=\"#000000\" fill-rule=\"evenodd\" fill-opacity=\"1\" /><polyline clip-path=\"url(#clip133)\" style=\"stroke:#009af9; stroke-linecap:round; stroke-linejoin:round; stroke-width:8; stroke-opacity:1; fill:none\" points=\"\n",
       "  245.422,1381.88 262.459,1350.78 279.496,1315.58 296.534,1273.43 313.571,1221.85 330.608,1158.98 347.645,1084.07 364.682,997.821 381.72,902.588 398.757,802.175 \n",
       "  415.794,701.188 432.831,604.174 449.868,514.827 466.905,435.557 483.943,367.431 500.98,310.409 518.017,263.7 535.054,226.094 552.091,196.231 569.129,172.774 \n",
       "  586.166,154.507 603.203,140.376 620.24,129.504 637.277,121.174 654.314,114.813 671.352,109.968 688.389,106.286 705.426,103.492 722.463,101.374 739.5,99.7714 \n",
       "  756.538,98.5589 773.575,97.6423 790.612,96.9499 807.649,96.4269 824.686,96.0322 841.724,95.7342 858.761,95.5094 875.798,95.3397 892.835,95.2117 909.872,95.1152 \n",
       "  926.909,95.0423 943.947,94.9874 960.984,94.9459 978.021,94.9147 995.058,94.8911 1012.1,94.8732 1029.13,94.8598 1046.17,94.8496 1063.21,94.842 1080.24,94.8362 \n",
       "  1097.28,94.8318 \n",
       "  \"/>\n",
       "<polyline clip-path=\"url(#clip133)\" style=\"stroke:#e26f46; stroke-linecap:round; stroke-linejoin:round; stroke-width:8; stroke-opacity:1; fill:none\" points=\"\n",
       "  245.422,1381.88 262.459,1353.8 279.496,1319.09 296.534,1274.87 313.571,1218.38 330.608,1147.65 347.645,1062.4 364.682,964.739 381.72,859.161 398.757,751.661 \n",
       "  415.794,648.245 432.831,553.631 449.868,470.635 466.905,400.249 483.943,342.115 500.98,295.066 518.017,257.576 535.054,228.055 552.091,205.023 569.129,187.184 \n",
       "  586.166,173.451 603.203,162.934 620.24,154.917 637.277,148.836 654.314,144.246 671.352,140.802 688.389,138.235 705.426,136.338 722.463,134.951 739.5,133.953 \n",
       "  756.538,133.249 773.575,132.768 790.612,132.453 807.649,132.264 824.686,132.168 841.724,132.141 858.761,132.165 875.798,132.224 892.835,132.309 909.872,132.412 \n",
       "  926.909,132.526 943.947,132.648 960.984,132.772 978.021,132.898 995.058,133.023 1012.1,133.146 1029.13,133.266 1046.17,133.383 1063.21,133.495 1080.24,133.603 \n",
       "  1097.28,133.707 \n",
       "  \"/>\n",
       "<polyline clip-path=\"url(#clip133)\" style=\"stroke:#3da44d; stroke-linecap:round; stroke-linejoin:round; stroke-width:8; stroke-opacity:1; fill:none\" points=\"\n",
       "  245.422,1381.88 262.459,1350.78 279.496,1309.31 296.534,1253.72 313.571,1180.55 330.608,1087.94 347.645,977.209 364.682,853.812 381.72,726.482 398.757,604.582 \n",
       "  415.794,495.349 432.831,402.604 449.868,327.065 466.905,267.411 483.943,221.35 500.98,186.354 518.017,160.072 535.054,140.5 552.091,126.011 569.129,115.332 \n",
       "  586.166,107.486 603.203,101.736 620.24,97.5292 637.277,94.4553 654.314,92.2114 671.352,90.5747 688.389,89.3816 705.426,88.5123 722.463,87.879 739.5,87.4179 \n",
       "  756.538,87.0821 773.575,86.8377 790.612,86.6598 807.649,86.5303 824.686,86.436 841.724,86.3675 858.761,86.3176 875.798,86.2812 892.835,86.2548 909.872,86.2356 \n",
       "  926.909,86.2216 943.947,86.2114 960.984,86.204 978.021,86.1986 995.058,86.1946 1012.1,86.1918 1029.13,86.1897 1046.17,86.1882 1063.21,86.1871 1080.24,86.1863 \n",
       "  1097.28,86.1857 \n",
       "  \"/>\n",
       "<polyline clip-path=\"url(#clip133)\" style=\"stroke:#c271d2; stroke-linecap:round; stroke-linejoin:round; stroke-width:8; stroke-opacity:1; fill:none\" points=\"\n",
       "  245.422,1381.88 262.459,1353.8 279.496,1319.02 296.534,1274.5 313.571,1217.24 330.608,1144.92 347.645,1056.9 364.682,955.071 381.72,844.063 398.757,730.384 \n",
       "  415.794,620.798 432.831,520.747 449.868,433.511 466.905,360.232 483.943,300.45 500.98,252.757 518.017,215.345 535.054,186.364 552.091,164.124 569.129,147.173 \n",
       "  586.166,134.317 603.203,124.601 620.24,117.276 637.277,111.763 654.314,107.618 671.352,104.502 688.389,102.16 705.426,100.399 722.463,99.0752 739.5,98.0784 \n",
       "  756.538,97.3273 773.575,96.7608 790.612,96.333 807.649,96.0095 824.686,95.7646 841.724,95.5789 858.761,95.4378 875.798,95.3306 892.835,95.2488 909.872,95.1865 \n",
       "  926.909,95.1388 943.947,95.1023 960.984,95.0743 978.021,95.0528 995.058,95.0362 1012.1,95.0235 1029.13,95.0136 1046.17,95.006 1063.21,95.0001 1080.24,94.9955 \n",
       "  1097.28,94.9919 \n",
       "  \"/>\n",
       "<path clip-path=\"url(#clip133)\" d=\"M245.422 1378.24 L239.422 1384.24 L245.422 1390.24 L251.422 1384.24 L245.422 1378.24 Z\" fill=\"#000000\" fill-rule=\"evenodd\" fill-opacity=\"1\" stroke=\"none\"/>\n",
       "<path clip-path=\"url(#clip133)\" d=\"M262.459 1346.52 L256.459 1352.52 L262.459 1358.52 L268.459 1352.52 L262.459 1346.52 Z\" fill=\"#000000\" fill-rule=\"evenodd\" fill-opacity=\"1\" stroke=\"none\"/>\n",
       "<path clip-path=\"url(#clip133)\" d=\"M279.496 1311.43 L273.496 1317.43 L279.496 1323.43 L285.496 1317.43 L279.496 1311.43 Z\" fill=\"#000000\" fill-rule=\"evenodd\" fill-opacity=\"1\" stroke=\"none\"/>\n",
       "<path clip-path=\"url(#clip133)\" d=\"M296.534 1268.15 L290.534 1274.15 L296.534 1280.15 L302.534 1274.15 L296.534 1268.15 Z\" fill=\"#000000\" fill-rule=\"evenodd\" fill-opacity=\"1\" stroke=\"none\"/>\n",
       "<path clip-path=\"url(#clip133)\" d=\"M313.571 1216.84 L307.571 1222.84 L313.571 1228.84 L319.571 1222.84 L313.571 1216.84 Z\" fill=\"#000000\" fill-rule=\"evenodd\" fill-opacity=\"1\" stroke=\"none\"/>\n",
       "<path clip-path=\"url(#clip133)\" d=\"M330.608 1154.41 L324.608 1160.41 L330.608 1166.41 L336.608 1160.41 L330.608 1154.41 Z\" fill=\"#000000\" fill-rule=\"evenodd\" fill-opacity=\"1\" stroke=\"none\"/>\n",
       "<path clip-path=\"url(#clip133)\" d=\"M347.645 1078.89 L341.645 1084.89 L347.645 1090.89 L353.645 1084.89 L347.645 1078.89 Z\" fill=\"#000000\" fill-rule=\"evenodd\" fill-opacity=\"1\" stroke=\"none\"/>\n",
       "<path clip-path=\"url(#clip133)\" d=\"M364.682 990.856 L358.682 996.856 L364.682 1002.86 L370.682 996.856 L364.682 990.856 Z\" fill=\"#000000\" fill-rule=\"evenodd\" fill-opacity=\"1\" stroke=\"none\"/>\n",
       "<path clip-path=\"url(#clip133)\" d=\"M381.72 895.183 L375.72 901.183 L381.72 907.183 L387.72 901.183 L381.72 895.183 Z\" fill=\"#000000\" fill-rule=\"evenodd\" fill-opacity=\"1\" stroke=\"none\"/>\n",
       "<path clip-path=\"url(#clip133)\" d=\"M398.757 795.584 L392.757 801.584 L398.757 807.584 L404.757 801.584 L398.757 795.584 Z\" fill=\"#000000\" fill-rule=\"evenodd\" fill-opacity=\"1\" stroke=\"none\"/>\n",
       "<path clip-path=\"url(#clip133)\" d=\"M415.794 694.735 L409.794 700.735 L415.794 706.735 L421.794 700.735 L415.794 694.735 Z\" fill=\"#000000\" fill-rule=\"evenodd\" fill-opacity=\"1\" stroke=\"none\"/>\n",
       "<path clip-path=\"url(#clip133)\" d=\"M432.831 597.012 L426.831 603.012 L432.831 609.012 L438.831 603.012 L432.831 597.012 Z\" fill=\"#000000\" fill-rule=\"evenodd\" fill-opacity=\"1\" stroke=\"none\"/>\n",
       "<path clip-path=\"url(#clip133)\" d=\"M449.868 510.441 L443.868 516.441 L449.868 522.441 L455.868 516.441 L449.868 510.441 Z\" fill=\"#000000\" fill-rule=\"evenodd\" fill-opacity=\"1\" stroke=\"none\"/>\n",
       "<path clip-path=\"url(#clip133)\" d=\"M466.905 429.081 L460.905 435.081 L466.905 441.081 L472.905 435.081 L466.905 429.081 Z\" fill=\"#000000\" fill-rule=\"evenodd\" fill-opacity=\"1\" stroke=\"none\"/>\n",
       "<path clip-path=\"url(#clip133)\" d=\"M483.943 363.84 L477.943 369.84 L483.943 375.84 L489.943 369.84 L483.943 363.84 Z\" fill=\"#000000\" fill-rule=\"evenodd\" fill-opacity=\"1\" stroke=\"none\"/>\n",
       "<path clip-path=\"url(#clip133)\" d=\"M500.98 302.871 L494.98 308.871 L500.98 314.871 L506.98 308.871 L500.98 302.871 Z\" fill=\"#000000\" fill-rule=\"evenodd\" fill-opacity=\"1\" stroke=\"none\"/>\n",
       "<path clip-path=\"url(#clip133)\" d=\"M518.017 258.092 L512.017 264.092 L518.017 270.092 L524.017 264.092 L518.017 258.092 Z\" fill=\"#000000\" fill-rule=\"evenodd\" fill-opacity=\"1\" stroke=\"none\"/>\n",
       "<path clip-path=\"url(#clip133)\" d=\"M535.054 222.032 L529.054 228.032 L535.054 234.032 L541.054 228.032 L535.054 222.032 Z\" fill=\"#000000\" fill-rule=\"evenodd\" fill-opacity=\"1\" stroke=\"none\"/>\n",
       "<path clip-path=\"url(#clip133)\" d=\"M552.091 188.3 L546.091 194.3 L552.091 200.3 L558.091 194.3 L552.091 188.3 Z\" fill=\"#000000\" fill-rule=\"evenodd\" fill-opacity=\"1\" stroke=\"none\"/>\n",
       "<path clip-path=\"url(#clip133)\" d=\"M569.129 161.933 L563.129 167.933 L569.129 173.933 L575.129 167.933 L569.129 161.933 Z\" fill=\"#000000\" fill-rule=\"evenodd\" fill-opacity=\"1\" stroke=\"none\"/>\n",
       "<path clip-path=\"url(#clip133)\" d=\"M586.166 147.967 L580.166 153.967 L586.166 159.967 L592.166 153.967 L586.166 147.967 Z\" fill=\"#000000\" fill-rule=\"evenodd\" fill-opacity=\"1\" stroke=\"none\"/>\n",
       "<path clip-path=\"url(#clip133)\" d=\"M603.203 135.322 L597.203 141.322 L603.203 147.322 L609.203 141.322 L603.203 135.322 Z\" fill=\"#000000\" fill-rule=\"evenodd\" fill-opacity=\"1\" stroke=\"none\"/>\n",
       "<path clip-path=\"url(#clip133)\" d=\"M620.24 121.565 L614.24 127.565 L620.24 133.565 L626.24 127.565 L620.24 121.565 Z\" fill=\"#000000\" fill-rule=\"evenodd\" fill-opacity=\"1\" stroke=\"none\"/>\n",
       "<path clip-path=\"url(#clip133)\" d=\"M637.277 117.188 L631.277 123.188 L637.277 129.188 L643.277 123.188 L637.277 117.188 Z\" fill=\"#000000\" fill-rule=\"evenodd\" fill-opacity=\"1\" stroke=\"none\"/>\n",
       "<path clip-path=\"url(#clip133)\" d=\"M654.314 108.816 L648.314 114.816 L654.314 120.816 L660.314 114.816 L654.314 108.816 Z\" fill=\"#000000\" fill-rule=\"evenodd\" fill-opacity=\"1\" stroke=\"none\"/>\n",
       "<path clip-path=\"url(#clip133)\" d=\"M671.352 103.744 L665.352 109.744 L671.352 115.744 L677.352 109.744 L671.352 103.744 Z\" fill=\"#000000\" fill-rule=\"evenodd\" fill-opacity=\"1\" stroke=\"none\"/>\n",
       "<path clip-path=\"url(#clip133)\" d=\"M688.389 99.4706 L682.389 105.471 L688.389 111.471 L694.389 105.471 L688.389 99.4706 Z\" fill=\"#000000\" fill-rule=\"evenodd\" fill-opacity=\"1\" stroke=\"none\"/>\n",
       "<path clip-path=\"url(#clip133)\" d=\"M705.426 95.0934 L699.426 101.093 L705.426 107.093 L711.426 101.093 L705.426 95.0934 Z\" fill=\"#000000\" fill-rule=\"evenodd\" fill-opacity=\"1\" stroke=\"none\"/>\n",
       "<path clip-path=\"url(#clip133)\" d=\"M722.463 90.7162 L716.463 96.7162 L722.463 102.716 L728.463 96.7162 L722.463 90.7162 Z\" fill=\"#000000\" fill-rule=\"evenodd\" fill-opacity=\"1\" stroke=\"none\"/>\n",
       "<path clip-path=\"url(#clip133)\" d=\"M739.5 91.6542 L733.5 97.6542 L739.5 103.654 L745.5 97.6542 L739.5 91.6542 Z\" fill=\"#000000\" fill-rule=\"evenodd\" fill-opacity=\"1\" stroke=\"none\"/>\n",
       "<path clip-path=\"url(#clip133)\" d=\"M756.538 92.4184 L750.538 98.4184 L756.538 104.418 L762.538 98.4184 L756.538 92.4184 Z\" fill=\"#000000\" fill-rule=\"evenodd\" fill-opacity=\"1\" stroke=\"none\"/>\n",
       "<path clip-path=\"url(#clip133)\" d=\"M773.575 92.1405 L767.575 98.1405 L773.575 104.141 L779.575 98.1405 L773.575 92.1405 Z\" fill=\"#000000\" fill-rule=\"evenodd\" fill-opacity=\"1\" stroke=\"none\"/>\n",
       "<path clip-path=\"url(#clip133)\" d=\"M790.612 89.3961 L784.612 95.3961 L790.612 101.396 L796.612 95.3961 L790.612 89.3961 Z\" fill=\"#000000\" fill-rule=\"evenodd\" fill-opacity=\"1\" stroke=\"none\"/>\n",
       "<path clip-path=\"url(#clip133)\" d=\"M807.649 89.5003 L801.649 95.5003 L807.649 101.5 L813.649 95.5003 L807.649 89.5003 Z\" fill=\"#000000\" fill-rule=\"evenodd\" fill-opacity=\"1\" stroke=\"none\"/>\n",
       "<path clip-path=\"url(#clip133)\" d=\"M824.686 90.1256 L818.686 96.1256 L824.686 102.126 L830.686 96.1256 L824.686 90.1256 Z\" fill=\"#000000\" fill-rule=\"evenodd\" fill-opacity=\"1\" stroke=\"none\"/>\n",
       "<path clip-path=\"url(#clip133)\" d=\"M841.724 95.545 L835.724 101.545 L841.724 107.545 L847.724 101.545 L841.724 95.545 Z\" fill=\"#000000\" fill-rule=\"evenodd\" fill-opacity=\"1\" stroke=\"none\"/>\n",
       "<path clip-path=\"url(#clip133)\" d=\"M858.761 92.1752 L852.761 98.1752 L858.761 104.175 L864.761 98.1752 L858.761 92.1752 Z\" fill=\"#000000\" fill-rule=\"evenodd\" fill-opacity=\"1\" stroke=\"none\"/>\n",
       "<path clip-path=\"url(#clip133)\" d=\"M875.798 91.8279 L869.798 97.8279 L875.798 103.828 L881.798 97.8279 L875.798 91.8279 Z\" fill=\"#000000\" fill-rule=\"evenodd\" fill-opacity=\"1\" stroke=\"none\"/>\n",
       "<path clip-path=\"url(#clip133)\" d=\"M892.835 93.2174 L886.835 99.2174 L892.835 105.217 L898.835 99.2174 L892.835 93.2174 Z\" fill=\"#000000\" fill-rule=\"evenodd\" fill-opacity=\"1\" stroke=\"none\"/>\n",
       "<path clip-path=\"url(#clip133)\" d=\"M909.872 93.009 L903.872 99.009 L909.872 105.009 L915.872 99.009 L909.872 93.009 Z\" fill=\"#000000\" fill-rule=\"evenodd\" fill-opacity=\"1\" stroke=\"none\"/>\n",
       "<path clip-path=\"url(#clip133)\" d=\"M926.909 92.87 L920.909 98.87 L926.909 104.87 L932.909 98.87 L926.909 92.87 Z\" fill=\"#000000\" fill-rule=\"evenodd\" fill-opacity=\"1\" stroke=\"none\"/>\n",
       "<path clip-path=\"url(#clip133)\" d=\"M943.947 94.9197 L937.947 100.92 L943.947 106.92 L949.947 100.92 L943.947 94.9197 Z\" fill=\"#000000\" fill-rule=\"evenodd\" fill-opacity=\"1\" stroke=\"none\"/>\n",
       "<path clip-path=\"url(#clip133)\" d=\"M960.984 93.3911 L954.984 99.3911 L960.984 105.391 L966.984 99.3911 L960.984 93.3911 Z\" fill=\"#000000\" fill-rule=\"evenodd\" fill-opacity=\"1\" stroke=\"none\"/>\n",
       "<path clip-path=\"url(#clip133)\" d=\"M978.021 90.0561 L972.021 96.0561 L978.021 102.056 L984.021 96.0561 L978.021 90.0561 Z\" fill=\"#000000\" fill-rule=\"evenodd\" fill-opacity=\"1\" stroke=\"none\"/>\n",
       "<path clip-path=\"url(#clip133)\" d=\"M995.058 86.2695 L989.058 92.2695 L995.058 98.2695 L1001.06 92.2695 L995.058 86.2695 Z\" fill=\"#000000\" fill-rule=\"evenodd\" fill-opacity=\"1\" stroke=\"none\"/>\n",
       "<path clip-path=\"url(#clip133)\" d=\"M1012.1 90.2993 L1006.1 96.2993 L1012.1 102.299 L1018.1 96.2993 L1012.1 90.2993 Z\" fill=\"#000000\" fill-rule=\"evenodd\" fill-opacity=\"1\" stroke=\"none\"/>\n",
       "<path clip-path=\"url(#clip133)\" d=\"M1029.13 88.5971 L1023.13 94.5971 L1029.13 100.597 L1035.13 94.5971 L1029.13 88.5971 Z\" fill=\"#000000\" fill-rule=\"evenodd\" fill-opacity=\"1\" stroke=\"none\"/>\n",
       "<path clip-path=\"url(#clip133)\" d=\"M1046.17 88.9445 L1040.17 94.9445 L1046.17 100.944 L1052.17 94.9445 L1046.17 88.9445 Z\" fill=\"#000000\" fill-rule=\"evenodd\" fill-opacity=\"1\" stroke=\"none\"/>\n",
       "<path clip-path=\"url(#clip133)\" d=\"M1063.21 90.2298 L1057.21 96.2298 L1063.21 102.23 L1069.21 96.2298 L1063.21 90.2298 Z\" fill=\"#000000\" fill-rule=\"evenodd\" fill-opacity=\"1\" stroke=\"none\"/>\n",
       "<path clip-path=\"url(#clip133)\" d=\"M1080.24 88.7708 L1074.24 94.7708 L1080.24 100.771 L1086.24 94.7708 L1080.24 88.7708 Z\" fill=\"#000000\" fill-rule=\"evenodd\" fill-opacity=\"1\" stroke=\"none\"/>\n",
       "<path clip-path=\"url(#clip133)\" d=\"M1097.28 90.5772 L1091.28 96.5772 L1097.28 102.577 L1103.28 96.5772 L1097.28 90.5772 Z\" fill=\"#000000\" fill-rule=\"evenodd\" fill-opacity=\"1\" stroke=\"none\"/>\n",
       "<path clip-path=\"url(#clip130)\" d=\"\n",
       "M868.08 1377.32 L1092.74 1377.32 L1092.74 1066.28 L868.08 1066.28  Z\n",
       "  \" fill=\"#ffffff\" fill-rule=\"evenodd\" fill-opacity=\"1\"/>\n",
       "<polyline clip-path=\"url(#clip130)\" style=\"stroke:#000000; stroke-linecap:round; stroke-linejoin:round; stroke-width:4; stroke-opacity:1; fill:none\" points=\"\n",
       "  868.08,1377.32 1092.74,1377.32 1092.74,1066.28 868.08,1066.28 868.08,1377.32 \n",
       "  \"/>\n",
       "<polyline clip-path=\"url(#clip130)\" style=\"stroke:#009af9; stroke-linecap:round; stroke-linejoin:round; stroke-width:4; stroke-opacity:1; fill:none\" points=\"\n",
       "  878.113,1118.12 938.311,1118.12 \n",
       "  \"/>\n",
       "<path clip-path=\"url(#clip130)\" d=\"M948.344 1100.84 L955.312 1100.84 L964.131 1124.35 L972.997 1100.84 L979.964 1100.84 L979.964 1135.4 L975.404 1135.4 L975.404 1105.05 L966.492 1128.75 L961.793 1128.75 L952.881 1105.05 L952.881 1135.4 L948.344 1135.4 L948.344 1100.84 Z\" fill=\"#000000\" fill-rule=\"evenodd\" fill-opacity=\"1\" /><path clip-path=\"url(#clip130)\" d=\"M993.922 1104.68 L993.922 1117.66 L999.802 1117.66 Q1003.07 1117.66 1004.85 1115.97 Q1006.63 1114.28 1006.63 1111.16 Q1006.63 1108.06 1004.85 1106.37 Q1003.07 1104.68 999.802 1104.68 L993.922 1104.68 M989.247 1100.84 L999.802 1100.84 Q1005.61 1100.84 1008.58 1103.47 Q1011.56 1106.09 1011.56 1111.16 Q1011.56 1116.28 1008.58 1118.89 Q1005.61 1121.51 999.802 1121.51 L993.922 1121.51 L993.922 1135.4 L989.247 1135.4 L989.247 1100.84 Z\" fill=\"#000000\" fill-rule=\"evenodd\" fill-opacity=\"1\" /><path clip-path=\"url(#clip130)\" d=\"M1022.51 1118.89 L1022.51 1131.55 L1030.01 1131.55 Q1033.78 1131.55 1035.59 1130 Q1037.42 1128.43 1037.42 1125.21 Q1037.42 1121.97 1035.59 1120.44 Q1033.78 1118.89 1030.01 1118.89 L1022.51 1118.89 M1022.51 1104.68 L1022.51 1115.09 L1029.43 1115.09 Q1032.86 1115.09 1034.52 1113.82 Q1036.21 1112.53 1036.21 1109.89 Q1036.21 1107.27 1034.52 1105.97 Q1032.86 1104.68 1029.43 1104.68 L1022.51 1104.68 M1017.83 1100.84 L1029.78 1100.84 Q1035.13 1100.84 1038.02 1103.06 Q1040.91 1105.28 1040.91 1109.38 Q1040.91 1112.55 1039.43 1114.42 Q1037.95 1116.3 1035.08 1116.76 Q1038.53 1117.5 1040.43 1119.86 Q1042.35 1122.2 1042.35 1125.72 Q1042.35 1130.35 1039.2 1132.87 Q1036.05 1135.4 1030.24 1135.4 L1017.83 1135.4 L1017.83 1100.84 Z\" fill=\"#000000\" fill-rule=\"evenodd\" fill-opacity=\"1\" /><path clip-path=\"url(#clip130)\" d=\"M1055.03 1104.68 L1055.03 1117.66 L1060.91 1117.66 Q1064.18 1117.66 1065.96 1115.97 Q1067.74 1114.28 1067.74 1111.16 Q1067.74 1108.06 1065.96 1106.37 Q1064.18 1104.68 1060.91 1104.68 L1055.03 1104.68 M1050.36 1100.84 L1060.91 1100.84 Q1066.72 1100.84 1069.69 1103.47 Q1072.67 1106.09 1072.67 1111.16 Q1072.67 1116.28 1069.69 1118.89 Q1066.72 1121.51 1060.91 1121.51 L1055.03 1121.51 L1055.03 1135.4 L1050.36 1135.4 L1050.36 1100.84 Z\" fill=\"#000000\" fill-rule=\"evenodd\" fill-opacity=\"1\" /><polyline clip-path=\"url(#clip130)\" style=\"stroke:#e26f46; stroke-linecap:round; stroke-linejoin:round; stroke-width:4; stroke-opacity:1; fill:none\" points=\"\n",
       "  878.113,1169.96 938.311,1169.96 \n",
       "  \"/>\n",
       "<path clip-path=\"url(#clip130)\" d=\"M953.02 1156.52 L953.02 1183.39 L958.668 1183.39 Q965.821 1183.39 969.131 1180.15 Q972.464 1176.91 972.464 1169.92 Q972.464 1162.98 969.131 1159.76 Q965.821 1156.52 958.668 1156.52 L953.02 1156.52 M948.344 1152.68 L957.95 1152.68 Q967.997 1152.68 972.696 1156.87 Q977.395 1161.03 977.395 1169.92 Q977.395 1178.86 972.673 1183.05 Q967.95 1187.24 957.95 1187.24 L948.344 1187.24 L948.344 1152.68 Z\" fill=\"#000000\" fill-rule=\"evenodd\" fill-opacity=\"1\" /><path clip-path=\"url(#clip130)\" d=\"M984.848 1152.68 L991.816 1152.68 L1000.64 1176.19 L1009.5 1152.68 L1016.47 1152.68 L1016.47 1187.24 L1011.91 1187.24 L1011.91 1156.89 L1003 1180.59 L998.297 1180.59 L989.385 1156.89 L989.385 1187.24 L984.848 1187.24 L984.848 1152.68 Z\" fill=\"#000000\" fill-rule=\"evenodd\" fill-opacity=\"1\" /><path clip-path=\"url(#clip130)\" d=\"M1030.43 1156.52 L1030.43 1169.5 L1036.31 1169.5 Q1039.57 1169.5 1041.35 1167.81 Q1043.14 1166.12 1043.14 1163 Q1043.14 1159.9 1041.35 1158.21 Q1039.57 1156.52 1036.31 1156.52 L1030.43 1156.52 M1025.75 1152.68 L1036.31 1152.68 Q1042.12 1152.68 1045.08 1155.31 Q1048.07 1157.93 1048.07 1163 Q1048.07 1168.12 1045.08 1170.73 Q1042.12 1173.35 1036.31 1173.35 L1030.43 1173.35 L1030.43 1187.24 L1025.75 1187.24 L1025.75 1152.68 Z\" fill=\"#000000\" fill-rule=\"evenodd\" fill-opacity=\"1\" /><polyline clip-path=\"url(#clip130)\" style=\"stroke:#3da44d; stroke-linecap:round; stroke-linejoin:round; stroke-width:4; stroke-opacity:1; fill:none\" points=\"\n",
       "  878.113,1221.8 938.311,1221.8 \n",
       "  \"/>\n",
       "<path clip-path=\"url(#clip130)\" d=\"M948.344 1204.52 L953.02 1204.52 L953.02 1239.08 L948.344 1239.08 L948.344 1204.52 Z\" fill=\"#000000\" fill-rule=\"evenodd\" fill-opacity=\"1\" /><path clip-path=\"url(#clip130)\" d=\"M967.001 1222.57 L967.001 1235.23 L974.501 1235.23 Q978.274 1235.23 980.08 1233.68 Q981.909 1232.11 981.909 1228.89 Q981.909 1225.65 980.08 1224.12 Q978.274 1222.57 974.501 1222.57 L967.001 1222.57 M967.001 1208.36 L967.001 1218.77 L973.923 1218.77 Q977.348 1218.77 979.015 1217.5 Q980.705 1216.21 980.705 1213.57 Q980.705 1210.95 979.015 1209.65 Q977.348 1208.36 973.923 1208.36 L967.001 1208.36 M962.325 1204.52 L974.27 1204.52 Q979.617 1204.52 982.51 1206.74 Q985.404 1208.96 985.404 1213.06 Q985.404 1216.23 983.923 1218.1 Q982.441 1219.98 979.571 1220.44 Q983.02 1221.18 984.918 1223.54 Q986.839 1225.88 986.839 1229.4 Q986.839 1234.03 983.691 1236.55 Q980.543 1239.08 974.733 1239.08 L962.325 1239.08 L962.325 1204.52 Z\" fill=\"#000000\" fill-rule=\"evenodd\" fill-opacity=\"1\" /><path clip-path=\"url(#clip130)\" d=\"M994.848 1204.52 L1001.82 1204.52 L1010.64 1228.03 L1019.5 1204.52 L1026.47 1204.52 L1026.47 1239.08 L1021.91 1239.08 L1021.91 1208.73 L1013 1232.43 L1008.3 1232.43 L999.385 1208.73 L999.385 1239.08 L994.848 1239.08 L994.848 1204.52 Z\" fill=\"#000000\" fill-rule=\"evenodd\" fill-opacity=\"1\" /><path clip-path=\"url(#clip130)\" d=\"M1035.75 1204.52 L1055.61 1204.52 L1055.61 1208.45 L1040.43 1208.45 L1040.43 1218.64 L1054.13 1218.64 L1054.13 1222.57 L1040.43 1222.57 L1040.43 1239.08 L1035.75 1239.08 L1035.75 1204.52 Z\" fill=\"#000000\" fill-rule=\"evenodd\" fill-opacity=\"1\" /><polyline clip-path=\"url(#clip130)\" style=\"stroke:#c271d2; stroke-linecap:round; stroke-linejoin:round; stroke-width:4; stroke-opacity:1; fill:none\" points=\"\n",
       "  878.113,1273.64 938.311,1273.64 \n",
       "  \"/>\n",
       "<path clip-path=\"url(#clip130)\" d=\"M976.214 1259.02 L976.214 1263.95 Q973.853 1261.75 971.168 1260.66 Q968.506 1259.57 965.497 1259.57 Q959.571 1259.57 956.423 1263.21 Q953.275 1266.82 953.275 1273.67 Q953.275 1280.5 956.423 1284.13 Q959.571 1287.74 965.497 1287.74 Q968.506 1287.74 971.168 1286.66 Q973.853 1285.57 976.214 1283.37 L976.214 1288.25 Q973.761 1289.92 971.006 1290.75 Q968.274 1291.59 965.219 1291.59 Q957.372 1291.59 952.858 1286.79 Q948.344 1281.98 948.344 1273.67 Q948.344 1265.34 952.858 1260.55 Q957.372 1255.73 965.219 1255.73 Q968.321 1255.73 971.052 1256.56 Q973.807 1257.37 976.214 1259.02 Z\" fill=\"#000000\" fill-rule=\"evenodd\" fill-opacity=\"1\" /><path clip-path=\"url(#clip130)\" d=\"M983.436 1256.36 L990.404 1256.36 L999.223 1279.87 L1008.09 1256.36 L1015.06 1256.36 L1015.06 1290.92 L1010.5 1290.92 L1010.5 1260.57 L1001.58 1284.27 L996.885 1284.27 L987.973 1260.57 L987.973 1290.92 L983.436 1290.92 L983.436 1256.36 Z\" fill=\"#000000\" fill-rule=\"evenodd\" fill-opacity=\"1\" /><path clip-path=\"url(#clip130)\" d=\"M1024.34 1256.36 L1046.19 1256.36 L1046.19 1260.29 L1029.01 1260.29 L1029.01 1270.52 L1045.47 1270.52 L1045.47 1274.46 L1029.01 1274.46 L1029.01 1286.98 L1046.61 1286.98 L1046.61 1290.92 L1024.34 1290.92 L1024.34 1256.36 Z\" fill=\"#000000\" fill-rule=\"evenodd\" fill-opacity=\"1\" /><path clip-path=\"url(#clip130)\" d=\"M908.212 1299.88 L882.612 1325.48 L908.212 1351.08 L933.812 1325.48 L908.212 1299.88 Z\" fill=\"#000000\" fill-rule=\"evenodd\" fill-opacity=\"1\" stroke=\"none\"/>\n",
       "<path clip-path=\"url(#clip130)\" d=\"M948.344 1308.2 L955.312 1308.2 L964.131 1331.71 L972.997 1308.2 L979.964 1308.2 L979.964 1342.76 L975.404 1342.76 L975.404 1312.41 L966.492 1336.11 L961.793 1336.11 L952.881 1312.41 L952.881 1342.76 L948.344 1342.76 L948.344 1308.2 Z\" fill=\"#000000\" fill-rule=\"evenodd\" fill-opacity=\"1\" /><path clip-path=\"url(#clip130)\" d=\"M1015.13 1310.86 L1015.13 1315.79 Q1012.76 1313.59 1010.08 1312.5 Q1007.42 1311.41 1004.41 1311.41 Q998.483 1311.41 995.334 1315.05 Q992.186 1318.66 992.186 1325.51 Q992.186 1332.34 995.334 1335.97 Q998.483 1339.58 1004.41 1339.58 Q1007.42 1339.58 1010.08 1338.5 Q1012.76 1337.41 1015.13 1335.21 L1015.13 1340.09 Q1012.67 1341.76 1009.92 1342.59 Q1007.19 1343.43 1004.13 1343.43 Q996.284 1343.43 991.77 1338.63 Q987.256 1333.82 987.256 1325.51 Q987.256 1317.18 991.77 1312.39 Q996.284 1307.57 1004.13 1307.57 Q1007.23 1307.57 1009.96 1308.4 Q1012.72 1309.21 1015.13 1310.86 Z\" fill=\"#000000\" fill-rule=\"evenodd\" fill-opacity=\"1\" /><path clip-path=\"url(#clip130)\" d=\"\n",
       "M1449.79 1423.18 L2352.76 1423.18 L2352.76 47.2441 L1449.79 47.2441  Z\n",
       "  \" fill=\"#ffffff\" fill-rule=\"evenodd\" fill-opacity=\"1\"/>\n",
       "<polyline clip-path=\"url(#clip132)\" style=\"stroke:#000000; stroke-linecap:round; stroke-linejoin:round; stroke-width:2; stroke-opacity:0.1; fill:none\" points=\"\n",
       "  1475.34,1423.18 1475.34,47.2441 \n",
       "  \"/>\n",
       "<polyline clip-path=\"url(#clip132)\" style=\"stroke:#000000; stroke-linecap:round; stroke-linejoin:round; stroke-width:2; stroke-opacity:0.1; fill:none\" points=\"\n",
       "  1645.71,1423.18 1645.71,47.2441 \n",
       "  \"/>\n",
       "<polyline clip-path=\"url(#clip132)\" style=\"stroke:#000000; stroke-linecap:round; stroke-linejoin:round; stroke-width:2; stroke-opacity:0.1; fill:none\" points=\"\n",
       "  1816.08,1423.18 1816.08,47.2441 \n",
       "  \"/>\n",
       "<polyline clip-path=\"url(#clip132)\" style=\"stroke:#000000; stroke-linecap:round; stroke-linejoin:round; stroke-width:2; stroke-opacity:0.1; fill:none\" points=\"\n",
       "  1986.46,1423.18 1986.46,47.2441 \n",
       "  \"/>\n",
       "<polyline clip-path=\"url(#clip132)\" style=\"stroke:#000000; stroke-linecap:round; stroke-linejoin:round; stroke-width:2; stroke-opacity:0.1; fill:none\" points=\"\n",
       "  2156.83,1423.18 2156.83,47.2441 \n",
       "  \"/>\n",
       "<polyline clip-path=\"url(#clip132)\" style=\"stroke:#000000; stroke-linecap:round; stroke-linejoin:round; stroke-width:2; stroke-opacity:0.1; fill:none\" points=\"\n",
       "  2327.2,1423.18 2327.2,47.2441 \n",
       "  \"/>\n",
       "<polyline clip-path=\"url(#clip130)\" style=\"stroke:#000000; stroke-linecap:round; stroke-linejoin:round; stroke-width:4; stroke-opacity:1; fill:none\" points=\"\n",
       "  1449.79,1423.18 2352.76,1423.18 \n",
       "  \"/>\n",
       "<polyline clip-path=\"url(#clip130)\" style=\"stroke:#000000; stroke-linecap:round; stroke-linejoin:round; stroke-width:4; stroke-opacity:1; fill:none\" points=\"\n",
       "  1475.34,1423.18 1475.34,1404.28 \n",
       "  \"/>\n",
       "<polyline clip-path=\"url(#clip130)\" style=\"stroke:#000000; stroke-linecap:round; stroke-linejoin:round; stroke-width:4; stroke-opacity:1; fill:none\" points=\"\n",
       "  1645.71,1423.18 1645.71,1404.28 \n",
       "  \"/>\n",
       "<polyline clip-path=\"url(#clip130)\" style=\"stroke:#000000; stroke-linecap:round; stroke-linejoin:round; stroke-width:4; stroke-opacity:1; fill:none\" points=\"\n",
       "  1816.08,1423.18 1816.08,1404.28 \n",
       "  \"/>\n",
       "<polyline clip-path=\"url(#clip130)\" style=\"stroke:#000000; stroke-linecap:round; stroke-linejoin:round; stroke-width:4; stroke-opacity:1; fill:none\" points=\"\n",
       "  1986.46,1423.18 1986.46,1404.28 \n",
       "  \"/>\n",
       "<polyline clip-path=\"url(#clip130)\" style=\"stroke:#000000; stroke-linecap:round; stroke-linejoin:round; stroke-width:4; stroke-opacity:1; fill:none\" points=\"\n",
       "  2156.83,1423.18 2156.83,1404.28 \n",
       "  \"/>\n",
       "<polyline clip-path=\"url(#clip130)\" style=\"stroke:#000000; stroke-linecap:round; stroke-linejoin:round; stroke-width:4; stroke-opacity:1; fill:none\" points=\"\n",
       "  2327.2,1423.18 2327.2,1404.28 \n",
       "  \"/>\n",
       "<path clip-path=\"url(#clip130)\" d=\"M1475.34 1454.1 Q1471.73 1454.1 1469.9 1457.66 Q1468.1 1461.2 1468.1 1468.33 Q1468.1 1475.44 1469.9 1479.01 Q1471.73 1482.55 1475.34 1482.55 Q1478.98 1482.55 1480.78 1479.01 Q1482.61 1475.44 1482.61 1468.33 Q1482.61 1461.2 1480.78 1457.66 Q1478.98 1454.1 1475.34 1454.1 M1475.34 1450.39 Q1481.15 1450.39 1484.21 1455 Q1487.29 1459.58 1487.29 1468.33 Q1487.29 1477.06 1484.21 1481.67 Q1481.15 1486.25 1475.34 1486.25 Q1469.53 1486.25 1466.45 1481.67 Q1463.4 1477.06 1463.4 1468.33 Q1463.4 1459.58 1466.45 1455 Q1469.53 1450.39 1475.34 1450.39 Z\" fill=\"#000000\" fill-rule=\"evenodd\" fill-opacity=\"1\" /><path clip-path=\"url(#clip130)\" d=\"M1620.4 1481.64 L1628.04 1481.64 L1628.04 1455.28 L1619.73 1456.95 L1619.73 1452.69 L1627.99 1451.02 L1632.67 1451.02 L1632.67 1481.64 L1640.31 1481.64 L1640.31 1485.58 L1620.4 1485.58 L1620.4 1481.64 Z\" fill=\"#000000\" fill-rule=\"evenodd\" fill-opacity=\"1\" /><path clip-path=\"url(#clip130)\" d=\"M1659.75 1454.1 Q1656.14 1454.1 1654.31 1457.66 Q1652.51 1461.2 1652.51 1468.33 Q1652.51 1475.44 1654.31 1479.01 Q1656.14 1482.55 1659.75 1482.55 Q1663.39 1482.55 1665.19 1479.01 Q1667.02 1475.44 1667.02 1468.33 Q1667.02 1461.2 1665.19 1457.66 Q1663.39 1454.1 1659.75 1454.1 M1659.75 1450.39 Q1665.56 1450.39 1668.62 1455 Q1671.7 1459.58 1671.7 1468.33 Q1671.7 1477.06 1668.62 1481.67 Q1665.56 1486.25 1659.75 1486.25 Q1653.94 1486.25 1650.86 1481.67 Q1647.81 1477.06 1647.81 1468.33 Q1647.81 1459.58 1650.86 1455 Q1653.94 1450.39 1659.75 1450.39 Z\" fill=\"#000000\" fill-rule=\"evenodd\" fill-opacity=\"1\" /><path clip-path=\"url(#clip130)\" d=\"M1794.86 1481.64 L1811.18 1481.64 L1811.18 1485.58 L1789.23 1485.58 L1789.23 1481.64 Q1791.89 1478.89 1796.48 1474.26 Q1801.08 1469.61 1802.27 1468.27 Q1804.51 1465.74 1805.39 1464.01 Q1806.29 1462.25 1806.29 1460.56 Q1806.29 1457.8 1804.35 1456.07 Q1802.43 1454.33 1799.33 1454.33 Q1797.13 1454.33 1794.67 1455.09 Q1792.24 1455.86 1789.46 1457.41 L1789.46 1452.69 Q1792.29 1451.55 1794.74 1450.97 Q1797.2 1450.39 1799.23 1450.39 Q1804.6 1450.39 1807.8 1453.08 Q1810.99 1455.77 1810.99 1460.26 Q1810.99 1462.39 1810.18 1464.31 Q1809.39 1466.2 1807.29 1468.8 Q1806.71 1469.47 1803.61 1472.69 Q1800.51 1475.88 1794.86 1481.64 Z\" fill=\"#000000\" fill-rule=\"evenodd\" fill-opacity=\"1\" /><path clip-path=\"url(#clip130)\" d=\"M1830.99 1454.1 Q1827.38 1454.1 1825.55 1457.66 Q1823.75 1461.2 1823.75 1468.33 Q1823.75 1475.44 1825.55 1479.01 Q1827.38 1482.55 1830.99 1482.55 Q1834.63 1482.55 1836.43 1479.01 Q1838.26 1475.44 1838.26 1468.33 Q1838.26 1461.2 1836.43 1457.66 Q1834.63 1454.1 1830.99 1454.1 M1830.99 1450.39 Q1836.8 1450.39 1839.86 1455 Q1842.94 1459.58 1842.94 1468.33 Q1842.94 1477.06 1839.86 1481.67 Q1836.8 1486.25 1830.99 1486.25 Q1825.18 1486.25 1822.1 1481.67 Q1819.05 1477.06 1819.05 1468.33 Q1819.05 1459.58 1822.1 1455 Q1825.18 1450.39 1830.99 1450.39 Z\" fill=\"#000000\" fill-rule=\"evenodd\" fill-opacity=\"1\" /><path clip-path=\"url(#clip130)\" d=\"M1975.3 1466.95 Q1978.66 1467.66 1980.53 1469.93 Q1982.43 1472.2 1982.43 1475.53 Q1982.43 1480.65 1978.91 1483.45 Q1975.39 1486.25 1968.91 1486.25 Q1966.73 1486.25 1964.42 1485.81 Q1962.13 1485.39 1959.67 1484.54 L1959.67 1480.02 Q1961.62 1481.16 1963.93 1481.74 Q1966.25 1482.32 1968.77 1482.32 Q1973.17 1482.32 1975.46 1480.58 Q1977.78 1478.84 1977.78 1475.53 Q1977.78 1472.48 1975.62 1470.77 Q1973.49 1469.03 1969.67 1469.03 L1965.65 1469.03 L1965.65 1465.19 L1969.86 1465.19 Q1973.31 1465.19 1975.14 1463.82 Q1976.97 1462.43 1976.97 1459.84 Q1976.97 1457.18 1975.07 1455.77 Q1973.19 1454.33 1969.67 1454.33 Q1967.75 1454.33 1965.55 1454.75 Q1963.35 1455.16 1960.72 1456.04 L1960.72 1451.88 Q1963.38 1451.14 1965.69 1450.77 Q1968.03 1450.39 1970.09 1450.39 Q1975.41 1450.39 1978.52 1452.83 Q1981.62 1455.23 1981.62 1459.35 Q1981.62 1462.22 1979.97 1464.21 Q1978.33 1466.18 1975.3 1466.95 Z\" fill=\"#000000\" fill-rule=\"evenodd\" fill-opacity=\"1\" /><path clip-path=\"url(#clip130)\" d=\"M2001.29 1454.1 Q1997.68 1454.1 1995.85 1457.66 Q1994.05 1461.2 1994.05 1468.33 Q1994.05 1475.44 1995.85 1479.01 Q1997.68 1482.55 2001.29 1482.55 Q2004.93 1482.55 2006.73 1479.01 Q2008.56 1475.44 2008.56 1468.33 Q2008.56 1461.2 2006.73 1457.66 Q2004.93 1454.1 2001.29 1454.1 M2001.29 1450.39 Q2007.1 1450.39 2010.16 1455 Q2013.24 1459.58 2013.24 1468.33 Q2013.24 1477.06 2010.16 1481.67 Q2007.1 1486.25 2001.29 1486.25 Q1995.48 1486.25 1992.41 1481.67 Q1989.35 1477.06 1989.35 1468.33 Q1989.35 1459.58 1992.41 1455 Q1995.48 1450.39 2001.29 1450.39 Z\" fill=\"#000000\" fill-rule=\"evenodd\" fill-opacity=\"1\" /><path clip-path=\"url(#clip130)\" d=\"M2145 1455.09 L2133.19 1473.54 L2145 1473.54 L2145 1455.09 M2143.77 1451.02 L2149.65 1451.02 L2149.65 1473.54 L2154.58 1473.54 L2154.58 1477.43 L2149.65 1477.43 L2149.65 1485.58 L2145 1485.58 L2145 1477.43 L2129.4 1477.43 L2129.4 1472.92 L2143.77 1451.02 Z\" fill=\"#000000\" fill-rule=\"evenodd\" fill-opacity=\"1\" /><path clip-path=\"url(#clip130)\" d=\"M2172.31 1454.1 Q2168.7 1454.1 2166.87 1457.66 Q2165.07 1461.2 2165.07 1468.33 Q2165.07 1475.44 2166.87 1479.01 Q2168.7 1482.55 2172.31 1482.55 Q2175.95 1482.55 2177.75 1479.01 Q2179.58 1475.44 2179.58 1468.33 Q2179.58 1461.2 2177.75 1457.66 Q2175.95 1454.1 2172.31 1454.1 M2172.31 1450.39 Q2178.12 1450.39 2181.18 1455 Q2184.26 1459.58 2184.26 1468.33 Q2184.26 1477.06 2181.18 1481.67 Q2178.12 1486.25 2172.31 1486.25 Q2166.5 1486.25 2163.43 1481.67 Q2160.37 1477.06 2160.37 1468.33 Q2160.37 1459.58 2163.43 1455 Q2166.5 1450.39 2172.31 1450.39 Z\" fill=\"#000000\" fill-rule=\"evenodd\" fill-opacity=\"1\" /><path clip-path=\"url(#clip130)\" d=\"M2301.9 1451.02 L2320.26 1451.02 L2320.26 1454.96 L2306.18 1454.96 L2306.18 1463.43 Q2307.2 1463.08 2308.22 1462.92 Q2309.24 1462.73 2310.26 1462.73 Q2316.04 1462.73 2319.42 1465.9 Q2322.8 1469.08 2322.8 1474.49 Q2322.8 1480.07 2319.33 1483.17 Q2315.86 1486.25 2309.54 1486.25 Q2307.36 1486.25 2305.09 1485.88 Q2302.85 1485.51 2300.44 1484.77 L2300.44 1480.07 Q2302.52 1481.2 2304.75 1481.76 Q2306.97 1482.32 2309.45 1482.32 Q2313.45 1482.32 2315.79 1480.21 Q2318.13 1478.1 2318.13 1474.49 Q2318.13 1470.88 2315.79 1468.77 Q2313.45 1466.67 2309.45 1466.67 Q2307.57 1466.67 2305.7 1467.08 Q2303.84 1467.5 2301.9 1468.38 L2301.9 1451.02 Z\" fill=\"#000000\" fill-rule=\"evenodd\" fill-opacity=\"1\" /><path clip-path=\"url(#clip130)\" d=\"M2342.01 1454.1 Q2338.4 1454.1 2336.58 1457.66 Q2334.77 1461.2 2334.77 1468.33 Q2334.77 1475.44 2336.58 1479.01 Q2338.4 1482.55 2342.01 1482.55 Q2345.65 1482.55 2347.45 1479.01 Q2349.28 1475.44 2349.28 1468.33 Q2349.28 1461.2 2347.45 1457.66 Q2345.65 1454.1 2342.01 1454.1 M2342.01 1450.39 Q2347.83 1450.39 2350.88 1455 Q2353.96 1459.58 2353.96 1468.33 Q2353.96 1477.06 2350.88 1481.67 Q2347.83 1486.25 2342.01 1486.25 Q2336.2 1486.25 2333.13 1481.67 Q2330.07 1477.06 2330.07 1468.33 Q2330.07 1459.58 2333.13 1455 Q2336.2 1450.39 2342.01 1450.39 Z\" fill=\"#000000\" fill-rule=\"evenodd\" fill-opacity=\"1\" /><path clip-path=\"url(#clip130)\" d=\"M1840.43 1522.27 L1840.43 1532.4 L1852.49 1532.4 L1852.49 1536.95 L1840.43 1536.95 L1840.43 1556.3 Q1840.43 1560.66 1841.61 1561.9 Q1842.82 1563.14 1846.48 1563.14 L1852.49 1563.14 L1852.49 1568.04 L1846.48 1568.04 Q1839.7 1568.04 1837.12 1565.53 Q1834.54 1562.98 1834.54 1556.3 L1834.54 1536.95 L1830.25 1536.95 L1830.25 1532.4 L1834.54 1532.4 L1834.54 1522.27 L1840.43 1522.27 Z\" fill=\"#000000\" fill-rule=\"evenodd\" fill-opacity=\"1\" /><path clip-path=\"url(#clip130)\" d=\"M1860.2 1532.4 L1866.05 1532.4 L1866.05 1568.04 L1860.2 1568.04 L1860.2 1532.4 M1860.2 1518.52 L1866.05 1518.52 L1866.05 1525.93 L1860.2 1525.93 L1860.2 1518.52 Z\" fill=\"#000000\" fill-rule=\"evenodd\" fill-opacity=\"1\" /><path clip-path=\"url(#clip130)\" d=\"M1906.06 1539.24 Q1908.26 1535.29 1911.31 1533.41 Q1914.37 1531.54 1918.51 1531.54 Q1924.08 1531.54 1927.1 1535.45 Q1930.12 1539.33 1930.12 1546.53 L1930.12 1568.04 L1924.23 1568.04 L1924.23 1546.72 Q1924.23 1541.59 1922.42 1539.11 Q1920.61 1536.63 1916.88 1536.63 Q1912.33 1536.63 1909.69 1539.65 Q1907.05 1542.68 1907.05 1547.9 L1907.05 1568.04 L1901.16 1568.04 L1901.16 1546.72 Q1901.16 1541.56 1899.34 1539.11 Q1897.53 1536.63 1893.74 1536.63 Q1889.26 1536.63 1886.61 1539.68 Q1883.97 1542.71 1883.97 1547.9 L1883.97 1568.04 L1878.08 1568.04 L1878.08 1532.4 L1883.97 1532.4 L1883.97 1537.93 Q1885.98 1534.66 1888.78 1533.1 Q1891.58 1531.54 1895.43 1531.54 Q1899.31 1531.54 1902.02 1533.51 Q1904.76 1535.48 1906.06 1539.24 Z\" fill=\"#000000\" fill-rule=\"evenodd\" fill-opacity=\"1\" /><path clip-path=\"url(#clip130)\" d=\"M1972.3 1548.76 L1972.3 1551.62 L1945.37 1551.62 Q1945.75 1557.67 1949 1560.85 Q1952.28 1564 1958.1 1564 Q1961.47 1564 1964.63 1563.17 Q1967.81 1562.35 1970.93 1560.69 L1970.93 1566.23 Q1967.78 1567.57 1964.47 1568.27 Q1961.16 1568.97 1957.75 1568.97 Q1949.22 1568.97 1944.22 1564 Q1939.26 1559.04 1939.26 1550.57 Q1939.26 1541.82 1943.97 1536.69 Q1948.71 1531.54 1956.73 1531.54 Q1963.92 1531.54 1968.09 1536.18 Q1972.3 1540.8 1972.3 1548.76 M1966.44 1547.04 Q1966.38 1542.23 1963.73 1539.37 Q1961.12 1536.5 1956.8 1536.5 Q1951.89 1536.5 1948.93 1539.27 Q1946.01 1542.04 1945.56 1547.07 L1966.44 1547.04 Z\" fill=\"#000000\" fill-rule=\"evenodd\" fill-opacity=\"1\" /><polyline clip-path=\"url(#clip132)\" style=\"stroke:#000000; stroke-linecap:round; stroke-linejoin:round; stroke-width:2; stroke-opacity:0.1; fill:none\" points=\"\n",
       "  1449.79,1396.07 2352.76,1396.07 \n",
       "  \"/>\n",
       "<polyline clip-path=\"url(#clip132)\" style=\"stroke:#000000; stroke-linecap:round; stroke-linejoin:round; stroke-width:2; stroke-opacity:0.1; fill:none\" points=\"\n",
       "  1449.79,1078 2352.76,1078 \n",
       "  \"/>\n",
       "<polyline clip-path=\"url(#clip132)\" style=\"stroke:#000000; stroke-linecap:round; stroke-linejoin:round; stroke-width:2; stroke-opacity:0.1; fill:none\" points=\"\n",
       "  1449.79,759.925 2352.76,759.925 \n",
       "  \"/>\n",
       "<polyline clip-path=\"url(#clip132)\" style=\"stroke:#000000; stroke-linecap:round; stroke-linejoin:round; stroke-width:2; stroke-opacity:0.1; fill:none\" points=\"\n",
       "  1449.79,441.853 2352.76,441.853 \n",
       "  \"/>\n",
       "<polyline clip-path=\"url(#clip132)\" style=\"stroke:#000000; stroke-linecap:round; stroke-linejoin:round; stroke-width:2; stroke-opacity:0.1; fill:none\" points=\"\n",
       "  1449.79,123.781 2352.76,123.781 \n",
       "  \"/>\n",
       "<polyline clip-path=\"url(#clip130)\" style=\"stroke:#000000; stroke-linecap:round; stroke-linejoin:round; stroke-width:4; stroke-opacity:1; fill:none\" points=\"\n",
       "  1449.79,1423.18 1449.79,47.2441 \n",
       "  \"/>\n",
       "<polyline clip-path=\"url(#clip130)\" style=\"stroke:#000000; stroke-linecap:round; stroke-linejoin:round; stroke-width:4; stroke-opacity:1; fill:none\" points=\"\n",
       "  1449.79,1396.07 1468.68,1396.07 \n",
       "  \"/>\n",
       "<polyline clip-path=\"url(#clip130)\" style=\"stroke:#000000; stroke-linecap:round; stroke-linejoin:round; stroke-width:4; stroke-opacity:1; fill:none\" points=\"\n",
       "  1449.79,1078 1468.68,1078 \n",
       "  \"/>\n",
       "<polyline clip-path=\"url(#clip130)\" style=\"stroke:#000000; stroke-linecap:round; stroke-linejoin:round; stroke-width:4; stroke-opacity:1; fill:none\" points=\"\n",
       "  1449.79,759.925 1468.68,759.925 \n",
       "  \"/>\n",
       "<polyline clip-path=\"url(#clip130)\" style=\"stroke:#000000; stroke-linecap:round; stroke-linejoin:round; stroke-width:4; stroke-opacity:1; fill:none\" points=\"\n",
       "  1449.79,441.853 1468.68,441.853 \n",
       "  \"/>\n",
       "<polyline clip-path=\"url(#clip130)\" style=\"stroke:#000000; stroke-linecap:round; stroke-linejoin:round; stroke-width:4; stroke-opacity:1; fill:none\" points=\"\n",
       "  1449.79,123.781 1468.68,123.781 \n",
       "  \"/>\n",
       "<path clip-path=\"url(#clip130)\" d=\"M1296.29 1381.87 Q1292.67 1381.87 1290.85 1385.43 Q1289.04 1388.98 1289.04 1396.1 Q1289.04 1403.21 1290.85 1406.78 Q1292.67 1410.32 1296.29 1410.32 Q1299.92 1410.32 1301.73 1406.78 Q1303.55 1403.21 1303.55 1396.1 Q1303.55 1388.98 1301.73 1385.43 Q1299.92 1381.87 1296.29 1381.87 M1296.29 1378.17 Q1302.1 1378.17 1305.15 1382.77 Q1308.23 1387.35 1308.23 1396.1 Q1308.23 1404.83 1305.15 1409.44 Q1302.1 1414.02 1296.29 1414.02 Q1290.48 1414.02 1287.4 1409.44 Q1284.34 1404.83 1284.34 1396.1 Q1284.34 1387.35 1287.4 1382.77 Q1290.48 1378.17 1296.29 1378.17 Z\" fill=\"#000000\" fill-rule=\"evenodd\" fill-opacity=\"1\" /><path clip-path=\"url(#clip130)\" d=\"M1316.45 1407.47 L1321.33 1407.47 L1321.33 1413.35 L1316.45 1413.35 L1316.45 1407.47 Z\" fill=\"#000000\" fill-rule=\"evenodd\" fill-opacity=\"1\" /><path clip-path=\"url(#clip130)\" d=\"M1341.52 1381.87 Q1337.91 1381.87 1336.08 1385.43 Q1334.27 1388.98 1334.27 1396.1 Q1334.27 1403.21 1336.08 1406.78 Q1337.91 1410.32 1341.52 1410.32 Q1345.15 1410.32 1346.96 1406.78 Q1348.79 1403.21 1348.79 1396.1 Q1348.79 1388.98 1346.96 1385.43 Q1345.15 1381.87 1341.52 1381.87 M1341.52 1378.17 Q1347.33 1378.17 1350.38 1382.77 Q1353.46 1387.35 1353.46 1396.1 Q1353.46 1404.83 1350.38 1409.44 Q1347.33 1414.02 1341.52 1414.02 Q1335.71 1414.02 1332.63 1409.44 Q1329.57 1404.83 1329.57 1396.1 Q1329.57 1387.35 1332.63 1382.77 Q1335.71 1378.17 1341.52 1378.17 Z\" fill=\"#000000\" fill-rule=\"evenodd\" fill-opacity=\"1\" /><path clip-path=\"url(#clip130)\" d=\"M1371.68 1381.87 Q1368.07 1381.87 1366.24 1385.43 Q1364.43 1388.98 1364.43 1396.1 Q1364.43 1403.21 1366.24 1406.78 Q1368.07 1410.32 1371.68 1410.32 Q1375.31 1410.32 1377.12 1406.78 Q1378.95 1403.21 1378.95 1396.1 Q1378.95 1388.98 1377.12 1385.43 Q1375.31 1381.87 1371.68 1381.87 M1371.68 1378.17 Q1377.49 1378.17 1380.54 1382.77 Q1383.62 1387.35 1383.62 1396.1 Q1383.62 1404.83 1380.54 1409.44 Q1377.49 1414.02 1371.68 1414.02 Q1365.87 1414.02 1362.79 1409.44 Q1359.73 1404.83 1359.73 1396.1 Q1359.73 1387.35 1362.79 1382.77 Q1365.87 1378.17 1371.68 1378.17 Z\" fill=\"#000000\" fill-rule=\"evenodd\" fill-opacity=\"1\" /><path clip-path=\"url(#clip130)\" d=\"M1401.84 1381.87 Q1398.23 1381.87 1396.4 1385.43 Q1394.6 1388.98 1394.6 1396.1 Q1394.6 1403.21 1396.4 1406.78 Q1398.23 1410.32 1401.84 1410.32 Q1405.47 1410.32 1407.28 1406.78 Q1409.11 1403.21 1409.11 1396.1 Q1409.11 1388.98 1407.28 1385.43 Q1405.47 1381.87 1401.84 1381.87 M1401.84 1378.17 Q1407.65 1378.17 1410.71 1382.77 Q1413.79 1387.35 1413.79 1396.1 Q1413.79 1404.83 1410.71 1409.44 Q1407.65 1414.02 1401.84 1414.02 Q1396.03 1414.02 1392.95 1409.44 Q1389.9 1404.83 1389.9 1396.1 Q1389.9 1387.35 1392.95 1382.77 Q1396.03 1378.17 1401.84 1378.17 Z\" fill=\"#000000\" fill-rule=\"evenodd\" fill-opacity=\"1\" /><path clip-path=\"url(#clip130)\" d=\"M1297.28 1063.8 Q1293.67 1063.8 1291.84 1067.36 Q1290.04 1070.9 1290.04 1078.03 Q1290.04 1085.14 1291.84 1088.7 Q1293.67 1092.25 1297.28 1092.25 Q1300.92 1092.25 1302.72 1088.7 Q1304.55 1085.14 1304.55 1078.03 Q1304.55 1070.9 1302.72 1067.36 Q1300.92 1063.8 1297.28 1063.8 M1297.28 1060.09 Q1303.09 1060.09 1306.15 1064.7 Q1309.23 1069.28 1309.23 1078.03 Q1309.23 1086.76 1306.15 1091.37 Q1303.09 1095.95 1297.28 1095.95 Q1291.47 1095.95 1288.39 1091.37 Q1285.34 1086.76 1285.34 1078.03 Q1285.34 1069.28 1288.39 1064.7 Q1291.47 1060.09 1297.28 1060.09 Z\" fill=\"#000000\" fill-rule=\"evenodd\" fill-opacity=\"1\" /><path clip-path=\"url(#clip130)\" d=\"M1317.44 1089.4 L1322.33 1089.4 L1322.33 1095.28 L1317.44 1095.28 L1317.44 1089.4 Z\" fill=\"#000000\" fill-rule=\"evenodd\" fill-opacity=\"1\" /><path clip-path=\"url(#clip130)\" d=\"M1342.51 1063.8 Q1338.9 1063.8 1337.07 1067.36 Q1335.27 1070.9 1335.27 1078.03 Q1335.27 1085.14 1337.07 1088.7 Q1338.9 1092.25 1342.51 1092.25 Q1346.15 1092.25 1347.95 1088.7 Q1349.78 1085.14 1349.78 1078.03 Q1349.78 1070.9 1347.95 1067.36 Q1346.15 1063.8 1342.51 1063.8 M1342.51 1060.09 Q1348.32 1060.09 1351.38 1064.7 Q1354.46 1069.28 1354.46 1078.03 Q1354.46 1086.76 1351.38 1091.37 Q1348.32 1095.95 1342.51 1095.95 Q1336.7 1095.95 1333.62 1091.37 Q1330.57 1086.76 1330.57 1078.03 Q1330.57 1069.28 1333.62 1064.7 Q1336.7 1060.09 1342.51 1060.09 Z\" fill=\"#000000\" fill-rule=\"evenodd\" fill-opacity=\"1\" /><path clip-path=\"url(#clip130)\" d=\"M1366.7 1091.34 L1383.02 1091.34 L1383.02 1095.28 L1361.08 1095.28 L1361.08 1091.34 Q1363.74 1088.59 1368.32 1083.96 Q1372.93 1079.31 1374.11 1077.96 Q1376.35 1075.44 1377.23 1073.7 Q1378.14 1071.94 1378.14 1070.25 Q1378.14 1067.5 1376.19 1065.76 Q1374.27 1064.03 1371.17 1064.03 Q1368.97 1064.03 1366.52 1064.79 Q1364.09 1065.56 1361.31 1067.11 L1361.31 1062.38 Q1364.13 1061.25 1366.59 1060.67 Q1369.04 1060.09 1371.08 1060.09 Q1376.45 1060.09 1379.64 1062.78 Q1382.84 1065.46 1382.84 1069.95 Q1382.84 1072.08 1382.03 1074 Q1381.24 1075.9 1379.13 1078.5 Q1378.55 1079.17 1375.45 1082.38 Q1372.35 1085.58 1366.7 1091.34 Z\" fill=\"#000000\" fill-rule=\"evenodd\" fill-opacity=\"1\" /><path clip-path=\"url(#clip130)\" d=\"M1392.88 1060.72 L1411.24 1060.72 L1411.24 1064.65 L1397.16 1064.65 L1397.16 1073.13 Q1398.18 1072.78 1399.2 1072.62 Q1400.22 1072.43 1401.24 1072.43 Q1407.03 1072.43 1410.41 1075.6 Q1413.79 1078.77 1413.79 1084.19 Q1413.79 1089.77 1410.31 1092.87 Q1406.84 1095.95 1400.52 1095.95 Q1398.35 1095.95 1396.08 1095.58 Q1393.83 1095.21 1391.42 1094.47 L1391.42 1089.77 Q1393.51 1090.9 1395.73 1091.46 Q1397.95 1092.01 1400.43 1092.01 Q1404.43 1092.01 1406.77 1089.91 Q1409.11 1087.8 1409.11 1084.19 Q1409.11 1080.58 1406.77 1078.47 Q1404.43 1076.37 1400.43 1076.37 Q1398.55 1076.37 1396.68 1076.78 Q1394.83 1077.2 1392.88 1078.08 L1392.88 1060.72 Z\" fill=\"#000000\" fill-rule=\"evenodd\" fill-opacity=\"1\" /><path clip-path=\"url(#clip130)\" d=\"M1296.29 745.724 Q1292.67 745.724 1290.85 749.289 Q1289.04 752.83 1289.04 759.96 Q1289.04 767.066 1290.85 770.631 Q1292.67 774.173 1296.29 774.173 Q1299.92 774.173 1301.73 770.631 Q1303.55 767.066 1303.55 759.96 Q1303.55 752.83 1301.73 749.289 Q1299.92 745.724 1296.29 745.724 M1296.29 742.02 Q1302.1 742.02 1305.15 746.627 Q1308.23 751.21 1308.23 759.96 Q1308.23 768.687 1305.15 773.293 Q1302.1 777.877 1296.29 777.877 Q1290.48 777.877 1287.4 773.293 Q1284.34 768.687 1284.34 759.96 Q1284.34 751.21 1287.4 746.627 Q1290.48 742.02 1296.29 742.02 Z\" fill=\"#000000\" fill-rule=\"evenodd\" fill-opacity=\"1\" /><path clip-path=\"url(#clip130)\" d=\"M1316.45 771.326 L1321.33 771.326 L1321.33 777.205 L1316.45 777.205 L1316.45 771.326 Z\" fill=\"#000000\" fill-rule=\"evenodd\" fill-opacity=\"1\" /><path clip-path=\"url(#clip130)\" d=\"M1341.52 745.724 Q1337.91 745.724 1336.08 749.289 Q1334.27 752.83 1334.27 759.96 Q1334.27 767.066 1336.08 770.631 Q1337.91 774.173 1341.52 774.173 Q1345.15 774.173 1346.96 770.631 Q1348.79 767.066 1348.79 759.96 Q1348.79 752.83 1346.96 749.289 Q1345.15 745.724 1341.52 745.724 M1341.52 742.02 Q1347.33 742.02 1350.38 746.627 Q1353.46 751.21 1353.46 759.96 Q1353.46 768.687 1350.38 773.293 Q1347.33 777.877 1341.52 777.877 Q1335.71 777.877 1332.63 773.293 Q1329.57 768.687 1329.57 759.96 Q1329.57 751.21 1332.63 746.627 Q1335.71 742.02 1341.52 742.02 Z\" fill=\"#000000\" fill-rule=\"evenodd\" fill-opacity=\"1\" /><path clip-path=\"url(#clip130)\" d=\"M1361.73 742.645 L1380.08 742.645 L1380.08 746.58 L1366.01 746.58 L1366.01 755.053 Q1367.03 754.705 1368.04 754.543 Q1369.06 754.358 1370.08 754.358 Q1375.87 754.358 1379.25 757.53 Q1382.63 760.701 1382.63 766.117 Q1382.63 771.696 1379.16 774.798 Q1375.68 777.877 1369.36 777.877 Q1367.19 777.877 1364.92 777.506 Q1362.67 777.136 1360.27 776.395 L1360.27 771.696 Q1362.35 772.83 1364.57 773.386 Q1366.79 773.941 1369.27 773.941 Q1373.28 773.941 1375.61 771.835 Q1377.95 769.729 1377.95 766.117 Q1377.95 762.506 1375.61 760.4 Q1373.28 758.293 1369.27 758.293 Q1367.4 758.293 1365.52 758.71 Q1363.67 759.127 1361.73 760.006 L1361.73 742.645 Z\" fill=\"#000000\" fill-rule=\"evenodd\" fill-opacity=\"1\" /><path clip-path=\"url(#clip130)\" d=\"M1401.84 745.724 Q1398.23 745.724 1396.4 749.289 Q1394.6 752.83 1394.6 759.96 Q1394.6 767.066 1396.4 770.631 Q1398.23 774.173 1401.84 774.173 Q1405.47 774.173 1407.28 770.631 Q1409.11 767.066 1409.11 759.96 Q1409.11 752.83 1407.28 749.289 Q1405.47 745.724 1401.84 745.724 M1401.84 742.02 Q1407.65 742.02 1410.71 746.627 Q1413.79 751.21 1413.79 759.96 Q1413.79 768.687 1410.71 773.293 Q1407.65 777.877 1401.84 777.877 Q1396.03 777.877 1392.95 773.293 Q1389.9 768.687 1389.9 759.96 Q1389.9 751.21 1392.95 746.627 Q1396.03 742.02 1401.84 742.02 Z\" fill=\"#000000\" fill-rule=\"evenodd\" fill-opacity=\"1\" /><path clip-path=\"url(#clip130)\" d=\"M1297.28 427.652 Q1293.67 427.652 1291.84 431.216 Q1290.04 434.758 1290.04 441.888 Q1290.04 448.994 1291.84 452.559 Q1293.67 456.101 1297.28 456.101 Q1300.92 456.101 1302.72 452.559 Q1304.55 448.994 1304.55 441.888 Q1304.55 434.758 1302.72 431.216 Q1300.92 427.652 1297.28 427.652 M1297.28 423.948 Q1303.09 423.948 1306.15 428.554 Q1309.23 433.138 1309.23 441.888 Q1309.23 450.614 1306.15 455.221 Q1303.09 459.804 1297.28 459.804 Q1291.47 459.804 1288.39 455.221 Q1285.34 450.614 1285.34 441.888 Q1285.34 433.138 1288.39 428.554 Q1291.47 423.948 1297.28 423.948 Z\" fill=\"#000000\" fill-rule=\"evenodd\" fill-opacity=\"1\" /><path clip-path=\"url(#clip130)\" d=\"M1317.44 453.253 L1322.33 453.253 L1322.33 459.133 L1317.44 459.133 L1317.44 453.253 Z\" fill=\"#000000\" fill-rule=\"evenodd\" fill-opacity=\"1\" /><path clip-path=\"url(#clip130)\" d=\"M1342.51 427.652 Q1338.9 427.652 1337.07 431.216 Q1335.27 434.758 1335.27 441.888 Q1335.27 448.994 1337.07 452.559 Q1338.9 456.101 1342.51 456.101 Q1346.15 456.101 1347.95 452.559 Q1349.78 448.994 1349.78 441.888 Q1349.78 434.758 1347.95 431.216 Q1346.15 427.652 1342.51 427.652 M1342.51 423.948 Q1348.32 423.948 1351.38 428.554 Q1354.46 433.138 1354.46 441.888 Q1354.46 450.614 1351.38 455.221 Q1348.32 459.804 1342.51 459.804 Q1336.7 459.804 1333.62 455.221 Q1330.57 450.614 1330.57 441.888 Q1330.57 433.138 1333.62 428.554 Q1336.7 423.948 1342.51 423.948 Z\" fill=\"#000000\" fill-rule=\"evenodd\" fill-opacity=\"1\" /><path clip-path=\"url(#clip130)\" d=\"M1361.49 424.573 L1383.72 424.573 L1383.72 426.564 L1371.17 459.133 L1366.29 459.133 L1378.09 428.508 L1361.49 428.508 L1361.49 424.573 Z\" fill=\"#000000\" fill-rule=\"evenodd\" fill-opacity=\"1\" /><path clip-path=\"url(#clip130)\" d=\"M1392.88 424.573 L1411.24 424.573 L1411.24 428.508 L1397.16 428.508 L1397.16 436.98 Q1398.18 436.633 1399.2 436.471 Q1400.22 436.286 1401.24 436.286 Q1407.03 436.286 1410.41 439.457 Q1413.79 442.628 1413.79 448.045 Q1413.79 453.624 1410.31 456.726 Q1406.84 459.804 1400.52 459.804 Q1398.35 459.804 1396.08 459.434 Q1393.83 459.064 1391.42 458.323 L1391.42 453.624 Q1393.51 454.758 1395.73 455.314 Q1397.95 455.869 1400.43 455.869 Q1404.43 455.869 1406.77 453.763 Q1409.11 451.656 1409.11 448.045 Q1409.11 444.434 1406.77 442.327 Q1404.43 440.221 1400.43 440.221 Q1398.55 440.221 1396.68 440.638 Q1394.83 441.054 1392.88 441.934 L1392.88 424.573 Z\" fill=\"#000000\" fill-rule=\"evenodd\" fill-opacity=\"1\" /><path clip-path=\"url(#clip130)\" d=\"M1296.29 109.579 Q1292.67 109.579 1290.85 113.144 Q1289.04 116.686 1289.04 123.815 Q1289.04 130.922 1290.85 134.487 Q1292.67 138.028 1296.29 138.028 Q1299.92 138.028 1301.73 134.487 Q1303.55 130.922 1303.55 123.815 Q1303.55 116.686 1301.73 113.144 Q1299.92 109.579 1296.29 109.579 M1296.29 105.876 Q1302.1 105.876 1305.15 110.482 Q1308.23 115.065 1308.23 123.815 Q1308.23 132.542 1305.15 137.149 Q1302.1 141.732 1296.29 141.732 Q1290.48 141.732 1287.4 137.149 Q1284.34 132.542 1284.34 123.815 Q1284.34 115.065 1287.4 110.482 Q1290.48 105.876 1296.29 105.876 Z\" fill=\"#000000\" fill-rule=\"evenodd\" fill-opacity=\"1\" /><path clip-path=\"url(#clip130)\" d=\"M1316.45 135.181 L1321.33 135.181 L1321.33 141.061 L1316.45 141.061 L1316.45 135.181 Z\" fill=\"#000000\" fill-rule=\"evenodd\" fill-opacity=\"1\" /><path clip-path=\"url(#clip130)\" d=\"M1332.33 137.125 L1339.97 137.125 L1339.97 110.76 L1331.66 112.426 L1331.66 108.167 L1339.92 106.501 L1344.6 106.501 L1344.6 137.125 L1352.23 137.125 L1352.23 141.061 L1332.33 141.061 L1332.33 137.125 Z\" fill=\"#000000\" fill-rule=\"evenodd\" fill-opacity=\"1\" /><path clip-path=\"url(#clip130)\" d=\"M1371.68 109.579 Q1368.07 109.579 1366.24 113.144 Q1364.43 116.686 1364.43 123.815 Q1364.43 130.922 1366.24 134.487 Q1368.07 138.028 1371.68 138.028 Q1375.31 138.028 1377.12 134.487 Q1378.95 130.922 1378.95 123.815 Q1378.95 116.686 1377.12 113.144 Q1375.31 109.579 1371.68 109.579 M1371.68 105.876 Q1377.49 105.876 1380.54 110.482 Q1383.62 115.065 1383.62 123.815 Q1383.62 132.542 1380.54 137.149 Q1377.49 141.732 1371.68 141.732 Q1365.87 141.732 1362.79 137.149 Q1359.73 132.542 1359.73 123.815 Q1359.73 115.065 1362.79 110.482 Q1365.87 105.876 1371.68 105.876 Z\" fill=\"#000000\" fill-rule=\"evenodd\" fill-opacity=\"1\" /><path clip-path=\"url(#clip130)\" d=\"M1401.84 109.579 Q1398.23 109.579 1396.4 113.144 Q1394.6 116.686 1394.6 123.815 Q1394.6 130.922 1396.4 134.487 Q1398.23 138.028 1401.84 138.028 Q1405.47 138.028 1407.28 134.487 Q1409.11 130.922 1409.11 123.815 Q1409.11 116.686 1407.28 113.144 Q1405.47 109.579 1401.84 109.579 M1401.84 105.876 Q1407.65 105.876 1410.71 110.482 Q1413.79 115.065 1413.79 123.815 Q1413.79 132.542 1410.71 137.149 Q1407.65 141.732 1401.84 141.732 Q1396.03 141.732 1392.95 137.149 Q1389.9 132.542 1389.9 123.815 Q1389.9 115.065 1392.95 110.482 Q1396.03 105.876 1401.84 105.876 Z\" fill=\"#000000\" fill-rule=\"evenodd\" fill-opacity=\"1\" /><path clip-path=\"url(#clip130)\" d=\"M1214.8 779.279 L1217.66 779.279 L1217.66 806.206 Q1223.71 805.824 1226.89 802.577 Q1230.04 799.299 1230.04 793.474 Q1230.04 790.1 1229.22 786.949 Q1228.39 783.766 1226.73 780.647 L1232.27 780.647 Q1233.61 783.798 1234.31 787.108 Q1235.01 790.419 1235.01 793.824 Q1235.01 802.354 1230.04 807.351 Q1225.08 812.317 1216.61 812.317 Q1207.86 812.317 1202.73 807.606 Q1197.58 802.864 1197.58 794.843 Q1197.58 787.649 1202.22 783.48 Q1206.84 779.279 1214.8 779.279 M1213.08 785.135 Q1208.27 785.199 1205.41 787.84 Q1202.54 790.45 1202.54 794.779 Q1202.54 799.681 1205.31 802.641 Q1208.08 805.569 1213.11 806.015 L1213.08 785.135 Z\" fill=\"#000000\" fill-rule=\"evenodd\" fill-opacity=\"1\" /><path clip-path=\"url(#clip130)\" d=\"M1203.91 749.01 Q1203.34 749.996 1203.08 751.174 Q1202.8 752.32 1202.8 753.72 Q1202.8 758.686 1206.04 761.359 Q1209.26 764.001 1215.31 764.001 L1234.09 764.001 L1234.09 769.889 L1198.44 769.889 L1198.44 764.001 L1203.98 764.001 Q1200.73 762.155 1199.17 759.195 Q1197.58 756.235 1197.58 752.002 Q1197.58 751.397 1197.67 750.665 Q1197.74 749.933 1197.9 749.041 L1203.91 749.01 Z\" fill=\"#000000\" fill-rule=\"evenodd\" fill-opacity=\"1\" /><path clip-path=\"url(#clip130)\" d=\"M1203.91 723.356 Q1203.34 724.343 1203.08 725.52 Q1202.8 726.666 1202.8 728.066 Q1202.8 733.032 1206.04 735.705 Q1209.26 738.347 1215.31 738.347 L1234.09 738.347 L1234.09 744.235 L1198.44 744.235 L1198.44 738.347 L1203.98 738.347 Q1200.73 736.501 1199.17 733.541 Q1197.58 730.581 1197.58 726.348 Q1197.58 725.743 1197.67 725.011 Q1197.74 724.279 1197.9 723.388 L1203.91 723.356 Z\" fill=\"#000000\" fill-rule=\"evenodd\" fill-opacity=\"1\" /><path clip-path=\"url(#clip130)\" d=\"M1202.54 704.832 Q1202.54 709.542 1206.24 712.28 Q1209.9 715.017 1216.29 715.017 Q1222.69 715.017 1226.38 712.311 Q1230.04 709.574 1230.04 704.832 Q1230.04 700.153 1226.35 697.416 Q1222.66 694.678 1216.29 694.678 Q1209.96 694.678 1206.27 697.416 Q1202.54 700.153 1202.54 704.832 M1197.58 704.832 Q1197.58 697.193 1202.54 692.832 Q1207.51 688.472 1216.29 688.472 Q1225.05 688.472 1230.04 692.832 Q1235.01 697.193 1235.01 704.832 Q1235.01 712.502 1230.04 716.863 Q1225.05 721.191 1216.29 721.191 Q1207.51 721.191 1202.54 716.863 Q1197.58 712.502 1197.58 704.832 Z\" fill=\"#000000\" fill-rule=\"evenodd\" fill-opacity=\"1\" /><path clip-path=\"url(#clip130)\" d=\"M1203.91 658.107 Q1203.34 659.094 1203.08 660.272 Q1202.8 661.418 1202.8 662.818 Q1202.8 667.783 1206.04 670.457 Q1209.26 673.099 1215.31 673.099 L1234.09 673.099 L1234.09 678.987 L1198.44 678.987 L1198.44 673.099 L1203.98 673.099 Q1200.73 671.253 1199.17 668.292 Q1197.58 665.332 1197.58 661.099 Q1197.58 660.494 1197.67 659.762 Q1197.74 659.03 1197.9 658.139 L1203.91 658.107 Z\" fill=\"#000000\" fill-rule=\"evenodd\" fill-opacity=\"1\" /><polyline clip-path=\"url(#clip132)\" style=\"stroke:#009af9; stroke-linecap:round; stroke-linejoin:round; stroke-width:8; stroke-opacity:1; fill:none\" points=\"\n",
       "  1475.34,1384.24 1492.38,1381.97 1509.42,1380.35 1526.45,1378.34 1543.49,1376.03 1560.53,1373.61 1577.56,1371.31 1594.6,1368.65 1611.64,1366.59 1628.68,1366.1 \n",
       "  1645.71,1366.11 1662.75,1367.82 1679.79,1370.39 1696.82,1373.11 1713.86,1375.24 1730.9,1376.91 1747.94,1378.51 1764.97,1379.38 1782.01,1380.52 1799.05,1379.92 \n",
       "  1816.08,1379.84 1833.12,1380.31 1850.16,1380.05 1867.2,1380.05 1884.23,1380.72 1901.27,1380.55 1918.31,1380.38 1935.34,1380.75 1952.38,1381.44 1969.42,1380.93 \n",
       "  1986.46,1380.28 2003.49,1380.41 2020.53,1380.89 2037.57,1381.34 2054.61,1381.49 2071.64,1380.72 2088.68,1380.89 2105.72,1380.38 2122.75,1380.37 2139.79,1380.75 \n",
       "  2156.83,1381.18 2173.87,1380.79 2190.9,1380.74 2207.94,1380.58 2224.98,1380.89 2242.01,1381.05 2259.05,1380.72 2276.09,1380.76 2293.13,1381.2 2310.16,1380.67 \n",
       "  2327.2,1380.26 \n",
       "  \"/>\n",
       "<polyline clip-path=\"url(#clip132)\" style=\"stroke:#e26f46; stroke-linecap:round; stroke-linejoin:round; stroke-width:8; stroke-opacity:1; fill:none\" points=\"\n",
       "  1475.34,1384.24 1492.38,1358.92 1509.42,1350.28 1526.45,1369.38 1543.49,1360.02 1560.53,1281.32 1577.56,1197.56 1594.6,1135.12 1611.64,1108.89 1628.68,1123 \n",
       "  1645.71,1165.71 1662.75,1217.29 1679.79,1256.13 1696.82,1277.91 1713.86,1280.99 1730.9,1273.57 1747.94,1261.94 1764.97,1249.96 1782.01,1238.88 1799.05,1230.11 \n",
       "  1816.08,1222.01 1833.12,1216.72 1850.16,1211.34 1867.2,1206.59 1884.23,1204.18 1901.27,1202.32 1918.31,1200.04 1935.34,1198.78 1952.38,1197.36 1969.42,1196.14 \n",
       "  1986.46,1194.87 2003.49,1195.25 2020.53,1194.24 2037.57,1193.63 2054.61,1194.21 2071.64,1194.15 2088.68,1192.7 2105.72,1192.69 2122.75,1192.17 2139.79,1191.83 \n",
       "  2156.83,1190.75 2173.87,1190.18 2190.9,1190.74 2207.94,1190.13 2224.98,1190.26 2242.01,1189.67 2259.05,1189.65 2276.09,1190.18 2293.13,1190.08 2310.16,1189.55 \n",
       "  2327.2,1189.38 \n",
       "  \"/>\n",
       "<polyline clip-path=\"url(#clip132)\" style=\"stroke:#3da44d; stroke-linecap:round; stroke-linejoin:round; stroke-width:8; stroke-opacity:1; fill:none\" points=\"\n",
       "  1475.34,1384.24 1492.38,1381.98 1509.42,1324.22 1526.45,1164.37 1543.49,916.913 1560.53,617.647 1577.56,338.063 1594.6,149.568 1611.64,86.1857 1628.68,138.675 \n",
       "  1645.71,266.564 1662.75,429.122 1679.79,593.663 1696.82,743.058 1713.86,868.795 1730.9,972.363 1747.94,1053.89 1764.97,1118.75 1782.01,1168.56 1799.05,1206.78 \n",
       "  1816.08,1237.35 1833.12,1260.37 1850.16,1278.88 1867.2,1293.75 1884.23,1305.02 1901.27,1313.37 1918.31,1321.12 1935.34,1326.58 1952.38,1331.11 1969.42,1334.91 \n",
       "  1986.46,1338.48 2003.49,1340.12 2020.53,1342.37 2037.57,1344.32 2054.61,1344.93 2071.64,1345.56 2088.68,1347.27 2105.72,1347.71 2122.75,1348.59 2139.79,1349.46 \n",
       "  2156.83,1350.57 2173.87,1351.02 2190.9,1350.46 2207.94,1350.83 2224.98,1350.96 2242.01,1351.41 2259.05,1351.5 2276.09,1351.32 2293.13,1351.31 2310.16,1351.28 \n",
       "  2327.2,1351.21 \n",
       "  \"/>\n",
       "<polyline clip-path=\"url(#clip132)\" style=\"stroke:#c271d2; stroke-linecap:round; stroke-linejoin:round; stroke-width:8; stroke-opacity:1; fill:none\" points=\"\n",
       "  1475.34,1384.24 1492.38,1358.92 1509.42,1351.47 1526.45,1373.12 1543.49,1345.17 1560.53,1245.01 1577.56,1131.06 1594.6,1030.75 1611.64,965.052 1628.68,944.9 \n",
       "  1645.71,963.779 1662.75,1009.92 1679.79,1067.62 1696.82,1126.62 1713.86,1178.64 1730.9,1222.8 1747.94,1257.5 1764.97,1284.36 1782.01,1303.52 1799.05,1318.44 \n",
       "  1816.08,1329.41 1833.12,1337.95 1850.16,1343.76 1867.2,1347.82 1884.23,1351.25 1901.27,1354.34 1918.31,1356.66 1935.34,1358.75 1952.38,1359.96 1969.42,1361.11 \n",
       "  1986.46,1361.27 2003.49,1362.69 2020.53,1363.57 2037.57,1363.69 2054.61,1365.08 2071.64,1364.8 2088.68,1364.9 2105.72,1364.76 2122.75,1365.21 2139.79,1365.44 \n",
       "  2156.83,1365.6 2173.87,1365.4 2190.9,1365.99 2207.94,1365.58 2224.98,1366.32 2242.01,1365.72 2259.05,1366 2276.09,1366.34 2293.13,1367.25 2310.16,1366.94 \n",
       "  2327.2,1366.83 \n",
       "  \"/>\n",
       "<path clip-path=\"url(#clip130)\" d=\"\n",
       "M2098 352.309 L2322.66 352.309 L2322.66 93.1086 L2098 93.1086  Z\n",
       "  \" fill=\"#ffffff\" fill-rule=\"evenodd\" fill-opacity=\"1\"/>\n",
       "<polyline clip-path=\"url(#clip130)\" style=\"stroke:#000000; stroke-linecap:round; stroke-linejoin:round; stroke-width:4; stroke-opacity:1; fill:none\" points=\"\n",
       "  2098,352.309 2322.66,352.309 2322.66,93.1086 2098,93.1086 2098,352.309 \n",
       "  \"/>\n",
       "<polyline clip-path=\"url(#clip130)\" style=\"stroke:#009af9; stroke-linecap:round; stroke-linejoin:round; stroke-width:4; stroke-opacity:1; fill:none\" points=\"\n",
       "  2108.03,144.949 2168.23,144.949 \n",
       "  \"/>\n",
       "<path clip-path=\"url(#clip130)\" d=\"M2178.26 127.669 L2185.23 127.669 L2194.05 151.187 L2202.92 127.669 L2209.88 127.669 L2209.88 162.229 L2205.32 162.229 L2205.32 131.882 L2196.41 155.585 L2191.71 155.585 L2182.8 131.882 L2182.8 162.229 L2178.26 162.229 L2178.26 127.669 Z\" fill=\"#000000\" fill-rule=\"evenodd\" fill-opacity=\"1\" /><path clip-path=\"url(#clip130)\" d=\"M2223.84 131.511 L2223.84 144.497 L2229.72 144.497 Q2232.98 144.497 2234.77 142.807 Q2236.55 141.118 2236.55 137.993 Q2236.55 134.891 2234.77 133.201 Q2232.98 131.511 2229.72 131.511 L2223.84 131.511 M2219.17 127.669 L2229.72 127.669 Q2235.53 127.669 2238.49 130.307 Q2241.48 132.923 2241.48 137.993 Q2241.48 143.108 2238.49 145.724 Q2235.53 148.34 2229.72 148.34 L2223.84 148.34 L2223.84 162.229 L2219.17 162.229 L2219.17 127.669 Z\" fill=\"#000000\" fill-rule=\"evenodd\" fill-opacity=\"1\" /><path clip-path=\"url(#clip130)\" d=\"M2252.43 145.724 L2252.43 158.386 L2259.93 158.386 Q2263.7 158.386 2265.51 156.835 Q2267.34 155.261 2267.34 152.043 Q2267.34 148.803 2265.51 147.275 Q2263.7 145.724 2259.93 145.724 L2252.43 145.724 M2252.43 131.511 L2252.43 141.928 L2259.35 141.928 Q2262.78 141.928 2264.44 140.655 Q2266.13 139.358 2266.13 136.719 Q2266.13 134.104 2264.44 132.807 Q2262.78 131.511 2259.35 131.511 L2252.43 131.511 M2247.75 127.669 L2259.7 127.669 Q2265.04 127.669 2267.94 129.891 Q2270.83 132.113 2270.83 136.21 Q2270.83 139.382 2269.35 141.257 Q2267.87 143.131 2265 143.594 Q2268.45 144.335 2270.35 146.696 Q2272.27 149.034 2272.27 152.553 Q2272.27 157.182 2269.12 159.705 Q2265.97 162.229 2260.16 162.229 L2247.75 162.229 L2247.75 127.669 Z\" fill=\"#000000\" fill-rule=\"evenodd\" fill-opacity=\"1\" /><path clip-path=\"url(#clip130)\" d=\"M2284.95 131.511 L2284.95 144.497 L2290.83 144.497 Q2294.1 144.497 2295.88 142.807 Q2297.66 141.118 2297.66 137.993 Q2297.66 134.891 2295.88 133.201 Q2294.1 131.511 2290.83 131.511 L2284.95 131.511 M2280.28 127.669 L2290.83 127.669 Q2296.64 127.669 2299.6 130.307 Q2302.59 132.923 2302.59 137.993 Q2302.59 143.108 2299.6 145.724 Q2296.64 148.34 2290.83 148.34 L2284.95 148.34 L2284.95 162.229 L2280.28 162.229 L2280.28 127.669 Z\" fill=\"#000000\" fill-rule=\"evenodd\" fill-opacity=\"1\" /><polyline clip-path=\"url(#clip130)\" style=\"stroke:#e26f46; stroke-linecap:round; stroke-linejoin:round; stroke-width:4; stroke-opacity:1; fill:none\" points=\"\n",
       "  2108.03,196.789 2168.23,196.789 \n",
       "  \"/>\n",
       "<path clip-path=\"url(#clip130)\" d=\"M2182.94 183.351 L2182.94 210.226 L2188.59 210.226 Q2195.74 210.226 2199.05 206.985 Q2202.38 203.745 2202.38 196.754 Q2202.38 189.809 2199.05 186.592 Q2195.74 183.351 2188.59 183.351 L2182.94 183.351 M2178.26 179.509 L2187.87 179.509 Q2197.92 179.509 2202.61 183.698 Q2207.31 187.865 2207.31 196.754 Q2207.31 205.689 2202.59 209.879 Q2197.87 214.069 2187.87 214.069 L2178.26 214.069 L2178.26 179.509 Z\" fill=\"#000000\" fill-rule=\"evenodd\" fill-opacity=\"1\" /><path clip-path=\"url(#clip130)\" d=\"M2214.77 179.509 L2221.73 179.509 L2230.55 203.027 L2239.42 179.509 L2246.39 179.509 L2246.39 214.069 L2241.83 214.069 L2241.83 183.722 L2232.92 207.425 L2228.22 207.425 L2219.3 183.722 L2219.3 214.069 L2214.77 214.069 L2214.77 179.509 Z\" fill=\"#000000\" fill-rule=\"evenodd\" fill-opacity=\"1\" /><path clip-path=\"url(#clip130)\" d=\"M2260.35 183.351 L2260.35 196.337 L2266.23 196.337 Q2269.49 196.337 2271.27 194.647 Q2273.05 192.958 2273.05 189.833 Q2273.05 186.731 2271.27 185.041 Q2269.49 183.351 2266.23 183.351 L2260.35 183.351 M2255.67 179.509 L2266.23 179.509 Q2272.04 179.509 2275 182.147 Q2277.98 184.763 2277.98 189.833 Q2277.98 194.948 2275 197.564 Q2272.04 200.18 2266.23 200.18 L2260.35 200.18 L2260.35 214.069 L2255.67 214.069 L2255.67 179.509 Z\" fill=\"#000000\" fill-rule=\"evenodd\" fill-opacity=\"1\" /><polyline clip-path=\"url(#clip130)\" style=\"stroke:#3da44d; stroke-linecap:round; stroke-linejoin:round; stroke-width:4; stroke-opacity:1; fill:none\" points=\"\n",
       "  2108.03,248.629 2168.23,248.629 \n",
       "  \"/>\n",
       "<path clip-path=\"url(#clip130)\" d=\"M2178.26 231.349 L2182.94 231.349 L2182.94 265.909 L2178.26 265.909 L2178.26 231.349 Z\" fill=\"#000000\" fill-rule=\"evenodd\" fill-opacity=\"1\" /><path clip-path=\"url(#clip130)\" d=\"M2196.92 249.404 L2196.92 262.066 L2204.42 262.066 Q2208.19 262.066 2210 260.515 Q2211.83 258.941 2211.83 255.723 Q2211.83 252.483 2210 250.955 Q2208.19 249.404 2204.42 249.404 L2196.92 249.404 M2196.92 235.191 L2196.92 245.608 L2203.84 245.608 Q2207.27 245.608 2208.93 244.335 Q2210.62 243.038 2210.62 240.399 Q2210.62 237.784 2208.93 236.487 Q2207.27 235.191 2203.84 235.191 L2196.92 235.191 M2192.24 231.349 L2204.19 231.349 Q2209.54 231.349 2212.43 233.571 Q2215.32 235.793 2215.32 239.89 Q2215.32 243.062 2213.84 244.937 Q2212.36 246.811 2209.49 247.274 Q2212.94 248.015 2214.84 250.376 Q2216.76 252.714 2216.76 256.233 Q2216.76 260.862 2213.61 263.385 Q2210.46 265.909 2204.65 265.909 L2192.24 265.909 L2192.24 231.349 Z\" fill=\"#000000\" fill-rule=\"evenodd\" fill-opacity=\"1\" /><path clip-path=\"url(#clip130)\" d=\"M2224.77 231.349 L2231.73 231.349 L2240.55 254.867 L2249.42 231.349 L2256.39 231.349 L2256.39 265.909 L2251.83 265.909 L2251.83 235.562 L2242.92 259.265 L2238.22 259.265 L2229.3 235.562 L2229.3 265.909 L2224.77 265.909 L2224.77 231.349 Z\" fill=\"#000000\" fill-rule=\"evenodd\" fill-opacity=\"1\" /><path clip-path=\"url(#clip130)\" d=\"M2265.67 231.349 L2285.53 231.349 L2285.53 235.284 L2270.35 235.284 L2270.35 245.469 L2284.05 245.469 L2284.05 249.404 L2270.35 249.404 L2270.35 265.909 L2265.67 265.909 L2265.67 231.349 Z\" fill=\"#000000\" fill-rule=\"evenodd\" fill-opacity=\"1\" /><polyline clip-path=\"url(#clip130)\" style=\"stroke:#c271d2; stroke-linecap:round; stroke-linejoin:round; stroke-width:4; stroke-opacity:1; fill:none\" points=\"\n",
       "  2108.03,300.469 2168.23,300.469 \n",
       "  \"/>\n",
       "<path clip-path=\"url(#clip130)\" d=\"M2206.13 285.851 L2206.13 290.781 Q2203.77 288.582 2201.09 287.494 Q2198.42 286.406 2195.42 286.406 Q2189.49 286.406 2186.34 290.04 Q2183.19 293.652 2183.19 300.503 Q2183.19 307.332 2186.34 310.966 Q2189.49 314.577 2195.42 314.577 Q2198.42 314.577 2201.09 313.489 Q2203.77 312.401 2206.13 310.202 L2206.13 315.087 Q2203.68 316.753 2200.92 317.587 Q2198.19 318.42 2195.14 318.42 Q2187.29 318.42 2182.78 313.628 Q2178.26 308.813 2178.26 300.503 Q2178.26 292.17 2182.78 287.378 Q2187.29 282.564 2195.14 282.564 Q2198.24 282.564 2200.97 283.397 Q2203.73 284.207 2206.13 285.851 Z\" fill=\"#000000\" fill-rule=\"evenodd\" fill-opacity=\"1\" /><path clip-path=\"url(#clip130)\" d=\"M2213.36 283.189 L2220.32 283.189 L2229.14 306.707 L2238.01 283.189 L2244.98 283.189 L2244.98 317.749 L2240.42 317.749 L2240.42 287.402 L2231.5 311.105 L2226.8 311.105 L2217.89 287.402 L2217.89 317.749 L2213.36 317.749 L2213.36 283.189 Z\" fill=\"#000000\" fill-rule=\"evenodd\" fill-opacity=\"1\" /><path clip-path=\"url(#clip130)\" d=\"M2254.26 283.189 L2276.11 283.189 L2276.11 287.124 L2258.93 287.124 L2258.93 297.355 L2275.39 297.355 L2275.39 301.29 L2258.93 301.29 L2258.93 313.813 L2276.53 313.813 L2276.53 317.749 L2254.26 317.749 L2254.26 283.189 Z\" fill=\"#000000\" fill-rule=\"evenodd\" fill-opacity=\"1\" /></svg>\n"
      ]
     },
     "execution_count": 50,
     "metadata": {},
     "output_type": "execute_result"
    }
   ],
   "source": [
    "Plots.default(lw=2)\n",
    "i = 1\n",
    "pl = plot(xlabel=\"time\", ylabel=L\"P(x_{%$i}^t=I)\", legend=:bottomright)\n",
    "plot!(pl, 0:Δt:T, p_bp[i], label=\"MPBP\")\n",
    "plot!(pl, 0:Δt:T, p_dmp_disc[i], label=\"DMP\")\n",
    "plot!(pl, 0:Δt:T, p_ibmf_disc[i], label=\"IBMF\")\n",
    "plot!(pl, 0:Δt:T, p_cme_disc[i], label=\"CME\")\n",
    "scatter!(pl, 0:Δt:T, value.(p_mc[i]), c=:black, m=:diamond, ms=1.5, label=\"MC\")\n",
    "\n",
    "err_bp = [mean(abs(p_bp[i][t]-p_mc[i][t]) for i in 1:N) for t in 1:T+1]\n",
    "err_dmp_disc = [mean(abs(p_dmp_disc[i][t]-p_mc[i][t]) for i in 1:N) for t in 1:T+1]\n",
    "err_ibmf_disc = [mean(abs(p_ibmf_disc[i][t]-p_mc[i][t]) for i in 1:N) for t in 1:T+1]\n",
    "err_cme_disc = [mean(abs(p_cme_disc[i][t]-p_mc[i][t]) for i in 1:N) for t in 1:T+1]\n",
    "\n",
    "plot!(pl, inset=(1, bbox(0.3, 0.25, 0.5, 0.6)), subplot=2)\n",
    "plot!(pl[2], xlabel=\"time\", ylabel=\"error\", xticks=0:10:T)\n",
    "plot!(pl[2], 0:Δt:T, err_bp, label=\"MPBP\")\n",
    "plot!(pl[2], 0:Δt:T, err_dmp_disc, label=\"DMP\")\n",
    "plot!(pl[2], 0:Δt:T, err_ibmf_disc, label=\"IBMF\")\n",
    "plot!(pl[2], 0:Δt:T, err_cme_disc, label=\"CME\")\n",
    "plot(plot(pl[1]), plot(pl[2]))"
   ]
  },
  {
   "cell_type": "code",
   "execution_count": 51,
   "metadata": {
    "ExecuteTime": {
     "end_time": "2023-04-27T17:31:37.727000+02:00",
     "start_time": "2023-04-27T15:31:37.517Z"
    }
   },
   "outputs": [],
   "source": [
    "jldsave(\"plot_data/sis_compare_meanfield.jld2\"; T, N, c, λ, ρ, γ, p_bp, p_mc, p_ibmf_disc, p_dmp_disc,\n",
    "    p_cme_disc);"
   ]
  },
  {
   "cell_type": "code",
   "execution_count": null,
   "metadata": {},
   "outputs": [],
   "source": []
  }
 ],
 "metadata": {
  "kernelspec": {
   "display_name": "Julia 1.8.0 (10 threads) 1.8.0",
   "language": "julia",
   "name": "julia-1.8.0-(10-threads)-1.8"
  },
  "language_info": {
   "file_extension": ".jl",
   "mimetype": "application/julia",
   "name": "julia",
   "version": "1.8.0"
  },
  "notify_time": "30",
  "varInspector": {
   "cols": {
    "lenName": 16,
    "lenType": 16,
    "lenVar": 40
   },
   "kernels_config": {
    "python": {
     "delete_cmd_postfix": "",
     "delete_cmd_prefix": "del ",
     "library": "var_list.py",
     "varRefreshCmd": "print(var_dic_list())"
    },
    "r": {
     "delete_cmd_postfix": ") ",
     "delete_cmd_prefix": "rm(",
     "library": "var_list.r",
     "varRefreshCmd": "cat(var_dic_list()) "
    }
   },
   "types_to_exclude": [
    "module",
    "function",
    "builtin_function_or_method",
    "instance",
    "_Feature"
   ],
   "window_display": false
  }
 },
 "nbformat": 4,
 "nbformat_minor": 5
}
