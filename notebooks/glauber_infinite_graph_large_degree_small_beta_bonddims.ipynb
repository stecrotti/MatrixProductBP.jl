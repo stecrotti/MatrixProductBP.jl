{
 "cells": [
  {
   "cell_type": "markdown",
   "metadata": {},
   "source": [
    "# Glauber on infinite random $k$-regular graph\n",
    "Compute magnetization in the thermodynamic limit $N\\to\\infty$ for random $k$-regular graphs with $k=8$.\n",
    "\n",
    "Compare the steady-state magnetization with its equilibrium value."
   ]
  },
  {
   "cell_type": "code",
   "execution_count": 2,
   "metadata": {
    "ExecuteTime": {
     "end_time": "2023-02-22T10:47:40.016000+01:00",
     "start_time": "2023-02-22T09:47:40.003Z"
    }
   },
   "outputs": [],
   "source": [
    "using MatrixProductBP, MatrixProductBP.Models\n",
    "using Plots\n",
    "import ProgressMeter; ProgressMeter.ijulia_behavior(:clear)\n",
    "using JLD2\n",
    "using LaTeXStrings;"
   ]
  },
  {
   "cell_type": "code",
   "execution_count": 58,
   "metadata": {
    "ExecuteTime": {
     "end_time": "2023-02-22T10:55:02.575000+01:00",
     "start_time": "2023-02-22T09:55:02.560Z"
    }
   },
   "outputs": [],
   "source": [
    "T = 25         # final time\n",
    "k = 8          # degree\n",
    "m⁰ = 0.3       # magnetization at time zero\n",
    "\n",
    "β = 1.0\n",
    "J = 0.2\n",
    "h = 0.0;"
   ]
  },
  {
   "cell_type": "code",
   "execution_count": 59,
   "metadata": {
    "ExecuteTime": {
     "end_time": "2023-02-22T13:58:05.901000+01:00",
     "start_time": "2023-02-22T09:55:12.055Z"
    }
   },
   "outputs": [
    {
     "data": {
      "text/plain": [
       "(m = 0.8596433979493756, r = 0.7570683387764126, e = -0.6056546710211301)"
      ]
     },
     "execution_count": 59,
     "metadata": {},
     "output_type": "execute_result"
    }
   ],
   "source": [
    "m_eq, = equilibrium_observables(RandomRegular(k), J; β, h)"
   ]
  },
  {
   "cell_type": "code",
   "execution_count": 60,
   "metadata": {
    "ExecuteTime": {
     "end_time": "2023-02-22T10:55:04.639000+01:00",
     "start_time": "2023-02-22T09:55:04.519Z"
    }
   },
   "outputs": [],
   "source": [
    "wᵢ = fill(HomogeneousGlauberFactor(J, h, β), T+1)\n",
    "ϕᵢ = [ t == 0 ? [(1+m⁰)/2, (1-m⁰)/2] : ones(2) for t in 0:T]\n",
    "bp = mpbp_infinite_graph(k, wᵢ, 2, ϕᵢ);"
   ]
  },
  {
   "cell_type": "code",
   "execution_count": null,
   "metadata": {
    "ExecuteTime": {
     "end_time": "2023-02-22T13:58:05.527000+01:00",
     "start_time": "2023-02-22T09:55:06.864Z"
    }
   },
   "outputs": [
    {
     "name": "stderr",
     "output_type": "stream",
     "text": [
      "\r",
      "\u001b[32mRunning MPBP: iter 15 \t Time: 0:01:16\u001b[39m\r\n",
      "\u001b[34m  Δ:                8.680811601036176e-5\u001b[39m\r\n",
      "\u001b[34m  SVD Matrix size:  10\u001b[39m"
     ]
    }
   ],
   "source": [
    "matrix_sizes = [2, 5, 10, 25]\n",
    "maxiters = fill(50, length(matrix_sizes))\n",
    "iters = zeros(Int, length(maxiters))\n",
    "tol = 1e-4\n",
    "spin(x, i) = 3-2x\n",
    "m = Vector{Vector{Float64}}(undef, length(matrix_sizes))\n",
    "for i in eachindex(maxiters)\n",
    "    reset!(bp)\n",
    "    for j in 1:i\n",
    "        iters[i], _ = iterate!(bp; maxiter=maxiters[j], svd_trunc=TruncBond(matrix_sizes[j]), tol)\n",
    "    end\n",
    "    m[i] = only(means(spin, bp))\n",
    "end"
   ]
  },
  {
   "cell_type": "code",
   "execution_count": null,
   "metadata": {
    "ExecuteTime": {
     "end_time": "2023-02-22T13:58:05.941000+01:00",
     "start_time": "2023-02-22T09:55:14.058Z"
    }
   },
   "outputs": [],
   "source": [
    "using ColorSchemes\n",
    "\n",
    "cg = cgrad(:blues, length(matrix_sizes), categorical=true) |> reverse\n",
    "pl = hline([m_eq], c=:red, ls=:dash, lw=1, label=\"equilibrium\")\n",
    "for i in eachindex(matrix_sizes)\n",
    "    plot!(pl, 0:T, m[i], xlabel=\"time\", ylabel=\"magnetization\", label=\"MPBP - $(matrix_sizes[i])\",\n",
    "        size=(500,300), xticks=0:2:T, ms=3, title=\"Glauber infinite $k-regular\", titlefontsize=12,\n",
    "        legend=:bottomright, msc=:auto, c=cg[i])\n",
    "end\n",
    "pl"
   ]
  },
  {
   "cell_type": "markdown",
   "metadata": {},
   "source": [
    "### Compare with Monte Carlo on finite graphs"
   ]
  },
  {
   "cell_type": "code",
   "execution_count": 29,
   "metadata": {
    "ExecuteTime": {
     "end_time": "2023-02-22T14:19:19.461000+01:00",
     "start_time": "2023-02-22T13:19:15.751Z"
    }
   },
   "outputs": [],
   "source": [
    "using Graphs, IndexedGraphs, Statistics\n",
    "\n",
    "N = 5*10^3\n",
    "g = random_regular_graph(N, k)\n",
    "ising = Ising(IndexedGraph(g); J=fill(J, ne(g)), h=fill(h, N), β)\n",
    "bp_mc = mpbp(Glauber(ising, T); ϕ = fill(ϕᵢ, N))\n",
    "sms = SoftMarginSampler(bp_mc);"
   ]
  },
  {
   "cell_type": "code",
   "execution_count": 30,
   "metadata": {
    "ExecuteTime": {
     "end_time": "2023-02-22T14:21:15.564000+01:00",
     "start_time": "2023-02-22T13:19:16.694Z"
    }
   },
   "outputs": [
    {
     "name": "stderr",
     "output_type": "stream",
     "text": [
      "\u001b[32mSoftMargin sampling 100%|████████████████████████████████| Time: 0:00:22\u001b[39m\n"
     ]
    }
   ],
   "source": [
    "sample!(sms, 10^3)\n",
    "spin(x) = 3-2x\n",
    "m_mc = [vec(spin.(mean(X, dims=1))) for X in sms.X];"
   ]
  },
  {
   "cell_type": "code",
   "execution_count": null,
   "metadata": {},
   "outputs": [],
   "source": [
    "plot!(pl, 0:T, mean(m_mc), c=:black, m=:diamond, ms=3, msc=:auto, label=\"\", st=:scatter)"
   ]
  },
  {
   "cell_type": "code",
   "execution_count": null,
   "metadata": {},
   "outputs": [],
   "source": [
    "# jldsave(\"plot_data/glauber_infinite8RRG_bonddims.jld2\"; T, k, m_mc, m, m_eq);"
   ]
  }
 ],
 "metadata": {
  "kernelspec": {
   "display_name": "Julia 1.9.0",
   "language": "julia",
   "name": "julia-1.9"
  },
  "language_info": {
   "file_extension": ".jl",
   "mimetype": "application/julia",
   "name": "julia",
   "version": "1.9.0"
  },
  "notify_time": "30",
  "varInspector": {
   "cols": {
    "lenName": 16,
    "lenType": 16,
    "lenVar": 40
   },
   "kernels_config": {
    "python": {
     "delete_cmd_postfix": "",
     "delete_cmd_prefix": "del ",
     "library": "var_list.py",
     "varRefreshCmd": "print(var_dic_list())"
    },
    "r": {
     "delete_cmd_postfix": ") ",
     "delete_cmd_prefix": "rm(",
     "library": "var_list.r",
     "varRefreshCmd": "cat(var_dic_list()) "
    }
   },
   "types_to_exclude": [
    "module",
    "function",
    "builtin_function_or_method",
    "instance",
    "_Feature"
   ],
   "window_display": false
  }
 },
 "nbformat": 4,
 "nbformat_minor": 4
}
