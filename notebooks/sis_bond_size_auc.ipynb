{
 "cells": [
  {
   "cell_type": "code",
   "execution_count": 1,
   "metadata": {},
   "outputs": [],
   "source": [
    "using MatrixProductBP, MatrixProductBP.Models\n",
    "using Graphs, Plots, IndexedGraphs, Statistics, InvertedIndices\n",
    "import ProgressMeter; ProgressMeter.ijulia_behavior(:clear);"
   ]
  },
  {
   "cell_type": "code",
   "execution_count": 24,
   "metadata": {},
   "outputs": [],
   "source": [
    "T = 10\n",
    "N = 100\n",
    "k = 4\n",
    "λ = 0.15\n",
    "ρ = 0.25\n",
    "γ = 0.1;"
   ]
  },
  {
   "cell_type": "code",
   "execution_count": 25,
   "metadata": {},
   "outputs": [],
   "source": [
    "require_convergence = false\n",
    "maxiter = 100;"
   ]
  },
  {
   "cell_type": "code",
   "execution_count": 26,
   "metadata": {},
   "outputs": [],
   "source": [
    "matrix_sizes = [1, 2, 4, 6]\n",
    "nobs = N÷3\n",
    "infected_true = Vector{Int64}[]\n",
    "infected_guess = Vector{Vector{Int64}}[]\n",
    "Xs = Matrix{Int64}[];"
   ]
  },
  {
   "cell_type": "code",
   "execution_count": 27,
   "metadata": {},
   "outputs": [
    {
     "name": "stdout",
     "output_type": "stream",
     "text": [
      "Instance 1 of 20\n",
      "\tRun 1 of 4. Matrix size 1\n"
     ]
    },
    {
     "name": "stdout",
     "output_type": "stream",
     "text": [
      "\tRun 2 of 4. Matrix size 2\n"
     ]
    }
   ],
   "source": [
    "ninstances = 20\n",
    "for n in 1:ninstances\n",
    "    println(\"Instance $n of $ninstances\")\n",
    "    gg = random_regular_graph(N, k)\n",
    "    g = IndexedGraph(gg)\n",
    "    bp = mpbp(SIS(g, λ, ρ, T; γ))\n",
    "    X, _ = onesample(bp)\n",
    "    push!(Xs, X)\n",
    "    _, observed_times_nodes = draw_node_observations!(bp.ϕ, X, nobs, last_time=true)\n",
    "    observed_nodes = [obs[1] for obs in observed_times_nodes]\n",
    "    not_observed = (1:N)[Not(observed_nodes)]\n",
    "    push!(infected_true, findall(isequal(INFECTED), X[:,end]))\n",
    "    push!(infected_guess, Vector{Int64}[])\n",
    "    for a in eachindex(matrix_sizes)\n",
    "        d = matrix_sizes[a]\n",
    "        svd_trunc = TruncBond(d)\n",
    "        println(\"\\tRun $a of $(length(matrix_sizes)). Matrix size $d\")\n",
    "        reset!(bp; observations=false)\n",
    "        iters, _ = iterate!(bp; maxiter, tol=1e-3, svd_trunc, cb=CB_BP(bp; showprogress=false))\n",
    "        if require_convergence\n",
    "            iters == maxiter && error(\"BP did not converge\")\n",
    "        end\n",
    "        b = beliefs(bp)\n",
    "        push!(infected_guess[n], sort(not_observed; by=i->b[i][end][SUSCEPTIBLE]))\n",
    "    end\n",
    "end"
   ]
  },
  {
   "cell_type": "code",
   "execution_count": null,
   "metadata": {},
   "outputs": [],
   "source": [
    "aucs_avg = [mean(auc(infected_guess[n][a], infected_true[n]) for n in 1:ninstances) \n",
    "    for a in eachindex(matrix_sizes)]\n",
    "aucs_std = [std(auc(infected_guess[n][a], infected_true[n]) for n in 1:ninstances) \n",
    "    for a in eachindex(matrix_sizes)] ./ sqrt(length(infected_guess)); "
   ]
  },
  {
   "cell_type": "code",
   "execution_count": null,
   "metadata": {},
   "outputs": [],
   "source": [
    "plot(matrix_sizes, aucs_avg, ribbon=aucs_std, xlabel=\"matrix size\", ylabel=\"AUC\", label=\"\", m=:o)"
   ]
  },
  {
   "cell_type": "code",
   "execution_count": null,
   "metadata": {},
   "outputs": [],
   "source": []
  }
 ],
 "metadata": {
  "kernelspec": {
   "display_name": "Julia 1.8.3",
   "language": "julia",
   "name": "julia-1.8"
  },
  "language_info": {
   "file_extension": ".jl",
   "mimetype": "application/julia",
   "name": "julia",
   "version": "1.8.3"
  },
  "orig_nbformat": 4,
  "vscode": {
   "interpreter": {
    "hash": "916dbcbb3f70747c44a77c7bcd40155683ae19c65e1c03b4aa3499c5328201f1"
   }
  }
 },
 "nbformat": 4,
 "nbformat_minor": 2
}
