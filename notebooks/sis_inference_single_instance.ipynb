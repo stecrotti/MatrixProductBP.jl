{
 "cells": [
  {
   "cell_type": "code",
   "execution_count": 1,
   "metadata": {
    "ExecuteTime": {
     "end_time": "2023-02-14T15:48:30.566000+01:00",
     "start_time": "2023-02-14T14:47:43.583Z"
    }
   },
   "outputs": [
    {
     "name": "stderr",
     "output_type": "stream",
     "text": [
      "┌ Info: Precompiling MatrixProductBP [3d39929c-b583-45fa-b331-3f50b693a38a]\n",
      "└ @ Base loading.jl:1662\n"
     ]
    }
   ],
   "source": [
    "using MatrixProductBP, MatrixProductBP.Models\n",
    "using Graphs, Plots, Printf, IndexedGraphs, Statistics, Random\n",
    "import ProgressMeter; ProgressMeter.ijulia_behavior(:clear)\n",
    "using JLD2;"
   ]
  },
  {
   "cell_type": "code",
   "execution_count": 2,
   "metadata": {
    "ExecuteTime": {
     "end_time": "2023-02-14T15:48:34.349000+01:00",
     "start_time": "2023-02-14T14:47:44.178Z"
    }
   },
   "outputs": [],
   "source": [
    "include(\"../../telegram/notifications.jl\");"
   ]
  },
  {
   "cell_type": "code",
   "execution_count": 74,
   "metadata": {
    "ExecuteTime": {
     "end_time": "2023-02-14T16:13:48.769000+01:00",
     "start_time": "2023-02-14T15:13:48.255Z"
    }
   },
   "outputs": [],
   "source": [
    "T = 50\n",
    "N = 100\n",
    "c = 3\n",
    "gg = erdos_renyi(N, c/N)\n",
    "# k = 4\n",
    "# gg = random_regular_graph(N, k)\n",
    "g = IndexedGraph(gg)\n",
    "λ = 16 /3 / 50\n",
    "ρ = 1 / 30\n",
    "σ = 1 / 30\n",
    "γ = 0.02;"
   ]
  },
  {
   "cell_type": "code",
   "execution_count": 107,
   "metadata": {
    "ExecuteTime": {
     "end_time": "2023-02-14T16:27:11.065000+01:00",
     "start_time": "2023-02-14T15:27:10.749Z"
    }
   },
   "outputs": [],
   "source": [
    "rng = MersenneTwister(111)\n",
    "sis = SIRS(g, λ, ρ, σ, T; γ)\n",
    "# sis = SIS(g, λ, ρ, T; γ)\n",
    "bp = mpbp(sis)\n",
    "cb = CB_BP(bp);"
   ]
  },
  {
   "cell_type": "code",
   "execution_count": 108,
   "metadata": {
    "ExecuteTime": {
     "end_time": "2023-02-14T16:27:24.263000+01:00",
     "start_time": "2023-02-14T15:27:23.741Z"
    }
   },
   "outputs": [],
   "source": [
    "obs_times = [30]\n",
    "nobs = N * length(obs_times)\n",
    "obs_fraction = N / nobs\n",
    "X, observed = draw_node_observations!(bp, nobs, times = obs_times .+ 1, softinf=Inf; rng);\n",
    "# X, observed = draw_node_observations!(bp, nobs, softinf=Inf; rng);"
   ]
  },
  {
   "cell_type": "code",
   "execution_count": null,
   "metadata": {
    "ExecuteTime": {
     "start_time": "2023-02-14T15:28:06.565Z"
    }
   },
   "outputs": [],
   "source": [
    "reset!(bp);"
   ]
  },
  {
   "cell_type": "code",
   "execution_count": null,
   "metadata": {
    "ExecuteTime": {
     "start_time": "2023-02-14T15:27:24.013Z"
    }
   },
   "outputs": [
    {
     "name": "stderr",
     "output_type": "stream",
     "text": [
      "\r",
      "\u001b[32mRunning MPBP: iter 17 \t Time: 0:30:22\u001b[39m\r\n",
      "\u001b[34m  Δ:                0.0024116700938867446\u001b[39m\r\n",
      "\u001b[34m  SVD Matrix size:  8\u001b[39m"
     ]
    }
   ],
   "source": [
    "svd_trunc = TruncBond(8)\n",
    "# @telegram \"sis inference single instance\" begin\n",
    "    iters, cb = iterate!(bp, maxiter=50; svd_trunc, cb, tol=1e-3, damp=0.5);\n",
    "# end;"
   ]
  },
  {
   "cell_type": "code",
   "execution_count": null,
   "metadata": {
    "ExecuteTime": {
     "start_time": "2023-02-14T15:27:24.402Z"
    }
   },
   "outputs": [],
   "source": [
    "plot(cb.Δs, ylabel=\"convergence error\", xlabel=\"iters\", yaxis=:log10, \n",
    "    size=(300,200), label=\"\", xticks=1:(length(cb.Δs)÷3):length(cb.Δs))"
   ]
  },
  {
   "cell_type": "code",
   "execution_count": null,
   "metadata": {
    "ExecuteTime": {
     "start_time": "2023-02-14T15:27:24.734Z"
    }
   },
   "outputs": [],
   "source": [
    "b_bp = beliefs(bp)\n",
    "p_bp = [[bᵗ[INFECTED] for bᵗ in bb] for bb in b_bp];"
   ]
  },
  {
   "cell_type": "code",
   "execution_count": null,
   "metadata": {
    "ExecuteTime": {
     "start_time": "2023-02-14T15:27:25.061Z"
    },
    "code_folding": []
   },
   "outputs": [],
   "source": [
    "true_infections = [UnitRange{Int64}[] for _ in 1:N]\n",
    "for i in 1:N\n",
    "    start = -1\n",
    "    for t in 1:T+1\n",
    "        if X[i,t] == INFECTED\n",
    "            start == -1 && (start = t)\n",
    "        else\n",
    "            start != -1 && ( push!(true_infections[i], start-1:t-2); start = -1 )\n",
    "        end\n",
    "    end\n",
    "    start != -1 && push!(true_infections[i], start-1:T)\n",
    "end"
   ]
  },
  {
   "cell_type": "code",
   "execution_count": null,
   "metadata": {
    "ExecuteTime": {
     "start_time": "2023-02-14T15:27:25.319Z"
    }
   },
   "outputs": [],
   "source": [
    "using ColorSchemes\n",
    "cg = cgrad(:deep)[1:150]\n",
    "cg = cgrad(:GnBu_3, rev=true)\n",
    "cg = cgrad(:haline)[150:end]\n",
    "cg = cgrad(:tokyo, rev=false)[50:end]\n",
    "cg = cgrad(:viridis, alpha=1.0)[80:end]\n",
    "cg = cgrad([theme_palette(:auto)[1], :yellow], 0.6)"
   ]
  },
  {
   "cell_type": "code",
   "execution_count": null,
   "metadata": {
    "ExecuteTime": {
     "start_time": "2023-02-14T15:27:25.750Z"
    }
   },
   "outputs": [],
   "source": [
    "X_bp = reduce(hcat, p_bp)\n",
    "\n",
    "perm = sortperm(true_infections)\n",
    "# perm = collect(eachindex(true_infections))\n",
    "true_infections_sorted = true_infections[perm]\n",
    "X_bp_sorted = X_bp[:,perm]\n",
    "\n",
    "pl = heatmap(1:N, 0:T, X_bp_sorted, c=cg, xlabel=\"i\", ylabel=\"t\", colorbar_title=\"\\$P(x_i^t=I)\\$\")\n",
    "\n",
    "pl2 = deepcopy(pl)\n",
    "pl3 = plot(xlabel=\"i\", ylabel=\"t\", xlims=(1,N));"
   ]
  },
  {
   "cell_type": "code",
   "execution_count": null,
   "metadata": {
    "ExecuteTime": {
     "start_time": "2023-02-14T15:27:26.205Z"
    }
   },
   "outputs": [],
   "source": [
    "for (i,t) in observed\n",
    "    scatter!(pl, invperm(perm)[i:i], [t-1], m=:o, ms=3, msc=:auto, c=:red, label=\"\")\n",
    "end"
   ]
  },
  {
   "cell_type": "code",
   "execution_count": null,
   "metadata": {
    "ExecuteTime": {
     "start_time": "2023-02-14T15:27:26.597Z"
    }
   },
   "outputs": [],
   "source": [
    "label = \"true infections\"\n",
    "for i in 1:N\n",
    "    for a in true_infections_sorted[i]\n",
    "        plot!(pl, [i,i], [a.start-0.1,a.stop+0.1], c=:black, label=label, lw=1)\n",
    "        label = \"\"\n",
    "        plot!(pl3, [i,i], [a.start-0.1,a.stop+0.1], c=:black, label=label, lw=1)\n",
    "    end\n",
    "end"
   ]
  },
  {
   "cell_type": "code",
   "execution_count": null,
   "metadata": {
    "ExecuteTime": {
     "start_time": "2023-02-14T15:27:27.440Z"
    }
   },
   "outputs": [],
   "source": [
    "# hline!(pl, obs_times, c=:orange, ls=:dash, label=\"observations\", legend=:outertopright,\n",
    "#     size=(1000,400))\n",
    "# println(\"Observations at times: \", obs_times)\n",
    "plot(pl, margin=5Plots.mm, \n",
    "    title=\"SIRS on single instance $k-regular. λ=$(round(λ, digits=3)), ρ=$(round(ρ, digits=3)), σ=$(round(σ, digits=3))\",\n",
    "    #Fraction of observed nodes: $(round(obs_fraction, digits=3))\", \n",
    "    titlefontsize=12, size=(1000,400), legend=:bottomright, yticks=0:(T÷5):T, widen=false)"
   ]
  },
  {
   "cell_type": "code",
   "execution_count": null,
   "metadata": {
    "ExecuteTime": {
     "start_time": "2023-02-14T15:27:31.927Z"
    }
   },
   "outputs": [],
   "source": [
    "plot(pl2, pl3, layout=(2,1))"
   ]
  },
  {
   "cell_type": "code",
   "execution_count": null,
   "metadata": {},
   "outputs": [],
   "source": []
  },
  {
   "cell_type": "code",
   "execution_count": null,
   "metadata": {
    "ExecuteTime": {
     "start_time": "2023-02-13T16:44:25.565Z"
    }
   },
   "outputs": [],
   "source": [
    "# jldsave(\"plot_data/sis_inference_single_instance.jld2\"; \n",
    "#     N, T, X_bp, true_infections, obs_times, k, λ, ρ, obs_fraction);"
   ]
  },
  {
   "cell_type": "code",
   "execution_count": null,
   "metadata": {},
   "outputs": [],
   "source": []
  }
 ],
 "metadata": {
  "kernelspec": {
   "display_name": "Julia 1.8.0 (10 threads) 1.8.0",
   "language": "julia",
   "name": "julia-1.8.0-(10-threads)-1.8"
  },
  "language_info": {
   "file_extension": ".jl",
   "mimetype": "application/julia",
   "name": "julia",
   "version": "1.8.0"
  },
  "latex_envs": {
   "LaTeX_envs_menu_present": true,
   "autoclose": true,
   "autocomplete": true,
   "bibliofile": "biblio.bib",
   "cite_by": "apalike",
   "current_citInitial": 1,
   "eqLabelWithNumbers": true,
   "eqNumInitial": 1,
   "hotkeys": {
    "equation": "Ctrl-E",
    "itemize": "Ctrl-I"
   },
   "labels_anchors": false,
   "latex_user_defs": false,
   "report_style_numbering": false,
   "user_envs_cfg": false
  },
  "notify_time": "30",
  "varInspector": {
   "cols": {
    "lenName": 16,
    "lenType": 16,
    "lenVar": 40
   },
   "kernels_config": {
    "python": {
     "delete_cmd_postfix": "",
     "delete_cmd_prefix": "del ",
     "library": "var_list.py",
     "varRefreshCmd": "print(var_dic_list())"
    },
    "r": {
     "delete_cmd_postfix": ") ",
     "delete_cmd_prefix": "rm(",
     "library": "var_list.r",
     "varRefreshCmd": "cat(var_dic_list()) "
    }
   },
   "types_to_exclude": [
    "module",
    "function",
    "builtin_function_or_method",
    "instance",
    "_Feature"
   ],
   "window_display": false
  }
 },
 "nbformat": 4,
 "nbformat_minor": 4
}
