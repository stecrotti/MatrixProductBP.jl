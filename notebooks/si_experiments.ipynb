{
 "cells": [
  {
   "cell_type": "code",
   "execution_count": 1,
   "metadata": {},
   "outputs": [],
   "source": [
    "using MatrixProductBP, MatrixProductBP.Models, MatrixProductBP.MPEMs\n",
    "using IndexedGraphs\n",
    "import ProgressMeter; ProgressMeter.ijulia_behavior(:clear)\n",
    "import Random: GLOBAL_RNG;"
   ]
  },
  {
   "cell_type": "code",
   "execution_count": 2,
   "metadata": {},
   "outputs": [],
   "source": [
    "import MatrixProductBP.MPEMs: MPEM1, evaluate"
   ]
  },
  {
   "cell_type": "code",
   "execution_count": 53,
   "metadata": {},
   "outputs": [
    {
     "data": {
      "text/plain": [
       "rand_sis_mpem1 (generic function with 2 methods)"
      ]
     },
     "execution_count": 53,
     "metadata": {},
     "output_type": "execute_result"
    }
   ],
   "source": [
    "# probability of infection at time 0, 1, 2, ..., T, Inf\n",
    "# joint probability for N particles\n",
    "struct Probt{N}\n",
    "    p :: Array{Float64, N}\n",
    "    \n",
    "    function Probt(p::Array{Float64}) where {N<:Integer}\n",
    "        @assert all(x->x≥0, p)\n",
    "        @assert sum(p) ≈ 1\n",
    "        new{length(size(p))}(p)\n",
    "    end\n",
    "end\n",
    "\n",
    "function rand_probt(T::Integer, N::Integer=1; rng=GLOBAL_RNG)\n",
    "    p = rand(rng, fill(T+2,N)...)\n",
    "    p ./= sum(p)\n",
    "    Probt(p)\n",
    "end\n",
    "\n",
    "struct SIChain\n",
    "   h :: Vector{Float64}\n",
    "end\n",
    "\n",
    "function _evaluate(p::SIChain, x)\n",
    "    @assert length(x) == length(p.h)\n",
    "    prob = 1.0\n",
    "    for t in eachindex(p.h)\n",
    "        x[t]==2 && (prob *= exp(-p.h[t]))\n",
    "    end\n",
    "    for t in 1:length(x)-1\n",
    "        x[t+1] < x[t] && return 0.0\n",
    "    end    \n",
    "    return prob\n",
    "end\n",
    "\n",
    "function normalization(p::SIChain)\n",
    "    sum(_evaluate(p, x) for x in ([fill(1,t); fill(2,T-t+1)] for t in 0:length(p.h)))\n",
    "end\n",
    "\n",
    "evaluate(p::SIChain, x) = _evaluate(p, x) / normalization(p)\n",
    "\n",
    "function SIChain(pt::Probt{1})\n",
    "    h = [log(pt.p[t+1]/pt.p[t]) for t in 1:length(pt.p)-1]\n",
    "    SIChain(h)   \n",
    "end\n",
    "\n",
    "function MPEM1(p::SIChain)\n",
    "    T = length(p.h) - 1\n",
    "    tensors = map(0:T) do t\n",
    "        if t == 0\n",
    "            Float64[(x⁰==a¹) for _ in 1:1, a¹ in 1:2, x⁰ in 1:2]\n",
    "        elseif t == T\n",
    "            Float64[(xᵀ≥aᵀ)*exp(-p.h[end-1]*aᵀ)*exp(-p.h[end]*xᵀ) for aᵀ in 1:2, _ in 1:1, xᵀ in 1:2]\n",
    "        else\n",
    "            Float64[(xᵗ≥aᵗ)*exp(-p.h[t]*aᵗ)*(xᵗ==aᵗ⁺¹) for aᵗ in 1:2, aᵗ⁺¹ in 1:2, xᵗ in 1:2]\n",
    "        end\n",
    "    end\n",
    "    A = MPEM1(tensors)\n",
    "    normalize!(A)\n",
    "    A\n",
    "end\n",
    "\n",
    "function rand_sis_mpem1(T::Integer, N::Integer=1; rng=GLOBAL_RNG)\n",
    "    pt = rand_probt(t, N; rng)\n",
    "    p = SIChain(pt)\n",
    "    MPEM1(p)\n",
    "end"
   ]
  },
  {
   "cell_type": "code",
   "execution_count": 65,
   "metadata": {},
   "outputs": [],
   "source": [
    "T = 10\n",
    "N = 2\n",
    "pt = rand_probt(T, 1);"
   ]
  },
  {
   "cell_type": "code",
   "execution_count": 66,
   "metadata": {},
   "outputs": [],
   "source": [
    "p = SIChain(pt);"
   ]
  },
  {
   "cell_type": "code",
   "execution_count": 67,
   "metadata": {},
   "outputs": [
    {
     "data": {
      "text/plain": [
       "0.15465581085044877"
      ]
     },
     "execution_count": 67,
     "metadata": {},
     "output_type": "execute_result"
    }
   ],
   "source": [
    "t = 4\n",
    "x = [fill(1,t); fill(2,T-t+1)]\n",
    "evaluate(p, x)"
   ]
  },
  {
   "cell_type": "code",
   "execution_count": 68,
   "metadata": {},
   "outputs": [],
   "source": [
    "A = MPEM1(p);"
   ]
  },
  {
   "cell_type": "code",
   "execution_count": 70,
   "metadata": {},
   "outputs": [],
   "source": [
    "@assert evaluate(p, x) ≈ evaluate(A, x)\n",
    "@assert all( evaluate(p,xx) ≈ evaluate(A, xx) for xx in ([fill(1,t); fill(2,T-t+1)] for t in 0:T))"
   ]
  },
  {
   "cell_type": "code",
   "execution_count": null,
   "metadata": {},
   "outputs": [],
   "source": []
  },
  {
   "cell_type": "code",
   "execution_count": 59,
   "metadata": {},
   "outputs": [
    {
     "data": {
      "text/plain": [
       "MPEM1{Float64}([[0.8553442963572924 0.0;;; 0.0 0.8553442963572924], [0.8553442963572924 0.0; 0.0 0.0;;; 0.0 0.8553442963572924; 0.0 0.23545356059996514], [0.5358051573621487 0.0; 0.0 0.0;;; 0.0 0.5358051573621487; 0.0 0.8553442963572924], [0.8553442963572924 0.0; 0.0 0.0;;; 0.0 0.8553442963572924; 0.0 0.41569773394269377], [0.8553442963572924; 0.0;;; 0.3447426816836672; 0.7200205379462378]])"
      ]
     },
     "execution_count": 59,
     "metadata": {},
     "output_type": "execute_result"
    }
   ],
   "source": [
    "A = rand_sis_mpem1(T, 1)"
   ]
  }
 ],
 "metadata": {
  "kernelspec": {
   "display_name": "Julia (4 threads) 1.8.0",
   "language": "julia",
   "name": "julia-(4-threads)-1.8"
  },
  "language_info": {
   "file_extension": ".jl",
   "mimetype": "application/julia",
   "name": "julia",
   "version": "1.8.0"
  }
 },
 "nbformat": 4,
 "nbformat_minor": 4
}
