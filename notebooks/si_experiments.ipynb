{
 "cells": [
  {
   "cell_type": "code",
   "execution_count": 1,
   "metadata": {},
   "outputs": [
    {
     "name": "stderr",
     "output_type": "stream",
     "text": [
      "┌ Info: Precompiling MatrixProductBP [3d39929c-b583-45fa-b331-3f50b693a38a]\n",
      "└ @ Base loading.jl:1662\n"
     ]
    }
   ],
   "source": [
    "using MatrixProductBP, MatrixProductBP.Models, MatrixProductBP.MPEMs\n",
    "using IndexedGraphs\n",
    "import ProgressMeter; ProgressMeter.ijulia_behavior(:clear)\n",
    "import Random: GLOBAL_RNG;"
   ]
  },
  {
   "cell_type": "code",
   "execution_count": 2,
   "metadata": {},
   "outputs": [],
   "source": [
    "import MatrixProductBP.MPEMs: MPEM1, mpem1, MPEM2, evaluate"
   ]
  },
  {
   "cell_type": "code",
   "execution_count": 3,
   "metadata": {},
   "outputs": [
    {
     "data": {
      "text/plain": [
       "message_leq (generic function with 1 method)"
      ]
     },
     "execution_count": 3,
     "metadata": {},
     "output_type": "execute_result"
    }
   ],
   "source": [
    "# weight on time 0, 1, 2, ..., T, Inf\n",
    "struct Probt\n",
    "    p :: Vector{Float64}\n",
    "    \n",
    "    function Probt(p::Vector{Float64})\n",
    "        @assert all(x->x≥0, p)\n",
    "        new(p)\n",
    "    end\n",
    "end\n",
    "\n",
    "getT(pt::Probt) = length(pt.p) - 2\n",
    "\n",
    "function rand_probt(T::Integer; rng=GLOBAL_RNG)\n",
    "    p = rand(rng, T+2)\n",
    "#     p ./= sum(p)\n",
    "    Probt(p)\n",
    "end\n",
    "\n",
    "struct SIChain\n",
    "   q :: Vector{Vector{Float64}}\n",
    "end\n",
    "\n",
    "getT(p::SIChain) = length(p.q) - 1\n",
    "\n",
    "function _evaluate(p::SIChain, x)\n",
    "    @assert length(x) == length(p.q)\n",
    "    prob = 1.0\n",
    "    for t in eachindex(p.q)\n",
    "        prob *= p.q[t][x[t]]\n",
    "    end\n",
    "    for t in 1:length(x)-1\n",
    "        x[t+1] < x[t] && return 0.0\n",
    "    end    \n",
    "    return prob\n",
    "end\n",
    "\n",
    "function normalization(p::SIChain)\n",
    "    sum(_evaluate(p, x) for x in ([fill(1,t); fill(2,T-t+1)] for t in 0:length(p.q)))\n",
    "end\n",
    "\n",
    "evaluate(p::SIChain, x) = _evaluate(p, x) / normalization(p)\n",
    "\n",
    "function SIChain(pt::Probt)\n",
    "    q = map(1:length(pt.p)-1) do t\n",
    "       h = log(pt.p[t+1]/pt.p[t])\n",
    "        [1, exp(-h)]\n",
    "    end\n",
    "    SIChain(q)   \n",
    "end\n",
    "\n",
    "function mpem1(p::SIChain)\n",
    "    q = p.q\n",
    "    T = length(q) - 1\n",
    "    tensors = map(0:T) do t\n",
    "        if t == 0\n",
    "            Float64[(x⁰==a¹) for _ in 1:1, a¹ in 1:2, x⁰ in 1:2]\n",
    "        elseif t < T\n",
    "            Float64[(aᵗ≤xᵗ)*q[t][aᵗ]*(xᵗ==aᵗ⁺¹) for aᵗ in 1:2, aᵗ⁺¹ in 1:2, xᵗ in 1:2]\n",
    "        else\n",
    "            Float64[(aᵀ≤xᵀ)*q[t][aᵀ]*q[t+1][xᵀ] for aᵀ in 1:2, _ in 1:1, xᵀ in 1:2]\n",
    "        end\n",
    "    end\n",
    "    A = MPEM1(tensors)\n",
    "    normalize!(A)\n",
    "    A\n",
    "end\n",
    "\n",
    "function rand_sis_mpem1(T::Integer; rng=GLOBAL_RNG)\n",
    "    pt = rand_probt(T; rng)\n",
    "    p = SIChain(pt)\n",
    "    mpem1(p)\n",
    "end\n",
    "\n",
    "function message_eq(b::SIChain)\n",
    "    T = getT(b)\n",
    "    tensors = map(0:T) do t\n",
    "        if t == 0\n",
    "            Float64[(xᵢ⁰==xⱼ⁰)*(xᵢ⁰==a¹) for _ in 1:1, a¹ in 1:2, xᵢ⁰ in 1:2, xⱼ⁰ in 1:2]\n",
    "        elseif t < T\n",
    "            Float64[(xⱼᵗ==xᵢᵗ)*(xᵢᵗ==aᵗ⁺¹)*(aᵗ≤xᵢᵗ)*b.q[t][aᵗ] for aᵗ in 1:2, aᵗ⁺¹ in 1:2, xᵢᵗ in 1:2, xⱼᵗ in 1:2]\n",
    "        else\n",
    "            Float64[(xᵢᵀ==xⱼᵀ)*(aᵀ≤xᵢᵀ)*b.q[t][aᵀ]*b.q[end][xᵢᵀ] for aᵀ in 1:2, _ in 1:1, xᵢᵀ in 1:2, xⱼᵀ in 1:2]\n",
    "        end\n",
    "    end\n",
    "    A = MPEM2(tensors)\n",
    "#     normalize!(A)\n",
    "    A\n",
    "end\n",
    "\n",
    "twostates = collect(Iterators.product(1:2,1:2))[:]\n",
    "\n",
    "function message_leq(c::SIChain)\n",
    "    T = getT(c)\n",
    "    tensors = map(0:T) do t\n",
    "        if t == 0\n",
    "            Float64[(xᵢ⁰≤xⱼ⁰)*(xᵢ⁰==aᵢ¹)*(xⱼ⁰==aⱼ¹) \n",
    "                for _ in 1:1, (aᵢ¹,aⱼ¹) in twostates, xᵢ⁰ in 1:2, xⱼ⁰ in 1:2]\n",
    "        elseif t < T\n",
    "            Float64[(xᵢᵗ≤xⱼᵗ)*(xᵢᵗ==aᵢᵗ⁺¹)*(xⱼᵗ==aⱼᵗ⁺¹)*(aᵢᵗ≤xᵢᵗ)*(aⱼᵗ≤xⱼᵗ)*c.q[t][aᵢᵗ] \n",
    "                for (aᵢᵗ,aⱼᵗ) in twostates, (aᵢᵗ⁺¹,aⱼᵗ⁺¹) in twostates, xᵢᵗ in 1:2, xⱼᵗ in 1:2]\n",
    "        else\n",
    "            Float64[(xᵢᵗ≤xⱼᵗ)*(aᵢᵗ≤xᵢᵗ)*(aⱼᵗ≤xⱼᵗ)*c.q[t][aᵢᵗ]*c.q[t+1][xᵢᵗ] \n",
    "                for (aᵢᵗ,aⱼᵗ) in twostates, _ in 1:1, xᵢᵗ in 1:2, xⱼᵗ in 1:2]\n",
    "        end\n",
    "    end\n",
    "    A = MPEM2(tensors)\n",
    "#     normalize!(A)\n",
    "    A\n",
    "end"
   ]
  },
  {
   "cell_type": "markdown",
   "metadata": {},
   "source": [
    "Compute\n",
    "$$\n",
    "m_{i\\to j}(x_{i},x_{j})\\propto\\prod_{t}\\mathbb{1}\\left[x_{i}^{t}=x_{j}^{t}\\right]\\mathbb{1}\\left[x_{i}^{t+1}\\ge x_{i}^{t}\\right]\\tilde{b}_{i\\to j}(x_{i})+\\prod_{t}\\mathbb{1}\\left[x_{i}^{t}\\le x_{j}^{t}\\right]\\mathbb{1}\\left[x_{i}^{t+1}\\ge x_{i}^{t}\\right]\\mathbb{1}\\left[x_{j}^{t+1}\\ge x_{j}^{t}\\right]\\tilde{c}_{i\\to j}^{t}(x_{i}^{t})\n",
    "$$\n",
    "where $\\tilde{b}$ and $\\tilde{c}$ are the terms in the chain-factorization of arbitrary distribution of infection times $b(t_i)$, $c(t_i)$."
   ]
  },
  {
   "cell_type": "code",
   "execution_count": 4,
   "metadata": {},
   "outputs": [
    {
     "data": {
      "text/plain": [
       "message (generic function with 1 method)"
      ]
     },
     "execution_count": 4,
     "metadata": {},
     "output_type": "execute_result"
    }
   ],
   "source": [
    "function message(c::Probt, b::Probt)\n",
    "    C = message_eq(SIChain(c))\n",
    "    B = message_leq(SIChain(b))\n",
    "    C + B    \n",
    "end"
   ]
  },
  {
   "cell_type": "code",
   "execution_count": 5,
   "metadata": {},
   "outputs": [],
   "source": [
    "T = 10\n",
    "N = 2\n",
    "pt = rand_probt(T);"
   ]
  },
  {
   "cell_type": "code",
   "execution_count": 6,
   "metadata": {},
   "outputs": [],
   "source": [
    "p = SIChain(pt);"
   ]
  },
  {
   "cell_type": "code",
   "execution_count": 7,
   "metadata": {},
   "outputs": [
    {
     "data": {
      "text/plain": [
       "0.12334346655324532"
      ]
     },
     "execution_count": 7,
     "metadata": {},
     "output_type": "execute_result"
    }
   ],
   "source": [
    "t = 4\n",
    "x = [fill(1,t); fill(2,T-t+1)]\n",
    "evaluate(p, x)"
   ]
  },
  {
   "cell_type": "code",
   "execution_count": 8,
   "metadata": {},
   "outputs": [],
   "source": [
    "A = mpem1(p);"
   ]
  },
  {
   "cell_type": "code",
   "execution_count": 9,
   "metadata": {},
   "outputs": [],
   "source": [
    "@assert evaluate(p, x) ≈ evaluate(A, x)\n",
    "@assert all( evaluate(p,xx) ≈ evaluate(A, xx) for xx in ([fill(1,t); fill(2,T-t+1)] for t in 0:T))"
   ]
  },
  {
   "cell_type": "code",
   "execution_count": 10,
   "metadata": {},
   "outputs": [
    {
     "data": {
      "text/plain": [
       "1×20 adjoint(::Vector{Int64}) with eltype Int64:\n",
       " 6  6  6  6  6  6  6  6  6  6  6  6  6  6  6  6  6  6  6  6"
      ]
     },
     "execution_count": 10,
     "metadata": {},
     "output_type": "execute_result"
    }
   ],
   "source": [
    "T = 20\n",
    "b = rand_probt(T)\n",
    "c = rand_probt(T)\n",
    "M = message(c, b)\n",
    "bond_dims(M)'"
   ]
  },
  {
   "cell_type": "code",
   "execution_count": 11,
   "metadata": {},
   "outputs": [
    {
     "data": {
      "text/plain": [
       "1×20 adjoint(::Vector{Int64}) with eltype Int64:\n",
       " 3  4  4  4  4  4  4  4  4  4  4  4  4  4  4  4  4  4  4  4"
      ]
     },
     "execution_count": 11,
     "metadata": {},
     "output_type": "execute_result"
    }
   ],
   "source": [
    "M4 = compress!(deepcopy(M); svd_trunc=TruncThresh(0.0))\n",
    "bond_dims(M4)'"
   ]
  },
  {
   "cell_type": "code",
   "execution_count": 15,
   "metadata": {},
   "outputs": [
    {
     "data": {
      "text/plain": [
       "1-element Vector{Float64}:\n",
       " 2.0093282396114493e-16"
      ]
     },
     "execution_count": 15,
     "metadata": {},
     "output_type": "execute_result"
    }
   ],
   "source": [
    "svd_trunc = TruncBondMax(3)\n",
    "M3 = compress!(deepcopy(M); svd_trunc)\n",
    "svd_trunc.maxerr"
   ]
  },
  {
   "cell_type": "code",
   "execution_count": 31,
   "metadata": {},
   "outputs": [
    {
     "data": {
      "text/plain": [
       "3×3×2×2 Array{Float64, 4}:\n",
       "[:, :, 1, 1] =\n",
       " 0.945144     0.0583304   -0.0005193\n",
       " 0.320793     0.019798    -0.000176256\n",
       " 0.000376307  2.32241e-5  -2.06758e-7\n",
       "\n",
       "[:, :, 2, 1] =\n",
       " 0.0  0.0  0.0\n",
       " 0.0  0.0  0.0\n",
       " 0.0  0.0  0.0\n",
       "\n",
       "[:, :, 1, 2] =\n",
       "  0.113713  -0.285299  -0.011449\n",
       " -0.335156   0.840887   0.0337446\n",
       "  0.107859  -0.270613  -0.0108596\n",
       "\n",
       "[:, :, 2, 2] =\n",
       "  0.0161231  -0.032812    0.0866386\n",
       " -0.0473106   0.0962817  -0.254227\n",
       " -0.164008    0.333774   -0.881314"
      ]
     },
     "execution_count": 31,
     "metadata": {},
     "output_type": "execute_result"
    }
   ],
   "source": [
    "M3[2]"
   ]
  },
  {
   "cell_type": "code",
   "execution_count": 28,
   "metadata": {},
   "outputs": [
    {
     "data": {
      "text/plain": [
       "1-element Vector{Float64}:\n",
       " 0.0"
      ]
     },
     "execution_count": 28,
     "metadata": {},
     "output_type": "execute_result"
    }
   ],
   "source": [
    "C = message_leq(SIChain(c))\n",
    "B = message_eq(SIChain(b))\n",
    "svd_trunc = TruncBondMax(3)\n",
    "CC = compress!(deepcopy(C); svd_trunc)\n",
    "svd_trunc.maxerr"
   ]
  },
  {
   "cell_type": "code",
   "execution_count": 25,
   "metadata": {},
   "outputs": [
    {
     "data": {
      "text/plain": [
       "1-element Vector{Float64}:\n",
       " 0.0"
      ]
     },
     "execution_count": 25,
     "metadata": {},
     "output_type": "execute_result"
    }
   ],
   "source": [
    "svd_trunc = TruncBondMax(2)\n",
    "BB = compress!(deepcopy(B); svd_trunc)\n",
    "svd_trunc.maxerr"
   ]
  }
 ],
 "metadata": {
  "kernelspec": {
   "display_name": "Julia (4 threads) 1.8.0",
   "language": "julia",
   "name": "julia-(4-threads)-1.8"
  },
  "language_info": {
   "file_extension": ".jl",
   "mimetype": "application/julia",
   "name": "julia",
   "version": "1.8.0"
  }
 },
 "nbformat": 4,
 "nbformat_minor": 4
}
