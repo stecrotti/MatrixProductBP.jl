{
 "cells": [
  {
   "cell_type": "markdown",
   "metadata": {},
   "source": [
    "# Comparison with SIB on SIR model\n",
    "SIB: https://www.nature.com/articles/srep27538, https://github.com/sibyl-team/sib"
   ]
  },
  {
   "cell_type": "code",
   "execution_count": 1,
   "metadata": {},
   "outputs": [],
   "source": [
    "using MatrixProductBP, MatrixProductBP.Models\n",
    "using Graphs, Plots, Printf, IndexedGraphs, Statistics\n",
    "import ProgressMeter;\n",
    "ProgressMeter.ijulia_behavior(:clear);"
   ]
  },
  {
   "cell_type": "code",
   "execution_count": 3,
   "metadata": {},
   "outputs": [
    {
     "data": {
      "text/plain": [
       "sib_SIR (generic function with 1 method)"
      ]
     },
     "metadata": {},
     "output_type": "display_data"
    }
   ],
   "source": [
    "using PyCall, SparseArrays\n",
    "\n",
    "ENV[\"PYTHON\"] = \"/home/crotti/miniconda3/bin/python\"\n",
    "\n",
    "@pyimport sib\n",
    "\n",
    "# convert ϕ's into observations for sib\n",
    "function sib_SIR_tests(ϕ::Vector{Vector{Vector{F}}}) where {F}\n",
    "    N = length(ϕ)\n",
    "    T = length(ϕ[1]) - 1 \n",
    "    map((i,t) for i in 1:N for t in 1:T+1) do (i,t)\n",
    "        (i - 1, sib.Test(ϕ[i][t]...), t - 1)\n",
    "    end\n",
    "end\n",
    "\n",
    "\n",
    "function sib_SIR(T::Integer, g::IndexedGraph, ϕ, λ, ρ;\n",
    "    maxiter=400, tol=1e-14)\n",
    "    γ = ϕ[1][1][INFECTIOUS]\n",
    "    @assert all(isequal(γ), ϕᵢ[1][INFECTIOUS] for ϕᵢ in ϕ)\n",
    "    contacts = [(src(e) - 1, dst(e) - 1, t - 1, λ) for t in 1:T for e in edges(g)]\n",
    "    append!(contacts, [(dst(e) - 1, src(e) - 1, t - 1, λ) for t in 1:T for e in edges(g)])\n",
    "    sort!(contacts, by=x -> x[3])\n",
    "    tests = sib_SIR_tests(ϕ)\n",
    "    prob_r = sib.PiecewiseLinear(@pycall sib.RealParams([d > 0 ? exp((d-1)*(log(1 - ρ))) : 1.0 for d=0:3T])::Any)\n",
    "    params = sib.Params(prob_r=prob_r, pseed=γ / (2 - γ), psus=(1 - γ) / (2 - γ), pautoinf=0.0)\n",
    "    f = sib.FactorGraph(contacts=contacts, tests=tests, params=params)\n",
    "    sib.iterate(f, maxit=maxiter, tol=tol)\n",
    "    sib.iterate(f, maxit=maxiter, damping=0.5, tol=tol)\n",
    "    sib.iterate(f, maxit=maxiter, damping=0.9, tol=tol)\n",
    "    marginals_sib = map(f.nodes) do i\n",
    "        map(1:T+1) do t\n",
    "            sib.marginal_t(i, (t - 1))\n",
    "        end\n",
    "    end\n",
    "\n",
    "    F_bethe = -f.loglikelihood() - N * log(2 - γ)\n",
    "\n",
    "    return marginals_sib, F_bethe, f\n",
    "end"
   ]
  },
  {
   "cell_type": "code",
   "execution_count": 4,
   "metadata": {},
   "outputs": [],
   "source": [
    "T = 10\n",
    "N = 30\n",
    "k = 3\n",
    "gg = random_regular_graph(N, k)\n",
    "g = IndexedGraph(gg)\n",
    "λ = 0.3\n",
    "ρ = 0.2\n",
    "γ = 0.1\n",
    "σ = 0.0 # SIR\n",
    "sirs = SIRS(g, λ, ρ, σ, T; γ);"
   ]
  },
  {
   "cell_type": "code",
   "execution_count": 5,
   "metadata": {},
   "outputs": [],
   "source": [
    "bp = mpbp(sirs)\n",
    "\n",
    "nobs = N\n",
    "draw_node_observations!(bp, nobs, times=5)\n",
    "cb = CB_BP(bp);"
   ]
  },
  {
   "cell_type": "code",
   "execution_count": 6,
   "metadata": {
    "scrolled": true
   },
   "outputs": [
    {
     "name": "stderr",
     "output_type": "stream",
     "text": [
      "\r\u001b[32mRunning MPBP: iter 2    Time: 0:00:22\u001b[39m\u001b[K\r\n",
      "\u001b[34m  Δ:                0.8221678307634843\u001b[39m\u001b[K\r\n",
      "\u001b[34m  SVD Matrix size:  4\u001b[39m\u001b[K\r\u001b[A\r\u001b[A"
     ]
    },
    {
     "name": "stderr",
     "output_type": "stream",
     "text": [
      "\n",
      "\n",
      "\r\u001b[K\u001b[A\r\u001b[K\u001b[A\r\u001b[32mRunning MPBP: iter 3    Time: 0:00:23\u001b[39m\u001b[K\r\n",
      "\u001b[34m  Δ:                0.5313605671751254\u001b[39m\u001b[K\r\n",
      "\u001b[34m  SVD Matrix size:  4\u001b[39m\u001b[K\r\u001b[A\r\u001b[A"
     ]
    },
    {
     "name": "stderr",
     "output_type": "stream",
     "text": [
      "\n",
      "\n",
      "\r\u001b[K\u001b[A\r\u001b[K\u001b[A\r\u001b[32mRunning MPBP: iter 4    Time: 0:00:23\u001b[39m\u001b[K\r\n",
      "\u001b[34m  Δ:                0.2680990711027913\u001b[39m\u001b[K\r\n",
      "\u001b[34m  SVD Matrix size:  4\u001b[39m\u001b[K\r\u001b[A\r\u001b[A"
     ]
    },
    {
     "name": "stderr",
     "output_type": "stream",
     "text": [
      "\n",
      "\n",
      "\r\u001b[K\u001b[A\r\u001b[K\u001b[A\r\u001b[32mRunning MPBP: iter 5    Time: 0:00:23\u001b[39m\u001b[K\r\n",
      "\u001b[34m  Δ:                0.0470395921994371\u001b[39m\u001b[K\r\n",
      "\u001b[34m  SVD Matrix size:  4\u001b[39m\u001b[K\r\u001b[A\r\u001b[A"
     ]
    },
    {
     "name": "stderr",
     "output_type": "stream",
     "text": [
      "\n",
      "\n",
      "\r\u001b[K\u001b[A\r\u001b[K\u001b[A\r\u001b[32mRunning MPBP: iter 6    Time: 0:00:24\u001b[39m\u001b[K\r\n",
      "\u001b[34m  Δ:                0.001095754445598729\u001b[39m\u001b[K\r\n",
      "\u001b[34m  SVD Matrix size:  4\u001b[39m\u001b[K\r\u001b[A\r\u001b[A"
     ]
    },
    {
     "name": "stderr",
     "output_type": "stream",
     "text": [
      "\n",
      "\n",
      "\r\u001b[K\u001b[A\r\u001b[K\u001b[A\r\u001b[32mRunning MPBP: iter 7    Time: 0:00:24\u001b[39m\u001b[K\r\n",
      "\u001b[34m  Δ:                1.2345227541121773e-5\u001b[39m\u001b[K\r\n",
      "\u001b[34m  SVD Matrix size:  4\u001b[39m\u001b[K\r\u001b[A\r\u001b[A"
     ]
    },
    {
     "name": "stderr",
     "output_type": "stream",
     "text": [
      "\n",
      "\n",
      "\r\u001b[K\u001b[A\r\u001b[K\u001b[A\r\u001b[32mRunning MPBP: iter 8    Time: 0:00:25\u001b[39m\u001b[K\r\n",
      "\u001b[34m  Δ:                1.7208318199291028e-6\u001b[39m\u001b[K\r\n",
      "\u001b[34m  SVD Matrix size:  4\u001b[39m\u001b[K\r\u001b[A\r\u001b[A"
     ]
    },
    {
     "name": "stderr",
     "output_type": "stream",
     "text": [
      "\n",
      "\n",
      "\r\u001b[K\u001b[A\r\u001b[K\u001b[A\r\u001b[32mRunning MPBP: iter 9    Time: 0:00:25\u001b[39m\u001b[K\r\n",
      "\u001b[34m  Δ:                2.7916744249623093e-8\u001b[39m\u001b[K\r\n",
      "\u001b[34m  SVD Matrix size:  4\u001b[39m\u001b[K\r\u001b[A\r\u001b[A"
     ]
    },
    {
     "name": "stderr",
     "output_type": "stream",
     "text": [
      "\n",
      "\n",
      "\r\u001b[K\u001b[A\r\u001b[K\u001b[A\r\u001b[32mRunning MPBP: iter 10    Time: 0:00:26\u001b[39m\u001b[K\r\n",
      "\u001b[34m  Δ:                0.0018608499947203594\u001b[39m\u001b[K\r\n",
      "\u001b[34m  SVD Matrix size:  6\u001b[39m\u001b[K\r\u001b[A\r\u001b[A"
     ]
    },
    {
     "name": "stderr",
     "output_type": "stream",
     "text": [
      "\n",
      "\n",
      "\r\u001b[K\u001b[A\r\u001b[K\u001b[A\r\u001b[32mRunning MPBP: iter 11    Time: 0:00:29\u001b[39m\u001b[K\r\n",
      "\u001b[34m  Δ:                0.0005550895303179093\u001b[39m\u001b[K\r\n",
      "\u001b[34m  SVD Matrix size:  6\u001b[39m\u001b[K\r\u001b[A\r\u001b[A"
     ]
    },
    {
     "name": "stderr",
     "output_type": "stream",
     "text": [
      "\n",
      "\n",
      "\r\u001b[K\u001b[A\r\u001b[K\u001b[A\r\u001b[32mRunning MPBP: iter 12    Time: 0:00:31\u001b[39m\u001b[K\r\n",
      "\u001b[34m  Δ:                0.0001362169522978185\u001b[39m\u001b[K\r\n",
      "\u001b[34m  SVD Matrix size:  6\u001b[39m\u001b[K\r\u001b[A\r\u001b[A"
     ]
    },
    {
     "name": "stderr",
     "output_type": "stream",
     "text": [
      "\n",
      "\n",
      "\r\u001b[K\u001b[A\r\u001b[K\u001b[A\r\u001b[32mRunning MPBP: iter 13    Time: 0:00:33\u001b[39m\u001b[K\r\n",
      "\u001b[34m  Δ:                1.2304445450750379e-5\u001b[39m\u001b[K\r\n",
      "\u001b[34m  SVD Matrix size:  6\u001b[39m\u001b[K\r\u001b[A\r\u001b[A"
     ]
    },
    {
     "name": "stderr",
     "output_type": "stream",
     "text": [
      "\n",
      "\n",
      "\r\u001b[K\u001b[A\r\u001b[K\u001b[A\r\u001b[32mRunning MPBP: iter 14    Time: 0:00:35\u001b[39m\u001b[K\r\n",
      "\u001b[34m  Δ:                1.527715554061615e-6\u001b[39m\u001b[K\r\n",
      "\u001b[34m  SVD Matrix size:  6\u001b[39m\u001b[K\r\u001b[A\r\u001b[A"
     ]
    },
    {
     "name": "stderr",
     "output_type": "stream",
     "text": [
      "\n",
      "\n",
      "\r\u001b[K\u001b[A\r\u001b[K\u001b[A\r\u001b[32mRunning MPBP: iter 15    Time: 0:00:37\u001b[39m\u001b[K\r\n",
      "\u001b[34m  Δ:                4.3494798429577486e-8\u001b[39m\u001b[K\r\n",
      "\u001b[34m  SVD Matrix size:  6\u001b[39m\u001b[K\r\u001b[A\r\u001b[A"
     ]
    },
    {
     "name": "stderr",
     "output_type": "stream",
     "text": [
      "\n",
      "\n",
      "\r\u001b[K\u001b[A\r\u001b[K\u001b[A\r\u001b[32mRunning MPBP: iter 16    Time: 0:00:42\u001b[39m\u001b[K\r\n",
      "\u001b[34m  Δ:                9.77354319724455e-5\u001b[39m\u001b[K\r\n",
      "\u001b[34m  SVD Matrix size:  8\u001b[39m\u001b[K\r\u001b[A\r\u001b[A"
     ]
    },
    {
     "name": "stderr",
     "output_type": "stream",
     "text": [
      "\n",
      "\n",
      "\r\u001b[K\u001b[A\r\u001b[K\u001b[A\r\u001b[32mRunning MPBP: iter 17    Time: 0:00:49\u001b[39m\u001b[K\r\n",
      "\u001b[34m  Δ:                1.5815860384682523e-5\u001b[39m\u001b[K\r\n",
      "\u001b[34m  SVD Matrix size:  8\u001b[39m\u001b[K\r\u001b[A\r\u001b[A"
     ]
    },
    {
     "name": "stderr",
     "output_type": "stream",
     "text": [
      "\n",
      "\n",
      "\r\u001b[K\u001b[A\r\u001b[K\u001b[A\r\u001b[32mRunning MPBP: iter 18    Time: 0:00:57\u001b[39m\u001b[K\r\n",
      "\u001b[34m  Δ:                3.0945778317637007e-6\u001b[39m\u001b[K\r\n",
      "\u001b[34m  SVD Matrix size:  8\u001b[39m\u001b[K\r\u001b[A\r\u001b[A"
     ]
    },
    {
     "name": "stderr",
     "output_type": "stream",
     "text": [
      "\n",
      "\n",
      "\r\u001b[K\u001b[A\r\u001b[K\u001b[A\r\u001b[32mRunning MPBP: iter 19    Time: 0:01:05\u001b[39m\u001b[K\r\n",
      "\u001b[34m  Δ:                9.845242421313571e-8\u001b[39m\u001b[K\r\n",
      "\u001b[34m  SVD Matrix size:  8\u001b[39m\u001b[K\r\u001b[A\r\u001b[A"
     ]
    }
   ],
   "source": [
    "iters, cb = iterate!(bp, maxiter=100; svd_trunc=TruncBond(4), cb, tol=1e-6);\n",
    "iters, cb = iterate!(bp, maxiter=100; svd_trunc=TruncBond(6), cb, tol=1e-6);\n",
    "iters, cb = iterate!(bp, maxiter=100; svd_trunc=TruncBond(8), cb, tol=1e-6);"
   ]
  },
  {
   "cell_type": "code",
   "execution_count": 7,
   "metadata": {},
   "outputs": [
    {
     "data": {
      "image/png": "[encoded data removed]",
      "image/svg+xml": [
       "<?xml version=\"1.0\" encoding=\"utf-8\"?>\n",
       "<svg xmlns=\"http://www.w3.org/2000/svg\" xmlns:xlink=\"http://www.w3.org/1999/xlink\" width=\"300\" height=\"200\" viewBox=\"0 0 1200 800\">\n",
       "<defs>\n",
       "  <clipPath id=\"clip370\">\n",
       "    <rect x=\"0\" y=\"0\" width=\"1200\" height=\"800\"/>\n",
       "  </clipPath>\n",
       "</defs>\n",
       "<path clip-path=\"url(#clip370)\" d=\"M0 800 L1200 800 L1200 0 L0 0  Z\" fill=\"#ffffff\" fill-rule=\"evenodd\" fill-opacity=\"1\"/>\n",
       "<defs>\n",
       "  <clipPath id=\"clip371\">\n",
       "    <rect x=\"240\" y=\"0\" width=\"841\" height=\"800\"/>\n",
       "  </clipPath>\n",
       "</defs>\n",
       "<path clip-path=\"url(#clip370)\" d=\"M239.56 631.18 L1152.76 631.18 L1152.76 47.2441 L239.56 47.2441  Z\" fill=\"#ffffff\" fill-rule=\"evenodd\" fill-opacity=\"1\"/>\n",
       "<defs>\n",
       "  <clipPath id=\"clip372\">\n",
       "    <rect x=\"239\" y=\"47\" width=\"914\" height=\"585\"/>\n",
       "  </clipPath>\n",
       "</defs>\n",
       "<polyline clip-path=\"url(#clip372)\" style=\"stroke:#000000; stroke-linecap:round; stroke-linejoin:round; stroke-width:2; stroke-opacity:0.1; fill:none\" points=\"337.198,631.18 337.198,47.2441 \"/>\n",
       "<polyline clip-path=\"url(#clip372)\" style=\"stroke:#000000; stroke-linecap:round; stroke-linejoin:round; stroke-width:2; stroke-opacity:0.1; fill:none\" points=\"456.851,631.18 456.851,47.2441 \"/>\n",
       "<polyline clip-path=\"url(#clip372)\" style=\"stroke:#000000; stroke-linecap:round; stroke-linejoin:round; stroke-width:2; stroke-opacity:0.1; fill:none\" points=\"576.505,631.18 576.505,47.2441 \"/>\n",
       "<polyline clip-path=\"url(#clip372)\" style=\"stroke:#000000; stroke-linecap:round; stroke-linejoin:round; stroke-width:2; stroke-opacity:0.1; fill:none\" points=\"696.158,631.18 696.158,47.2441 \"/>\n",
       "<polyline clip-path=\"url(#clip372)\" style=\"stroke:#000000; stroke-linecap:round; stroke-linejoin:round; stroke-width:2; stroke-opacity:0.1; fill:none\" points=\"815.812,631.18 815.812,47.2441 \"/>\n",
       "<polyline clip-path=\"url(#clip372)\" style=\"stroke:#000000; stroke-linecap:round; stroke-linejoin:round; stroke-width:2; stroke-opacity:0.1; fill:none\" points=\"935.465,631.18 935.465,47.2441 \"/>\n",
       "<polyline clip-path=\"url(#clip372)\" style=\"stroke:#000000; stroke-linecap:round; stroke-linejoin:round; stroke-width:2; stroke-opacity:0.1; fill:none\" points=\"1055.12,631.18 1055.12,47.2441 \"/>\n",
       "<polyline clip-path=\"url(#clip370)\" style=\"stroke:#000000; stroke-linecap:round; stroke-linejoin:round; stroke-width:4; stroke-opacity:1; fill:none\" points=\"239.56,631.18 1152.76,631.18 \"/>\n",
       "<polyline clip-path=\"url(#clip370)\" style=\"stroke:#000000; stroke-linecap:round; stroke-linejoin:round; stroke-width:4; stroke-opacity:1; fill:none\" points=\"337.198,631.18 337.198,612.282 \"/>\n",
       "<polyline clip-path=\"url(#clip370)\" style=\"stroke:#000000; stroke-linecap:round; stroke-linejoin:round; stroke-width:4; stroke-opacity:1; fill:none\" points=\"456.851,631.18 456.851,612.282 \"/>\n",
       "<polyline clip-path=\"url(#clip370)\" style=\"stroke:#000000; stroke-linecap:round; stroke-linejoin:round; stroke-width:4; stroke-opacity:1; fill:none\" points=\"576.505,631.18 576.505,612.282 \"/>\n",
       "<polyline clip-path=\"url(#clip370)\" style=\"stroke:#000000; stroke-linecap:round; stroke-linejoin:round; stroke-width:4; stroke-opacity:1; fill:none\" points=\"696.158,631.18 696.158,612.282 \"/>\n",
       "<polyline clip-path=\"url(#clip370)\" style=\"stroke:#000000; stroke-linecap:round; stroke-linejoin:round; stroke-width:4; stroke-opacity:1; fill:none\" points=\"815.812,631.18 815.812,612.282 \"/>\n",
       "<polyline clip-path=\"url(#clip370)\" style=\"stroke:#000000; stroke-linecap:round; stroke-linejoin:round; stroke-width:4; stroke-opacity:1; fill:none\" points=\"935.465,631.18 935.465,612.282 \"/>\n",
       "<polyline clip-path=\"url(#clip370)\" style=\"stroke:#000000; stroke-linecap:round; stroke-linejoin:round; stroke-width:4; stroke-opacity:1; fill:none\" points=\"1055.12,631.18 1055.12,612.282 \"/>\n",
       "<path clip-path=\"url(#clip370)\" d=\"M308.934 680.045 L325.253 680.045 L325.253 683.98 L303.309 683.98 L303.309 680.045 Q305.971 677.29 310.554 672.66 Q315.161 668.008 316.341 666.665 Q318.587 664.142 319.466 662.406 Q320.369 660.647 320.369 658.957 Q320.369 656.202 318.424 654.466 Q316.503 652.73 313.401 652.73 Q311.202 652.73 308.749 653.494 Q306.318 654.258 303.54 655.809 L303.54 651.087 Q306.364 649.952 308.818 649.374 Q311.272 648.795 313.309 648.795 Q318.679 648.795 321.874 651.48 Q325.068 654.165 325.068 658.656 Q325.068 660.786 324.258 662.707 Q323.471 664.605 321.364 667.198 Q320.786 667.869 317.684 671.086 Q314.582 674.281 308.934 680.045 Z\" fill=\"#000000\" fill-rule=\"nonzero\" fill-opacity=\"1\" /><path clip-path=\"url(#clip370)\" d=\"M335.068 678.1 L339.952 678.1 L339.952 683.98 L335.068 683.98 L335.068 678.1 Z\" fill=\"#000000\" fill-rule=\"nonzero\" fill-opacity=\"1\" /><path clip-path=\"url(#clip370)\" d=\"M350.184 649.42 L368.54 649.42 L368.54 653.355 L354.466 653.355 L354.466 661.827 Q355.484 661.48 356.503 661.318 Q357.521 661.133 358.54 661.133 Q364.327 661.133 367.707 664.304 Q371.086 667.475 371.086 672.892 Q371.086 678.471 367.614 681.572 Q364.142 684.651 357.822 684.651 Q355.646 684.651 353.378 684.281 Q351.133 683.91 348.725 683.17 L348.725 678.471 Q350.809 679.605 353.031 680.16 Q355.253 680.716 357.73 680.716 Q361.734 680.716 364.072 678.61 Q366.41 676.503 366.41 672.892 Q366.41 669.281 364.072 667.174 Q361.734 665.068 357.73 665.068 Q355.855 665.068 353.98 665.485 Q352.128 665.901 350.184 666.781 L350.184 649.42 Z\" fill=\"#000000\" fill-rule=\"nonzero\" fill-opacity=\"1\" /><path clip-path=\"url(#clip370)\" d=\"M424.016 649.42 L442.372 649.42 L442.372 653.355 L428.298 653.355 L428.298 661.827 Q429.316 661.48 430.335 661.318 Q431.353 661.133 432.372 661.133 Q438.159 661.133 441.539 664.304 Q444.918 667.475 444.918 672.892 Q444.918 678.471 441.446 681.572 Q437.974 684.651 431.654 684.651 Q429.479 684.651 427.21 684.281 Q424.965 683.91 422.557 683.17 L422.557 678.471 Q424.641 679.605 426.863 680.16 Q429.085 680.716 431.562 680.716 Q435.566 680.716 437.904 678.61 Q440.242 676.503 440.242 672.892 Q440.242 669.281 437.904 667.174 Q435.566 665.068 431.562 665.068 Q429.687 665.068 427.812 665.485 Q425.96 665.901 424.016 666.781 L424.016 649.42 Z\" fill=\"#000000\" fill-rule=\"nonzero\" fill-opacity=\"1\" /><path clip-path=\"url(#clip370)\" d=\"M454.131 678.1 L459.015 678.1 L459.015 683.98 L454.131 683.98 L454.131 678.1 Z\" fill=\"#000000\" fill-rule=\"nonzero\" fill-opacity=\"1\" /><path clip-path=\"url(#clip370)\" d=\"M479.2 652.499 Q475.589 652.499 473.761 656.063 Q471.955 659.605 471.955 666.735 Q471.955 673.841 473.761 677.406 Q475.589 680.947 479.2 680.947 Q482.835 680.947 484.64 677.406 Q486.469 673.841 486.469 666.735 Q486.469 659.605 484.64 656.063 Q482.835 652.499 479.2 652.499 M479.2 648.795 Q485.011 648.795 488.066 653.401 Q491.145 657.985 491.145 666.735 Q491.145 675.461 488.066 680.068 Q485.011 684.651 479.2 684.651 Q473.39 684.651 470.312 680.068 Q467.256 675.461 467.256 666.735 Q467.256 657.985 470.312 653.401 Q473.39 648.795 479.2 648.795 Z\" fill=\"#000000\" fill-rule=\"nonzero\" fill-opacity=\"1\" /><path clip-path=\"url(#clip370)\" d=\"M542.824 649.42 L565.046 649.42 L565.046 651.411 L552.5 683.98 L547.616 683.98 L559.421 653.355 L542.824 653.355 L542.824 649.42 Z\" fill=\"#000000\" fill-rule=\"nonzero\" fill-opacity=\"1\" /><path clip-path=\"url(#clip370)\" d=\"M574.167 678.1 L579.051 678.1 L579.051 683.98 L574.167 683.98 L574.167 678.1 Z\" fill=\"#000000\" fill-rule=\"nonzero\" fill-opacity=\"1\" /><path clip-path=\"url(#clip370)\" d=\"M589.282 649.42 L607.639 649.42 L607.639 653.355 L593.565 653.355 L593.565 661.827 Q594.583 661.48 595.602 661.318 Q596.62 661.133 597.639 661.133 Q603.426 661.133 606.805 664.304 Q610.185 667.475 610.185 672.892 Q610.185 678.471 606.713 681.572 Q603.241 684.651 596.921 684.651 Q594.745 684.651 592.477 684.281 Q590.231 683.91 587.824 683.17 L587.824 678.471 Q589.907 679.605 592.129 680.16 Q594.352 680.716 596.829 680.716 Q600.833 680.716 603.171 678.61 Q605.509 676.503 605.509 672.892 Q605.509 669.281 603.171 667.174 Q600.833 665.068 596.829 665.068 Q594.954 665.068 593.079 665.485 Q591.227 665.901 589.282 666.781 L589.282 649.42 Z\" fill=\"#000000\" fill-rule=\"nonzero\" fill-opacity=\"1\" /><path clip-path=\"url(#clip370)\" d=\"M648.23 680.045 L655.869 680.045 L655.869 653.679 L647.559 655.346 L647.559 651.087 L655.823 649.42 L660.499 649.42 L660.499 680.045 L668.137 680.045 L668.137 683.98 L648.23 683.98 L648.23 680.045 Z\" fill=\"#000000\" fill-rule=\"nonzero\" fill-opacity=\"1\" /><path clip-path=\"url(#clip370)\" d=\"M687.582 652.499 Q683.971 652.499 682.142 656.063 Q680.336 659.605 680.336 666.735 Q680.336 673.841 682.142 677.406 Q683.971 680.947 687.582 680.947 Q691.216 680.947 693.022 677.406 Q694.85 673.841 694.85 666.735 Q694.85 659.605 693.022 656.063 Q691.216 652.499 687.582 652.499 M687.582 648.795 Q693.392 648.795 696.447 653.401 Q699.526 657.985 699.526 666.735 Q699.526 675.461 696.447 680.068 Q693.392 684.651 687.582 684.651 Q681.772 684.651 678.693 680.068 Q675.637 675.461 675.637 666.735 Q675.637 657.985 678.693 653.401 Q681.772 648.795 687.582 648.795 Z\" fill=\"#000000\" fill-rule=\"nonzero\" fill-opacity=\"1\" /><path clip-path=\"url(#clip370)\" d=\"M707.744 678.1 L712.628 678.1 L712.628 683.98 L707.744 683.98 L707.744 678.1 Z\" fill=\"#000000\" fill-rule=\"nonzero\" fill-opacity=\"1\" /><path clip-path=\"url(#clip370)\" d=\"M732.813 652.499 Q729.202 652.499 727.373 656.063 Q725.568 659.605 725.568 666.735 Q725.568 673.841 727.373 677.406 Q729.202 680.947 732.813 680.947 Q736.447 680.947 738.253 677.406 Q740.081 673.841 740.081 666.735 Q740.081 659.605 738.253 656.063 Q736.447 652.499 732.813 652.499 M732.813 648.795 Q738.623 648.795 741.679 653.401 Q744.757 657.985 744.757 666.735 Q744.757 675.461 741.679 680.068 Q738.623 684.651 732.813 684.651 Q727.003 684.651 723.924 680.068 Q720.869 675.461 720.869 666.735 Q720.869 657.985 723.924 653.401 Q727.003 648.795 732.813 648.795 Z\" fill=\"#000000\" fill-rule=\"nonzero\" fill-opacity=\"1\" /><path clip-path=\"url(#clip370)\" d=\"M768.381 680.045 L776.02 680.045 L776.02 653.679 L767.71 655.346 L767.71 651.087 L775.974 649.42 L780.65 649.42 L780.65 680.045 L788.289 680.045 L788.289 683.98 L768.381 683.98 L768.381 680.045 Z\" fill=\"#000000\" fill-rule=\"nonzero\" fill-opacity=\"1\" /><path clip-path=\"url(#clip370)\" d=\"M801.761 680.045 L818.08 680.045 L818.08 683.98 L796.136 683.98 L796.136 680.045 Q798.798 677.29 803.381 672.66 Q807.988 668.008 809.168 666.665 Q811.413 664.142 812.293 662.406 Q813.196 660.647 813.196 658.957 Q813.196 656.202 811.251 654.466 Q809.33 652.73 806.228 652.73 Q804.029 652.73 801.576 653.494 Q799.145 654.258 796.367 655.809 L796.367 651.087 Q799.191 649.952 801.645 649.374 Q804.099 648.795 806.136 648.795 Q811.506 648.795 814.7 651.48 Q817.895 654.165 817.895 658.656 Q817.895 660.786 817.085 662.707 Q816.298 664.605 814.191 667.198 Q813.613 667.869 810.511 671.086 Q807.409 674.281 801.761 680.045 Z\" fill=\"#000000\" fill-rule=\"nonzero\" fill-opacity=\"1\" /><path clip-path=\"url(#clip370)\" d=\"M827.895 678.1 L832.779 678.1 L832.779 683.98 L827.895 683.98 L827.895 678.1 Z\" fill=\"#000000\" fill-rule=\"nonzero\" fill-opacity=\"1\" /><path clip-path=\"url(#clip370)\" d=\"M843.011 649.42 L861.367 649.42 L861.367 653.355 L847.293 653.355 L847.293 661.827 Q848.311 661.48 849.33 661.318 Q850.348 661.133 851.367 661.133 Q857.154 661.133 860.534 664.304 Q863.913 667.475 863.913 672.892 Q863.913 678.471 860.441 681.572 Q856.969 684.651 850.649 684.651 Q848.473 684.651 846.205 684.281 Q843.96 683.91 841.552 683.17 L841.552 678.471 Q843.636 679.605 845.858 680.16 Q848.08 680.716 850.557 680.716 Q854.561 680.716 856.899 678.61 Q859.237 676.503 859.237 672.892 Q859.237 669.281 856.899 667.174 Q854.561 665.068 850.557 665.068 Q848.682 665.068 846.807 665.485 Q844.955 665.901 843.011 666.781 L843.011 649.42 Z\" fill=\"#000000\" fill-rule=\"nonzero\" fill-opacity=\"1\" /><path clip-path=\"url(#clip370)\" d=\"M887.537 680.045 L895.176 680.045 L895.176 653.679 L886.866 655.346 L886.866 651.087 L895.13 649.42 L899.806 649.42 L899.806 680.045 L907.444 680.045 L907.444 683.98 L887.537 683.98 L887.537 680.045 Z\" fill=\"#000000\" fill-rule=\"nonzero\" fill-opacity=\"1\" /><path clip-path=\"url(#clip370)\" d=\"M916.935 649.42 L935.292 649.42 L935.292 653.355 L921.218 653.355 L921.218 661.827 Q922.236 661.48 923.255 661.318 Q924.273 661.133 925.292 661.133 Q931.079 661.133 934.458 664.304 Q937.838 667.475 937.838 672.892 Q937.838 678.471 934.366 681.572 Q930.893 684.651 924.574 684.651 Q922.398 684.651 920.13 684.281 Q917.884 683.91 915.477 683.17 L915.477 678.471 Q917.56 679.605 919.782 680.16 Q922.005 680.716 924.481 680.716 Q928.486 680.716 930.824 678.61 Q933.162 676.503 933.162 672.892 Q933.162 669.281 930.824 667.174 Q928.486 665.068 924.481 665.068 Q922.606 665.068 920.731 665.485 Q918.88 665.901 916.935 666.781 L916.935 649.42 Z\" fill=\"#000000\" fill-rule=\"nonzero\" fill-opacity=\"1\" /><path clip-path=\"url(#clip370)\" d=\"M947.051 678.1 L951.935 678.1 L951.935 683.98 L947.051 683.98 L947.051 678.1 Z\" fill=\"#000000\" fill-rule=\"nonzero\" fill-opacity=\"1\" /><path clip-path=\"url(#clip370)\" d=\"M972.12 652.499 Q968.509 652.499 966.68 656.063 Q964.875 659.605 964.875 666.735 Q964.875 673.841 966.68 677.406 Q968.509 680.947 972.12 680.947 Q975.754 680.947 977.56 677.406 Q979.388 673.841 979.388 666.735 Q979.388 659.605 977.56 656.063 Q975.754 652.499 972.12 652.499 M972.12 648.795 Q977.93 648.795 980.986 653.401 Q984.064 657.985 984.064 666.735 Q984.064 675.461 980.986 680.068 Q977.93 684.651 972.12 684.651 Q966.31 684.651 963.231 680.068 Q960.176 675.461 960.176 666.735 Q960.176 657.985 963.231 653.401 Q966.31 648.795 972.12 648.795 Z\" fill=\"#000000\" fill-rule=\"nonzero\" fill-opacity=\"1\" /><path clip-path=\"url(#clip370)\" d=\"M1007.69 680.045 L1015.33 680.045 L1015.33 653.679 L1007.02 655.346 L1007.02 651.087 L1015.28 649.42 L1019.96 649.42 L1019.96 680.045 L1027.6 680.045 L1027.6 683.98 L1007.69 683.98 L1007.69 680.045 Z\" fill=\"#000000\" fill-rule=\"nonzero\" fill-opacity=\"1\" /><path clip-path=\"url(#clip370)\" d=\"M1035.86 649.42 L1058.08 649.42 L1058.08 651.411 L1045.54 683.98 L1040.65 683.98 L1052.46 653.355 L1035.86 653.355 L1035.86 649.42 Z\" fill=\"#000000\" fill-rule=\"nonzero\" fill-opacity=\"1\" /><path clip-path=\"url(#clip370)\" d=\"M1067.2 678.1 L1072.09 678.1 L1072.09 683.98 L1067.2 683.98 L1067.2 678.1 Z\" fill=\"#000000\" fill-rule=\"nonzero\" fill-opacity=\"1\" /><path clip-path=\"url(#clip370)\" d=\"M1082.32 649.42 L1100.67 649.42 L1100.67 653.355 L1086.6 653.355 L1086.6 661.827 Q1087.62 661.48 1088.64 661.318 Q1089.66 661.133 1090.67 661.133 Q1096.46 661.133 1099.84 664.304 Q1103.22 667.475 1103.22 672.892 Q1103.22 678.471 1099.75 681.572 Q1096.28 684.651 1089.96 684.651 Q1087.78 684.651 1085.51 684.281 Q1083.27 683.91 1080.86 683.17 L1080.86 678.471 Q1082.94 679.605 1085.16 680.16 Q1087.39 680.716 1089.86 680.716 Q1093.87 680.716 1096.21 678.61 Q1098.54 676.503 1098.54 672.892 Q1098.54 669.281 1096.21 667.174 Q1093.87 665.068 1089.86 665.068 Q1087.99 665.068 1086.11 665.485 Q1084.26 665.901 1082.32 666.781 L1082.32 649.42 Z\" fill=\"#000000\" fill-rule=\"nonzero\" fill-opacity=\"1\" /><path clip-path=\"url(#clip370)\" d=\"M628.554 722.396 L634.411 722.396 L634.411 758.044 L628.554 758.044 L628.554 722.396 M628.554 708.519 L634.411 708.519 L634.411 715.935 L628.554 715.935 L628.554 708.519 Z\" fill=\"#000000\" fill-rule=\"nonzero\" fill-opacity=\"1\" /><path clip-path=\"url(#clip370)\" d=\"M652.458 712.274 L652.458 722.396 L664.521 722.396 L664.521 726.947 L652.458 726.947 L652.458 746.299 Q652.458 750.66 653.635 751.901 Q654.845 753.142 658.505 753.142 L664.521 753.142 L664.521 758.044 L658.505 758.044 Q651.725 758.044 649.147 755.529 Q646.569 752.983 646.569 746.299 L646.569 726.947 L642.272 726.947 L642.272 722.396 L646.569 722.396 L646.569 712.274 L652.458 712.274 Z\" fill=\"#000000\" fill-rule=\"nonzero\" fill-opacity=\"1\" /><path clip-path=\"url(#clip370)\" d=\"M702.715 738.756 L702.715 741.62 L675.788 741.62 Q676.17 747.668 679.416 750.851 Q682.695 754.002 688.519 754.002 Q691.893 754.002 695.044 753.174 Q698.227 752.347 701.346 750.691 L701.346 756.23 Q698.195 757.566 694.885 758.267 Q691.575 758.967 688.169 758.967 Q679.639 758.967 674.642 754.002 Q669.677 749.036 669.677 740.57 Q669.677 731.817 674.387 726.693 Q679.13 721.537 687.151 721.537 Q694.344 721.537 698.513 726.183 Q702.715 730.799 702.715 738.756 M696.858 737.037 Q696.795 732.231 694.153 729.366 Q691.543 726.502 687.214 726.502 Q682.313 726.502 679.353 729.271 Q676.424 732.04 675.979 737.069 L696.858 737.037 Z\" fill=\"#000000\" fill-rule=\"nonzero\" fill-opacity=\"1\" /><path clip-path=\"url(#clip370)\" d=\"M732.984 727.87 Q731.997 727.297 730.819 727.043 Q729.674 726.756 728.273 726.756 Q723.308 726.756 720.634 730.003 Q717.992 733.218 717.992 739.265 L717.992 758.044 L712.104 758.044 L712.104 722.396 L717.992 722.396 L717.992 727.934 Q719.839 724.688 722.799 723.128 Q725.759 721.537 729.992 721.537 Q730.597 721.537 731.329 721.632 Q732.061 721.696 732.952 721.855 L732.984 727.87 Z\" fill=\"#000000\" fill-rule=\"nonzero\" fill-opacity=\"1\" /><path clip-path=\"url(#clip370)\" d=\"M761.852 723.446 L761.852 728.984 Q759.37 727.711 756.696 727.075 Q754.022 726.438 751.158 726.438 Q746.797 726.438 744.601 727.775 Q742.437 729.112 742.437 731.785 Q742.437 733.822 743.996 735 Q745.556 736.146 750.267 737.196 L752.272 737.642 Q758.51 738.979 761.12 741.429 Q763.762 743.848 763.762 748.209 Q763.762 753.174 759.815 756.07 Q755.9 758.967 749.025 758.967 Q746.161 758.967 743.042 758.394 Q739.954 757.853 736.517 756.739 L736.517 750.691 Q739.763 752.378 742.914 753.238 Q746.065 754.065 749.153 754.065 Q753.29 754.065 755.518 752.665 Q757.746 751.233 757.746 748.654 Q757.746 746.267 756.123 744.994 Q754.532 743.721 749.089 742.543 L747.052 742.066 Q741.609 740.92 739.19 738.565 Q736.771 736.178 736.771 732.04 Q736.771 727.011 740.336 724.274 Q743.901 721.537 750.458 721.537 Q753.704 721.537 756.569 722.014 Q759.433 722.491 761.852 723.446 Z\" fill=\"#000000\" fill-rule=\"nonzero\" fill-opacity=\"1\" /><polyline clip-path=\"url(#clip372)\" style=\"stroke:#000000; stroke-linecap:round; stroke-linejoin:round; stroke-width:2; stroke-opacity:0.1; fill:none\" points=\"239.56,428.394 1152.76,428.394 \"/>\n",
       "<polyline clip-path=\"url(#clip372)\" style=\"stroke:#000000; stroke-linecap:round; stroke-linejoin:round; stroke-width:2; stroke-opacity:0.1; fill:none\" points=\"239.56,63.7706 1152.76,63.7706 \"/>\n",
       "<polyline clip-path=\"url(#clip370)\" style=\"stroke:#000000; stroke-linecap:round; stroke-linejoin:round; stroke-width:4; stroke-opacity:1; fill:none\" points=\"239.56,631.18 239.56,47.2441 \"/>\n",
       "<polyline clip-path=\"url(#clip370)\" style=\"stroke:#000000; stroke-linecap:round; stroke-linejoin:round; stroke-width:4; stroke-opacity:1; fill:none\" points=\"239.56,428.394 258.458,428.394 \"/>\n",
       "<polyline clip-path=\"url(#clip370)\" style=\"stroke:#000000; stroke-linecap:round; stroke-linejoin:round; stroke-width:4; stroke-opacity:1; fill:none\" points=\"239.56,63.7706 258.458,63.7706 \"/>\n",
       "<path clip-path=\"url(#clip370)\" d=\"M120.931 448.186 L128.57 448.186 L128.57 421.821 L120.26 423.487 L120.26 419.228 L128.524 417.562 L133.2 417.562 L133.2 448.186 L140.839 448.186 L140.839 452.122 L120.931 452.122 L120.931 448.186 Z\" fill=\"#000000\" fill-rule=\"nonzero\" fill-opacity=\"1\" /><path clip-path=\"url(#clip370)\" d=\"M160.283 420.64 Q156.672 420.64 154.843 424.205 Q153.038 427.747 153.038 434.876 Q153.038 441.983 154.843 445.547 Q156.672 449.089 160.283 449.089 Q163.917 449.089 165.723 445.547 Q167.552 441.983 167.552 434.876 Q167.552 427.747 165.723 424.205 Q163.917 420.64 160.283 420.64 M160.283 416.937 Q166.093 416.937 169.149 421.543 Q172.227 426.126 172.227 434.876 Q172.227 443.603 169.149 448.209 Q166.093 452.793 160.283 452.793 Q154.473 452.793 151.394 448.209 Q148.339 443.603 148.339 434.876 Q148.339 426.126 151.394 421.543 Q154.473 416.937 160.283 416.937 Z\" fill=\"#000000\" fill-rule=\"nonzero\" fill-opacity=\"1\" /><path clip-path=\"url(#clip370)\" d=\"M172.227 411.038 L196.339 411.038 L196.339 414.235 L172.227 414.235 L172.227 411.038 Z\" fill=\"#000000\" fill-rule=\"nonzero\" fill-opacity=\"1\" /><path clip-path=\"url(#clip370)\" d=\"M204.577 396.631 L219.491 396.631 L219.491 399.828 L208.056 399.828 L208.056 406.712 Q208.884 406.43 209.711 406.298 Q210.539 406.148 211.366 406.148 Q216.068 406.148 218.814 408.724 Q221.56 411.301 221.56 415.702 Q221.56 420.235 218.739 422.755 Q215.918 425.257 210.783 425.257 Q209.015 425.257 207.172 424.956 Q205.348 424.655 203.392 424.053 L203.392 420.235 Q205.085 421.156 206.89 421.608 Q208.696 422.059 210.708 422.059 Q213.962 422.059 215.861 420.348 Q217.761 418.636 217.761 415.702 Q217.761 412.768 215.861 411.057 Q213.962 409.345 210.708 409.345 Q209.185 409.345 207.661 409.684 Q206.157 410.022 204.577 410.737 L204.577 396.631 Z\" fill=\"#000000\" fill-rule=\"nonzero\" fill-opacity=\"1\" /><path clip-path=\"url(#clip370)\" d=\"M150.855 83.563 L158.493 83.563 L158.493 57.1974 L150.183 58.8641 L150.183 54.6048 L158.447 52.9382 L163.123 52.9382 L163.123 83.563 L170.762 83.563 L170.762 87.4982 L150.855 87.4982 L150.855 83.563 Z\" fill=\"#000000\" fill-rule=\"nonzero\" fill-opacity=\"1\" /><path clip-path=\"url(#clip370)\" d=\"M190.206 56.0169 Q186.595 56.0169 184.766 59.5817 Q182.961 63.1233 182.961 70.2529 Q182.961 77.3593 184.766 80.9241 Q186.595 84.4658 190.206 84.4658 Q193.84 84.4658 195.646 80.9241 Q197.475 77.3593 197.475 70.2529 Q197.475 63.1233 195.646 59.5817 Q193.84 56.0169 190.206 56.0169 M190.206 52.3132 Q196.016 52.3132 199.072 56.9196 Q202.151 61.5029 202.151 70.2529 Q202.151 78.9797 199.072 83.5862 Q196.016 88.1695 190.206 88.1695 Q184.396 88.1695 181.317 83.5862 Q178.262 78.9797 178.262 70.2529 Q178.262 61.5029 181.317 56.9196 Q184.396 52.3132 190.206 52.3132 Z\" fill=\"#000000\" fill-rule=\"nonzero\" fill-opacity=\"1\" /><path clip-path=\"url(#clip370)\" d=\"M211.855 34.5092 Q208.921 34.5092 207.436 37.4056 Q205.969 40.2832 205.969 46.076 Q205.969 51.85 207.436 54.7464 Q208.921 57.624 211.855 57.624 Q214.808 57.624 216.275 54.7464 Q217.761 51.85 217.761 46.076 Q217.761 40.2832 216.275 37.4056 Q214.808 34.5092 211.855 34.5092 M211.855 31.5 Q216.576 31.5 219.059 35.2427 Q221.56 38.9667 221.56 46.076 Q221.56 53.1665 219.059 56.9093 Q216.576 60.6332 211.855 60.6332 Q207.135 60.6332 204.633 56.9093 Q202.151 53.1665 202.151 46.076 Q202.151 38.9667 204.633 35.2427 Q207.135 31.5 211.855 31.5 Z\" fill=\"#000000\" fill-rule=\"nonzero\" fill-opacity=\"1\" /><path clip-path=\"url(#clip370)\" d=\"M53.7248 608.529 L59.1993 608.529 Q57.8307 611.012 57.1623 613.526 Q56.4621 616.009 56.4621 618.555 Q56.4621 624.252 60.0905 627.403 Q63.6872 630.554 70.212 630.554 Q76.7369 630.554 80.3653 627.403 Q83.9619 624.252 83.9619 618.555 Q83.9619 616.009 83.2935 613.526 Q82.5933 611.012 81.2247 608.529 L86.6355 608.529 Q87.7814 610.98 88.3543 613.622 Q88.9272 616.232 88.9272 619.192 Q88.9272 627.244 83.8664 631.987 Q78.8057 636.729 70.212 636.729 Q61.491 636.729 56.4939 631.955 Q51.4968 627.149 51.4968 618.81 Q51.4968 616.104 52.0697 613.526 Q52.6108 610.948 53.7248 608.529 Z\" fill=\"#000000\" fill-rule=\"nonzero\" fill-opacity=\"1\" /><path clip-path=\"url(#clip370)\" d=\"M56.4621 584.53 Q56.4621 589.241 60.1542 591.978 Q63.8145 594.716 70.212 594.716 Q76.6095 594.716 80.3017 592.01 Q83.9619 589.273 83.9619 584.53 Q83.9619 579.852 80.2698 577.114 Q76.5777 574.377 70.212 574.377 Q63.8781 574.377 60.186 577.114 Q56.4621 579.852 56.4621 584.53 M51.4968 584.53 Q51.4968 576.892 56.4621 572.531 Q61.4273 568.171 70.212 568.171 Q78.9649 568.171 83.9619 572.531 Q88.9272 576.892 88.9272 584.53 Q88.9272 592.201 83.9619 596.562 Q78.9649 600.89 70.212 600.89 Q61.4273 600.89 56.4621 596.562 Q51.4968 592.201 51.4968 584.53 Z\" fill=\"#000000\" fill-rule=\"nonzero\" fill-opacity=\"1\" /><path clip-path=\"url(#clip370)\" d=\"M66.4881 528.83 L88.0042 528.83 L88.0042 534.687 L66.679 534.687 Q61.6183 534.687 59.1038 536.66 Q56.5894 538.634 56.5894 542.58 Q56.5894 547.323 59.6131 550.06 Q62.6368 552.797 67.8567 552.797 L88.0042 552.797 L88.0042 558.686 L52.3562 558.686 L52.3562 552.797 L57.8944 552.797 Q54.6797 550.697 53.0883 547.864 Q51.4968 544.999 51.4968 541.275 Q51.4968 535.133 55.3163 531.981 Q59.1038 528.83 66.4881 528.83 Z\" fill=\"#000000\" fill-rule=\"nonzero\" fill-opacity=\"1\" /><path clip-path=\"url(#clip370)\" d=\"M52.3562 521.351 L52.3562 515.144 L82.275 504.004 L52.3562 492.864 L52.3562 486.658 L88.0042 500.026 L88.0042 507.983 L52.3562 521.351 Z\" fill=\"#000000\" fill-rule=\"nonzero\" fill-opacity=\"1\" /><path clip-path=\"url(#clip370)\" d=\"M68.7161 448.081 L71.5806 448.081 L71.5806 475.008 Q77.6281 474.626 80.8109 471.38 Q83.9619 468.102 83.9619 462.277 Q83.9619 458.903 83.1344 455.752 Q82.3069 452.569 80.6518 449.45 L86.1899 449.45 Q87.5267 452.601 88.227 455.911 Q88.9272 459.221 88.9272 462.627 Q88.9272 471.157 83.9619 476.154 Q78.9967 481.119 70.5303 481.119 Q61.7774 481.119 56.6531 476.409 Q51.4968 471.666 51.4968 463.646 Q51.4968 456.452 56.1438 452.283 Q60.7589 448.081 68.7161 448.081 M66.9973 453.938 Q62.1912 454.002 59.3266 456.643 Q56.4621 459.253 56.4621 463.582 Q56.4621 468.484 59.2312 471.444 Q62.0002 474.372 67.0292 474.817 L66.9973 453.938 Z\" fill=\"#000000\" fill-rule=\"nonzero\" fill-opacity=\"1\" /><path clip-path=\"url(#clip370)\" d=\"M57.8307 417.813 Q57.2578 418.799 57.0032 419.977 Q56.7167 421.123 56.7167 422.523 Q56.7167 427.488 59.9632 430.162 Q63.1779 432.804 69.2253 432.804 L88.0042 432.804 L88.0042 438.692 L52.3562 438.692 L52.3562 432.804 L57.8944 432.804 Q54.6479 430.958 53.0883 427.998 Q51.4968 425.038 51.4968 420.804 Q51.4968 420.2 51.5923 419.468 Q51.656 418.736 51.8151 417.844 L57.8307 417.813 Z\" fill=\"#000000\" fill-rule=\"nonzero\" fill-opacity=\"1\" /><path clip-path=\"url(#clip370)\" d=\"M69.7664 389.358 Q63.4007 389.358 59.8996 392 Q56.3984 394.61 56.3984 399.352 Q56.3984 404.063 59.8996 406.704 Q63.4007 409.314 69.7664 409.314 Q76.1003 409.314 79.6014 406.704 Q83.1026 404.063 83.1026 399.352 Q83.1026 394.61 79.6014 392 Q76.1003 389.358 69.7664 389.358 M83.58 383.501 Q92.683 383.501 97.1071 387.544 Q101.563 391.586 101.563 399.925 Q101.563 403.012 101.086 405.75 Q100.64 408.487 99.6852 411.065 L93.9879 411.065 Q95.3884 408.487 96.0568 405.972 Q96.7252 403.458 96.7252 400.848 Q96.7252 395.087 93.7015 392.222 Q90.7096 389.358 84.6303 389.358 L81.7339 389.358 Q84.885 391.172 86.4446 394.005 Q88.0042 396.838 88.0042 400.784 Q88.0042 407.341 83.0071 411.351 Q78.01 415.362 69.7664 415.362 Q61.491 415.362 56.4939 411.351 Q51.4968 407.341 51.4968 400.784 Q51.4968 396.838 53.0564 394.005 Q54.616 391.172 57.7671 389.358 L52.3562 389.358 L52.3562 383.501 L83.58 383.501 Z\" fill=\"#000000\" fill-rule=\"nonzero\" fill-opacity=\"1\" /><path clip-path=\"url(#clip370)\" d=\"M68.7161 340.947 L71.5806 340.947 L71.5806 367.874 Q77.6281 367.492 80.8109 364.245 Q83.9619 360.967 83.9619 355.142 Q83.9619 351.768 83.1344 348.617 Q82.3069 345.434 80.6518 342.315 L86.1899 342.315 Q87.5267 345.466 88.227 348.776 Q88.9272 352.087 88.9272 355.492 Q88.9272 364.022 83.9619 369.019 Q78.9967 373.985 70.5303 373.985 Q61.7774 373.985 56.6531 369.274 Q51.4968 364.532 51.4968 356.511 Q51.4968 349.318 56.1438 345.148 Q60.7589 340.947 68.7161 340.947 M66.9973 346.803 Q62.1912 346.867 59.3266 349.508 Q56.4621 352.118 56.4621 356.447 Q56.4621 361.349 59.2312 364.309 Q62.0002 367.237 67.0292 367.683 L66.9973 346.803 Z\" fill=\"#000000\" fill-rule=\"nonzero\" fill-opacity=\"1\" /><path clip-path=\"url(#clip370)\" d=\"M66.4881 301.702 L88.0042 301.702 L88.0042 307.558 L66.679 307.558 Q61.6183 307.558 59.1038 309.532 Q56.5894 311.505 56.5894 315.452 Q56.5894 320.194 59.6131 322.932 Q62.6368 325.669 67.8567 325.669 L88.0042 325.669 L88.0042 331.557 L52.3562 331.557 L52.3562 325.669 L57.8944 325.669 Q54.6797 323.568 53.0883 320.736 Q51.4968 317.871 51.4968 314.147 Q51.4968 308.004 55.3163 304.853 Q59.1038 301.702 66.4881 301.702 Z\" fill=\"#000000\" fill-rule=\"nonzero\" fill-opacity=\"1\" /><path clip-path=\"url(#clip370)\" d=\"M53.7248 264.367 L59.1993 264.367 Q57.8307 266.85 57.1623 269.364 Q56.4621 271.847 56.4621 274.393 Q56.4621 280.09 60.0905 283.241 Q63.6872 286.393 70.212 286.393 Q76.7369 286.393 80.3653 283.241 Q83.9619 280.09 83.9619 274.393 Q83.9619 271.847 83.2935 269.364 Q82.5933 266.85 81.2247 264.367 L86.6355 264.367 Q87.7814 266.818 88.3543 269.46 Q88.9272 272.07 88.9272 275.03 Q88.9272 283.082 83.8664 287.825 Q78.8057 292.567 70.212 292.567 Q61.491 292.567 56.4939 287.793 Q51.4968 282.987 51.4968 274.648 Q51.4968 271.942 52.0697 269.364 Q52.6108 266.786 53.7248 264.367 Z\" fill=\"#000000\" fill-rule=\"nonzero\" fill-opacity=\"1\" /><path clip-path=\"url(#clip370)\" d=\"M68.7161 223.69 L71.5806 223.69 L71.5806 250.617 Q77.6281 250.235 80.8109 246.989 Q83.9619 243.71 83.9619 237.886 Q83.9619 234.512 83.1344 231.361 Q82.3069 228.178 80.6518 225.059 L86.1899 225.059 Q87.5267 228.21 88.227 231.52 Q88.9272 234.83 88.9272 238.236 Q88.9272 246.766 83.9619 251.763 Q78.9967 256.728 70.5303 256.728 Q61.7774 256.728 56.6531 252.018 Q51.4968 247.275 51.4968 239.254 Q51.4968 232.061 56.1438 227.892 Q60.7589 223.69 68.7161 223.69 M66.9973 229.547 Q62.1912 229.61 59.3266 232.252 Q56.4621 234.862 56.4621 239.191 Q56.4621 244.092 59.2312 247.052 Q62.0002 249.981 67.0292 250.426 L66.9973 229.547 Z\" fill=\"#000000\" fill-rule=\"nonzero\" fill-opacity=\"1\" /><path clip-path=\"url(#clip370)\" d=\"M68.7161 162.866 L71.5806 162.866 L71.5806 189.793 Q77.6281 189.411 80.8109 186.164 Q83.9619 182.886 83.9619 177.062 Q83.9619 173.688 83.1344 170.537 Q82.3069 167.354 80.6518 164.235 L86.1899 164.235 Q87.5267 167.386 88.227 170.696 Q88.9272 174.006 88.9272 177.412 Q88.9272 185.942 83.9619 190.939 Q78.9967 195.904 70.5303 195.904 Q61.7774 195.904 56.6531 191.193 Q51.4968 186.451 51.4968 178.43 Q51.4968 171.237 56.1438 167.067 Q60.7589 162.866 68.7161 162.866 M66.9973 168.722 Q62.1912 168.786 59.3266 171.428 Q56.4621 174.038 56.4621 178.366 Q56.4621 183.268 59.2312 186.228 Q62.0002 189.156 67.0292 189.602 L66.9973 168.722 Z\" fill=\"#000000\" fill-rule=\"nonzero\" fill-opacity=\"1\" /><path clip-path=\"url(#clip370)\" d=\"M57.8307 132.597 Q57.2578 133.584 57.0032 134.761 Q56.7167 135.907 56.7167 137.308 Q56.7167 142.273 59.9632 144.947 Q63.1779 147.588 69.2253 147.588 L88.0042 147.588 L88.0042 153.477 L52.3562 153.477 L52.3562 147.588 L57.8944 147.588 Q54.6479 145.742 53.0883 142.782 Q51.4968 139.822 51.4968 135.589 Q51.4968 134.984 51.5923 134.252 Q51.656 133.52 51.8151 132.629 L57.8307 132.597 Z\" fill=\"#000000\" fill-rule=\"nonzero\" fill-opacity=\"1\" /><path clip-path=\"url(#clip370)\" d=\"M57.8307 106.943 Q57.2578 107.93 57.0032 109.108 Q56.7167 110.253 56.7167 111.654 Q56.7167 116.619 59.9632 119.293 Q63.1779 121.934 69.2253 121.934 L88.0042 121.934 L88.0042 127.823 L52.3562 127.823 L52.3562 121.934 L57.8944 121.934 Q54.6479 120.088 53.0883 117.128 Q51.4968 114.168 51.4968 109.935 Q51.4968 109.33 51.5923 108.598 Q51.656 107.866 51.8151 106.975 L57.8307 106.943 Z\" fill=\"#000000\" fill-rule=\"nonzero\" fill-opacity=\"1\" /><path clip-path=\"url(#clip370)\" d=\"M56.4621 88.419 Q56.4621 93.1297 60.1542 95.8669 Q63.8145 98.6042 70.212 98.6042 Q76.6095 98.6042 80.3017 95.8987 Q83.9619 93.1615 83.9619 88.419 Q83.9619 83.7402 80.2698 81.003 Q76.5777 78.2657 70.212 78.2657 Q63.8781 78.2657 60.186 81.003 Q56.4621 83.7402 56.4621 88.419 M51.4968 88.419 Q51.4968 80.7802 56.4621 76.4197 Q61.4273 72.0592 70.212 72.0592 Q78.9649 72.0592 83.9619 76.4197 Q88.9272 80.7802 88.9272 88.419 Q88.9272 96.0897 83.9619 100.45 Q78.9649 104.779 70.212 104.779 Q61.4273 104.779 56.4621 100.45 Q51.4968 96.0897 51.4968 88.419 Z\" fill=\"#000000\" fill-rule=\"nonzero\" fill-opacity=\"1\" /><path clip-path=\"url(#clip370)\" d=\"M57.8307 41.6948 Q57.2578 42.6814 57.0032 43.8591 Q56.7167 45.0049 56.7167 46.4054 Q56.7167 51.3706 59.9632 54.0442 Q63.1779 56.686 69.2253 56.686 L88.0042 56.686 L88.0042 62.5743 L52.3562 62.5743 L52.3562 56.686 L57.8944 56.686 Q54.6479 54.8399 53.0883 51.8799 Q51.4968 48.9198 51.4968 44.6866 Q51.4968 44.0819 51.5923 43.3498 Q51.656 42.6178 51.8151 41.7266 L57.8307 41.6948 Z\" fill=\"#000000\" fill-rule=\"nonzero\" fill-opacity=\"1\" /><polyline clip-path=\"url(#clip372)\" style=\"stroke:#009af9; stroke-linecap:round; stroke-linejoin:round; stroke-width:4; stroke-opacity:1; fill:none\" points=\"265.405,63.7706 313.267,69.9721 361.128,83.7965 408.99,105.462 456.851,160.581 504.712,279.648 552.574,421.721 600.435,484.127 648.297,614.653 696.158,262.876 744.019,301.187 791.881,345.68 839.742,421.826 887.604,487.897 935.465,600.61 983.327,356.195 1031.19,413.875 1079.05,465.542 1126.91,574.737 \"/>\n",
       "<path clip-path=\"url(#clip372)\" d=\"M265.405 79.7706 L254.093 75.0826 L249.405 63.7706 L254.093 52.4586 L265.405 47.7706 L276.717 52.4586 L281.405 63.7706 L276.717 75.0826 Z\" fill=\"#009af9\" fill-rule=\"evenodd\" fill-opacity=\"1\" stroke=\"#000000\" stroke-opacity=\"1\" stroke-width=\"1.6\"/>\n",
       "<path clip-path=\"url(#clip372)\" d=\"M313.267 85.9721 L301.955 81.2841 L297.267 69.9721 L301.955 58.6601 L313.267 53.9721 L324.579 58.6601 L329.267 69.9721 L324.579 81.2841 Z\" fill=\"#009af9\" fill-rule=\"evenodd\" fill-opacity=\"1\" stroke=\"#000000\" stroke-opacity=\"1\" stroke-width=\"1.6\"/>\n",
       "<path clip-path=\"url(#clip372)\" d=\"M361.128 99.7965 L349.816 95.1085 L345.128 83.7965 L349.816 72.4845 L361.128 67.7965 L372.44 72.4845 L377.128 83.7965 L372.44 95.1085 Z\" fill=\"#009af9\" fill-rule=\"evenodd\" fill-opacity=\"1\" stroke=\"#000000\" stroke-opacity=\"1\" stroke-width=\"1.6\"/>\n",
       "<path clip-path=\"url(#clip372)\" d=\"M408.99 121.462 L397.678 116.774 L392.99 105.462 L397.678 94.15 L408.99 89.462 L420.302 94.15 L424.99 105.462 L420.302 116.774 Z\" fill=\"#009af9\" fill-rule=\"evenodd\" fill-opacity=\"1\" stroke=\"#000000\" stroke-opacity=\"1\" stroke-width=\"1.6\"/>\n",
       "<path clip-path=\"url(#clip372)\" d=\"M456.851 176.581 L445.539 171.893 L440.851 160.581 L445.539 149.269 L456.851 144.581 L468.163 149.269 L472.851 160.581 L468.163 171.893 Z\" fill=\"#009af9\" fill-rule=\"evenodd\" fill-opacity=\"1\" stroke=\"#000000\" stroke-opacity=\"1\" stroke-width=\"1.6\"/>\n",
       "<path clip-path=\"url(#clip372)\" d=\"M504.712 295.648 L493.4 290.96 L488.712 279.648 L493.4 268.336 L504.712 263.648 L516.024 268.336 L520.712 279.648 L516.024 290.96 Z\" fill=\"#009af9\" fill-rule=\"evenodd\" fill-opacity=\"1\" stroke=\"#000000\" stroke-opacity=\"1\" stroke-width=\"1.6\"/>\n",
       "<path clip-path=\"url(#clip372)\" d=\"M552.574 437.721 L541.262 433.033 L536.574 421.721 L541.262 410.409 L552.574 405.721 L563.886 410.409 L568.574 421.721 L563.886 433.033 Z\" fill=\"#009af9\" fill-rule=\"evenodd\" fill-opacity=\"1\" stroke=\"#000000\" stroke-opacity=\"1\" stroke-width=\"1.6\"/>\n",
       "<path clip-path=\"url(#clip372)\" d=\"M600.435 500.127 L589.123 495.439 L584.435 484.127 L589.123 472.815 L600.435 468.127 L611.747 472.815 L616.435 484.127 L611.747 495.439 Z\" fill=\"#009af9\" fill-rule=\"evenodd\" fill-opacity=\"1\" stroke=\"#000000\" stroke-opacity=\"1\" stroke-width=\"1.6\"/>\n",
       "<path clip-path=\"url(#clip372)\" d=\"M648.297 630.653 L636.985 625.965 L632.297 614.653 L636.985 603.341 L648.297 598.653 L659.609 603.341 L664.297 614.653 L659.609 625.965 Z\" fill=\"#009af9\" fill-rule=\"evenodd\" fill-opacity=\"1\" stroke=\"#000000\" stroke-opacity=\"1\" stroke-width=\"1.6\"/>\n",
       "<path clip-path=\"url(#clip372)\" d=\"M696.158 278.876 L684.846 274.188 L680.158 262.876 L684.846 251.564 L696.158 246.876 L707.47 251.564 L712.158 262.876 L707.47 274.188 Z\" fill=\"#009af9\" fill-rule=\"evenodd\" fill-opacity=\"1\" stroke=\"#000000\" stroke-opacity=\"1\" stroke-width=\"1.6\"/>\n",
       "<path clip-path=\"url(#clip372)\" d=\"M744.019 317.187 L732.707 312.499 L728.019 301.187 L732.707 289.875 L744.019 285.187 L755.331 289.875 L760.019 301.187 L755.331 312.499 Z\" fill=\"#009af9\" fill-rule=\"evenodd\" fill-opacity=\"1\" stroke=\"#000000\" stroke-opacity=\"1\" stroke-width=\"1.6\"/>\n",
       "<path clip-path=\"url(#clip372)\" d=\"M791.881 361.68 L780.569 356.992 L775.881 345.68 L780.569 334.368 L791.881 329.68 L803.193 334.368 L807.881 345.68 L803.193 356.992 Z\" fill=\"#009af9\" fill-rule=\"evenodd\" fill-opacity=\"1\" stroke=\"#000000\" stroke-opacity=\"1\" stroke-width=\"1.6\"/>\n",
       "<path clip-path=\"url(#clip372)\" d=\"M839.742 437.826 L828.43 433.138 L823.742 421.826 L828.43 410.514 L839.742 405.826 L851.054 410.514 L855.742 421.826 L851.054 433.138 Z\" fill=\"#009af9\" fill-rule=\"evenodd\" fill-opacity=\"1\" stroke=\"#000000\" stroke-opacity=\"1\" stroke-width=\"1.6\"/>\n",
       "<path clip-path=\"url(#clip372)\" d=\"M887.604 503.897 L876.292 499.209 L871.604 487.897 L876.292 476.585 L887.604 471.897 L898.916 476.585 L903.604 487.897 L898.916 499.209 Z\" fill=\"#009af9\" fill-rule=\"evenodd\" fill-opacity=\"1\" stroke=\"#000000\" stroke-opacity=\"1\" stroke-width=\"1.6\"/>\n",
       "<path clip-path=\"url(#clip372)\" d=\"M935.465 616.61 L924.153 611.922 L919.465 600.61 L924.153 589.298 L935.465 584.61 L946.777 589.298 L951.465 600.61 L946.777 611.922 Z\" fill=\"#009af9\" fill-rule=\"evenodd\" fill-opacity=\"1\" stroke=\"#000000\" stroke-opacity=\"1\" stroke-width=\"1.6\"/>\n",
       "<path clip-path=\"url(#clip372)\" d=\"M983.327 372.195 L972.015 367.507 L967.327 356.195 L972.015 344.883 L983.327 340.195 L994.639 344.883 L999.327 356.195 L994.639 367.507 Z\" fill=\"#009af9\" fill-rule=\"evenodd\" fill-opacity=\"1\" stroke=\"#000000\" stroke-opacity=\"1\" stroke-width=\"1.6\"/>\n",
       "<path clip-path=\"url(#clip372)\" d=\"M1031.19 429.875 L1019.88 425.187 L1015.19 413.875 L1019.88 402.563 L1031.19 397.875 L1042.5 402.563 L1047.19 413.875 L1042.5 425.187 Z\" fill=\"#009af9\" fill-rule=\"evenodd\" fill-opacity=\"1\" stroke=\"#000000\" stroke-opacity=\"1\" stroke-width=\"1.6\"/>\n",
       "<path clip-path=\"url(#clip372)\" d=\"M1079.05 481.542 L1067.74 476.854 L1063.05 465.542 L1067.74 454.23 L1079.05 449.542 L1090.36 454.23 L1095.05 465.542 L1090.36 476.854 Z\" fill=\"#009af9\" fill-rule=\"evenodd\" fill-opacity=\"1\" stroke=\"#000000\" stroke-opacity=\"1\" stroke-width=\"1.6\"/>\n",
       "<path clip-path=\"url(#clip372)\" d=\"M1126.91 590.737 L1115.6 586.049 L1110.91 574.737 L1115.6 563.425 L1126.91 558.737 L1138.22 563.425 L1142.91 574.737 L1138.22 586.049 Z\" fill=\"#009af9\" fill-rule=\"evenodd\" fill-opacity=\"1\" stroke=\"#000000\" stroke-opacity=\"1\" stroke-width=\"1.6\"/>\n",
       "</svg>\n"
      ],
      "text/html": [
       "<?xml version=\"1.0\" encoding=\"utf-8\"?>\n",
       "<svg xmlns=\"http://www.w3.org/2000/svg\" xmlns:xlink=\"http://www.w3.org/1999/xlink\" width=\"300\" height=\"200\" viewBox=\"0 0 1200 800\">\n",
       "<defs>\n",
       "  <clipPath id=\"clip420\">\n",
       "    <rect x=\"0\" y=\"0\" width=\"1200\" height=\"800\"/>\n",
       "  </clipPath>\n",
       "</defs>\n",
       "<path clip-path=\"url(#clip420)\" d=\"M0 800 L1200 800 L1200 0 L0 0  Z\" fill=\"#ffffff\" fill-rule=\"evenodd\" fill-opacity=\"1\"/>\n",
       "<defs>\n",
       "  <clipPath id=\"clip421\">\n",
       "    <rect x=\"240\" y=\"0\" width=\"841\" height=\"800\"/>\n",
       "  </clipPath>\n",
       "</defs>\n",
       "<path clip-path=\"url(#clip420)\" d=\"M239.56 631.18 L1152.76 631.18 L1152.76 47.2441 L239.56 47.2441  Z\" fill=\"#ffffff\" fill-rule=\"evenodd\" fill-opacity=\"1\"/>\n",
       "<defs>\n",
       "  <clipPath id=\"clip422\">\n",
       "    <rect x=\"239\" y=\"47\" width=\"914\" height=\"585\"/>\n",
       "  </clipPath>\n",
       "</defs>\n",
       "<polyline clip-path=\"url(#clip422)\" style=\"stroke:#000000; stroke-linecap:round; stroke-linejoin:round; stroke-width:2; stroke-opacity:0.1; fill:none\" points=\"337.198,631.18 337.198,47.2441 \"/>\n",
       "<polyline clip-path=\"url(#clip422)\" style=\"stroke:#000000; stroke-linecap:round; stroke-linejoin:round; stroke-width:2; stroke-opacity:0.1; fill:none\" points=\"456.851,631.18 456.851,47.2441 \"/>\n",
       "<polyline clip-path=\"url(#clip422)\" style=\"stroke:#000000; stroke-linecap:round; stroke-linejoin:round; stroke-width:2; stroke-opacity:0.1; fill:none\" points=\"576.505,631.18 576.505,47.2441 \"/>\n",
       "<polyline clip-path=\"url(#clip422)\" style=\"stroke:#000000; stroke-linecap:round; stroke-linejoin:round; stroke-width:2; stroke-opacity:0.1; fill:none\" points=\"696.158,631.18 696.158,47.2441 \"/>\n",
       "<polyline clip-path=\"url(#clip422)\" style=\"stroke:#000000; stroke-linecap:round; stroke-linejoin:round; stroke-width:2; stroke-opacity:0.1; fill:none\" points=\"815.812,631.18 815.812,47.2441 \"/>\n",
       "<polyline clip-path=\"url(#clip422)\" style=\"stroke:#000000; stroke-linecap:round; stroke-linejoin:round; stroke-width:2; stroke-opacity:0.1; fill:none\" points=\"935.465,631.18 935.465,47.2441 \"/>\n",
       "<polyline clip-path=\"url(#clip422)\" style=\"stroke:#000000; stroke-linecap:round; stroke-linejoin:round; stroke-width:2; stroke-opacity:0.1; fill:none\" points=\"1055.12,631.18 1055.12,47.2441 \"/>\n",
       "<polyline clip-path=\"url(#clip420)\" style=\"stroke:#000000; stroke-linecap:round; stroke-linejoin:round; stroke-width:4; stroke-opacity:1; fill:none\" points=\"239.56,631.18 1152.76,631.18 \"/>\n",
       "<polyline clip-path=\"url(#clip420)\" style=\"stroke:#000000; stroke-linecap:round; stroke-linejoin:round; stroke-width:4; stroke-opacity:1; fill:none\" points=\"337.198,631.18 337.198,612.282 \"/>\n",
       "<polyline clip-path=\"url(#clip420)\" style=\"stroke:#000000; stroke-linecap:round; stroke-linejoin:round; stroke-width:4; stroke-opacity:1; fill:none\" points=\"456.851,631.18 456.851,612.282 \"/>\n",
       "<polyline clip-path=\"url(#clip420)\" style=\"stroke:#000000; stroke-linecap:round; stroke-linejoin:round; stroke-width:4; stroke-opacity:1; fill:none\" points=\"576.505,631.18 576.505,612.282 \"/>\n",
       "<polyline clip-path=\"url(#clip420)\" style=\"stroke:#000000; stroke-linecap:round; stroke-linejoin:round; stroke-width:4; stroke-opacity:1; fill:none\" points=\"696.158,631.18 696.158,612.282 \"/>\n",
       "<polyline clip-path=\"url(#clip420)\" style=\"stroke:#000000; stroke-linecap:round; stroke-linejoin:round; stroke-width:4; stroke-opacity:1; fill:none\" points=\"815.812,631.18 815.812,612.282 \"/>\n",
       "<polyline clip-path=\"url(#clip420)\" style=\"stroke:#000000; stroke-linecap:round; stroke-linejoin:round; stroke-width:4; stroke-opacity:1; fill:none\" points=\"935.465,631.18 935.465,612.282 \"/>\n",
       "<polyline clip-path=\"url(#clip420)\" style=\"stroke:#000000; stroke-linecap:round; stroke-linejoin:round; stroke-width:4; stroke-opacity:1; fill:none\" points=\"1055.12,631.18 1055.12,612.282 \"/>\n",
       "<path clip-path=\"url(#clip420)\" d=\"M308.934 680.045 L325.253 680.045 L325.253 683.98 L303.309 683.98 L303.309 680.045 Q305.971 677.29 310.554 672.66 Q315.161 668.008 316.341 666.665 Q318.587 664.142 319.466 662.406 Q320.369 660.647 320.369 658.957 Q320.369 656.202 318.424 654.466 Q316.503 652.73 313.401 652.73 Q311.202 652.73 308.749 653.494 Q306.318 654.258 303.54 655.809 L303.54 651.087 Q306.364 649.952 308.818 649.374 Q311.272 648.795 313.309 648.795 Q318.679 648.795 321.874 651.48 Q325.068 654.165 325.068 658.656 Q325.068 660.786 324.258 662.707 Q323.471 664.605 321.364 667.198 Q320.786 667.869 317.684 671.086 Q314.582 674.281 308.934 680.045 Z\" fill=\"#000000\" fill-rule=\"nonzero\" fill-opacity=\"1\" /><path clip-path=\"url(#clip420)\" d=\"M335.068 678.1 L339.952 678.1 L339.952 683.98 L335.068 683.98 L335.068 678.1 Z\" fill=\"#000000\" fill-rule=\"nonzero\" fill-opacity=\"1\" /><path clip-path=\"url(#clip420)\" d=\"M350.184 649.42 L368.54 649.42 L368.54 653.355 L354.466 653.355 L354.466 661.827 Q355.484 661.48 356.503 661.318 Q357.521 661.133 358.54 661.133 Q364.327 661.133 367.707 664.304 Q371.086 667.475 371.086 672.892 Q371.086 678.471 367.614 681.572 Q364.142 684.651 357.822 684.651 Q355.646 684.651 353.378 684.281 Q351.133 683.91 348.725 683.17 L348.725 678.471 Q350.809 679.605 353.031 680.16 Q355.253 680.716 357.73 680.716 Q361.734 680.716 364.072 678.61 Q366.41 676.503 366.41 672.892 Q366.41 669.281 364.072 667.174 Q361.734 665.068 357.73 665.068 Q355.855 665.068 353.98 665.485 Q352.128 665.901 350.184 666.781 L350.184 649.42 Z\" fill=\"#000000\" fill-rule=\"nonzero\" fill-opacity=\"1\" /><path clip-path=\"url(#clip420)\" d=\"M424.016 649.42 L442.372 649.42 L442.372 653.355 L428.298 653.355 L428.298 661.827 Q429.316 661.48 430.335 661.318 Q431.353 661.133 432.372 661.133 Q438.159 661.133 441.539 664.304 Q444.918 667.475 444.918 672.892 Q444.918 678.471 441.446 681.572 Q437.974 684.651 431.654 684.651 Q429.479 684.651 427.21 684.281 Q424.965 683.91 422.557 683.17 L422.557 678.471 Q424.641 679.605 426.863 680.16 Q429.085 680.716 431.562 680.716 Q435.566 680.716 437.904 678.61 Q440.242 676.503 440.242 672.892 Q440.242 669.281 437.904 667.174 Q435.566 665.068 431.562 665.068 Q429.687 665.068 427.812 665.485 Q425.96 665.901 424.016 666.781 L424.016 649.42 Z\" fill=\"#000000\" fill-rule=\"nonzero\" fill-opacity=\"1\" /><path clip-path=\"url(#clip420)\" d=\"M454.131 678.1 L459.015 678.1 L459.015 683.98 L454.131 683.98 L454.131 678.1 Z\" fill=\"#000000\" fill-rule=\"nonzero\" fill-opacity=\"1\" /><path clip-path=\"url(#clip420)\" d=\"M479.2 652.499 Q475.589 652.499 473.761 656.063 Q471.955 659.605 471.955 666.735 Q471.955 673.841 473.761 677.406 Q475.589 680.947 479.2 680.947 Q482.835 680.947 484.64 677.406 Q486.469 673.841 486.469 666.735 Q486.469 659.605 484.64 656.063 Q482.835 652.499 479.2 652.499 M479.2 648.795 Q485.011 648.795 488.066 653.401 Q491.145 657.985 491.145 666.735 Q491.145 675.461 488.066 680.068 Q485.011 684.651 479.2 684.651 Q473.39 684.651 470.312 680.068 Q467.256 675.461 467.256 666.735 Q467.256 657.985 470.312 653.401 Q473.39 648.795 479.2 648.795 Z\" fill=\"#000000\" fill-rule=\"nonzero\" fill-opacity=\"1\" /><path clip-path=\"url(#clip420)\" d=\"M542.824 649.42 L565.046 649.42 L565.046 651.411 L552.5 683.98 L547.616 683.98 L559.421 653.355 L542.824 653.355 L542.824 649.42 Z\" fill=\"#000000\" fill-rule=\"nonzero\" fill-opacity=\"1\" /><path clip-path=\"url(#clip420)\" d=\"M574.167 678.1 L579.051 678.1 L579.051 683.98 L574.167 683.98 L574.167 678.1 Z\" fill=\"#000000\" fill-rule=\"nonzero\" fill-opacity=\"1\" /><path clip-path=\"url(#clip420)\" d=\"M589.282 649.42 L607.639 649.42 L607.639 653.355 L593.565 653.355 L593.565 661.827 Q594.583 661.48 595.602 661.318 Q596.62 661.133 597.639 661.133 Q603.426 661.133 606.805 664.304 Q610.185 667.475 610.185 672.892 Q610.185 678.471 606.713 681.572 Q603.241 684.651 596.921 684.651 Q594.745 684.651 592.477 684.281 Q590.231 683.91 587.824 683.17 L587.824 678.471 Q589.907 679.605 592.129 680.16 Q594.352 680.716 596.829 680.716 Q600.833 680.716 603.171 678.61 Q605.509 676.503 605.509 672.892 Q605.509 669.281 603.171 667.174 Q600.833 665.068 596.829 665.068 Q594.954 665.068 593.079 665.485 Q591.227 665.901 589.282 666.781 L589.282 649.42 Z\" fill=\"#000000\" fill-rule=\"nonzero\" fill-opacity=\"1\" /><path clip-path=\"url(#clip420)\" d=\"M648.23 680.045 L655.869 680.045 L655.869 653.679 L647.559 655.346 L647.559 651.087 L655.823 649.42 L660.499 649.42 L660.499 680.045 L668.137 680.045 L668.137 683.98 L648.23 683.98 L648.23 680.045 Z\" fill=\"#000000\" fill-rule=\"nonzero\" fill-opacity=\"1\" /><path clip-path=\"url(#clip420)\" d=\"M687.582 652.499 Q683.971 652.499 682.142 656.063 Q680.336 659.605 680.336 666.735 Q680.336 673.841 682.142 677.406 Q683.971 680.947 687.582 680.947 Q691.216 680.947 693.022 677.406 Q694.85 673.841 694.85 666.735 Q694.85 659.605 693.022 656.063 Q691.216 652.499 687.582 652.499 M687.582 648.795 Q693.392 648.795 696.447 653.401 Q699.526 657.985 699.526 666.735 Q699.526 675.461 696.447 680.068 Q693.392 684.651 687.582 684.651 Q681.772 684.651 678.693 680.068 Q675.637 675.461 675.637 666.735 Q675.637 657.985 678.693 653.401 Q681.772 648.795 687.582 648.795 Z\" fill=\"#000000\" fill-rule=\"nonzero\" fill-opacity=\"1\" /><path clip-path=\"url(#clip420)\" d=\"M707.744 678.1 L712.628 678.1 L712.628 683.98 L707.744 683.98 L707.744 678.1 Z\" fill=\"#000000\" fill-rule=\"nonzero\" fill-opacity=\"1\" /><path clip-path=\"url(#clip420)\" d=\"M732.813 652.499 Q729.202 652.499 727.373 656.063 Q725.568 659.605 725.568 666.735 Q725.568 673.841 727.373 677.406 Q729.202 680.947 732.813 680.947 Q736.447 680.947 738.253 677.406 Q740.081 673.841 740.081 666.735 Q740.081 659.605 738.253 656.063 Q736.447 652.499 732.813 652.499 M732.813 648.795 Q738.623 648.795 741.679 653.401 Q744.757 657.985 744.757 666.735 Q744.757 675.461 741.679 680.068 Q738.623 684.651 732.813 684.651 Q727.003 684.651 723.924 680.068 Q720.869 675.461 720.869 666.735 Q720.869 657.985 723.924 653.401 Q727.003 648.795 732.813 648.795 Z\" fill=\"#000000\" fill-rule=\"nonzero\" fill-opacity=\"1\" /><path clip-path=\"url(#clip420)\" d=\"M768.381 680.045 L776.02 680.045 L776.02 653.679 L767.71 655.346 L767.71 651.087 L775.974 649.42 L780.65 649.42 L780.65 680.045 L788.289 680.045 L788.289 683.98 L768.381 683.98 L768.381 680.045 Z\" fill=\"#000000\" fill-rule=\"nonzero\" fill-opacity=\"1\" /><path clip-path=\"url(#clip420)\" d=\"M801.761 680.045 L818.08 680.045 L818.08 683.98 L796.136 683.98 L796.136 680.045 Q798.798 677.29 803.381 672.66 Q807.988 668.008 809.168 666.665 Q811.413 664.142 812.293 662.406 Q813.196 660.647 813.196 658.957 Q813.196 656.202 811.251 654.466 Q809.33 652.73 806.228 652.73 Q804.029 652.73 801.576 653.494 Q799.145 654.258 796.367 655.809 L796.367 651.087 Q799.191 649.952 801.645 649.374 Q804.099 648.795 806.136 648.795 Q811.506 648.795 814.7 651.48 Q817.895 654.165 817.895 658.656 Q817.895 660.786 817.085 662.707 Q816.298 664.605 814.191 667.198 Q813.613 667.869 810.511 671.086 Q807.409 674.281 801.761 680.045 Z\" fill=\"#000000\" fill-rule=\"nonzero\" fill-opacity=\"1\" /><path clip-path=\"url(#clip420)\" d=\"M827.895 678.1 L832.779 678.1 L832.779 683.98 L827.895 683.98 L827.895 678.1 Z\" fill=\"#000000\" fill-rule=\"nonzero\" fill-opacity=\"1\" /><path clip-path=\"url(#clip420)\" d=\"M843.011 649.42 L861.367 649.42 L861.367 653.355 L847.293 653.355 L847.293 661.827 Q848.311 661.48 849.33 661.318 Q850.348 661.133 851.367 661.133 Q857.154 661.133 860.534 664.304 Q863.913 667.475 863.913 672.892 Q863.913 678.471 860.441 681.572 Q856.969 684.651 850.649 684.651 Q848.473 684.651 846.205 684.281 Q843.96 683.91 841.552 683.17 L841.552 678.471 Q843.636 679.605 845.858 680.16 Q848.08 680.716 850.557 680.716 Q854.561 680.716 856.899 678.61 Q859.237 676.503 859.237 672.892 Q859.237 669.281 856.899 667.174 Q854.561 665.068 850.557 665.068 Q848.682 665.068 846.807 665.485 Q844.955 665.901 843.011 666.781 L843.011 649.42 Z\" fill=\"#000000\" fill-rule=\"nonzero\" fill-opacity=\"1\" /><path clip-path=\"url(#clip420)\" d=\"M887.537 680.045 L895.176 680.045 L895.176 653.679 L886.866 655.346 L886.866 651.087 L895.13 649.42 L899.806 649.42 L899.806 680.045 L907.444 680.045 L907.444 683.98 L887.537 683.98 L887.537 680.045 Z\" fill=\"#000000\" fill-rule=\"nonzero\" fill-opacity=\"1\" /><path clip-path=\"url(#clip420)\" d=\"M916.935 649.42 L935.292 649.42 L935.292 653.355 L921.218 653.355 L921.218 661.827 Q922.236 661.48 923.255 661.318 Q924.273 661.133 925.292 661.133 Q931.079 661.133 934.458 664.304 Q937.838 667.475 937.838 672.892 Q937.838 678.471 934.366 681.572 Q930.893 684.651 924.574 684.651 Q922.398 684.651 920.13 684.281 Q917.884 683.91 915.477 683.17 L915.477 678.471 Q917.56 679.605 919.782 680.16 Q922.005 680.716 924.481 680.716 Q928.486 680.716 930.824 678.61 Q933.162 676.503 933.162 672.892 Q933.162 669.281 930.824 667.174 Q928.486 665.068 924.481 665.068 Q922.606 665.068 920.731 665.485 Q918.88 665.901 916.935 666.781 L916.935 649.42 Z\" fill=\"#000000\" fill-rule=\"nonzero\" fill-opacity=\"1\" /><path clip-path=\"url(#clip420)\" d=\"M947.051 678.1 L951.935 678.1 L951.935 683.98 L947.051 683.98 L947.051 678.1 Z\" fill=\"#000000\" fill-rule=\"nonzero\" fill-opacity=\"1\" /><path clip-path=\"url(#clip420)\" d=\"M972.12 652.499 Q968.509 652.499 966.68 656.063 Q964.875 659.605 964.875 666.735 Q964.875 673.841 966.68 677.406 Q968.509 680.947 972.12 680.947 Q975.754 680.947 977.56 677.406 Q979.388 673.841 979.388 666.735 Q979.388 659.605 977.56 656.063 Q975.754 652.499 972.12 652.499 M972.12 648.795 Q977.93 648.795 980.986 653.401 Q984.064 657.985 984.064 666.735 Q984.064 675.461 980.986 680.068 Q977.93 684.651 972.12 684.651 Q966.31 684.651 963.231 680.068 Q960.176 675.461 960.176 666.735 Q960.176 657.985 963.231 653.401 Q966.31 648.795 972.12 648.795 Z\" fill=\"#000000\" fill-rule=\"nonzero\" fill-opacity=\"1\" /><path clip-path=\"url(#clip420)\" d=\"M1007.69 680.045 L1015.33 680.045 L1015.33 653.679 L1007.02 655.346 L1007.02 651.087 L1015.28 649.42 L1019.96 649.42 L1019.96 680.045 L1027.6 680.045 L1027.6 683.98 L1007.69 683.98 L1007.69 680.045 Z\" fill=\"#000000\" fill-rule=\"nonzero\" fill-opacity=\"1\" /><path clip-path=\"url(#clip420)\" d=\"M1035.86 649.42 L1058.08 649.42 L1058.08 651.411 L1045.54 683.98 L1040.65 683.98 L1052.46 653.355 L1035.86 653.355 L1035.86 649.42 Z\" fill=\"#000000\" fill-rule=\"nonzero\" fill-opacity=\"1\" /><path clip-path=\"url(#clip420)\" d=\"M1067.2 678.1 L1072.09 678.1 L1072.09 683.98 L1067.2 683.98 L1067.2 678.1 Z\" fill=\"#000000\" fill-rule=\"nonzero\" fill-opacity=\"1\" /><path clip-path=\"url(#clip420)\" d=\"M1082.32 649.42 L1100.67 649.42 L1100.67 653.355 L1086.6 653.355 L1086.6 661.827 Q1087.62 661.48 1088.64 661.318 Q1089.66 661.133 1090.67 661.133 Q1096.46 661.133 1099.84 664.304 Q1103.22 667.475 1103.22 672.892 Q1103.22 678.471 1099.75 681.572 Q1096.28 684.651 1089.96 684.651 Q1087.78 684.651 1085.51 684.281 Q1083.27 683.91 1080.86 683.17 L1080.86 678.471 Q1082.94 679.605 1085.16 680.16 Q1087.39 680.716 1089.86 680.716 Q1093.87 680.716 1096.21 678.61 Q1098.54 676.503 1098.54 672.892 Q1098.54 669.281 1096.21 667.174 Q1093.87 665.068 1089.86 665.068 Q1087.99 665.068 1086.11 665.485 Q1084.26 665.901 1082.32 666.781 L1082.32 649.42 Z\" fill=\"#000000\" fill-rule=\"nonzero\" fill-opacity=\"1\" /><path clip-path=\"url(#clip420)\" d=\"M628.554 722.396 L634.411 722.396 L634.411 758.044 L628.554 758.044 L628.554 722.396 M628.554 708.519 L634.411 708.519 L634.411 715.935 L628.554 715.935 L628.554 708.519 Z\" fill=\"#000000\" fill-rule=\"nonzero\" fill-opacity=\"1\" /><path clip-path=\"url(#clip420)\" d=\"M652.458 712.274 L652.458 722.396 L664.521 722.396 L664.521 726.947 L652.458 726.947 L652.458 746.299 Q652.458 750.66 653.635 751.901 Q654.845 753.142 658.505 753.142 L664.521 753.142 L664.521 758.044 L658.505 758.044 Q651.725 758.044 649.147 755.529 Q646.569 752.983 646.569 746.299 L646.569 726.947 L642.272 726.947 L642.272 722.396 L646.569 722.396 L646.569 712.274 L652.458 712.274 Z\" fill=\"#000000\" fill-rule=\"nonzero\" fill-opacity=\"1\" /><path clip-path=\"url(#clip420)\" d=\"M702.715 738.756 L702.715 741.62 L675.788 741.62 Q676.17 747.668 679.416 750.851 Q682.695 754.002 688.519 754.002 Q691.893 754.002 695.044 753.174 Q698.227 752.347 701.346 750.691 L701.346 756.23 Q698.195 757.566 694.885 758.267 Q691.575 758.967 688.169 758.967 Q679.639 758.967 674.642 754.002 Q669.677 749.036 669.677 740.57 Q669.677 731.817 674.387 726.693 Q679.13 721.537 687.151 721.537 Q694.344 721.537 698.513 726.183 Q702.715 730.799 702.715 738.756 M696.858 737.037 Q696.795 732.231 694.153 729.366 Q691.543 726.502 687.214 726.502 Q682.313 726.502 679.353 729.271 Q676.424 732.04 675.979 737.069 L696.858 737.037 Z\" fill=\"#000000\" fill-rule=\"nonzero\" fill-opacity=\"1\" /><path clip-path=\"url(#clip420)\" d=\"M732.984 727.87 Q731.997 727.297 730.819 727.043 Q729.674 726.756 728.273 726.756 Q723.308 726.756 720.634 730.003 Q717.992 733.218 717.992 739.265 L717.992 758.044 L712.104 758.044 L712.104 722.396 L717.992 722.396 L717.992 727.934 Q719.839 724.688 722.799 723.128 Q725.759 721.537 729.992 721.537 Q730.597 721.537 731.329 721.632 Q732.061 721.696 732.952 721.855 L732.984 727.87 Z\" fill=\"#000000\" fill-rule=\"nonzero\" fill-opacity=\"1\" /><path clip-path=\"url(#clip420)\" d=\"M761.852 723.446 L761.852 728.984 Q759.37 727.711 756.696 727.075 Q754.022 726.438 751.158 726.438 Q746.797 726.438 744.601 727.775 Q742.437 729.112 742.437 731.785 Q742.437 733.822 743.996 735 Q745.556 736.146 750.267 737.196 L752.272 737.642 Q758.51 738.979 761.12 741.429 Q763.762 743.848 763.762 748.209 Q763.762 753.174 759.815 756.07 Q755.9 758.967 749.025 758.967 Q746.161 758.967 743.042 758.394 Q739.954 757.853 736.517 756.739 L736.517 750.691 Q739.763 752.378 742.914 753.238 Q746.065 754.065 749.153 754.065 Q753.29 754.065 755.518 752.665 Q757.746 751.233 757.746 748.654 Q757.746 746.267 756.123 744.994 Q754.532 743.721 749.089 742.543 L747.052 742.066 Q741.609 740.92 739.19 738.565 Q736.771 736.178 736.771 732.04 Q736.771 727.011 740.336 724.274 Q743.901 721.537 750.458 721.537 Q753.704 721.537 756.569 722.014 Q759.433 722.491 761.852 723.446 Z\" fill=\"#000000\" fill-rule=\"nonzero\" fill-opacity=\"1\" /><polyline clip-path=\"url(#clip422)\" style=\"stroke:#000000; stroke-linecap:round; stroke-linejoin:round; stroke-width:2; stroke-opacity:0.1; fill:none\" points=\"239.56,428.394 1152.76,428.394 \"/>\n",
       "<polyline clip-path=\"url(#clip422)\" style=\"stroke:#000000; stroke-linecap:round; stroke-linejoin:round; stroke-width:2; stroke-opacity:0.1; fill:none\" points=\"239.56,63.7706 1152.76,63.7706 \"/>\n",
       "<polyline clip-path=\"url(#clip420)\" style=\"stroke:#000000; stroke-linecap:round; stroke-linejoin:round; stroke-width:4; stroke-opacity:1; fill:none\" points=\"239.56,631.18 239.56,47.2441 \"/>\n",
       "<polyline clip-path=\"url(#clip420)\" style=\"stroke:#000000; stroke-linecap:round; stroke-linejoin:round; stroke-width:4; stroke-opacity:1; fill:none\" points=\"239.56,428.394 258.458,428.394 \"/>\n",
       "<polyline clip-path=\"url(#clip420)\" style=\"stroke:#000000; stroke-linecap:round; stroke-linejoin:round; stroke-width:4; stroke-opacity:1; fill:none\" points=\"239.56,63.7706 258.458,63.7706 \"/>\n",
       "<path clip-path=\"url(#clip420)\" d=\"M120.931 448.186 L128.57 448.186 L128.57 421.821 L120.26 423.487 L120.26 419.228 L128.524 417.562 L133.2 417.562 L133.2 448.186 L140.839 448.186 L140.839 452.122 L120.931 452.122 L120.931 448.186 Z\" fill=\"#000000\" fill-rule=\"nonzero\" fill-opacity=\"1\" /><path clip-path=\"url(#clip420)\" d=\"M160.283 420.64 Q156.672 420.64 154.843 424.205 Q153.038 427.747 153.038 434.876 Q153.038 441.983 154.843 445.547 Q156.672 449.089 160.283 449.089 Q163.917 449.089 165.723 445.547 Q167.552 441.983 167.552 434.876 Q167.552 427.747 165.723 424.205 Q163.917 420.64 160.283 420.64 M160.283 416.937 Q166.093 416.937 169.149 421.543 Q172.227 426.126 172.227 434.876 Q172.227 443.603 169.149 448.209 Q166.093 452.793 160.283 452.793 Q154.473 452.793 151.394 448.209 Q148.339 443.603 148.339 434.876 Q148.339 426.126 151.394 421.543 Q154.473 416.937 160.283 416.937 Z\" fill=\"#000000\" fill-rule=\"nonzero\" fill-opacity=\"1\" /><path clip-path=\"url(#clip420)\" d=\"M172.227 411.038 L196.339 411.038 L196.339 414.235 L172.227 414.235 L172.227 411.038 Z\" fill=\"#000000\" fill-rule=\"nonzero\" fill-opacity=\"1\" /><path clip-path=\"url(#clip420)\" d=\"M204.577 396.631 L219.491 396.631 L219.491 399.828 L208.056 399.828 L208.056 406.712 Q208.884 406.43 209.711 406.298 Q210.539 406.148 211.366 406.148 Q216.068 406.148 218.814 408.724 Q221.56 411.301 221.56 415.702 Q221.56 420.235 218.739 422.755 Q215.918 425.257 210.783 425.257 Q209.015 425.257 207.172 424.956 Q205.348 424.655 203.392 424.053 L203.392 420.235 Q205.085 421.156 206.89 421.608 Q208.696 422.059 210.708 422.059 Q213.962 422.059 215.861 420.348 Q217.761 418.636 217.761 415.702 Q217.761 412.768 215.861 411.057 Q213.962 409.345 210.708 409.345 Q209.185 409.345 207.661 409.684 Q206.157 410.022 204.577 410.737 L204.577 396.631 Z\" fill=\"#000000\" fill-rule=\"nonzero\" fill-opacity=\"1\" /><path clip-path=\"url(#clip420)\" d=\"M150.855 83.563 L158.493 83.563 L158.493 57.1974 L150.183 58.8641 L150.183 54.6048 L158.447 52.9382 L163.123 52.9382 L163.123 83.563 L170.762 83.563 L170.762 87.4982 L150.855 87.4982 L150.855 83.563 Z\" fill=\"#000000\" fill-rule=\"nonzero\" fill-opacity=\"1\" /><path clip-path=\"url(#clip420)\" d=\"M190.206 56.0169 Q186.595 56.0169 184.766 59.5817 Q182.961 63.1233 182.961 70.2529 Q182.961 77.3593 184.766 80.9241 Q186.595 84.4658 190.206 84.4658 Q193.84 84.4658 195.646 80.9241 Q197.475 77.3593 197.475 70.2529 Q197.475 63.1233 195.646 59.5817 Q193.84 56.0169 190.206 56.0169 M190.206 52.3132 Q196.016 52.3132 199.072 56.9196 Q202.151 61.5029 202.151 70.2529 Q202.151 78.9797 199.072 83.5862 Q196.016 88.1695 190.206 88.1695 Q184.396 88.1695 181.317 83.5862 Q178.262 78.9797 178.262 70.2529 Q178.262 61.5029 181.317 56.9196 Q184.396 52.3132 190.206 52.3132 Z\" fill=\"#000000\" fill-rule=\"nonzero\" fill-opacity=\"1\" /><path clip-path=\"url(#clip420)\" d=\"M211.855 34.5092 Q208.921 34.5092 207.436 37.4056 Q205.969 40.2832 205.969 46.076 Q205.969 51.85 207.436 54.7464 Q208.921 57.624 211.855 57.624 Q214.808 57.624 216.275 54.7464 Q217.761 51.85 217.761 46.076 Q217.761 40.2832 216.275 37.4056 Q214.808 34.5092 211.855 34.5092 M211.855 31.5 Q216.576 31.5 219.059 35.2427 Q221.56 38.9667 221.56 46.076 Q221.56 53.1665 219.059 56.9093 Q216.576 60.6332 211.855 60.6332 Q207.135 60.6332 204.633 56.9093 Q202.151 53.1665 202.151 46.076 Q202.151 38.9667 204.633 35.2427 Q207.135 31.5 211.855 31.5 Z\" fill=\"#000000\" fill-rule=\"nonzero\" fill-opacity=\"1\" /><path clip-path=\"url(#clip420)\" d=\"M53.7248 608.529 L59.1993 608.529 Q57.8307 611.012 57.1623 613.526 Q56.4621 616.009 56.4621 618.555 Q56.4621 624.252 60.0905 627.403 Q63.6872 630.554 70.212 630.554 Q76.7369 630.554 80.3653 627.403 Q83.9619 624.252 83.9619 618.555 Q83.9619 616.009 83.2935 613.526 Q82.5933 611.012 81.2247 608.529 L86.6355 608.529 Q87.7814 610.98 88.3543 613.622 Q88.9272 616.232 88.9272 619.192 Q88.9272 627.244 83.8664 631.987 Q78.8057 636.729 70.212 636.729 Q61.491 636.729 56.4939 631.955 Q51.4968 627.149 51.4968 618.81 Q51.4968 616.104 52.0697 613.526 Q52.6108 610.948 53.7248 608.529 Z\" fill=\"#000000\" fill-rule=\"nonzero\" fill-opacity=\"1\" /><path clip-path=\"url(#clip420)\" d=\"M56.4621 584.53 Q56.4621 589.241 60.1542 591.978 Q63.8145 594.716 70.212 594.716 Q76.6095 594.716 80.3017 592.01 Q83.9619 589.273 83.9619 584.53 Q83.9619 579.852 80.2698 577.114 Q76.5777 574.377 70.212 574.377 Q63.8781 574.377 60.186 577.114 Q56.4621 579.852 56.4621 584.53 M51.4968 584.53 Q51.4968 576.892 56.4621 572.531 Q61.4273 568.171 70.212 568.171 Q78.9649 568.171 83.9619 572.531 Q88.9272 576.892 88.9272 584.53 Q88.9272 592.201 83.9619 596.562 Q78.9649 600.89 70.212 600.89 Q61.4273 600.89 56.4621 596.562 Q51.4968 592.201 51.4968 584.53 Z\" fill=\"#000000\" fill-rule=\"nonzero\" fill-opacity=\"1\" /><path clip-path=\"url(#clip420)\" d=\"M66.4881 528.83 L88.0042 528.83 L88.0042 534.687 L66.679 534.687 Q61.6183 534.687 59.1038 536.66 Q56.5894 538.634 56.5894 542.58 Q56.5894 547.323 59.6131 550.06 Q62.6368 552.797 67.8567 552.797 L88.0042 552.797 L88.0042 558.686 L52.3562 558.686 L52.3562 552.797 L57.8944 552.797 Q54.6797 550.697 53.0883 547.864 Q51.4968 544.999 51.4968 541.275 Q51.4968 535.133 55.3163 531.981 Q59.1038 528.83 66.4881 528.83 Z\" fill=\"#000000\" fill-rule=\"nonzero\" fill-opacity=\"1\" /><path clip-path=\"url(#clip420)\" d=\"M52.3562 521.351 L52.3562 515.144 L82.275 504.004 L52.3562 492.864 L52.3562 486.658 L88.0042 500.026 L88.0042 507.983 L52.3562 521.351 Z\" fill=\"#000000\" fill-rule=\"nonzero\" fill-opacity=\"1\" /><path clip-path=\"url(#clip420)\" d=\"M68.7161 448.081 L71.5806 448.081 L71.5806 475.008 Q77.6281 474.626 80.8109 471.38 Q83.9619 468.102 83.9619 462.277 Q83.9619 458.903 83.1344 455.752 Q82.3069 452.569 80.6518 449.45 L86.1899 449.45 Q87.5267 452.601 88.227 455.911 Q88.9272 459.221 88.9272 462.627 Q88.9272 471.157 83.9619 476.154 Q78.9967 481.119 70.5303 481.119 Q61.7774 481.119 56.6531 476.409 Q51.4968 471.666 51.4968 463.646 Q51.4968 456.452 56.1438 452.283 Q60.7589 448.081 68.7161 448.081 M66.9973 453.938 Q62.1912 454.002 59.3266 456.643 Q56.4621 459.253 56.4621 463.582 Q56.4621 468.484 59.2312 471.444 Q62.0002 474.372 67.0292 474.817 L66.9973 453.938 Z\" fill=\"#000000\" fill-rule=\"nonzero\" fill-opacity=\"1\" /><path clip-path=\"url(#clip420)\" d=\"M57.8307 417.813 Q57.2578 418.799 57.0032 419.977 Q56.7167 421.123 56.7167 422.523 Q56.7167 427.488 59.9632 430.162 Q63.1779 432.804 69.2253 432.804 L88.0042 432.804 L88.0042 438.692 L52.3562 438.692 L52.3562 432.804 L57.8944 432.804 Q54.6479 430.958 53.0883 427.998 Q51.4968 425.038 51.4968 420.804 Q51.4968 420.2 51.5923 419.468 Q51.656 418.736 51.8151 417.844 L57.8307 417.813 Z\" fill=\"#000000\" fill-rule=\"nonzero\" fill-opacity=\"1\" /><path clip-path=\"url(#clip420)\" d=\"M69.7664 389.358 Q63.4007 389.358 59.8996 392 Q56.3984 394.61 56.3984 399.352 Q56.3984 404.063 59.8996 406.704 Q63.4007 409.314 69.7664 409.314 Q76.1003 409.314 79.6014 406.704 Q83.1026 404.063 83.1026 399.352 Q83.1026 394.61 79.6014 392 Q76.1003 389.358 69.7664 389.358 M83.58 383.501 Q92.683 383.501 97.1071 387.544 Q101.563 391.586 101.563 399.925 Q101.563 403.012 101.086 405.75 Q100.64 408.487 99.6852 411.065 L93.9879 411.065 Q95.3884 408.487 96.0568 405.972 Q96.7252 403.458 96.7252 400.848 Q96.7252 395.087 93.7015 392.222 Q90.7096 389.358 84.6303 389.358 L81.7339 389.358 Q84.885 391.172 86.4446 394.005 Q88.0042 396.838 88.0042 400.784 Q88.0042 407.341 83.0071 411.351 Q78.01 415.362 69.7664 415.362 Q61.491 415.362 56.4939 411.351 Q51.4968 407.341 51.4968 400.784 Q51.4968 396.838 53.0564 394.005 Q54.616 391.172 57.7671 389.358 L52.3562 389.358 L52.3562 383.501 L83.58 383.501 Z\" fill=\"#000000\" fill-rule=\"nonzero\" fill-opacity=\"1\" /><path clip-path=\"url(#clip420)\" d=\"M68.7161 340.947 L71.5806 340.947 L71.5806 367.874 Q77.6281 367.492 80.8109 364.245 Q83.9619 360.967 83.9619 355.142 Q83.9619 351.768 83.1344 348.617 Q82.3069 345.434 80.6518 342.315 L86.1899 342.315 Q87.5267 345.466 88.227 348.776 Q88.9272 352.087 88.9272 355.492 Q88.9272 364.022 83.9619 369.019 Q78.9967 373.985 70.5303 373.985 Q61.7774 373.985 56.6531 369.274 Q51.4968 364.532 51.4968 356.511 Q51.4968 349.318 56.1438 345.148 Q60.7589 340.947 68.7161 340.947 M66.9973 346.803 Q62.1912 346.867 59.3266 349.508 Q56.4621 352.118 56.4621 356.447 Q56.4621 361.349 59.2312 364.309 Q62.0002 367.237 67.0292 367.683 L66.9973 346.803 Z\" fill=\"#000000\" fill-rule=\"nonzero\" fill-opacity=\"1\" /><path clip-path=\"url(#clip420)\" d=\"M66.4881 301.702 L88.0042 301.702 L88.0042 307.558 L66.679 307.558 Q61.6183 307.558 59.1038 309.532 Q56.5894 311.505 56.5894 315.452 Q56.5894 320.194 59.6131 322.932 Q62.6368 325.669 67.8567 325.669 L88.0042 325.669 L88.0042 331.557 L52.3562 331.557 L52.3562 325.669 L57.8944 325.669 Q54.6797 323.568 53.0883 320.736 Q51.4968 317.871 51.4968 314.147 Q51.4968 308.004 55.3163 304.853 Q59.1038 301.702 66.4881 301.702 Z\" fill=\"#000000\" fill-rule=\"nonzero\" fill-opacity=\"1\" /><path clip-path=\"url(#clip420)\" d=\"M53.7248 264.367 L59.1993 264.367 Q57.8307 266.85 57.1623 269.364 Q56.4621 271.847 56.4621 274.393 Q56.4621 280.09 60.0905 283.241 Q63.6872 286.393 70.212 286.393 Q76.7369 286.393 80.3653 283.241 Q83.9619 280.09 83.9619 274.393 Q83.9619 271.847 83.2935 269.364 Q82.5933 266.85 81.2247 264.367 L86.6355 264.367 Q87.7814 266.818 88.3543 269.46 Q88.9272 272.07 88.9272 275.03 Q88.9272 283.082 83.8664 287.825 Q78.8057 292.567 70.212 292.567 Q61.491 292.567 56.4939 287.793 Q51.4968 282.987 51.4968 274.648 Q51.4968 271.942 52.0697 269.364 Q52.6108 266.786 53.7248 264.367 Z\" fill=\"#000000\" fill-rule=\"nonzero\" fill-opacity=\"1\" /><path clip-path=\"url(#clip420)\" d=\"M68.7161 223.69 L71.5806 223.69 L71.5806 250.617 Q77.6281 250.235 80.8109 246.989 Q83.9619 243.71 83.9619 237.886 Q83.9619 234.512 83.1344 231.361 Q82.3069 228.178 80.6518 225.059 L86.1899 225.059 Q87.5267 228.21 88.227 231.52 Q88.9272 234.83 88.9272 238.236 Q88.9272 246.766 83.9619 251.763 Q78.9967 256.728 70.5303 256.728 Q61.7774 256.728 56.6531 252.018 Q51.4968 247.275 51.4968 239.254 Q51.4968 232.061 56.1438 227.892 Q60.7589 223.69 68.7161 223.69 M66.9973 229.547 Q62.1912 229.61 59.3266 232.252 Q56.4621 234.862 56.4621 239.191 Q56.4621 244.092 59.2312 247.052 Q62.0002 249.981 67.0292 250.426 L66.9973 229.547 Z\" fill=\"#000000\" fill-rule=\"nonzero\" fill-opacity=\"1\" /><path clip-path=\"url(#clip420)\" d=\"M68.7161 162.866 L71.5806 162.866 L71.5806 189.793 Q77.6281 189.411 80.8109 186.164 Q83.9619 182.886 83.9619 177.062 Q83.9619 173.688 83.1344 170.537 Q82.3069 167.354 80.6518 164.235 L86.1899 164.235 Q87.5267 167.386 88.227 170.696 Q88.9272 174.006 88.9272 177.412 Q88.9272 185.942 83.9619 190.939 Q78.9967 195.904 70.5303 195.904 Q61.7774 195.904 56.6531 191.193 Q51.4968 186.451 51.4968 178.43 Q51.4968 171.237 56.1438 167.067 Q60.7589 162.866 68.7161 162.866 M66.9973 168.722 Q62.1912 168.786 59.3266 171.428 Q56.4621 174.038 56.4621 178.366 Q56.4621 183.268 59.2312 186.228 Q62.0002 189.156 67.0292 189.602 L66.9973 168.722 Z\" fill=\"#000000\" fill-rule=\"nonzero\" fill-opacity=\"1\" /><path clip-path=\"url(#clip420)\" d=\"M57.8307 132.597 Q57.2578 133.584 57.0032 134.761 Q56.7167 135.907 56.7167 137.308 Q56.7167 142.273 59.9632 144.947 Q63.1779 147.588 69.2253 147.588 L88.0042 147.588 L88.0042 153.477 L52.3562 153.477 L52.3562 147.588 L57.8944 147.588 Q54.6479 145.742 53.0883 142.782 Q51.4968 139.822 51.4968 135.589 Q51.4968 134.984 51.5923 134.252 Q51.656 133.52 51.8151 132.629 L57.8307 132.597 Z\" fill=\"#000000\" fill-rule=\"nonzero\" fill-opacity=\"1\" /><path clip-path=\"url(#clip420)\" d=\"M57.8307 106.943 Q57.2578 107.93 57.0032 109.108 Q56.7167 110.253 56.7167 111.654 Q56.7167 116.619 59.9632 119.293 Q63.1779 121.934 69.2253 121.934 L88.0042 121.934 L88.0042 127.823 L52.3562 127.823 L52.3562 121.934 L57.8944 121.934 Q54.6479 120.088 53.0883 117.128 Q51.4968 114.168 51.4968 109.935 Q51.4968 109.33 51.5923 108.598 Q51.656 107.866 51.8151 106.975 L57.8307 106.943 Z\" fill=\"#000000\" fill-rule=\"nonzero\" fill-opacity=\"1\" /><path clip-path=\"url(#clip420)\" d=\"M56.4621 88.419 Q56.4621 93.1297 60.1542 95.8669 Q63.8145 98.6042 70.212 98.6042 Q76.6095 98.6042 80.3017 95.8987 Q83.9619 93.1615 83.9619 88.419 Q83.9619 83.7402 80.2698 81.003 Q76.5777 78.2657 70.212 78.2657 Q63.8781 78.2657 60.186 81.003 Q56.4621 83.7402 56.4621 88.419 M51.4968 88.419 Q51.4968 80.7802 56.4621 76.4197 Q61.4273 72.0592 70.212 72.0592 Q78.9649 72.0592 83.9619 76.4197 Q88.9272 80.7802 88.9272 88.419 Q88.9272 96.0897 83.9619 100.45 Q78.9649 104.779 70.212 104.779 Q61.4273 104.779 56.4621 100.45 Q51.4968 96.0897 51.4968 88.419 Z\" fill=\"#000000\" fill-rule=\"nonzero\" fill-opacity=\"1\" /><path clip-path=\"url(#clip420)\" d=\"M57.8307 41.6948 Q57.2578 42.6814 57.0032 43.8591 Q56.7167 45.0049 56.7167 46.4054 Q56.7167 51.3706 59.9632 54.0442 Q63.1779 56.686 69.2253 56.686 L88.0042 56.686 L88.0042 62.5743 L52.3562 62.5743 L52.3562 56.686 L57.8944 56.686 Q54.6479 54.8399 53.0883 51.8799 Q51.4968 48.9198 51.4968 44.6866 Q51.4968 44.0819 51.5923 43.3498 Q51.656 42.6178 51.8151 41.7266 L57.8307 41.6948 Z\" fill=\"#000000\" fill-rule=\"nonzero\" fill-opacity=\"1\" /><polyline clip-path=\"url(#clip422)\" style=\"stroke:#009af9; stroke-linecap:round; stroke-linejoin:round; stroke-width:4; stroke-opacity:1; fill:none\" points=\"265.405,63.7706 313.267,69.9721 361.128,83.7965 408.99,105.462 456.851,160.581 504.712,279.648 552.574,421.721 600.435,484.127 648.297,614.653 696.158,262.876 744.019,301.187 791.881,345.68 839.742,421.826 887.604,487.897 935.465,600.61 983.327,356.195 1031.19,413.875 1079.05,465.542 1126.91,574.737 \"/>\n",
       "<path clip-path=\"url(#clip422)\" d=\"M265.405 79.7706 L254.093 75.0826 L249.405 63.7706 L254.093 52.4586 L265.405 47.7706 L276.717 52.4586 L281.405 63.7706 L276.717 75.0826 Z\" fill=\"#009af9\" fill-rule=\"evenodd\" fill-opacity=\"1\" stroke=\"#000000\" stroke-opacity=\"1\" stroke-width=\"1.6\"/>\n",
       "<path clip-path=\"url(#clip422)\" d=\"M313.267 85.9721 L301.955 81.2841 L297.267 69.9721 L301.955 58.6601 L313.267 53.9721 L324.579 58.6601 L329.267 69.9721 L324.579 81.2841 Z\" fill=\"#009af9\" fill-rule=\"evenodd\" fill-opacity=\"1\" stroke=\"#000000\" stroke-opacity=\"1\" stroke-width=\"1.6\"/>\n",
       "<path clip-path=\"url(#clip422)\" d=\"M361.128 99.7965 L349.816 95.1085 L345.128 83.7965 L349.816 72.4845 L361.128 67.7965 L372.44 72.4845 L377.128 83.7965 L372.44 95.1085 Z\" fill=\"#009af9\" fill-rule=\"evenodd\" fill-opacity=\"1\" stroke=\"#000000\" stroke-opacity=\"1\" stroke-width=\"1.6\"/>\n",
       "<path clip-path=\"url(#clip422)\" d=\"M408.99 121.462 L397.678 116.774 L392.99 105.462 L397.678 94.15 L408.99 89.462 L420.302 94.15 L424.99 105.462 L420.302 116.774 Z\" fill=\"#009af9\" fill-rule=\"evenodd\" fill-opacity=\"1\" stroke=\"#000000\" stroke-opacity=\"1\" stroke-width=\"1.6\"/>\n",
       "<path clip-path=\"url(#clip422)\" d=\"M456.851 176.581 L445.539 171.893 L440.851 160.581 L445.539 149.269 L456.851 144.581 L468.163 149.269 L472.851 160.581 L468.163 171.893 Z\" fill=\"#009af9\" fill-rule=\"evenodd\" fill-opacity=\"1\" stroke=\"#000000\" stroke-opacity=\"1\" stroke-width=\"1.6\"/>\n",
       "<path clip-path=\"url(#clip422)\" d=\"M504.712 295.648 L493.4 290.96 L488.712 279.648 L493.4 268.336 L504.712 263.648 L516.024 268.336 L520.712 279.648 L516.024 290.96 Z\" fill=\"#009af9\" fill-rule=\"evenodd\" fill-opacity=\"1\" stroke=\"#000000\" stroke-opacity=\"1\" stroke-width=\"1.6\"/>\n",
       "<path clip-path=\"url(#clip422)\" d=\"M552.574 437.721 L541.262 433.033 L536.574 421.721 L541.262 410.409 L552.574 405.721 L563.886 410.409 L568.574 421.721 L563.886 433.033 Z\" fill=\"#009af9\" fill-rule=\"evenodd\" fill-opacity=\"1\" stroke=\"#000000\" stroke-opacity=\"1\" stroke-width=\"1.6\"/>\n",
       "<path clip-path=\"url(#clip422)\" d=\"M600.435 500.127 L589.123 495.439 L584.435 484.127 L589.123 472.815 L600.435 468.127 L611.747 472.815 L616.435 484.127 L611.747 495.439 Z\" fill=\"#009af9\" fill-rule=\"evenodd\" fill-opacity=\"1\" stroke=\"#000000\" stroke-opacity=\"1\" stroke-width=\"1.6\"/>\n",
       "<path clip-path=\"url(#clip422)\" d=\"M648.297 630.653 L636.985 625.965 L632.297 614.653 L636.985 603.341 L648.297 598.653 L659.609 603.341 L664.297 614.653 L659.609 625.965 Z\" fill=\"#009af9\" fill-rule=\"evenodd\" fill-opacity=\"1\" stroke=\"#000000\" stroke-opacity=\"1\" stroke-width=\"1.6\"/>\n",
       "<path clip-path=\"url(#clip422)\" d=\"M696.158 278.876 L684.846 274.188 L680.158 262.876 L684.846 251.564 L696.158 246.876 L707.47 251.564 L712.158 262.876 L707.47 274.188 Z\" fill=\"#009af9\" fill-rule=\"evenodd\" fill-opacity=\"1\" stroke=\"#000000\" stroke-opacity=\"1\" stroke-width=\"1.6\"/>\n",
       "<path clip-path=\"url(#clip422)\" d=\"M744.019 317.187 L732.707 312.499 L728.019 301.187 L732.707 289.875 L744.019 285.187 L755.331 289.875 L760.019 301.187 L755.331 312.499 Z\" fill=\"#009af9\" fill-rule=\"evenodd\" fill-opacity=\"1\" stroke=\"#000000\" stroke-opacity=\"1\" stroke-width=\"1.6\"/>\n",
       "<path clip-path=\"url(#clip422)\" d=\"M791.881 361.68 L780.569 356.992 L775.881 345.68 L780.569 334.368 L791.881 329.68 L803.193 334.368 L807.881 345.68 L803.193 356.992 Z\" fill=\"#009af9\" fill-rule=\"evenodd\" fill-opacity=\"1\" stroke=\"#000000\" stroke-opacity=\"1\" stroke-width=\"1.6\"/>\n",
       "<path clip-path=\"url(#clip422)\" d=\"M839.742 437.826 L828.43 433.138 L823.742 421.826 L828.43 410.514 L839.742 405.826 L851.054 410.514 L855.742 421.826 L851.054 433.138 Z\" fill=\"#009af9\" fill-rule=\"evenodd\" fill-opacity=\"1\" stroke=\"#000000\" stroke-opacity=\"1\" stroke-width=\"1.6\"/>\n",
       "<path clip-path=\"url(#clip422)\" d=\"M887.604 503.897 L876.292 499.209 L871.604 487.897 L876.292 476.585 L887.604 471.897 L898.916 476.585 L903.604 487.897 L898.916 499.209 Z\" fill=\"#009af9\" fill-rule=\"evenodd\" fill-opacity=\"1\" stroke=\"#000000\" stroke-opacity=\"1\" stroke-width=\"1.6\"/>\n",
       "<path clip-path=\"url(#clip422)\" d=\"M935.465 616.61 L924.153 611.922 L919.465 600.61 L924.153 589.298 L935.465 584.61 L946.777 589.298 L951.465 600.61 L946.777 611.922 Z\" fill=\"#009af9\" fill-rule=\"evenodd\" fill-opacity=\"1\" stroke=\"#000000\" stroke-opacity=\"1\" stroke-width=\"1.6\"/>\n",
       "<path clip-path=\"url(#clip422)\" d=\"M983.327 372.195 L972.015 367.507 L967.327 356.195 L972.015 344.883 L983.327 340.195 L994.639 344.883 L999.327 356.195 L994.639 367.507 Z\" fill=\"#009af9\" fill-rule=\"evenodd\" fill-opacity=\"1\" stroke=\"#000000\" stroke-opacity=\"1\" stroke-width=\"1.6\"/>\n",
       "<path clip-path=\"url(#clip422)\" d=\"M1031.19 429.875 L1019.88 425.187 L1015.19 413.875 L1019.88 402.563 L1031.19 397.875 L1042.5 402.563 L1047.19 413.875 L1042.5 425.187 Z\" fill=\"#009af9\" fill-rule=\"evenodd\" fill-opacity=\"1\" stroke=\"#000000\" stroke-opacity=\"1\" stroke-width=\"1.6\"/>\n",
       "<path clip-path=\"url(#clip422)\" d=\"M1079.05 481.542 L1067.74 476.854 L1063.05 465.542 L1067.74 454.23 L1079.05 449.542 L1090.36 454.23 L1095.05 465.542 L1090.36 476.854 Z\" fill=\"#009af9\" fill-rule=\"evenodd\" fill-opacity=\"1\" stroke=\"#000000\" stroke-opacity=\"1\" stroke-width=\"1.6\"/>\n",
       "<path clip-path=\"url(#clip422)\" d=\"M1126.91 590.737 L1115.6 586.049 L1110.91 574.737 L1115.6 563.425 L1126.91 558.737 L1138.22 563.425 L1142.91 574.737 L1138.22 586.049 Z\" fill=\"#009af9\" fill-rule=\"evenodd\" fill-opacity=\"1\" stroke=\"#000000\" stroke-opacity=\"1\" stroke-width=\"1.6\"/>\n",
       "</svg>\n"
      ]
     },
     "metadata": {},
     "output_type": "display_data"
    }
   ],
   "source": [
    "pl_err = plot(cb.Δs, ylabel=\"convergence error\", xlabel=\"iters\", m=:o, yaxis=:log10,\n",
    "    size=(300, 200), label=\"\")"
   ]
  },
  {
   "cell_type": "code",
   "execution_count": 8,
   "metadata": {},
   "outputs": [],
   "source": [
    "fe_bp = bethe_free_energy(bp)\n",
    "b_bp = beliefs(bp)\n",
    "p_bp = [[bbb[2] for bbb in bb] for bb in b_bp];"
   ]
  },
  {
   "cell_type": "markdown",
   "metadata": {},
   "source": [
    "Run sib"
   ]
  },
  {
   "cell_type": "code",
   "execution_count": 9,
   "metadata": {},
   "outputs": [
    {
     "name": "stdout",
     "output_type": "stream",
     "text": [
      "sib.iterate(damp=0.0): 0/400 1.000e+00/1e-14      \rsib.iterate(damp=0.0): 1/400 5.341e-01/1e-14      \rsib.iterate(damp=0.0): 2/400 3.892e-01/1e-14      \rsib.iterate(damp=0.0): 3/400 5.183e-01/1e-14      \rsib.iterate(damp=0.0): 4/400 2.611e-01/1e-14      \rsib.iterate(damp=0.0): 5/400 1.060e-01/1e-14      \rsib.iterate(damp=0.0): 6/400 1.777e-02/1e-14      \rsib.iterate(damp=0.0): 7/400 7.772e-15/1e-14      \r\n",
      "sib.iterate(damp=0.5): 0/400 1.049e-14/1e-14      \rsib.iterate(damp=0.5): 1/400 6.328e-15/1e-14      \r\n",
      "sib.iterate(damp=0.9): 0/400 4.940e-15/1e-14      \r"
     ]
    }
   ],
   "source": [
    "b_sib, fe_sib, f = sib_SIR(T, g, bp.ϕ, λ, ρ);"
   ]
  },
  {
   "cell_type": "code",
   "execution_count": 10,
   "metadata": {},
   "outputs": [],
   "source": [
    "p_sib = [[bbb[2] for bbb in bb] for bb in b_sib];"
   ]
  },
  {
   "cell_type": "code",
   "execution_count": 11,
   "metadata": {},
   "outputs": [
    {
     "data": {
      "text/plain": [
       "10-element Vector{Tuple{Float64, Float64}}:\n",
       " (0.03348503804188797, 0.021133717433398425)\n",
       " (0.0657695951862233, 0.050828128076081835)\n",
       " (0.18552707503272065, 0.17060658152000518)\n",
       " (0.4618769337104289, 0.4515249693538852)\n",
       " (0.9999999999999998, 1.0)\n",
       " (0.8000009103699692, 0.7999999999999999)\n",
       " (0.6400018577125925, 0.6399999999999999)\n",
       " (0.5120014524157283, 0.512)\n",
       " (0.4096011619325833, 0.4096000000000001)\n",
       " (0.3276809295460669, 0.3276800000000001)"
      ]
     },
     "metadata": {},
     "output_type": "display_data"
    }
   ],
   "source": [
    "[(p_bp[1][t], p_sib[1][t]) for t = 1:T]"
   ]
  },
  {
   "cell_type": "code",
   "execution_count": 12,
   "metadata": {},
   "outputs": [
    {
     "name": "stdout",
     "output_type": "stream",
     "text": [
      "SI on random regular graph N=30, k=3. P(S→I)=0.3.\n",
      "30 random observations.\n"
     ]
    },
    {
     "name": "stdout",
     "output_type": "stream",
     "text": []
    }
   ],
   "source": [
    "pl_sib = plot(xlabel=\"time\", ylabel=\"\\$P(x_i=I)\\$\", xticks=0:1:T-1, title=\"sib\", yrange=(0, 1))\n",
    "for i in 1:N\n",
    "    plot!(pl_sib, 0:T-1, p_sib[i], label=\"i=$i\", m=:o, ms=3, lw=1)\n",
    "end\n",
    "pl_bp = plot(xlabel=\"time\", ylabel=\"\\$P(x_i=I)\\$\", xticks=0:1:T-1, title=\"MPdBP\", yrange=(0, 1))\n",
    "for i in 1:N\n",
    "    plot!(pl_bp, 0:T-1, p_bp[i][1:T], label=\"i=$i\", m=:o, ms=3, lw=1, yrange=[0, 1])\n",
    "end\n",
    "println(\"SI on random regular graph N=$N, k=$k. P(S→I)=$λ.\")\n",
    "println(\"$nobs random observations.\")\n",
    "#println(\"Max matrix size: \", svd_trunc.mprime, \"x\", svd_trunc.mprime)\n",
    "pl_sc = scatter(reduce(vcat, [p[1:end-1] for p in p_bp]), reduce(vcat, p_sib), xlabel=\"MPdBP\",\n",
    "    ylabel=\"sib\", label=\"\\$P(x_i=I)\\$\", ms=3, c=:black, legend=:outertopright, xrange=(0, 1), yrange=(0, 1))\n",
    "plot!(pl_sc, identity, label=\"\", size=(300, 300))\n",
    "plot(pl_sib, pl_bp, pl_sc, titlefontsize=10, size=(950, 300), legend=:outertopright,\n",
    "    margin=5Plots.mm, layout=(1, 3))"
   ]
  },
  {
   "cell_type": "markdown",
   "metadata": {},
   "source": [
    "Compare estimates for the free energy"
   ]
  },
  {
   "cell_type": "code",
   "execution_count": 13,
   "metadata": {},
   "outputs": [
    {
     "data": {
      "text/plain": [
       "(10.6195652084469, 16.063551464373067)"
      ]
     },
     "metadata": {},
     "output_type": "display_data"
    }
   ],
   "source": [
    "fe_bp, fe_sib"
   ]
  },
  {
   "cell_type": "code",
   "execution_count": 14,
   "metadata": {},
   "outputs": [
    {
     "data": {
      "text/plain": [
       "-0.3389030295075309"
      ]
     },
     "metadata": {},
     "output_type": "display_data"
    }
   ],
   "source": [
    "(fe_bp - fe_sib) / fe_sib"
   ]
  },
  {
   "cell_type": "code",
   "execution_count": null,
   "metadata": {},
   "outputs": [],
   "source": []
  }
 ],
 "metadata": {
  "kernelspec": {
   "display_name": "Julia 1.9.3",
   "language": "julia",
   "name": "julia-1.9"
  },
  "language_info": {
   "file_extension": ".jl",
   "mimetype": "application/julia",
   "name": "julia",
   "version": "1.9.3"
  }
 },
 "nbformat": 4,
 "nbformat_minor": 4
}
