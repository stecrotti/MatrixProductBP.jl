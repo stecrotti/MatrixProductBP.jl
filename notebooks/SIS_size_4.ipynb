{
 "cells": [
  {
   "attachments": {},
   "cell_type": "markdown",
   "metadata": {},
   "source": [
    "# SIS with 4x4 matrices\n",
    "Conjecture: 4x4 matrices are enough to capture SIS models exactly.\n",
    "\n",
    "Compare with exact result on a small tree."
   ]
  },
  {
   "cell_type": "code",
   "execution_count": 13,
   "metadata": {},
   "outputs": [],
   "source": [
    "using MatrixProductBP, MatrixProductBP.Models, IndexedGraphs, Test, Random\n",
    "import MatrixProductBP: nstates\n",
    "import MatrixProductBP.Models: prob_xy, prob_yy, prob_y"
   ]
  },
  {
   "cell_type": "code",
   "execution_count": 24,
   "metadata": {},
   "outputs": [],
   "source": [
    "T = 5\n",
    "\n",
    "A = [0 1 0 0;\n",
    "     1 0 1 1;\n",
    "     0 1 0 0;\n",
    "     0 1 0 0]\n",
    "g = IndexedGraph(A)\n",
    "N = size(A, 1)\n",
    "\n",
    "λ = 0.5\n",
    "ρ = 0.4\n",
    "γ = 0.5;"
   ]
  },
  {
   "cell_type": "code",
   "execution_count": 25,
   "metadata": {},
   "outputs": [],
   "source": [
    "sis = SIS(g, λ, ρ, T; γ)\n",
    "bp = mpbp(sis)\n",
    "rng = MersenneTwister(111)\n",
    "X, _ = onesample(bp; rng)\n",
    "draw_node_observations!(bp.ϕ, X, N, last_time=true; rng);"
   ]
  },
  {
   "cell_type": "code",
   "execution_count": 29,
   "metadata": {},
   "outputs": [],
   "source": [
    "svd_trunc = TruncBond(4)\n",
    "redirect_stdio(stdout=\"svd_log.txt\") do\n",
    "    iterate!(bp, maxiter=10; svd_trunc, showprogress=false, svd_verbose=true)\n",
    "end;"
   ]
  },
  {
   "cell_type": "code",
   "execution_count": 30,
   "metadata": {},
   "outputs": [
    {
     "name": "stderr",
     "output_type": "stream",
     "text": [
      "┌ Warning: T*N=20. This will take some time!\n",
      "└ @ MatrixProductBP /home/stecrotti/Desktop/PhD/MatrixProductBP/src/exact.jl:8\n",
      "\u001b[32mComputing joint probability 100%|████████████████████████| Time: 0:00:55\u001b[39m\n",
      "\u001b[32mComputing exact marginals 100%|██████████████████████████| Time: 0:02:01\u001b[39m\n",
      "\u001b[32mComputing exact marginals 100%|██████████████████████████| Time: 0:02:03\u001b[39m\n",
      "┌ Warning: T*N=20. This will take some time!\n",
      "└ @ MatrixProductBP /home/stecrotti/Desktop/PhD/MatrixProductBP/src/exact.jl:8\n",
      "\u001b[32mComputing joint probability 100%|████████████████████████| Time: 0:00:54\u001b[39m\n",
      "\u001b[32mComputing exact marginals 100%|██████████████████████████| Time: 0:01:58\u001b[39m\n"
     ]
    }
   ],
   "source": [
    "b_bp = beliefs(bp)\n",
    "p_bp = [[bbb[2] for bbb in bb] for bb in b_bp]\n",
    "\n",
    "p_exact, Z_exact = exact_prob(bp)\n",
    "b_exact = exact_marginals(bp; p_exact)\n",
    "p_ex = [[bbb[2] for bbb in bb] for bb in b_exact]\n",
    "\n",
    "f_bethe = bethe_free_energy(bp)\n",
    "Z_bp = exp(-f_bethe)\n",
    "\n",
    "f(x,i) = x-1\n",
    "\n",
    "r_bp = autocorrelations(f, bp)\n",
    "r_exact = exact_autocorrelations(f, bp; p_exact)\n",
    "\n",
    "c_bp = autocovariances(f, bp)\n",
    "c_exact = exact_autocovariances(f, bp; r = r_exact);"
   ]
  },
  {
   "cell_type": "code",
   "execution_count": 31,
   "metadata": {},
   "outputs": [
    {
     "name": "stdout",
     "output_type": "stream",
     "text": [
      "rel(Z_exact, Z_bp) = 0.0001645055512241575\n",
      "rel(p_ex, p_bp) = 6.294719669209858e-5\n",
      "rel(r_bp, r_exact) = 0.00010784830338836459\n",
      "rel(c_bp, c_exact) = 0.00010312280021259295\n"
     ]
    }
   ],
   "source": [
    "import LinearAlgebra.norm\n",
    "rel(x,y) = norm(x-y)/norm(x)\n",
    "@show rel(Z_exact, Z_bp)\n",
    "@show rel(p_ex, p_bp)\n",
    "@show rel(r_bp, r_exact)\n",
    "@show rel(c_bp, c_exact);"
   ]
  }
 ],
 "metadata": {
  "kernelspec": {
   "display_name": "Julia 1.8.0",
   "language": "julia",
   "name": "julia-1.8"
  },
  "language_info": {
   "file_extension": ".jl",
   "mimetype": "application/julia",
   "name": "julia",
   "version": "1.8.3"
  },
  "orig_nbformat": 4,
  "vscode": {
   "interpreter": {
    "hash": "916dbcbb3f70747c44a77c7bcd40155683ae19c65e1c03b4aa3499c5328201f1"
   }
  }
 },
 "nbformat": 4,
 "nbformat_minor": 2
}
